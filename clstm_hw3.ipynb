{
  "metadata": {
    "kernelspec": {
      "language": "python",
      "display_name": "Python 3",
      "name": "python3"
    },
    "language_info": {
      "name": "python",
      "version": "3.7.12",
      "mimetype": "text/x-python",
      "codemirror_mode": {
        "name": "ipython",
        "version": 3
      },
      "pygments_lexer": "ipython3",
      "nbconvert_exporter": "python",
      "file_extension": ".py"
    },
    "colab": {
      "name": "clstm_hw3.ipynb",
      "provenance": []
    }
  },
  "nbformat_minor": 0,
  "nbformat": 4,
  "cells": [
    {
      "cell_type": "markdown",
      "source": [
        "Построение модели C-LSTM на основе дизайна из [статьи](https://arxiv.org/pdf/1511.08630.pdf).\n",
        "### Key points\n",
        "* Two main components: convolutional neural network (CNN) and long short- term memory network (LSTM)\n",
        "#### Preprocessing\n",
        "*   lower case\n",
        "#### Padding\n",
        "*   pad each sentence that has a length less than maxlen/cut extra words at the end of these sentences to reach maxlen when sentence is longer than maxlen\n",
        "*   padding with UNK\n",
        "#### Word vectors\n",
        "*   We initialize word vectors with the publicly avail- able word2vec vectors1 that are pre-trained using about 100B words from the Google News Dataset.\n",
        "*   The dimensionality of the word vectors is 300.\n",
        "*   We also initialize the word vector for the unknown words from the uniform distribution [-0.25, 0.25]\n",
        "* fine-tuning the word vectors\n",
        "#### Regularization\n",
        "*   dropout (either to word vectors before feeding the sequence of words into the convolutional layer or to the output of LSTM before the softmax layer)\n",
        "*   L2 weight regularization (applied to the weight of the softmax layer)\n",
        "#### CNN\n",
        "*   one convolutional layer\n",
        "*   no pooling\n",
        "*   nonlinear transformation function ReLU\n",
        "*   filter lengths of 2, 3 and 4 in two cases: a) single convolutional layer with the same filter length, and b) multiple convolutional layers with different lengths of filters in parallel (final is 3)\n",
        "*   No fully connected layers between CNN and LSTM\n",
        "#### LSTM\n",
        "* one layer\n",
        "*   the logistic sigmoid function, the hyperbolic tangent function, the elementwise multiplication\n",
        "*   since the number of windows generated from each convolution layer varies when the filter length varies (see L − k + 1 below equation (3)), we cut the window sequence at the end based on the maximum filter length that gives the shortest number of windows\n",
        "#### Hyperparameters\n",
        "For SST, we conduct hyperparameter (number of filters, filter length in CNN; memory dimension in LSTM; dropout rate and which layer to apply, etc.) tuning on the validation data in the standard split. For TREC, we hold out 1000 samples from the training dataset for hyperparameter search and train the model using the remaining data.\n",
        "In our final settings, we only use one convolutional layer and one LSTM layer for both tasks.\n",
        "*   cross-entropy loss - stochastic gradient descent (SGD) - optimizer RM-Sprop\n",
        "\n",
        "\n",
        "\n",
        "\n",
        "\n",
        "\n",
        "\n",
        "\n",
        "\n",
        "\n",
        "\n",
        "\n",
        "\n",
        "\n",
        "\n",
        "\n"
      ],
      "metadata": {
        "id": "Jt8FkbuIJyr8"
      }
    },
    {
      "cell_type": "code",
      "source": [
        "import pandas as pd\n",
        "import numpy as np\n",
        "import random\n",
        "import torch\n",
        "import torch.nn as nn\n",
        "import torch.nn.functional as F\n",
        "from torchmetrics.functional import accuracy\n",
        "from torch.nn.utils.rnn import pad_sequence\n",
        "from torch.utils.data import Dataset, DataLoader, RandomSampler, SequentialSampler\n",
        "from torch.optim import RMSprop\n",
        "from nltk.tokenize import word_tokenize\n",
        "from tqdm.auto import tqdm\n",
        "from collections import Counter\n",
        "from sklearn.metrics import accuracy_score\n",
        "from sklearn.metrics import classification_report\n",
        "from sklearn.model_selection import train_test_split\n",
        "import gensim\n",
        "import nltk\n",
        "nltk.download('punkt')\n",
        "import seaborn as sns\n",
        "import matplotlib.pyplot as plt"
      ],
      "metadata": {
        "id": "v8-4RhCax2_5",
        "execution": {
          "iopub.status.busy": "2021-12-29T14:20:22.435997Z",
          "iopub.execute_input": "2021-12-29T14:20:22.436673Z",
          "iopub.status.idle": "2021-12-29T14:20:25.888329Z",
          "shell.execute_reply.started": "2021-12-29T14:20:22.436637Z",
          "shell.execute_reply": "2021-12-29T14:20:25.886851Z"
        },
        "trusted": true,
        "outputId": "eca44f14-3423-4f29-b734-70a0328cd52c"
      },
      "execution_count": null,
      "outputs": [
        {
          "name": "stdout",
          "text": "[nltk_data] Downloading package punkt to /usr/share/nltk_data...\n[nltk_data]   Package punkt is already up-to-date!\n",
          "output_type": "stream"
        }
      ]
    },
    {
      "cell_type": "code",
      "source": [
        "df = pd.read_csv('../input/dataminingproject2/Fake.csv')\n",
        "df.head()"
      ],
      "metadata": {
        "id": "z-ECpnJnx5Pg",
        "outputId": "fe83e91f-a59c-47fa-bf01-1486511bfa83",
        "execution": {
          "iopub.status.busy": "2021-12-29T14:20:43.544193Z",
          "iopub.execute_input": "2021-12-29T14:20:43.544787Z",
          "iopub.status.idle": "2021-12-29T14:20:44.923700Z",
          "shell.execute_reply.started": "2021-12-29T14:20:43.544750Z",
          "shell.execute_reply": "2021-12-29T14:20:44.922966Z"
        },
        "trusted": true
      },
      "execution_count": null,
      "outputs": [
        {
          "execution_count": 5,
          "output_type": "execute_result",
          "data": {
            "text/plain": "                                               title  \\\n0   Donald Trump Sends Out Embarrassing New Year’...   \n1   Drunk Bragging Trump Staffer Started Russian ...   \n2   Sheriff David Clarke Becomes An Internet Joke...   \n3   Trump Is So Obsessed He Even Has Obama’s Name...   \n4   Pope Francis Just Called Out Donald Trump Dur...   \n\n                                                text subject  \\\n0  Donald Trump just couldn t wish all Americans ...    News   \n1  House Intelligence Committee Chairman Devin Nu...    News   \n2  On Friday, it was revealed that former Milwauk...    News   \n3  On Christmas day, Donald Trump announced that ...    News   \n4  Pope Francis used his annual Christmas Day mes...    News   \n\n                date  \n0  December 31, 2017  \n1  December 31, 2017  \n2  December 30, 2017  \n3  December 29, 2017  \n4  December 25, 2017  ",
            "text/html": "<div>\n<style scoped>\n    .dataframe tbody tr th:only-of-type {\n        vertical-align: middle;\n    }\n\n    .dataframe tbody tr th {\n        vertical-align: top;\n    }\n\n    .dataframe thead th {\n        text-align: right;\n    }\n</style>\n<table border=\"1\" class=\"dataframe\">\n  <thead>\n    <tr style=\"text-align: right;\">\n      <th></th>\n      <th>title</th>\n      <th>text</th>\n      <th>subject</th>\n      <th>date</th>\n    </tr>\n  </thead>\n  <tbody>\n    <tr>\n      <th>0</th>\n      <td>Donald Trump Sends Out Embarrassing New Year’...</td>\n      <td>Donald Trump just couldn t wish all Americans ...</td>\n      <td>News</td>\n      <td>December 31, 2017</td>\n    </tr>\n    <tr>\n      <th>1</th>\n      <td>Drunk Bragging Trump Staffer Started Russian ...</td>\n      <td>House Intelligence Committee Chairman Devin Nu...</td>\n      <td>News</td>\n      <td>December 31, 2017</td>\n    </tr>\n    <tr>\n      <th>2</th>\n      <td>Sheriff David Clarke Becomes An Internet Joke...</td>\n      <td>On Friday, it was revealed that former Milwauk...</td>\n      <td>News</td>\n      <td>December 30, 2017</td>\n    </tr>\n    <tr>\n      <th>3</th>\n      <td>Trump Is So Obsessed He Even Has Obama’s Name...</td>\n      <td>On Christmas day, Donald Trump announced that ...</td>\n      <td>News</td>\n      <td>December 29, 2017</td>\n    </tr>\n    <tr>\n      <th>4</th>\n      <td>Pope Francis Just Called Out Donald Trump Dur...</td>\n      <td>Pope Francis used his annual Christmas Day mes...</td>\n      <td>News</td>\n      <td>December 25, 2017</td>\n    </tr>\n  </tbody>\n</table>\n</div>"
          },
          "metadata": {}
        }
      ]
    },
    {
      "cell_type": "code",
      "source": [
        "len(df)"
      ],
      "metadata": {
        "id": "kxPKKksyV5Xw",
        "outputId": "b20fcbbd-35c5-490e-a03f-2e5de951ddca",
        "execution": {
          "iopub.status.busy": "2021-12-29T14:20:47.860476Z",
          "iopub.execute_input": "2021-12-29T14:20:47.860759Z",
          "iopub.status.idle": "2021-12-29T14:20:47.869034Z",
          "shell.execute_reply.started": "2021-12-29T14:20:47.860716Z",
          "shell.execute_reply": "2021-12-29T14:20:47.868288Z"
        },
        "trusted": true
      },
      "execution_count": null,
      "outputs": [
        {
          "execution_count": 6,
          "output_type": "execute_result",
          "data": {
            "text/plain": "23481"
          },
          "metadata": {}
        }
      ]
    },
    {
      "cell_type": "markdown",
      "source": [
        "Приведем все тексты к нижнему регистру и токенизируем"
      ],
      "metadata": {
        "id": "KAeXl71GXtL3"
      }
    },
    {
      "cell_type": "code",
      "source": [
        "def preprocessing(text):\n",
        "    text = text.lower()\n",
        "    text = word_tokenize(text)\n",
        "    return text"
      ],
      "metadata": {
        "id": "W44JF_0AV8oX",
        "execution": {
          "iopub.status.busy": "2021-12-29T14:20:49.904865Z",
          "iopub.execute_input": "2021-12-29T14:20:49.905576Z",
          "iopub.status.idle": "2021-12-29T14:20:49.910719Z",
          "shell.execute_reply.started": "2021-12-29T14:20:49.905540Z",
          "shell.execute_reply": "2021-12-29T14:20:49.909965Z"
        },
        "trusted": true
      },
      "execution_count": null,
      "outputs": []
    },
    {
      "cell_type": "code",
      "source": [
        "df['tokens'] = df['text'].apply(lambda x: preprocessing(x))"
      ],
      "metadata": {
        "id": "KhYdyZAkYMZr",
        "execution": {
          "iopub.status.busy": "2021-12-29T14:20:52.434543Z",
          "iopub.execute_input": "2021-12-29T14:20:52.434792Z",
          "iopub.status.idle": "2021-12-29T14:22:40.564351Z",
          "shell.execute_reply.started": "2021-12-29T14:20:52.434764Z",
          "shell.execute_reply": "2021-12-29T14:22:40.563596Z"
        },
        "trusted": true
      },
      "execution_count": null,
      "outputs": []
    },
    {
      "cell_type": "markdown",
      "source": [
        "Посмотрим на распределение категорий в данных"
      ],
      "metadata": {
        "id": "nYuH57BrZW62"
      }
    },
    {
      "cell_type": "code",
      "source": [
        "df['subject'].value_counts()"
      ],
      "metadata": {
        "id": "lLjdkcqaX-pH",
        "outputId": "efb835f9-b44f-47e5-e3cc-f53f1a77aff7",
        "execution": {
          "iopub.status.busy": "2021-12-29T14:22:43.183000Z",
          "iopub.execute_input": "2021-12-29T14:22:43.183665Z",
          "iopub.status.idle": "2021-12-29T14:22:43.197066Z",
          "shell.execute_reply.started": "2021-12-29T14:22:43.183621Z",
          "shell.execute_reply": "2021-12-29T14:22:43.196381Z"
        },
        "trusted": true
      },
      "execution_count": null,
      "outputs": [
        {
          "execution_count": 9,
          "output_type": "execute_result",
          "data": {
            "text/plain": "News               9050\npolitics           6841\nleft-news          4459\nGovernment News    1570\nUS_News             783\nMiddle-east         778\nName: subject, dtype: int64"
          },
          "metadata": {}
        }
      ]
    },
    {
      "cell_type": "code",
      "source": [
        "x = list(df['subject'].unique())\n",
        "df['target'] = df['subject'].astype('category').cat.codes\n",
        "sns.barplot(\n",
        "    x=list(df['target'].unique()), \n",
        "    y=df['target'].value_counts(), \n",
        "    palette='hls',\n",
        "    data=df);"
      ],
      "metadata": {
        "id": "-sN--5gpZV5P",
        "outputId": "2c17f804-d394-48b5-bf75-4cb3564c7cbd",
        "execution": {
          "iopub.status.busy": "2021-12-29T14:22:44.818904Z",
          "iopub.execute_input": "2021-12-29T14:22:44.819177Z",
          "iopub.status.idle": "2021-12-29T14:22:45.070586Z",
          "shell.execute_reply.started": "2021-12-29T14:22:44.819148Z",
          "shell.execute_reply": "2021-12-29T14:22:45.069880Z"
        },
        "trusted": true
      },
      "execution_count": null,
      "outputs": [
        {
          "output_type": "display_data",
          "data": {
            "text/plain": "<Figure size 432x288 with 1 Axes>",
            "image/png": "[encoded data removed]"
          },
          "metadata": {
            "needs_background": "light"
          }
        }
      ]
    },
    {
      "cell_type": "markdown",
      "source": [
        "Распределение данных по классам неравномерное, что может плохо сказаться на результатах. Как вариант для решения этой проблемы можно обрезать данные по наиболее встречающимся классам, но тогда у нас будет очень мало данных для модели. Оставим все как есть."
      ],
      "metadata": {
        "id": "seA3KkK-cYI8"
      }
    },
    {
      "cell_type": "code",
      "source": [
        "seed = 42\n",
        "random.seed(seed)\n",
        "np.random.seed(seed)\n",
        "torch.manual_seed(seed)\n",
        "torch.cuda.manual_seed(seed)\n",
        "torch.backends.cudnn.deterministic = True"
      ],
      "metadata": {
        "id": "IlBdT3Q9ko-X",
        "execution": {
          "iopub.status.busy": "2021-12-29T14:22:51.784663Z",
          "iopub.execute_input": "2021-12-29T14:22:51.784909Z",
          "iopub.status.idle": "2021-12-29T14:22:51.792425Z",
          "shell.execute_reply.started": "2021-12-29T14:22:51.784882Z",
          "shell.execute_reply": "2021-12-29T14:22:51.791751Z"
        },
        "trusted": true
      },
      "execution_count": null,
      "outputs": []
    },
    {
      "cell_type": "code",
      "source": [
        "DEVICE = torch.device('cuda') if torch.cuda.is_available() else torch.device('cpu')\n",
        "DEVICE"
      ],
      "metadata": {
        "id": "cnKbD6_0jP-B",
        "outputId": "b0ad477c-2098-404d-d579-bb8b371f032a",
        "execution": {
          "iopub.status.busy": "2021-12-29T14:22:55.069415Z",
          "iopub.execute_input": "2021-12-29T14:22:55.070033Z",
          "iopub.status.idle": "2021-12-29T14:22:55.120064Z",
          "shell.execute_reply.started": "2021-12-29T14:22:55.069978Z",
          "shell.execute_reply": "2021-12-29T14:22:55.119218Z"
        },
        "trusted": true
      },
      "execution_count": null,
      "outputs": [
        {
          "execution_count": 12,
          "output_type": "execute_result",
          "data": {
            "text/plain": "device(type='cuda')"
          },
          "metadata": {}
        }
      ]
    },
    {
      "cell_type": "code",
      "source": [
        "train_data, val_data = train_test_split(df, test_size=0.2, shuffle=True, random_state=seed, stratify=df['target'])"
      ],
      "metadata": {
        "id": "xltK0aOSjz7v",
        "execution": {
          "iopub.status.busy": "2021-12-29T14:22:56.769691Z",
          "iopub.execute_input": "2021-12-29T14:22:56.769947Z",
          "iopub.status.idle": "2021-12-29T14:22:56.800557Z",
          "shell.execute_reply.started": "2021-12-29T14:22:56.769919Z",
          "shell.execute_reply": "2021-12-29T14:22:56.799853Z"
        },
        "trusted": true
      },
      "execution_count": null,
      "outputs": []
    },
    {
      "cell_type": "code",
      "source": [
        "vocab = Counter()\n",
        "for text in tqdm(df['tokens']):\n",
        "    vocab.update(text)\n",
        "print('всего уникальных символов:', len(vocab))"
      ],
      "metadata": {
        "id": "V-fAYzF_c37_",
        "outputId": "2a52a246-7512-4092-aa00-4cd59e25d4a4",
        "execution": {
          "iopub.status.busy": "2021-12-29T14:22:58.249774Z",
          "iopub.execute_input": "2021-12-29T14:22:58.250419Z",
          "iopub.status.idle": "2021-12-29T14:22:59.853081Z",
          "shell.execute_reply.started": "2021-12-29T14:22:58.250381Z",
          "shell.execute_reply": "2021-12-29T14:22:59.852245Z"
        },
        "trusted": true,
        "colab": {
          "referenced_widgets": [
            "bcd6b9fe71c645c19b8ec68b3de55547"
          ]
        }
      },
      "execution_count": null,
      "outputs": [
        {
          "output_type": "display_data",
          "data": {
            "text/plain": "  0%|          | 0/23481 [00:00<?, ?it/s]",
            "application/vnd.jupyter.widget-view+json": {
              "version_major": 2,
              "version_minor": 0,
              "model_id": "bcd6b9fe71c645c19b8ec68b3de55547"
            }
          },
          "metadata": {}
        },
        {
          "name": "stdout",
          "text": "всего уникальных символов: 181384\n",
          "output_type": "stream"
        }
      ]
    },
    {
      "cell_type": "code",
      "source": [
        "filtered_vocab = set()\n",
        "\n",
        "for word in vocab:\n",
        "    if vocab[word] > 3:\n",
        "        filtered_vocab.add(word)\n",
        "print('уникальных символов, вcтретившихся больше 3 раз:', len(filtered_vocab))"
      ],
      "metadata": {
        "id": "InsyL1CBiubr",
        "outputId": "87831e40-d194-4cff-d599-fad2e45563fe",
        "execution": {
          "iopub.status.busy": "2021-12-29T14:23:01.167732Z",
          "iopub.execute_input": "2021-12-29T14:23:01.168290Z",
          "iopub.status.idle": "2021-12-29T14:23:01.239287Z",
          "shell.execute_reply.started": "2021-12-29T14:23:01.168234Z",
          "shell.execute_reply": "2021-12-29T14:23:01.238498Z"
        },
        "trusted": true
      },
      "execution_count": null,
      "outputs": [
        {
          "name": "stdout",
          "text": "уникальных символов, вcтретившихся больше 3 раз: 48324\n",
          "output_type": "stream"
        }
      ]
    },
    {
      "cell_type": "code",
      "source": [
        "word2id = {'UNK':0}\n",
        "\n",
        "for word in filtered_vocab:\n",
        "    word2id[word] = len(word2id)"
      ],
      "metadata": {
        "id": "VIVazoXCjHKk",
        "execution": {
          "iopub.status.busy": "2021-12-29T14:23:03.855424Z",
          "iopub.execute_input": "2021-12-29T14:23:03.855811Z",
          "iopub.status.idle": "2021-12-29T14:23:03.885059Z",
          "shell.execute_reply.started": "2021-12-29T14:23:03.855776Z",
          "shell.execute_reply": "2021-12-29T14:23:03.884285Z"
        },
        "trusted": true
      },
      "execution_count": null,
      "outputs": []
    },
    {
      "cell_type": "code",
      "source": [
        "#обратный словарь для того, чтобы раскодировать последовательность\n",
        "id2word = {i:word for word, i in word2id.items()}"
      ],
      "metadata": {
        "id": "SW7BhE70jP49",
        "execution": {
          "iopub.status.busy": "2021-12-29T14:23:06.137894Z",
          "iopub.execute_input": "2021-12-29T14:23:06.138168Z",
          "iopub.status.idle": "2021-12-29T14:23:06.155474Z",
          "shell.execute_reply.started": "2021-12-29T14:23:06.138138Z",
          "shell.execute_reply": "2021-12-29T14:23:06.154526Z"
        },
        "trusted": true
      },
      "execution_count": null,
      "outputs": []
    },
    {
      "cell_type": "code",
      "source": [
        "MAX_LEN = train_data['tokens'].str.len().max()\n",
        "MAX_LEN"
      ],
      "metadata": {
        "id": "-yZ7AtbQjn7U",
        "outputId": "7c3ad9d4-fac1-4580-d23c-bccd78253b15",
        "execution": {
          "iopub.status.busy": "2021-12-29T14:23:07.985780Z",
          "iopub.execute_input": "2021-12-29T14:23:07.986039Z",
          "iopub.status.idle": "2021-12-29T14:23:08.007674Z",
          "shell.execute_reply.started": "2021-12-29T14:23:07.986008Z",
          "shell.execute_reply": "2021-12-29T14:23:08.007017Z"
        },
        "trusted": true
      },
      "execution_count": null,
      "outputs": [
        {
          "execution_count": 18,
          "output_type": "execute_result",
          "data": {
            "text/plain": "9938"
          },
          "metadata": {}
        }
      ]
    },
    {
      "cell_type": "markdown",
      "source": [
        "тк значение максимальной длины очень большое и не влезет в коллаб, возьмем число поменьше."
      ],
      "metadata": {
        "id": "Sq2IAwcPtxJE"
      }
    },
    {
      "cell_type": "code",
      "source": [
        "MAX_LEN = 600"
      ],
      "metadata": {
        "id": "-B6frCemuBjL",
        "execution": {
          "iopub.status.busy": "2021-12-29T14:23:10.573795Z",
          "iopub.execute_input": "2021-12-29T14:23:10.574485Z",
          "iopub.status.idle": "2021-12-29T14:23:10.578394Z",
          "shell.execute_reply.started": "2021-12-29T14:23:10.574450Z",
          "shell.execute_reply": "2021-12-29T14:23:10.577570Z"
        },
        "trusted": true
      },
      "execution_count": null,
      "outputs": []
    },
    {
      "cell_type": "markdown",
      "source": [
        "#### Модель word2vec"
      ],
      "metadata": {
        "id": "MpOgphg0uHnO"
      }
    },
    {
      "cell_type": "code",
      "source": [
        "! wget -c \"https://s3.amazonaws.com/dl4j-distribution/GoogleNews-vectors-negative300.bin.gz\""
      ],
      "metadata": {
        "id": "gwx54pkbtSEv",
        "execution": {
          "iopub.status.busy": "2021-12-29T14:23:12.317394Z",
          "iopub.execute_input": "2021-12-29T14:23:12.318107Z",
          "iopub.status.idle": "2021-12-29T14:24:52.422342Z",
          "shell.execute_reply.started": "2021-12-29T14:23:12.318063Z",
          "shell.execute_reply": "2021-12-29T14:24:52.421225Z"
        },
        "collapsed": true,
        "jupyter": {
          "outputs_hidden": true
        },
        "trusted": true,
        "outputId": "ec631e1a-74a1-410e-d369-e691d9b5c8cf"
      },
      "execution_count": null,
      "outputs": [
        {
          "name": "stdout",
          "text": "--2021-12-29 14:23:12--  https://s3.amazonaws.com/dl4j-distribution/GoogleNews-vectors-negative300.bin.gz\nResolving s3.amazonaws.com (s3.amazonaws.com)... 52.217.202.136\nConnecting to s3.amazonaws.com (s3.amazonaws.com)|52.217.202.136|:443... connected.\nHTTP request sent, awaiting response... 200 OK\nLength: 1647046227 (1.5G) [application/x-gzip]\nSaving to: ‘GoogleNews-vectors-negative300.bin.gz’\n\nGoogleNews-vectors- 100%[===================>]   1.53G  16.6MB/s    in 98s     \n\n2021-12-29 14:24:52 (16.0 MB/s) - ‘GoogleNews-vectors-negative300.bin.gz’ saved [1647046227/1647046227]\n\n",
          "output_type": "stream"
        }
      ]
    },
    {
      "cell_type": "code",
      "source": [
        "from gensim import models\n",
        "\n",
        "w = models.KeyedVectors.load_word2vec_format('GoogleNews-vectors-negative300.bin.gz', binary=True)"
      ],
      "metadata": {
        "id": "awGob9PKuGHP",
        "execution": {
          "iopub.status.busy": "2021-12-29T14:24:52.425177Z",
          "iopub.execute_input": "2021-12-29T14:24:52.425803Z",
          "iopub.status.idle": "2021-12-29T14:25:56.014285Z",
          "shell.execute_reply.started": "2021-12-29T14:24:52.425757Z",
          "shell.execute_reply": "2021-12-29T14:25:56.013408Z"
        },
        "trusted": true
      },
      "execution_count": null,
      "outputs": []
    },
    {
      "cell_type": "code",
      "source": [
        "weights = np.zeros((len(word2id), 300))\n",
        "for word, num in word2id.items():\n",
        "    try:\n",
        "        weights[num] = w[word]\n",
        "    except KeyError:\n",
        "        weights[num] = np.random.uniform(-0.25, 0.25, 300)\n",
        "weights = torch.FloatTensor(weights)"
      ],
      "metadata": {
        "id": "RjbCB1Hovhu9",
        "execution": {
          "iopub.status.busy": "2021-12-29T14:25:56.015607Z",
          "iopub.execute_input": "2021-12-29T14:25:56.015859Z",
          "iopub.status.idle": "2021-12-29T14:25:56.510527Z",
          "shell.execute_reply.started": "2021-12-29T14:25:56.015826Z",
          "shell.execute_reply": "2021-12-29T14:25:56.509763Z"
        },
        "trusted": true
      },
      "execution_count": null,
      "outputs": []
    },
    {
      "cell_type": "markdown",
      "source": [
        "#### Dataset & DataLoader"
      ],
      "metadata": {
        "id": "cKIfT3i_yhRP"
      }
    },
    {
      "cell_type": "code",
      "source": [
        "class NewsDataset(Dataset):\n",
        "\n",
        "    def __init__(self, dataset, word2id, DEVICE):\n",
        "        self.dataset = dataset['tokens'].values\n",
        "        self.word2id = word2id\n",
        "        self.length = dataset.shape[0]\n",
        "        self.target = dataset['target'].values\n",
        "        self.device = DEVICE\n",
        "\n",
        "    def __len__(self):\n",
        "        return self.length\n",
        "\n",
        "    def __getitem__(self, index): \n",
        "        tokens = self.dataset[index]\n",
        "        ids = torch.LongTensor([self.word2id[token] if token in self.word2id\n",
        "                                else self.word2id['UNK'] for token in tokens][:MAX_LEN])\n",
        "        y = [self.target[index]]\n",
        "        return ids, y\n",
        "\n",
        "    def collate_fn(self, batch):\n",
        "      ids, y = list(zip(*batch))\n",
        "      padded_ids = torch.vstack([F.pad(seq, pad=(0, MAX_LEN - seq.shape[0]),\n",
        "                                       mode='constant', value=0) for seq in ids])\n",
        "      padded_ids = pad_sequence(ids, batch_first=True).to(self.device)\n",
        "      y = torch.LongTensor(y).T[0].to(self.device)\n",
        "      return padded_ids, y"
      ],
      "metadata": {
        "id": "mTQ_q8ZwvIp0",
        "execution": {
          "iopub.status.busy": "2021-12-29T14:25:56.513117Z",
          "iopub.execute_input": "2021-12-29T14:25:56.513445Z",
          "iopub.status.idle": "2021-12-29T14:25:56.578084Z",
          "shell.execute_reply.started": "2021-12-29T14:25:56.513407Z",
          "shell.execute_reply": "2021-12-29T14:25:56.577367Z"
        },
        "trusted": true
      },
      "execution_count": null,
      "outputs": []
    },
    {
      "cell_type": "code",
      "source": [
        "train_dataset = NewsDataset(train_data, word2id, DEVICE)\n",
        "train_sampler = RandomSampler(train_dataset)\n",
        "train_iterator = DataLoader(train_dataset, collate_fn=train_dataset.collate_fn, sampler=train_sampler, batch_size=128)"
      ],
      "metadata": {
        "id": "944eZCZGvIwG",
        "execution": {
          "iopub.status.busy": "2021-12-29T14:25:56.579315Z",
          "iopub.execute_input": "2021-12-29T14:25:56.579644Z",
          "iopub.status.idle": "2021-12-29T14:25:56.589504Z",
          "shell.execute_reply.started": "2021-12-29T14:25:56.579607Z",
          "shell.execute_reply": "2021-12-29T14:25:56.588657Z"
        },
        "trusted": true
      },
      "execution_count": null,
      "outputs": []
    },
    {
      "cell_type": "code",
      "source": [
        "val_dataset = NewsDataset(val_data, word2id, DEVICE)\n",
        "val_sampler = SequentialSampler(val_dataset)\n",
        "val_iterator = DataLoader(val_dataset, collate_fn=val_dataset.collate_fn, sampler=val_sampler, batch_size=128)"
      ],
      "metadata": {
        "id": "weZUsNgk9WsS",
        "execution": {
          "iopub.status.busy": "2021-12-29T14:25:56.590942Z",
          "iopub.execute_input": "2021-12-29T14:25:56.591563Z",
          "iopub.status.idle": "2021-12-29T14:25:56.599128Z",
          "shell.execute_reply.started": "2021-12-29T14:25:56.591521Z",
          "shell.execute_reply": "2021-12-29T14:25:56.598372Z"
        },
        "trusted": true
      },
      "execution_count": null,
      "outputs": []
    },
    {
      "cell_type": "markdown",
      "source": [
        "#### Модель"
      ],
      "metadata": {
        "id": "nl_w2J689qHX"
      }
    },
    {
      "cell_type": "code",
      "source": [
        "class C_LSTM(nn.Module):\n",
        "    \n",
        "    def __init__(self, vocab_size, max_len=600, filter_sizes=[2, 3, 4], \n",
        "                 filters_num=150, memory_dim=150, dropout_rate=0.5,\n",
        "                 dropout_input=False, dropout_lstm=True):\n",
        "        super().__init__()\n",
        "\n",
        "        self.vocab_size = vocab_size\n",
        "        self.max_len = max_len\n",
        "        self.filter_sizes = filter_sizes\n",
        "        self.embedding = nn.Embedding.from_pretrained(weights)\n",
        "        self.dropout_input = dropout_input\n",
        "        self.dropout_lstm = dropout_lstm\n",
        "  \n",
        "        # CNN\n",
        "        convs = []\n",
        "        for size in filter_sizes:\n",
        "            conv = nn.Conv1d(in_channels=300, out_channels=filters_num, kernel_size=size, padding='valid')\n",
        "            convs.append(conv)\n",
        "        self.convs = nn.ModuleList(convs)\n",
        "\n",
        "        # LSTM\n",
        "        self.lstm = nn.LSTM(input_size=len(filter_sizes)*filters_num, hidden_size=memory_dim, num_layers= 1, batch_first=True)\n",
        "\n",
        "        # activations\n",
        "        self.dropout = nn.Dropout(p=dropout_rate)\n",
        "        self.relu = nn.ReLU()\n",
        "        self.linear = nn.Linear(memory_dim, 6)\n",
        "        self.out = nn.Softmax(dim=1)\n",
        "\n",
        "    def forward(self, x):\n",
        "        embedded = self.embedding(x)\n",
        "        embedded = embedded.transpose(1, 2)\n",
        "        if self.dropout_input:\n",
        "            embedded = self.dropout(embedded)\n",
        "\n",
        "        max_feature = self.max_len - max(self.filter_sizes) + 1\n",
        "\n",
        "        # CNN\n",
        "        cnn_outputs = []\n",
        "        for conv in self.convs:\n",
        "            layer = conv(embedded)\n",
        "            layer = self.relu(layer)\n",
        "            layer = layer[:, :, :max_feature]\n",
        "            cnn_outputs.append(layer)\n",
        "        if len(self.filter_sizes) > 1:\n",
        "            rnn_input = torch.cat(cnn_outputs, 1)\n",
        "        else:\n",
        "            rnn_input = layer\n",
        "\n",
        "        # LSTM\n",
        "        _, (hidden_state, _) = self.lstm(rnn_input.transpose(1, 2))\n",
        "        if self.dropout_lstm:\n",
        "            embedded = self.dropout(hidden_state)\n",
        "        output = torch.squeeze(hidden_state, 0)\n",
        "        output = self.linear(output)\n",
        "        logit = self.out(output)\n",
        "\n",
        "        return logit"
      ],
      "metadata": {
        "id": "v-7BPtct-q5a",
        "execution": {
          "iopub.status.busy": "2021-12-29T14:25:56.600518Z",
          "iopub.execute_input": "2021-12-29T14:25:56.600769Z",
          "iopub.status.idle": "2021-12-29T14:25:56.615579Z",
          "shell.execute_reply.started": "2021-12-29T14:25:56.600737Z",
          "shell.execute_reply": "2021-12-29T14:25:56.614873Z"
        },
        "trusted": true
      },
      "execution_count": null,
      "outputs": []
    },
    {
      "cell_type": "code",
      "source": [
        "def train(model, optimizer, criterion, epoch):\n",
        "    progress_bar = tqdm(total=len(train_iterator.dataset), desc='Epoch {}'.format(epoch + 1))\n",
        "    epoch_losses = []\n",
        "    epoch_metrics = []\n",
        "\n",
        "    model.train()\n",
        "\n",
        "    for i, (texts, ys) in enumerate(train_iterator):\n",
        "        optimizer.zero_grad() \n",
        "        preds = model(texts)\n",
        "        loss = criterion(preds, ys)  \n",
        "        loss.backward() \n",
        "        optimizer.step() \n",
        "        epoch_losses.append(loss.item())\n",
        "        batch_metrics = accuracy(preds.argmax(1).long(), ys.long(), average='weighted', num_classes=6, ignore_index=0)\n",
        "        epoch_metrics.append(batch_metrics.cpu().numpy())\n",
        "        if not (i + 1) % int(len(train_iterator)/5):\n",
        "            print(f'Train loss: {np.mean(epoch_losses)}, Train metric: {np.mean(epoch_metrics)}')  \n",
        "        progress_bar.update(texts.shape[0])\n",
        "    return np.mean(epoch_losses), np.mean(epoch_metrics)"
      ],
      "metadata": {
        "id": "kyzlnMG0FGzY",
        "execution": {
          "iopub.status.busy": "2021-12-29T14:25:56.616599Z",
          "iopub.execute_input": "2021-12-29T14:25:56.618232Z",
          "iopub.status.idle": "2021-12-29T14:25:56.627983Z",
          "shell.execute_reply.started": "2021-12-29T14:25:56.618195Z",
          "shell.execute_reply": "2021-12-29T14:25:56.627064Z"
        },
        "trusted": true
      },
      "execution_count": null,
      "outputs": []
    },
    {
      "cell_type": "code",
      "source": [
        "def evaluate(model, criterion):\n",
        "    epoch_losses = []\n",
        "    epoch_metrics = []\n",
        "    \n",
        "    model.eval()\n",
        "\n",
        "    with torch.no_grad():\n",
        "        for i, (texts, ys) in enumerate(val_iterator):   \n",
        "            preds = model(texts)\n",
        "            loss = criterion(preds, ys) \n",
        "            epoch_losses.append(loss.item())\n",
        "            batch_metrics = accuracy(preds.argmax(1).long(), ys.long(), average='weighted', num_classes=6, ignore_index=0)\n",
        "            epoch_metrics.append(batch_metrics.cpu().numpy())\n",
        "            if not (i + 1) % int(len(val_iterator)/5):\n",
        "              print(f'Val loss: {np.mean(epoch_losses)}, Val metric: {np.mean(epoch_metrics)}')\n",
        "        \n",
        "    return np.mean(epoch_losses), np.mean(epoch_metrics)"
      ],
      "metadata": {
        "id": "beP62kYlxvWP",
        "execution": {
          "iopub.status.busy": "2021-12-29T14:25:56.629256Z",
          "iopub.execute_input": "2021-12-29T14:25:56.629624Z",
          "iopub.status.idle": "2021-12-29T14:25:56.639326Z",
          "shell.execute_reply.started": "2021-12-29T14:25:56.629587Z",
          "shell.execute_reply": "2021-12-29T14:25:56.638521Z"
        },
        "trusted": true
      },
      "execution_count": null,
      "outputs": []
    },
    {
      "cell_type": "markdown",
      "source": [
        "Запустим модель на дефолтных параметрах из статьи"
      ],
      "metadata": {
        "id": "FCX6zXk1o9jR"
      }
    },
    {
      "cell_type": "code",
      "source": [
        "model = C_LSTM(len(word2id), max_len=600, filter_sizes=[2, 3, 4],\n",
        "               filters_num=150, memory_dim=150, dropout_rate=0.5, \n",
        "               dropout_input=False, dropout_lstm=True)\n",
        "model = model.to(DEVICE)\n",
        "optimizer = RMSprop(model.parameters(), lr=0.001, weight_decay=0.0001)\n",
        "criterion = nn.CrossEntropyLoss()\n",
        "criterion = criterion.to(DEVICE)"
      ],
      "metadata": {
        "id": "oZuOn89vo7Xt",
        "execution": {
          "iopub.status.busy": "2021-12-29T14:25:56.641109Z",
          "iopub.execute_input": "2021-12-29T14:25:56.644694Z",
          "iopub.status.idle": "2021-12-29T14:26:00.097783Z",
          "shell.execute_reply.started": "2021-12-29T14:25:56.644659Z",
          "shell.execute_reply": "2021-12-29T14:26:00.097068Z"
        },
        "trusted": true
      },
      "execution_count": null,
      "outputs": []
    },
    {
      "cell_type": "code",
      "source": [
        "epochs = 5\n",
        "train_losses = []\n",
        "train_accuracy = []\n",
        "eval_losses = []\n",
        "eval_accuracy = []\n",
        "\n",
        "for epoch in range(epochs):\n",
        "    print(f'\\nstarting Epoch {epoch+1}')\n",
        "    print('Training...')\n",
        "    epoch_loss, epoch_metrics = train(model, optimizer, criterion, epoch)\n",
        "    train_losses.append(epoch_loss)\n",
        "    train_accuracy.append(epoch_metrics)\n",
        "    print('\\nEvaluating...')\n",
        "    epoch_loss_eval, epoch_metrics_eval = evaluate(model, criterion)\n",
        "    eval_losses.append(epoch_loss_eval)\n",
        "    eval_accuracy.append(epoch_metrics_eval)"
      ],
      "metadata": {
        "id": "jjucAjILuBjJ",
        "outputId": "0ef175a8-8ce3-417a-d893-5e9d30e09305",
        "execution": {
          "iopub.status.busy": "2021-12-29T14:26:00.099182Z",
          "iopub.execute_input": "2021-12-29T14:26:00.099422Z",
          "iopub.status.idle": "2021-12-29T14:28:16.492700Z",
          "shell.execute_reply.started": "2021-12-29T14:26:00.099390Z",
          "shell.execute_reply": "2021-12-29T14:28:16.491904Z"
        },
        "trusted": true
      },
      "execution_count": null,
      "outputs": [
        {
          "name": "stdout",
          "text": "\nstarting Epoch 1\nTraining...\n",
          "output_type": "stream"
        },
        {
          "output_type": "display_data",
          "data": {
            "text/plain": "Epoch 1:   0%|          | 0/18784 [00:00<?, ?it/s]",
            "application/vnd.jupyter.widget-view+json": {
              "version_major": 2,
              "version_minor": 0,
              "model_id": "8fa75f46530944209f28a8d7c34f2460"
            }
          },
          "metadata": {}
        },
        {
          "name": "stdout",
          "text": "Train loss: 1.661909321258808, Train metric: 0.38860198855400085\nTrain loss: 1.6483555580007618, Train metric: 0.4010831117630005\nTrain loss: 1.64727390223536, Train metric: 0.40271905064582825\nTrain loss: 1.639354592767255, Train metric: 0.4147557318210602\nTrain loss: 1.6100383890086207, Train metric: 0.4571864604949951\n\nEvaluating...\nVal loss: 1.4276736293520247, Val metric: 0.6767102479934692\nVal loss: 1.4475679908479964, Val metric: 0.6594423651695251\nVal loss: 1.4477053085962932, Val metric: 0.6587017774581909\nVal loss: 1.444147331374032, Val metric: 0.6624695062637329\nVal loss: 1.4433057274137224, Val metric: 0.6658730506896973\n\nstarting Epoch 2\nTraining...\n",
          "output_type": "stream"
        },
        {
          "output_type": "display_data",
          "data": {
            "text/plain": "Epoch 2:   0%|          | 0/18784 [00:00<?, ?it/s]",
            "application/vnd.jupyter.widget-view+json": {
              "version_major": 2,
              "version_minor": 0,
              "model_id": "aa5ade6f9c534939b2b46f58be619a5a"
            }
          },
          "metadata": {}
        },
        {
          "name": "stdout",
          "text": "Train loss: 1.4398739214601188, Train metric: 0.656403660774231\nTrain loss: 1.4374113370632302, Train metric: 0.6573664546012878\nTrain loss: 1.4299937856608425, Train metric: 0.6628861427307129\nTrain loss: 1.4275893712865895, Train metric: 0.6648818254470825\nTrain loss: 1.4253889322280884, Train metric: 0.6660909056663513\n\nEvaluating...\nVal loss: 1.3944612741470337, Val metric: 0.6896910667419434\nVal loss: 1.4148361342293876, Val metric: 0.6737874150276184\nVal loss: 1.415256381034851, Val metric: 0.6735292077064514\nVal loss: 1.4125662020274572, Val metric: 0.6733722686767578\nVal loss: 1.4126907791410173, Val metric: 0.6745800971984863\n\nstarting Epoch 3\nTraining...\n",
          "output_type": "stream"
        },
        {
          "output_type": "display_data",
          "data": {
            "text/plain": "Epoch 3:   0%|          | 0/18784 [00:00<?, ?it/s]",
            "application/vnd.jupyter.widget-view+json": {
              "version_major": 2,
              "version_minor": 0,
              "model_id": "c30b2b6be298419d8ec86088aa13e2e9"
            }
          },
          "metadata": {}
        },
        {
          "name": "stdout",
          "text": "Train loss: 1.4090258664098279, Train metric: 0.6811118721961975\nTrain loss: 1.4076911560420333, Train metric: 0.6804779171943665\nTrain loss: 1.4109245949778064, Train metric: 0.6760160326957703\nTrain loss: 1.411433451134583, Train metric: 0.6748901605606079\nTrain loss: 1.4102332279599945, Train metric: 0.6771326661109924\n\nEvaluating...\nVal loss: 1.3962454625538416, Val metric: 0.6847391724586487\nVal loss: 1.4182429228510176, Val metric: 0.6683377027511597\nVal loss: 1.4181671199344454, Val metric: 0.6691532731056213\nVal loss: 1.4162946428571428, Val metric: 0.6689039468765259\nVal loss: 1.416574331692287, Val metric: 0.6696195602416992\n\nstarting Epoch 4\nTraining...\n",
          "output_type": "stream"
        },
        {
          "output_type": "display_data",
          "data": {
            "text/plain": "Epoch 4:   0%|          | 0/18784 [00:00<?, ?it/s]",
            "application/vnd.jupyter.widget-view+json": {
              "version_major": 2,
              "version_minor": 0,
              "model_id": "7b297abf67a64f7599809c3c4f19e7a1"
            }
          },
          "metadata": {}
        },
        {
          "name": "stdout",
          "text": "Train loss: 1.406441063716494, Train metric: 0.677581250667572\nTrain loss: 1.4112960860647004, Train metric: 0.6737166047096252\nTrain loss: 1.4039959839020653, Train metric: 0.6820154190063477\nTrain loss: 1.406178927627103, Train metric: 0.6798400282859802\nTrain loss: 1.4061304930982919, Train metric: 0.680042564868927\n\nEvaluating...\nVal loss: 1.3909137759889876, Val metric: 0.6870797872543335\nVal loss: 1.4085963453565324, Val metric: 0.6761504411697388\nVal loss: 1.4098445120311918, Val metric: 0.6734693050384521\nVal loss: 1.4064595018114363, Val metric: 0.6762908101081848\nVal loss: 1.4064007997512817, Val metric: 0.6781010031700134\n\nstarting Epoch 5\nTraining...\n",
          "output_type": "stream"
        },
        {
          "output_type": "display_data",
          "data": {
            "text/plain": "Epoch 5:   0%|          | 0/18784 [00:00<?, ?it/s]",
            "application/vnd.jupyter.widget-view+json": {
              "version_major": 2,
              "version_minor": 0,
              "model_id": "7850c5bf4d4f4cac9d8c3c5529ac9542"
            }
          },
          "metadata": {}
        },
        {
          "name": "stdout",
          "text": "Train loss: 1.3936679692103946, Train metric: 0.6900867223739624\nTrain loss: 1.4043167233467102, Train metric: 0.6798073053359985\nTrain loss: 1.4049953825172337, Train metric: 0.6780396103858948\nTrain loss: 1.4036437386068805, Train metric: 0.6803919672966003\nTrain loss: 1.4025054430139476, Train metric: 0.6823654770851135\n\nEvaluating...\nVal loss: 1.3898216996874129, Val metric: 0.695338249206543\nVal loss: 1.40762574332101, Val metric: 0.6803742051124573\nVal loss: 1.4081813097000122, Val metric: 0.6786918044090271\nVal loss: 1.4052181031022752, Val metric: 0.67896968126297\nVal loss: 1.404253615651812, Val metric: 0.682217538356781\n",
          "output_type": "stream"
        }
      ]
    },
    {
      "cell_type": "markdown",
      "source": [
        "Посмотрим на результаты модели."
      ],
      "metadata": {
        "id": "Jtj7UOaqFrNe"
      }
    },
    {
      "cell_type": "code",
      "source": [
        "plt.figure(1, figsize=(10, 10))\n",
        "\n",
        "plt.subplot(211)\n",
        "plt.plot(train_losses)\n",
        "plt.plot(eval_losses)\n",
        "plt.title('Training')\n",
        "plt.ylabel('Loss')\n",
        "plt.xlabel('epoch')\n",
        "plt.legend(['train', 'val'], loc='upper right')\n",
        "\n",
        "\n",
        "plt.subplot(212)\n",
        "plt.plot(train_accuracy)\n",
        "plt.plot(eval_accuracy)\n",
        "plt.title('Evaluation')\n",
        "plt.ylabel('Accuracy')\n",
        "plt.xlabel('epoch')\n",
        "plt.legend(['train', 'val'], loc='upper right')\n",
        "\n",
        "plt.show()"
      ],
      "metadata": {
        "execution": {
          "iopub.status.busy": "2021-12-29T14:28:16.494747Z",
          "iopub.execute_input": "2021-12-29T14:28:16.494998Z",
          "iopub.status.idle": "2021-12-29T14:28:16.885691Z",
          "shell.execute_reply.started": "2021-12-29T14:28:16.494960Z",
          "shell.execute_reply": "2021-12-29T14:28:16.884965Z"
        },
        "trusted": true,
        "id": "OuJP7JKMFrNf",
        "outputId": "28224d98-6edf-4d34-c798-8fd8197f9112"
      },
      "execution_count": null,
      "outputs": [
        {
          "output_type": "display_data",
          "data": {
            "text/plain": "<Figure size 720x720 with 2 Axes>",
            "image/png": "[encoded data removed]"
          },
          "metadata": {
            "needs_background": "light"
          }
        }
      ]
    },
    {
      "cell_type": "markdown",
      "source": [
        "Посмотрим на то, как модель предсказывает отдельные классы"
      ],
      "metadata": {
        "id": "4bLG9TacFrNg"
      }
    },
    {
      "cell_type": "code",
      "source": [
        "y_pred = []\n",
        "y_true = []\n",
        "for texts, y in val_iterator:   \n",
        "    y_pred.extend(torch.argmax(model(texts), dim=1).cpu().detach().numpy())\n",
        "    y_true.extend(y.cpu().detach().numpy())\n",
        "print(classification_report(y_true, y_pred))"
      ],
      "metadata": {
        "execution": {
          "iopub.status.busy": "2021-12-29T14:31:57.560082Z",
          "iopub.execute_input": "2021-12-29T14:31:57.560500Z",
          "iopub.status.idle": "2021-12-29T14:31:59.191755Z",
          "shell.execute_reply.started": "2021-12-29T14:31:57.560459Z",
          "shell.execute_reply": "2021-12-29T14:31:59.191018Z"
        },
        "trusted": true,
        "id": "fBQJrt5YFrNh",
        "outputId": "79dff9c1-a07d-481c-ceda-212b98eb139c"
      },
      "execution_count": null,
      "outputs": [
        {
          "name": "stdout",
          "text": "              precision    recall  f1-score   support\n\n           0       0.00      0.00      0.00       314\n           1       0.00      0.00      0.00       156\n           2       0.39      1.00      0.56      1810\n           3       0.00      0.00      0.00       157\n           4       0.00      0.00      0.00       892\n           5       0.00      0.00      0.00      1368\n\n    accuracy                           0.39      4697\n   macro avg       0.06      0.17      0.09      4697\nweighted avg       0.15      0.39      0.21      4697\n\n",
          "output_type": "stream"
        }
      ]
    },
    {
      "cell_type": "markdown",
      "source": [
        "Результаты ожидаемые: модель лучше предсказывать классы, по которым данных гораздо больше, чем остальных, а малочисленные совсем не предсказывает :("
      ],
      "metadata": {
        "id": "OrIpMbX5FrNi"
      }
    },
    {
      "cell_type": "markdown",
      "source": [
        "### Experiments\n",
        "For SST, we conduct hyperparameter (number of filters, filter length in CNN; memory dimension in LSTM; dropout rate and which layer to apply, etc.) tuning on the validation data in the standard split."
      ],
      "metadata": {
        "id": "Zp6fYCxOFrNi"
      }
    },
    {
      "cell_type": "markdown",
      "source": [
        "Так как параметров много, попробуем поставить эксперимент на некоторых из них: применим различные конфигурации фильтров, различные значения дропаута. Количество эпох оставим 5, иначе обучение будет очень долгим."
      ],
      "metadata": {
        "id": "cwWbyRDnFrNj"
      }
    },
    {
      "cell_type": "code",
      "source": [
        "experimental_filters = [[2], [3], [4], [2, 3], [3, 4], [2, 4], [2, 3, 4]]\n",
        "results = []\n",
        "for filter in experimental_filters:\n",
        "    for dropout in [0, 0.2, 0.5]:\n",
        "        model = C_LSTM(len(word2id), max_len=600, filter_sizes=filter,\n",
        "                   filters_num=150, memory_dim=150, dropout_rate=dropout, \n",
        "                   dropout_input=False, dropout_lstm=True)\n",
        "        model = model.to(DEVICE)\n",
        "        optimizer = RMSprop(model.parameters(), lr=0.001, weight_decay=0.0001)\n",
        "        criterion = nn.CrossEntropyLoss()\n",
        "        criterion = criterion.to(DEVICE)\n",
        "        print('Filter:', filter, 'dropout rate:', dropout)\n",
        "\n",
        "        epochs = 5\n",
        "        train_losses = []\n",
        "        train_accuracy = []\n",
        "        eval_losses = []\n",
        "        eval_accuracy = []\n",
        "\n",
        "        for epoch in range(epochs):\n",
        "            print(f'\\nstarting Epoch {epoch+1}')\n",
        "            print('Training...')\n",
        "            epoch_loss, epoch_metrics = train(model, optimizer, criterion, epoch)\n",
        "            train_losses.append(epoch_loss)\n",
        "            train_accuracy.append(epoch_metrics)\n",
        "            print('\\nEvaluating...')\n",
        "            epoch_loss_eval, epoch_metrics_eval = evaluate(model, criterion)\n",
        "            eval_losses.append(epoch_loss_eval)\n",
        "            eval_accuracy.append(epoch_metrics_eval)\n",
        "            \n",
        "        results.append({'filter': filter,\n",
        "                        'dropout': dropout,\n",
        "                       'train_losses': train_losses,\n",
        "                       'train_accuracy': train_accuracy,\n",
        "                       'eval_losses': eval_losses,\n",
        "                       'eval_accuracy': eval_accuracy})"
      ],
      "metadata": {
        "execution": {
          "iopub.status.busy": "2021-12-29T15:10:22.394012Z",
          "iopub.execute_input": "2021-12-29T15:10:22.394567Z",
          "iopub.status.idle": "2021-12-29T15:44:31.724638Z",
          "shell.execute_reply.started": "2021-12-29T15:10:22.394531Z",
          "shell.execute_reply": "2021-12-29T15:44:31.723921Z"
        },
        "trusted": true,
        "colab": {
          "referenced_widgets": [
            "77adf3ed4b7040b69338ec366448d3f7",
            "9a63e83ff7054e1d802910a1532a8972",
            "c87844d8d3a04593bf663dd78b706a05",
            "2096e0f72c9046729089075e711cb8b3",
            "41125831219343fcab801b9b51f2ad70",
            "010cc20af1e94cddbe563721710a4ded",
            "84c481d942a64ec08dca7b0919ad4563",
            "31dd553cb92b4c46b6625de9bb6d62ad",
            "19bad7126bd5454aa4a222011f414f72",
            "07d970c552ba48ee869d319ce263fd95",
            "01f727638fa849c78cdf09cd5b232009",
            "3d730f8753e24fcfa2dd8ef07a9125b4",
            "222297a4ed9e46649342952957977286",
            "062c7ac4afb248b1b2e967b6409cfa17",
            "c63e53ae1a114eba83c64800c6ebbe62",
            "e2df5fa7da4c4b27bebacc130bcbd470",
            "968c9d032e6a4e9889812c59a5d3ee4d",
            "103de9d5938742bfb0efd160f6e0f4a9",
            "9631c79ed46f482eaf0cc9450d90a6dd",
            "04027fc10e3e446380ebdb75bccd8713",
            "55a4966d99534bb682dd4c99de7e6a7f",
            "87e6acc1ad0642538b980aca23cc3c52",
            "52736c62436c4aa1906e3f67746b8ebf",
            "d2b853d512d141af92e189557d684c30",
            "a2ea2bd97acb411b894330102d217a21",
            "cc25fc911f6e4006a9c63416e82b5036",
            "50b3ca89a84f445da679360a7b45b206",
            "ac70f13a09004296ad4a2a155820dc8f",
            "0f8a4fda405f46afbb91f60a871f0c8e",
            "25840d006f084f71801f0e278e4e51b1",
            "4ae19b4fcd3c4a8c821739f4d53f6c95",
            "116b13a42c49492898666f51715eb51b",
            "d71ffcd5f87148938f5186b2bd029f82",
            "ff4ee970eb494fc79f01fccf43070dbb",
            "8d0ac3c5f3c84c06939f4d3d881d7d6b",
            "dc93ee2cf1b14219bcf7634adb3d7a72",
            "695bb3eb9d394e68aba6f05fce6b38f2",
            "92ec63ee550a46508f64629885a51b42",
            "e3e8adb980b94b0a9c6ba0603ecb0dee",
            "5b4b29d505034736a28abd80ba3456e9",
            "cdc7fd9a55d24c0ba515701bd3f042ed",
            "16204ea1f8624067a39d9aaf2ea555d8",
            "a897a8d25fc0487a9eb1700cf752cc14",
            "e8ee856049064d80bd7ff01ba1a51d26",
            "114c834374714023a9e920c5ef0b9c77",
            "3b57b7f95dde4dfeab9dba43902e2d4b",
            "b7a9cf252bfd419d8518b8d623660a9b",
            "74ae4eb76cac49ac82b076ec516cc037",
            "85c8de8df68e4bf69cccc1146be0a219",
            "25b1185489d549b98789a0ee8d4c2b1b",
            "bec51149cefb4b8bac8731a48ee791ac",
            "e017f82cbf4f456bb11771ee2d30a208",
            "4a51877519a1402eb5318b972952e326",
            "9aac5977c98f4c1da53b0995f4bbe5cf",
            "d3291ed527094ae587b9f08172d3d607",
            "84568815cf7a4c3898fa09d115a8cbc5",
            "400a74d80a074507ba99061915d28c47",
            "42a6d040837c44f1b16c789805593e44",
            "0fafca51360542c386d2cfaf98a31d7c",
            "21e048108acc4cd6ba594fb29eacb20c",
            "6fa0212d11514cfd9be92fc542ce1634",
            "b9d150cb1c4447d4b7beb60b329b6118",
            "83b4ac697d194cd48bd25019931a8c80",
            "7195016e7f304836afbab3a2b4322971",
            "4166c672228448e7b4aa4a3ecc836c8a",
            "954e3b0c5ed44d9cad2c40087876c164",
            "96c4341768674edc9d5f8cd99056c6ce",
            "6f4586422e974254889d1297c128ae39",
            "6ec75e6ac6b642618ef1f00dc8c620de",
            "40ea68467eef40df8e2da056dd1a639c",
            "cb049a9bf7ff49f4beb77036b92d31df",
            "9aec579fc8f64b2c85035854d24e4543",
            "6650794e1b15424db54f620730fc2cc5",
            "31a7ae62cab8452ba44004d33fcef0ec",
            "f2c4686565234bb3ab6339f4d366990e",
            "3eacd0947956480e9e6f90981c3a6570",
            "c946147f85424a9fbebc16f7c8532318",
            "ba3232e39f134dfebc2a04b8e711a49e",
            "9423b553d922436483e25f406157f537",
            "a72798f07e8841fe9ea69a1ff9159d77",
            "9ea3710e63db466392cec684e0ed5b02",
            "01f51585fc054f4c8ecc51a2e22da94e",
            "729b632bb15a4e27b2607cd25a055063",
            "2712e979547d461fa9feff16fd3201ab",
            "b5729c05ed444d7393fe951cb9ce4955",
            "c2e3510cd7c54fa8926dbbb796cdf722",
            "e6a7245071304dada22e5e5d6b13347c",
            "6d8f7ac652da4a2cb71a2827278edd22",
            "120021bab69f4034b629bf302fe38b64",
            "f6b712b13b1d446696c3a0d51b2cc9ab",
            "163eed907dec4503a34f243987defdfb",
            "c94b6c6143ac4269bb4693ed5ec94e79",
            "28f91a72c52a42a0914699a45853b8fb",
            "17a4fd4641e54333b142e07f8dc47346",
            "941467a0788e43d2a3097abb6f2f4f9c",
            "f90d81b75f4b4646b6e4f7a5a909556f",
            "400ca824186c4970871e1d82ed4da6b3",
            "34e601de6a5946eea4a41fbb8df52fc1",
            "0903aa8e8e5e45c180dca346d1970c8b",
            "dc9397d853ba47038d9d1ad107ff298e",
            "2f23842af46b4695a5cbc83a72e64c05",
            "d84e495f72f04b069abe22bb34fbe9e4",
            "2a67da911ac341f3ab1b69f7131b3ea3",
            "49d9845f0765454eb6612744249dd321",
            "c1ff4923c91848aab39797c3213206c8"
          ]
        },
        "id": "5XlMkX4wFrNj",
        "outputId": "8ca7eb54-8f32-4170-e381-ba25e7a8f800"
      },
      "execution_count": null,
      "outputs": [
        {
          "name": "stdout",
          "text": "Filter: [2] dropout rate: 0\n\nstarting Epoch 1\nTraining...\n",
          "output_type": "stream"
        },
        {
          "output_type": "display_data",
          "data": {
            "text/plain": "Epoch 1:   0%|          | 0/18784 [00:00<?, ?it/s]",
            "application/vnd.jupyter.widget-view+json": {
              "version_major": 2,
              "version_minor": 0,
              "model_id": "77adf3ed4b7040b69338ec366448d3f7"
            }
          },
          "metadata": {}
        },
        {
          "name": "stdout",
          "text": "Train loss: 1.6509825443399364, Train metric: 0.4018377363681793\nTrain loss: 1.6473696951208443, Train metric: 0.4043101668357849\nTrain loss: 1.643984390401292, Train metric: 0.40860244631767273\nTrain loss: 1.6432897726009632, Train metric: 0.40758174657821655\nTrain loss: 1.6428626093371161, Train metric: 0.40882351994514465\n\nEvaluating...\nVal loss: 1.6254720517567225, Val metric: 0.42480215430259705\nVal loss: 1.6414784022739954, Val metric: 0.4088577330112457\nVal loss: 1.638740062713623, Val metric: 0.41503965854644775\nVal loss: 1.638429548059191, Val metric: 0.4140310287475586\nVal loss: 1.637400392123631, Val metric: 0.4168524742126465\n\nstarting Epoch 2\nTraining...\n",
          "output_type": "stream"
        },
        {
          "output_type": "display_data",
          "data": {
            "text/plain": "Epoch 2:   0%|          | 0/18784 [00:00<?, ?it/s]",
            "application/vnd.jupyter.widget-view+json": {
              "version_major": 2,
              "version_minor": 0,
              "model_id": "9a63e83ff7054e1d802910a1532a8972"
            }
          },
          "metadata": {}
        },
        {
          "name": "stdout",
          "text": "Train loss: 1.6434731812312686, Train metric: 0.4086465537548065\nTrain loss: 1.6386897954447517, Train metric: 0.41590768098831177\nTrain loss: 1.6410898997865875, Train metric: 0.4121032655239105\nTrain loss: 1.6409808921402897, Train metric: 0.4120565354824066\nTrain loss: 1.6399729408066848, Train metric: 0.4132136404514313\n\nEvaluating...\nVal loss: 1.6333435773849487, Val metric: 0.4273150861263275\nVal loss: 1.644912234374455, Val metric: 0.41313716769218445\nVal loss: 1.6424532334009807, Val metric: 0.4174196720123291\nVal loss: 1.641879562820707, Val metric: 0.41580820083618164\nVal loss: 1.6404449122292655, Val metric: 0.42039090394973755\n\nstarting Epoch 3\nTraining...\n",
          "output_type": "stream"
        },
        {
          "output_type": "display_data",
          "data": {
            "text/plain": "Epoch 3:   0%|          | 0/18784 [00:00<?, ?it/s]",
            "application/vnd.jupyter.widget-view+json": {
              "version_major": 2,
              "version_minor": 0,
              "model_id": "c87844d8d3a04593bf663dd78b706a05"
            }
          },
          "metadata": {}
        },
        {
          "name": "stdout",
          "text": "Train loss: 1.6484849124119199, Train metric: 0.3984057605266571\nTrain loss: 1.6412617851947915, Train metric: 0.40788039565086365\nTrain loss: 1.638605032844105, Train metric: 0.4122210443019867\nTrain loss: 1.6352347813803574, Train metric: 0.4172928035259247\nTrain loss: 1.629547064879845, Train metric: 0.4280797839164734\n\nEvaluating...\nVal loss: 1.6337788956505912, Val metric: 0.42270731925964355\nVal loss: 1.6449360506875175, Val metric: 0.416366845369339\nVal loss: 1.6419532639639718, Val metric: 0.4175547957420349\nVal loss: 1.6422680190631322, Val metric: 0.4155489504337311\nVal loss: 1.6397297757012503, Val metric: 0.4194497764110565\n\nstarting Epoch 4\nTraining...\n",
          "output_type": "stream"
        },
        {
          "output_type": "display_data",
          "data": {
            "text/plain": "Epoch 4:   0%|          | 0/18784 [00:00<?, ?it/s]",
            "application/vnd.jupyter.widget-view+json": {
              "version_major": 2,
              "version_minor": 0,
              "model_id": "2096e0f72c9046729089075e711cb8b3"
            }
          },
          "metadata": {}
        },
        {
          "name": "stdout",
          "text": "Train loss: 1.4997545562941452, Train metric: 0.6203094720840454\nTrain loss: 1.4658325869461586, Train metric: 0.643240749835968\nTrain loss: 1.4596565002682564, Train metric: 0.641867995262146\nTrain loss: 1.4487801759407437, Train metric: 0.6500178575515747\nTrain loss: 1.44275064797237, Train metric: 0.6529207229614258\n\nEvaluating...\nVal loss: 1.4213309969220842, Val metric: 0.6553348302841187\nVal loss: 1.439352580479213, Val metric: 0.6423454880714417\nVal loss: 1.4386680750619798, Val metric: 0.644189178943634\nVal loss: 1.434606624501092, Val metric: 0.6456319689750671\nVal loss: 1.433523508480617, Val metric: 0.6492384076118469\n\nstarting Epoch 5\nTraining...\n",
          "output_type": "stream"
        },
        {
          "output_type": "display_data",
          "data": {
            "text/plain": "Epoch 5:   0%|          | 0/18784 [00:00<?, ?it/s]",
            "application/vnd.jupyter.widget-view+json": {
              "version_major": 2,
              "version_minor": 0,
              "model_id": "41125831219343fcab801b9b51f2ad70"
            }
          },
          "metadata": {}
        },
        {
          "name": "stdout",
          "text": "Train loss: 1.4173336152372689, Train metric: 0.6631816625595093\nTrain loss: 1.4189956804801678, Train metric: 0.6637203693389893\nTrain loss: 1.4232260235424699, Train metric: 0.6584058403968811\nTrain loss: 1.4194311129635777, Train metric: 0.6640053391456604\nTrain loss: 1.4162176000660864, Train metric: 0.6685519218444824\n\nEvaluating...\nVal loss: 1.4313133784702845, Val metric: 0.6422648429870605\nVal loss: 1.449543935911996, Val metric: 0.6284872889518738\nVal loss: 1.4466909851346696, Val metric: 0.6329936981201172\nVal loss: 1.4427248196942466, Val metric: 0.6351354718208313\nVal loss: 1.4408467497144426, Val metric: 0.6393840312957764\nFilter: [2] dropout rate: 0.2\n\nstarting Epoch 1\nTraining...\n",
          "output_type": "stream"
        },
        {
          "output_type": "display_data",
          "data": {
            "text/plain": "Epoch 1:   0%|          | 0/18784 [00:00<?, ?it/s]",
            "application/vnd.jupyter.widget-view+json": {
              "version_major": 2,
              "version_minor": 0,
              "model_id": "010cc20af1e94cddbe563721710a4ded"
            }
          },
          "metadata": {}
        },
        {
          "name": "stdout",
          "text": "Train loss: 1.6528453045877918, Train metric: 0.4088754653930664\nTrain loss: 1.6454048814444706, Train metric: 0.4111000895500183\nTrain loss: 1.6444968437326366, Train metric: 0.4105339050292969\nTrain loss: 1.6427693839730888, Train metric: 0.4119151532649994\nTrain loss: 1.6430998695307764, Train metric: 0.41070789098739624\n\nEvaluating...\nVal loss: 1.62514705317361, Val metric: 0.42480215430259705\nVal loss: 1.6403087377548218, Val metric: 0.4088577330112457\nVal loss: 1.6382800454185122, Val metric: 0.41503965854644775\nVal loss: 1.6378098385674613, Val metric: 0.4140310287475586\nVal loss: 1.637022066116333, Val metric: 0.4168524742126465\n\nstarting Epoch 2\nTraining...\n",
          "output_type": "stream"
        },
        {
          "output_type": "display_data",
          "data": {
            "text/plain": "Epoch 2:   0%|          | 0/18784 [00:00<?, ?it/s]",
            "application/vnd.jupyter.widget-view+json": {
              "version_major": 2,
              "version_minor": 0,
              "model_id": "84c481d942a64ec08dca7b0919ad4563"
            }
          },
          "metadata": {}
        },
        {
          "name": "stdout",
          "text": "Train loss: 1.6426095222604686, Train metric: 0.41722533106803894\nTrain loss: 1.6423571849691456, Train metric: 0.4113938808441162\nTrain loss: 1.638619391397498, Train metric: 0.41644230484962463\nTrain loss: 1.6380024295428703, Train metric: 0.41465631127357483\nTrain loss: 1.6376565275521113, Train metric: 0.41482049226760864\n\nEvaluating...\nVal loss: 1.6185181992394584, Val metric: 0.43809443712234497\nVal loss: 1.6320117286273412, Val metric: 0.424686998128891\nVal loss: 1.6319262016387213, Val metric: 0.4255152642726898\nVal loss: 1.6313219453607286, Val metric: 0.42481881380081177\nVal loss: 1.6308133465903145, Val metric: 0.42686185240745544\n\nstarting Epoch 3\nTraining...\n",
          "output_type": "stream"
        },
        {
          "output_type": "display_data",
          "data": {
            "text/plain": "Epoch 3:   0%|          | 0/18784 [00:00<?, ?it/s]",
            "application/vnd.jupyter.widget-view+json": {
              "version_major": 2,
              "version_minor": 0,
              "model_id": "31dd553cb92b4c46b6625de9bb6d62ad"
            }
          },
          "metadata": {}
        },
        {
          "name": "stdout",
          "text": "Train loss: 1.6276422369069066, Train metric: 0.42374151945114136\nTrain loss: 1.6210325236978202, Train metric: 0.43720492720603943\nTrain loss: 1.5966787653407832, Train metric: 0.48188188672065735\nTrain loss: 1.5624151250411724, Train metric: 0.5216909050941467\nTrain loss: 1.5332925928050074, Train metric: 0.5519940853118896\n\nEvaluating...\nVal loss: 1.3946881123951502, Val metric: 0.6896550059318542\nVal loss: 1.4160378915922982, Val metric: 0.6750748753547668\nVal loss: 1.418620915639968, Val metric: 0.6707351803779602\nVal loss: 1.4162464567593165, Val metric: 0.6702989935874939\nVal loss: 1.415854331425258, Val metric: 0.6726358532905579\n\nstarting Epoch 4\nTraining...\n",
          "output_type": "stream"
        },
        {
          "output_type": "display_data",
          "data": {
            "text/plain": "Epoch 4:   0%|          | 0/18784 [00:00<?, ?it/s]",
            "application/vnd.jupyter.widget-view+json": {
              "version_major": 2,
              "version_minor": 0,
              "model_id": "19bad7126bd5454aa4a222011f414f72"
            }
          },
          "metadata": {}
        },
        {
          "name": "stdout",
          "text": "Train loss: 1.4188608424416904, Train metric: 0.6633714437484741\nTrain loss: 1.4188201180819808, Train metric: 0.6662794351577759\nTrain loss: 1.4178526593350815, Train metric: 0.6663296222686768\nTrain loss: 1.4199950869741111, Train metric: 0.6627737879753113\nTrain loss: 1.4185458487477796, Train metric: 0.6650146842002869\n\nEvaluating...\nVal loss: 1.3940823248454504, Val metric: 0.6882578730583191\nVal loss: 1.4148463095937456, Val metric: 0.6725743412971497\nVal loss: 1.4167600245702834, Val metric: 0.6694908738136292\nVal loss: 1.414239572627204, Val metric: 0.6693919897079468\nVal loss: 1.4138100964682443, Val metric: 0.6716398596763611\n\nstarting Epoch 5\nTraining...\n",
          "output_type": "stream"
        },
        {
          "output_type": "display_data",
          "data": {
            "text/plain": "Epoch 5:   0%|          | 0/18784 [00:00<?, ?it/s]",
            "application/vnd.jupyter.widget-view+json": {
              "version_major": 2,
              "version_minor": 0,
              "model_id": "07d970c552ba48ee869d319ce263fd95"
            }
          },
          "metadata": {}
        },
        {
          "name": "stdout",
          "text": "Train loss: 1.3956243868531852, Train metric: 0.6920288801193237\nTrain loss: 1.4067433168148171, Train metric: 0.6767587065696716\nTrain loss: 1.4134142083683232, Train metric: 0.671937108039856\nTrain loss: 1.4136428822731149, Train metric: 0.6722531914710999\nTrain loss: 1.4119717269108214, Train metric: 0.6739510297775269\n\nEvaluating...\nVal loss: 1.4130758898598808, Val metric: 0.6601495742797852\nVal loss: 1.4309741428920202, Val metric: 0.6483021378517151\nVal loss: 1.4312262648627871, Val metric: 0.6485995054244995\nVal loss: 1.4275730294840676, Val metric: 0.6507190465927124\nVal loss: 1.4257033961159842, Val metric: 0.6552585959434509\nFilter: [2] dropout rate: 0.5\n\nstarting Epoch 1\nTraining...\n",
          "output_type": "stream"
        },
        {
          "output_type": "display_data",
          "data": {
            "text/plain": "Epoch 1:   0%|          | 0/18784 [00:00<?, ?it/s]",
            "application/vnd.jupyter.widget-view+json": {
              "version_major": 2,
              "version_minor": 0,
              "model_id": "01f727638fa849c78cdf09cd5b232009"
            }
          },
          "metadata": {}
        },
        {
          "name": "stdout",
          "text": "Train loss: 1.658850390335609, Train metric: 0.39432981610298157\nTrain loss: 1.6495355408767174, Train metric: 0.3989856243133545\nTrain loss: 1.643099288830812, Train metric: 0.4080498218536377\nTrain loss: 1.644032408451212, Train metric: 0.4068094491958618\nTrain loss: 1.6434574595813094, Train metric: 0.407597154378891\n\nEvaluating...\nVal loss: 1.6252739429473877, Val metric: 0.42480215430259705\nVal loss: 1.6411329422678267, Val metric: 0.4088577330112457\nVal loss: 1.6385289827982585, Val metric: 0.41503965854644775\nVal loss: 1.6381579382078988, Val metric: 0.4140310287475586\nVal loss: 1.6372121810913085, Val metric: 0.4168524742126465\n\nstarting Epoch 2\nTraining...\n",
          "output_type": "stream"
        },
        {
          "output_type": "display_data",
          "data": {
            "text/plain": "Epoch 2:   0%|          | 0/18784 [00:00<?, ?it/s]",
            "application/vnd.jupyter.widget-view+json": {
              "version_major": 2,
              "version_minor": 0,
              "model_id": "3d730f8753e24fcfa2dd8ef07a9125b4"
            }
          },
          "metadata": {}
        },
        {
          "name": "stdout",
          "text": "Train loss: 1.6342529099563072, Train metric: 0.4141327142715454\nTrain loss: 1.6384442510276005, Train metric: 0.4112415611743927\nTrain loss: 1.6381699093456925, Train metric: 0.41462305188179016\nTrain loss: 1.6401342595445698, Train metric: 0.4115913510322571\nTrain loss: 1.638505666831444, Train metric: 0.4143179953098297\n\nEvaluating...\nVal loss: 1.6220377853938512, Val metric: 0.42611852288246155\nVal loss: 1.6366118788719177, Val metric: 0.4143724739551544\nVal loss: 1.6352264710835047, Val metric: 0.4191046357154846\nVal loss: 1.6344407669135503, Val metric: 0.41797807812690735\nVal loss: 1.6336560453687394, Val metric: 0.42142176628112793\n\nstarting Epoch 3\nTraining...\n",
          "output_type": "stream"
        },
        {
          "output_type": "display_data",
          "data": {
            "text/plain": "Epoch 3:   0%|          | 0/18784 [00:00<?, ?it/s]",
            "application/vnd.jupyter.widget-view+json": {
              "version_major": 2,
              "version_minor": 0,
              "model_id": "222297a4ed9e46649342952957977286"
            }
          },
          "metadata": {}
        },
        {
          "name": "stdout",
          "text": "Train loss: 1.6318530378670528, Train metric: 0.4174247682094574\nTrain loss: 1.6303698194438014, Train metric: 0.42131349444389343\nTrain loss: 1.6335057664191586, Train metric: 0.4205435514450073\nTrain loss: 1.6247701870984044, Train metric: 0.4404846429824829\nTrain loss: 1.6072375527743636, Train metric: 0.46950840950012207\n\nEvaluating...\nVal loss: 1.4745512860161918, Val metric: 0.6637015342712402\nVal loss: 1.4885469675064087, Val metric: 0.6530324816703796\nVal loss: 1.488263107481457, Val metric: 0.6524336934089661\nVal loss: 1.4859777646405357, Val metric: 0.6527466773986816\nVal loss: 1.48500725541796, Val metric: 0.6545001268386841\n\nstarting Epoch 4\nTraining...\n",
          "output_type": "stream"
        },
        {
          "output_type": "display_data",
          "data": {
            "text/plain": "Epoch 4:   0%|          | 0/18784 [00:00<?, ?it/s]",
            "application/vnd.jupyter.widget-view+json": {
              "version_major": 2,
              "version_minor": 0,
              "model_id": "062c7ac4afb248b1b2e967b6409cfa17"
            }
          },
          "metadata": {}
        },
        {
          "name": "stdout",
          "text": "Train loss: 1.4575834767571811, Train metric: 0.6435121893882751\nTrain loss: 1.4624997747355495, Train metric: 0.633927583694458\nTrain loss: 1.4508519583734973, Train metric: 0.6429685950279236\nTrain loss: 1.4456841997031509, Train metric: 0.6471332311630249\nTrain loss: 1.4386479533951857, Train metric: 0.6526927947998047\n\nEvaluating...\nVal loss: 1.3966587781906128, Val metric: 0.6908926963806152\nVal loss: 1.4159167749541146, Val metric: 0.6781025528907776\nVal loss: 1.4169847397577195, Val metric: 0.6735567450523376\nVal loss: 1.4142925441265106, Val metric: 0.673692524433136\nVal loss: 1.4144117730004446, Val metric: 0.6743758916854858\n\nstarting Epoch 5\nTraining...\n",
          "output_type": "stream"
        },
        {
          "output_type": "display_data",
          "data": {
            "text/plain": "Epoch 5:   0%|          | 0/18784 [00:00<?, ?it/s]",
            "application/vnd.jupyter.widget-view+json": {
              "version_major": 2,
              "version_minor": 0,
              "model_id": "c63e53ae1a114eba83c64800c6ebbe62"
            }
          },
          "metadata": {}
        },
        {
          "name": "stdout",
          "text": "Train loss: 1.4208291810134361, Train metric: 0.6635948419570923\nTrain loss: 1.415118279128239, Train metric: 0.6699641942977905\nTrain loss: 1.413889131326785, Train metric: 0.6702719330787659\nTrain loss: 1.4178715646266937, Train metric: 0.6650659441947937\nTrain loss: 1.418285743943576, Train metric: 0.6655985713005066\n\nEvaluating...\nVal loss: 1.3915965046201433, Val metric: 0.6920881271362305\nVal loss: 1.4135459576334273, Val metric: 0.6738160252571106\nVal loss: 1.4129255215326946, Val metric: 0.6740061044692993\nVal loss: 1.4103833990437644, Val metric: 0.6758020520210266\nVal loss: 1.4107220649719239, Val metric: 0.6768859028816223\nFilter: [3] dropout rate: 0\n\nstarting Epoch 1\nTraining...\n",
          "output_type": "stream"
        },
        {
          "output_type": "display_data",
          "data": {
            "text/plain": "Epoch 1:   0%|          | 0/18784 [00:00<?, ?it/s]",
            "application/vnd.jupyter.widget-view+json": {
              "version_major": 2,
              "version_minor": 0,
              "model_id": "e2df5fa7da4c4b27bebacc130bcbd470"
            }
          },
          "metadata": {}
        },
        {
          "name": "stdout",
          "text": "Train loss: 1.651249832120435, Train metric: 0.40561166405677795\nTrain loss: 1.6474110648549836, Train metric: 0.40927034616470337\nTrain loss: 1.6460625371713749, Train metric: 0.4086533784866333\nTrain loss: 1.6425845992976222, Train metric: 0.41150549054145813\nTrain loss: 1.642634547989944, Train metric: 0.4105747640132904\n\nEvaluating...\nVal loss: 1.623363665172032, Val metric: 0.42480215430259705\nVal loss: 1.6395829490252904, Val metric: 0.4088577330112457\nVal loss: 1.637145922297523, Val metric: 0.41503965854644775\nVal loss: 1.6367143094539642, Val metric: 0.4140310287475586\nVal loss: 1.6358793905803135, Val metric: 0.4168524742126465\n\nstarting Epoch 2\nTraining...\n",
          "output_type": "stream"
        },
        {
          "output_type": "display_data",
          "data": {
            "text/plain": "Epoch 2:   0%|          | 0/18784 [00:00<?, ?it/s]",
            "application/vnd.jupyter.widget-view+json": {
              "version_major": 2,
              "version_minor": 0,
              "model_id": "968c9d032e6a4e9889812c59a5d3ee4d"
            }
          },
          "metadata": {}
        },
        {
          "name": "stdout",
          "text": "Train loss: 1.6351335459742053, Train metric: 0.40828436613082886\nTrain loss: 1.6344068769750923, Train metric: 0.41519254446029663\nTrain loss: 1.6314694059306178, Train metric: 0.4189941883087158\nTrain loss: 1.6245554377292764, Train metric: 0.43237361311912537\nTrain loss: 1.6011610376423804, Train metric: 0.46761131286621094\n\nEvaluating...\nVal loss: 1.416475738797869, Val metric: 0.6788539290428162\nVal loss: 1.4353566680635725, Val metric: 0.6647706031799316\nVal loss: 1.4358904021126884, Val metric: 0.6646641492843628\nVal loss: 1.4320874767644065, Val metric: 0.6666799783706665\nVal loss: 1.4314625433513097, Val metric: 0.6682807207107544\n\nstarting Epoch 3\nTraining...\n",
          "output_type": "stream"
        },
        {
          "output_type": "display_data",
          "data": {
            "text/plain": "Epoch 3:   0%|          | 0/18784 [00:00<?, ?it/s]",
            "application/vnd.jupyter.widget-view+json": {
              "version_major": 2,
              "version_minor": 0,
              "model_id": "103de9d5938742bfb0efd160f6e0f4a9"
            }
          },
          "metadata": {}
        },
        {
          "name": "stdout",
          "text": "Train loss: 1.4335522076179241, Train metric: 0.6545810103416443\nTrain loss: 1.4270434955070759, Train metric: 0.6623972654342651\nTrain loss: 1.4238030074656696, Train metric: 0.6646140217781067\nTrain loss: 1.423599347986024, Train metric: 0.6638813614845276\nTrain loss: 1.421625170214423, Train metric: 0.665812075138092\n\nEvaluating...\nVal loss: 1.3946694816861833, Val metric: 0.6860877871513367\nVal loss: 1.4152317898614066, Val metric: 0.6684507131576538\nVal loss: 1.4168404340744019, Val metric: 0.6675179600715637\nVal loss: 1.413480384009225, Val metric: 0.6685701608657837\nVal loss: 1.4128202336175102, Val metric: 0.6710258722305298\n\nstarting Epoch 4\nTraining...\n",
          "output_type": "stream"
        },
        {
          "output_type": "display_data",
          "data": {
            "text/plain": "Epoch 4:   0%|          | 0/18784 [00:00<?, ?it/s]",
            "application/vnd.jupyter.widget-view+json": {
              "version_major": 2,
              "version_minor": 0,
              "model_id": "9631c79ed46f482eaf0cc9450d90a6dd"
            }
          },
          "metadata": {}
        },
        {
          "name": "stdout",
          "text": "Train loss: 1.401690022698764, Train metric: 0.6885313987731934\nTrain loss: 1.4057313882071396, Train metric: 0.679373025894165\nTrain loss: 1.4067511243381718, Train metric: 0.677415668964386\nTrain loss: 1.4091932979123345, Train metric: 0.6746487617492676\nTrain loss: 1.4117902722851983, Train metric: 0.6733348965644836\n\nEvaluating...\nVal loss: 1.3940354074750627, Val metric: 0.693000316619873\nVal loss: 1.4136218088013786, Val metric: 0.6749913096427917\nVal loss: 1.4146006447928292, Val metric: 0.6714847683906555\nVal loss: 1.4109418860503606, Val metric: 0.6735780835151672\nVal loss: 1.4106248719351633, Val metric: 0.6752805113792419\n\nstarting Epoch 5\nTraining...\n",
          "output_type": "stream"
        },
        {
          "output_type": "display_data",
          "data": {
            "text/plain": "Epoch 5:   0%|          | 0/18784 [00:00<?, ?it/s]",
            "application/vnd.jupyter.widget-view+json": {
              "version_major": 2,
              "version_minor": 0,
              "model_id": "04027fc10e3e446380ebdb75bccd8713"
            }
          },
          "metadata": {}
        },
        {
          "name": "stdout",
          "text": "Train loss: 1.4189765001165455, Train metric: 0.6650024056434631\nTrain loss: 1.4267121676740975, Train metric: 0.6588708162307739\nTrain loss: 1.419762694972685, Train metric: 0.6659194827079773\nTrain loss: 1.4186408488914883, Train metric: 0.6661568880081177\nTrain loss: 1.4143440295910013, Train metric: 0.6711611747741699\n\nEvaluating...\nVal loss: 1.3862142733165197, Val metric: 0.6965875625610352\nVal loss: 1.408193324293409, Val metric: 0.6779059767723083\nVal loss: 1.4103222744805473, Val metric: 0.6738325357437134\nVal loss: 1.4067571418625968, Val metric: 0.6760045886039734\nVal loss: 1.4073531866073608, Val metric: 0.67693692445755\nFilter: [3] dropout rate: 0.2\n\nstarting Epoch 1\nTraining...\n",
          "output_type": "stream"
        },
        {
          "output_type": "display_data",
          "data": {
            "text/plain": "Epoch 1:   0%|          | 0/18784 [00:00<?, ?it/s]",
            "application/vnd.jupyter.widget-view+json": {
              "version_major": 2,
              "version_minor": 0,
              "model_id": "55a4966d99534bb682dd4c99de7e6a7f"
            }
          },
          "metadata": {}
        },
        {
          "name": "stdout",
          "text": "Train loss: 1.6584291088170018, Train metric: 0.3818611800670624\nTrain loss: 1.651283270326154, Train metric: 0.396963894367218\nTrain loss: 1.646145784991911, Train metric: 0.4056185483932495\nTrain loss: 1.6450931316819684, Train metric: 0.40393775701522827\nTrain loss: 1.6421856263588215, Train metric: 0.4086024761199951\n\nEvaluating...\nVal loss: 1.6222897257123674, Val metric: 0.4272492229938507\nVal loss: 1.6366562843322754, Val metric: 0.41065138578414917\nVal loss: 1.6346306687309629, Val metric: 0.4177934527397156\nVal loss: 1.6341266163757868, Val metric: 0.41669967770576477\nVal loss: 1.633371935571943, Val metric: 0.42016997933387756\n\nstarting Epoch 2\nTraining...\n",
          "output_type": "stream"
        },
        {
          "output_type": "display_data",
          "data": {
            "text/plain": "Epoch 2:   0%|          | 0/18784 [00:00<?, ?it/s]",
            "application/vnd.jupyter.widget-view+json": {
              "version_major": 2,
              "version_minor": 0,
              "model_id": "87e6acc1ad0642538b980aca23cc3c52"
            }
          },
          "metadata": {}
        },
        {
          "name": "stdout",
          "text": "Train loss: 1.6315421400399044, Train metric: 0.41623273491859436\nTrain loss: 1.6310361089377567, Train metric: 0.4196593165397644\nTrain loss: 1.626599947611491, Train metric: 0.4306826591491699\nTrain loss: 1.6192488690902447, Train metric: 0.4424062967300415\nTrain loss: 1.6112557328980543, Train metric: 0.454238623380661\n\nEvaluating...\nVal loss: 1.6697383608136858, Val metric: 0.401859849691391\nVal loss: 1.675566622189113, Val metric: 0.39746907353401184\nVal loss: 1.6795049394880022, Val metric: 0.39437630772590637\nVal loss: 1.6784891741616386, Val metric: 0.3935205638408661\nVal loss: 1.680802685873849, Val metric: 0.3913377821445465\n\nstarting Epoch 3\nTraining...\n",
          "output_type": "stream"
        },
        {
          "output_type": "display_data",
          "data": {
            "text/plain": "Epoch 3:   0%|          | 0/18784 [00:00<?, ?it/s]",
            "application/vnd.jupyter.widget-view+json": {
              "version_major": 2,
              "version_minor": 0,
              "model_id": "52736c62436c4aa1906e3f67746b8ebf"
            }
          },
          "metadata": {}
        },
        {
          "name": "stdout",
          "text": "Train loss: 1.5365610698173786, Train metric: 0.5434076189994812\nTrain loss: 1.5403904976515934, Train metric: 0.5379490256309509\nTrain loss: 1.5313336904021515, Train metric: 0.5479045510292053\nTrain loss: 1.5278199530881027, Train metric: 0.5522681474685669\nTrain loss: 1.524495664136163, Train metric: 0.5564203858375549\n\nEvaluating...\nVal loss: 1.5109714780535017, Val metric: 0.5638590455055237\nVal loss: 1.5288122040884835, Val metric: 0.5491988062858582\nVal loss: 1.5260304836999803, Val metric: 0.5532929301261902\nVal loss: 1.5236924631255013, Val metric: 0.5541056394577026\nVal loss: 1.5245713438306536, Val metric: 0.5544062852859497\n\nstarting Epoch 4\nTraining...\n",
          "output_type": "stream"
        },
        {
          "output_type": "display_data",
          "data": {
            "text/plain": "Epoch 4:   0%|          | 0/18784 [00:00<?, ?it/s]",
            "application/vnd.jupyter.widget-view+json": {
              "version_major": 2,
              "version_minor": 0,
              "model_id": "d2b853d512d141af92e189557d684c30"
            }
          },
          "metadata": {}
        },
        {
          "name": "stdout",
          "text": "Train loss: 1.517120283225487, Train metric: 0.562597930431366\nTrain loss: 1.5422605646067653, Train metric: 0.5352309942245483\nTrain loss: 1.5348451192351593, Train metric: 0.5431413650512695\nTrain loss: 1.53777872899483, Train metric: 0.5382412075996399\nTrain loss: 1.5343642506106145, Train metric: 0.5429137945175171\n\nEvaluating...\nVal loss: 1.491994857788086, Val metric: 0.584086000919342\nVal loss: 1.5058574080467224, Val metric: 0.5738024711608887\nVal loss: 1.5061448982783727, Val metric: 0.5743883848190308\nVal loss: 1.5062010841710227, Val metric: 0.5734733939170837\nVal loss: 1.5069301434925624, Val metric: 0.5736494064331055\n\nstarting Epoch 5\nTraining...\n",
          "output_type": "stream"
        },
        {
          "output_type": "display_data",
          "data": {
            "text/plain": "Epoch 5:   0%|          | 0/18784 [00:00<?, ?it/s]",
            "application/vnd.jupyter.widget-view+json": {
              "version_major": 2,
              "version_minor": 0,
              "model_id": "a2ea2bd97acb411b894330102d217a21"
            }
          },
          "metadata": {}
        },
        {
          "name": "stdout",
          "text": "Train loss: 1.708066804655667, Train metric: 0.3421291708946228\nTrain loss: 1.695334625655207, Train metric: 0.35896986722946167\nTrain loss: 1.6488222747013486, Train metric: 0.42174243927001953\nTrain loss: 1.6171413660049438, Train metric: 0.456482470035553\nTrain loss: 1.5959230439416294, Train metric: 0.47782033681869507\n\nEvaluating...\nVal loss: 1.5164011887141637, Val metric: 0.5642298460006714\nVal loss: 1.5289642385074071, Val metric: 0.5556668043136597\nVal loss: 1.5275079579580397, Val metric: 0.5563753247261047\nVal loss: 1.525532909802028, Val metric: 0.5578322410583496\nVal loss: 1.5255605288914271, Val metric: 0.5587760806083679\nFilter: [3] dropout rate: 0.5\n\nstarting Epoch 1\nTraining...\n",
          "output_type": "stream"
        },
        {
          "output_type": "display_data",
          "data": {
            "text/plain": "Epoch 1:   0%|          | 0/18784 [00:00<?, ?it/s]",
            "application/vnd.jupyter.widget-view+json": {
              "version_major": 2,
              "version_minor": 0,
              "model_id": "cc25fc911f6e4006a9c63416e82b5036"
            }
          },
          "metadata": {}
        },
        {
          "name": "stdout",
          "text": "Train loss: 1.65430420842664, Train metric: 0.4010453522205353\nTrain loss: 1.6480165370579423, Train metric: 0.40722718834877014\nTrain loss: 1.6456476491073082, Train metric: 0.4098142981529236\nTrain loss: 1.6429523332365628, Train metric: 0.41364842653274536\nTrain loss: 1.6434767057155741, Train metric: 0.41135749220848083\n\nEvaluating...\nVal loss: 1.6255350794110979, Val metric: 0.42480215430259705\nVal loss: 1.6409211584499903, Val metric: 0.4088577330112457\nVal loss: 1.6390415259769984, Val metric: 0.41503965854644775\nVal loss: 1.6384509759289878, Val metric: 0.4140310287475586\nVal loss: 1.6379034655434745, Val metric: 0.4168524742126465\n\nstarting Epoch 2\nTraining...\n",
          "output_type": "stream"
        },
        {
          "output_type": "display_data",
          "data": {
            "text/plain": "Epoch 2:   0%|          | 0/18784 [00:00<?, ?it/s]",
            "application/vnd.jupyter.widget-view+json": {
              "version_major": 2,
              "version_minor": 0,
              "model_id": "50b3ca89a84f445da679360a7b45b206"
            }
          },
          "metadata": {}
        },
        {
          "name": "stdout",
          "text": "Train loss: 1.6384592179594368, Train metric: 0.41926848888397217\nTrain loss: 1.6331874276029652, Train metric: 0.42775967717170715\nTrain loss: 1.6371252509369247, Train metric: 0.42066752910614014\nTrain loss: 1.6349944040693085, Train metric: 0.42124420404434204\nTrain loss: 1.6300649585395024, Train metric: 0.43206217885017395\n\nEvaluating...\nVal loss: 1.5907728501728602, Val metric: 0.4957124590873718\nVal loss: 1.6067859785897392, Val metric: 0.4775356650352478\nVal loss: 1.6047470966974895, Val metric: 0.48287233710289\nVal loss: 1.60323509148189, Val metric: 0.4819926619529724\nVal loss: 1.6028698750904629, Val metric: 0.48342180252075195\n\nstarting Epoch 3\nTraining...\n",
          "output_type": "stream"
        },
        {
          "output_type": "display_data",
          "data": {
            "text/plain": "Epoch 3:   0%|          | 0/18784 [00:00<?, ?it/s]",
            "application/vnd.jupyter.widget-view+json": {
              "version_major": 2,
              "version_minor": 0,
              "model_id": "ac70f13a09004296ad4a2a155820dc8f"
            }
          },
          "metadata": {}
        },
        {
          "name": "stdout",
          "text": "Train loss: 1.5519328528437122, Train metric: 0.5706323981285095\nTrain loss: 1.505216160724903, Train metric: 0.6084178686141968\nTrain loss: 1.4815414842517896, Train metric: 0.625386118888855\nTrain loss: 1.466718167066574, Train metric: 0.6354082822799683\nTrain loss: 1.461264917768281, Train metric: 0.6380760073661804\n\nEvaluating...\nVal loss: 1.4198592730930872, Val metric: 0.6574733853340149\nVal loss: 1.4375897135053362, Val metric: 0.6445360779762268\nVal loss: 1.4347339868545532, Val metric: 0.6492332220077515\nVal loss: 1.4311909973621368, Val metric: 0.6502861380577087\nVal loss: 1.4287763493401664, Val metric: 0.6554036736488342\n\nstarting Epoch 4\nTraining...\n",
          "output_type": "stream"
        },
        {
          "output_type": "display_data",
          "data": {
            "text/plain": "Epoch 4:   0%|          | 0/18784 [00:00<?, ?it/s]",
            "application/vnd.jupyter.widget-view+json": {
              "version_major": 2,
              "version_minor": 0,
              "model_id": "0f8a4fda405f46afbb91f60a871f0c8e"
            }
          },
          "metadata": {}
        },
        {
          "name": "stdout",
          "text": "Train loss: 1.4296654873880847, Train metric: 0.6481143832206726\nTrain loss: 1.4331378566807713, Train metric: 0.645112156867981\nTrain loss: 1.4361988251236664, Train metric: 0.6431823372840881\nTrain loss: 1.4311520169521201, Train metric: 0.6499742269515991\nTrain loss: 1.4283845564414714, Train metric: 0.6536152362823486\n\nEvaluating...\nVal loss: 1.3959507090704781, Val metric: 0.6884423494338989\nVal loss: 1.4168008395603724, Val metric: 0.6726175546646118\nVal loss: 1.417192016329084, Val metric: 0.67109614610672\nVal loss: 1.4140707084110804, Val metric: 0.6712414026260376\nVal loss: 1.4140023572104319, Val metric: 0.6731886863708496\n\nstarting Epoch 5\nTraining...\n",
          "output_type": "stream"
        },
        {
          "output_type": "display_data",
          "data": {
            "text/plain": "Epoch 5:   0%|          | 0/18784 [00:00<?, ?it/s]",
            "application/vnd.jupyter.widget-view+json": {
              "version_major": 2,
              "version_minor": 0,
              "model_id": "25840d006f084f71801f0e278e4e51b1"
            }
          },
          "metadata": {}
        },
        {
          "name": "stdout",
          "text": "Train loss: 1.4166249365642154, Train metric: 0.6660107374191284\nTrain loss: 1.4216385894808277, Train metric: 0.6621829867362976\nTrain loss: 1.416071525935469, Train metric: 0.6684876084327698\nTrain loss: 1.4146812311534225, Train metric: 0.6701339483261108\nTrain loss: 1.4134725677556006, Train metric: 0.6715332269668579\n\nEvaluating...\nVal loss: 1.4051741191319056, Val metric: 0.6752546429634094\nVal loss: 1.4291640264647347, Val metric: 0.656270444393158\nVal loss: 1.4273277067002796, Val metric: 0.6591368317604065\nVal loss: 1.4242591432162695, Val metric: 0.6608105301856995\nVal loss: 1.4246587003980364, Val metric: 0.6614816784858704\nFilter: [4] dropout rate: 0\n\nstarting Epoch 1\nTraining...\n",
          "output_type": "stream"
        },
        {
          "output_type": "display_data",
          "data": {
            "text/plain": "Epoch 1:   0%|          | 0/18784 [00:00<?, ?it/s]",
            "application/vnd.jupyter.widget-view+json": {
              "version_major": 2,
              "version_minor": 0,
              "model_id": "4ae19b4fcd3c4a8c821739f4d53f6c95"
            }
          },
          "metadata": {}
        },
        {
          "name": "stdout",
          "text": "Train loss: 1.657824446415079, Train metric: 0.38479411602020264\nTrain loss: 1.648967459284026, Train metric: 0.39795997738838196\nTrain loss: 1.6472648258866935, Train metric: 0.402123361825943\nTrain loss: 1.6446942245138103, Train metric: 0.4044822156429291\nTrain loss: 1.6421727361350225, Train metric: 0.4094041883945465\n\nEvaluating...\nVal loss: 1.6186974048614502, Val metric: 0.4250257611274719\nVal loss: 1.6326464329447066, Val metric: 0.4150577187538147\nVal loss: 1.6314924444471086, Val metric: 0.41950711607933044\nVal loss: 1.6308069016252245, Val metric: 0.41971513628959656\nVal loss: 1.6298647369657244, Val metric: 0.4237160384654999\n\nstarting Epoch 2\nTraining...\n",
          "output_type": "stream"
        },
        {
          "output_type": "display_data",
          "data": {
            "text/plain": "Epoch 2:   0%|          | 0/18784 [00:00<?, ?it/s]",
            "application/vnd.jupyter.widget-view+json": {
              "version_major": 2,
              "version_minor": 0,
              "model_id": "116b13a42c49492898666f51715eb51b"
            }
          },
          "metadata": {}
        },
        {
          "name": "stdout",
          "text": "Train loss: 1.6291521088830356, Train metric: 0.42900267243385315\nTrain loss: 1.6301006900853123, Train metric: 0.42731180787086487\nTrain loss: 1.6337581270042507, Train metric: 0.4216766059398651\nTrain loss: 1.6314657741579517, Train metric: 0.42178091406822205\nTrain loss: 1.618406340171551, Train metric: 0.44636839628219604\n\nEvaluating...\nVal loss: 1.5292633771896362, Val metric: 0.577306866645813\nVal loss: 1.5424743294715881, Val metric: 0.5614663362503052\nVal loss: 1.5419243006479173, Val metric: 0.5584330558776855\nVal loss: 1.5391680938856942, Val metric: 0.5605710744857788\nVal loss: 1.5394239970615933, Val metric: 0.5607050061225891\n\nstarting Epoch 3\nTraining...\n",
          "output_type": "stream"
        },
        {
          "output_type": "display_data",
          "data": {
            "text/plain": "Epoch 3:   0%|          | 0/18784 [00:00<?, ?it/s]",
            "application/vnd.jupyter.widget-view+json": {
              "version_major": 2,
              "version_minor": 0,
              "model_id": "d71ffcd5f87148938f5186b2bd029f82"
            }
          },
          "metadata": {}
        },
        {
          "name": "stdout",
          "text": "Train loss: 1.4483428782430188, Train metric: 0.6526815295219421\nTrain loss: 1.4346636759823765, Train metric: 0.6646222472190857\nTrain loss: 1.428894214246465, Train metric: 0.6679258942604065\nTrain loss: 1.4267680367519116, Train metric: 0.6668491959571838\nTrain loss: 1.4239030032322324, Train metric: 0.6685701608657837\n\nEvaluating...\nVal loss: 1.4017675604139055, Val metric: 0.6777061820030212\nVal loss: 1.4236228976930891, Val metric: 0.6581088304519653\nVal loss: 1.4234837123325892, Val metric: 0.6598272919654846\nVal loss: 1.4195881060191564, Val metric: 0.6630728840827942\nVal loss: 1.4189517327717371, Val metric: 0.6656367182731628\n\nstarting Epoch 4\nTraining...\n",
          "output_type": "stream"
        },
        {
          "output_type": "display_data",
          "data": {
            "text/plain": "Epoch 4:   0%|          | 0/18784 [00:00<?, ?it/s]",
            "application/vnd.jupyter.widget-view+json": {
              "version_major": 2,
              "version_minor": 0,
              "model_id": "ff4ee970eb494fc79f01fccf43070dbb"
            }
          },
          "metadata": {}
        },
        {
          "name": "stdout",
          "text": "Train loss: 1.423821079319921, Train metric: 0.6620546579360962\nTrain loss: 1.4172962061290084, Train metric: 0.668545126914978\nTrain loss: 1.4132048234172252, Train metric: 0.6734386086463928\nTrain loss: 1.4170646400287235, Train metric: 0.6667022705078125\nTrain loss: 1.4166331842027862, Train metric: 0.6678983569145203\n\nEvaluating...\nVal loss: 1.404442616871425, Val metric: 0.6778804659843445\nVal loss: 1.423206124986921, Val metric: 0.6613994240760803\nVal loss: 1.4244034233547391, Val metric: 0.6592370271682739\nVal loss: 1.4204729880605425, Val metric: 0.660211980342865\nVal loss: 1.4197188888277326, Val metric: 0.662877082824707\n\nstarting Epoch 5\nTraining...\n",
          "output_type": "stream"
        },
        {
          "output_type": "display_data",
          "data": {
            "text/plain": "Epoch 5:   0%|          | 0/18784 [00:00<?, ?it/s]",
            "application/vnd.jupyter.widget-view+json": {
              "version_major": 2,
              "version_minor": 0,
              "model_id": "8d0ac3c5f3c84c06939f4d3d881d7d6b"
            }
          },
          "metadata": {}
        },
        {
          "name": "stdout",
          "text": "Train loss: 1.4276701828529095, Train metric: 0.6580331325531006\nTrain loss: 1.4327348676221123, Train metric: 0.6532503962516785\nTrain loss: 1.424535601988606, Train metric: 0.6611148715019226\nTrain loss: 1.4238473495532726, Train metric: 0.6618936657905579\nTrain loss: 1.4187590525068086, Train metric: 0.6660718321800232\n\nEvaluating...\nVal loss: 1.3927751438958305, Val metric: 0.6931110620498657\nVal loss: 1.4116289700780595, Val metric: 0.6773291826248169\nVal loss: 1.4118219386963617, Val metric: 0.6738826036453247\nVal loss: 1.4086300602981023, Val metric: 0.6751540303230286\nVal loss: 1.4090871265956333, Val metric: 0.6765180826187134\nFilter: [4] dropout rate: 0.2\n\nstarting Epoch 1\nTraining...\n",
          "output_type": "stream"
        },
        {
          "output_type": "display_data",
          "data": {
            "text/plain": "Epoch 1:   0%|          | 0/18784 [00:00<?, ?it/s]",
            "application/vnd.jupyter.widget-view+json": {
              "version_major": 2,
              "version_minor": 0,
              "model_id": "dc93ee2cf1b14219bcf7634adb3d7a72"
            }
          },
          "metadata": {}
        },
        {
          "name": "stdout",
          "text": "Train loss: 1.6570471155232396, Train metric: 0.40523743629455566\nTrain loss: 1.6486656336948788, Train metric: 0.4091940224170685\nTrain loss: 1.6447045830474503, Train metric: 0.4106244444847107\nTrain loss: 1.6439661948845303, Train metric: 0.4111291766166687\nTrain loss: 1.6429357339595927, Train metric: 0.41153526306152344\n\nEvaluating...\nVal loss: 1.6223724739892142, Val metric: 0.4271569550037384\nVal loss: 1.6375936780657088, Val metric: 0.41061586141586304\nVal loss: 1.6354503801890783, Val metric: 0.4169890880584717\nVal loss: 1.6351330918925149, Val metric: 0.4154931604862213\nVal loss: 1.6342978818075997, Val metric: 0.4189929664134979\n\nstarting Epoch 2\nTraining...\n",
          "output_type": "stream"
        },
        {
          "output_type": "display_data",
          "data": {
            "text/plain": "Epoch 2:   0%|          | 0/18784 [00:00<?, ?it/s]",
            "application/vnd.jupyter.widget-view+json": {
              "version_major": 2,
              "version_minor": 0,
              "model_id": "695bb3eb9d394e68aba6f05fce6b38f2"
            }
          },
          "metadata": {}
        },
        {
          "name": "stdout",
          "text": "Train loss: 1.6314344570554535, Train metric: 0.43169689178466797\nTrain loss: 1.6338781180052921, Train metric: 0.42315900325775146\nTrain loss: 1.6265885857329971, Train metric: 0.4299562871456146\nTrain loss: 1.603282289258365, Train metric: 0.47710078954696655\nTrain loss: 1.5727259915450524, Train metric: 0.5125831365585327\n\nEvaluating...\nVal loss: 1.4036612510681152, Val metric: 0.6919367909431458\nVal loss: 1.4259459035737174, Val metric: 0.6756559014320374\nVal loss: 1.4263586770920527, Val metric: 0.6731806993484497\nVal loss: 1.4239357667309898, Val metric: 0.6731075048446655\nVal loss: 1.4244881664003646, Val metric: 0.6737271547317505\n\nstarting Epoch 3\nTraining...\n",
          "output_type": "stream"
        },
        {
          "output_type": "display_data",
          "data": {
            "text/plain": "Epoch 3:   0%|          | 0/18784 [00:00<?, ?it/s]",
            "application/vnd.jupyter.widget-view+json": {
              "version_major": 2,
              "version_minor": 0,
              "model_id": "92ec63ee550a46508f64629885a51b42"
            }
          },
          "metadata": {}
        },
        {
          "name": "stdout",
          "text": "Train loss: 1.4118546658548816, Train metric: 0.6786226034164429\nTrain loss: 1.4099468218869176, Train metric: 0.6820887923240662\nTrain loss: 1.4200664457233472, Train metric: 0.6681190729141235\nTrain loss: 1.4172714517034333, Train metric: 0.6711256504058838\nTrain loss: 1.4172257374072896, Train metric: 0.6709902882575989\n\nEvaluating...\nVal loss: 1.3937745945794242, Val metric: 0.6930148005485535\nVal loss: 1.4135488527161735, Val metric: 0.6755337715148926\nVal loss: 1.4147233849480039, Val metric: 0.672677755355835\nVal loss: 1.4112113543919154, Val metric: 0.6741775274276733\nVal loss: 1.4113534586770193, Val metric: 0.6759983897209167\n\nstarting Epoch 4\nTraining...\n",
          "output_type": "stream"
        },
        {
          "output_type": "display_data",
          "data": {
            "text/plain": "Epoch 4:   0%|          | 0/18784 [00:00<?, ?it/s]",
            "application/vnd.jupyter.widget-view+json": {
              "version_major": 2,
              "version_minor": 0,
              "model_id": "e3e8adb980b94b0a9c6ba0603ecb0dee"
            }
          },
          "metadata": {}
        },
        {
          "name": "stdout",
          "text": "Train loss: 1.4116004458789169, Train metric: 0.6745041608810425\nTrain loss: 1.411419821196589, Train metric: 0.6750076413154602\nTrain loss: 1.413391532569096, Train metric: 0.6748625040054321\nTrain loss: 1.4150268939034691, Train metric: 0.672265350818634\nTrain loss: 1.4142763622875871, Train metric: 0.6728839874267578\n\nEvaluating...\nVal loss: 1.398044262613569, Val metric: 0.6802095770835876\nVal loss: 1.4182837350027901, Val metric: 0.6666186451911926\nVal loss: 1.4190813302993774, Val metric: 0.6655805706977844\nVal loss: 1.4156043529510498, Val metric: 0.667351245880127\nVal loss: 1.4149038621357508, Val metric: 0.6705160140991211\n\nstarting Epoch 5\nTraining...\n",
          "output_type": "stream"
        },
        {
          "output_type": "display_data",
          "data": {
            "text/plain": "Epoch 5:   0%|          | 0/18784 [00:00<?, ?it/s]",
            "application/vnd.jupyter.widget-view+json": {
              "version_major": 2,
              "version_minor": 0,
              "model_id": "5b4b29d505034736a28abd80ba3456e9"
            }
          },
          "metadata": {}
        },
        {
          "name": "stdout",
          "text": "Train loss: 1.4095201245669662, Train metric: 0.6724684238433838\nTrain loss: 1.4072404935442169, Train metric: 0.680153489112854\nTrain loss: 1.4044024629154424, Train metric: 0.6825388669967651\nTrain loss: 1.4104778119202317, Train metric: 0.6764724254608154\nTrain loss: 1.4107465661805252, Train metric: 0.6748698353767395\n\nEvaluating...\nVal loss: 1.3954169239316667, Val metric: 0.6894884705543518\nVal loss: 1.4126005598476954, Val metric: 0.6743215322494507\nVal loss: 1.411828949337914, Val metric: 0.6746659278869629\nVal loss: 1.408218217747552, Val metric: 0.6766002774238586\nVal loss: 1.4078458513532366, Val metric: 0.6784148216247559\nFilter: [4] dropout rate: 0.5\n\nstarting Epoch 1\nTraining...\n",
          "output_type": "stream"
        },
        {
          "output_type": "display_data",
          "data": {
            "text/plain": "Epoch 1:   0%|          | 0/18784 [00:00<?, ?it/s]",
            "application/vnd.jupyter.widget-view+json": {
              "version_major": 2,
              "version_minor": 0,
              "model_id": "cdc7fd9a55d24c0ba515701bd3f042ed"
            }
          },
          "metadata": {}
        },
        {
          "name": "stdout",
          "text": "Train loss: 1.6474977115104938, Train metric: 0.41465723514556885\nTrain loss: 1.6465263387252544, Train metric: 0.41277816891670227\nTrain loss: 1.6420670679245872, Train metric: 0.4162771701812744\nTrain loss: 1.6421330828091194, Train metric: 0.4152613580226898\nTrain loss: 1.6432796050762308, Train metric: 0.41181913018226624\n\nEvaluating...\nVal loss: 1.6253245728356498, Val metric: 0.42480215430259705\nVal loss: 1.64067884853908, Val metric: 0.4088577330112457\nVal loss: 1.6382809423265003, Val metric: 0.41503965854644775\nVal loss: 1.6379181231771196, Val metric: 0.4140310287475586\nVal loss: 1.6369770935603551, Val metric: 0.4168524742126465\n\nstarting Epoch 2\nTraining...\n",
          "output_type": "stream"
        },
        {
          "output_type": "display_data",
          "data": {
            "text/plain": "Epoch 2:   0%|          | 0/18784 [00:00<?, ?it/s]",
            "application/vnd.jupyter.widget-view+json": {
              "version_major": 2,
              "version_minor": 0,
              "model_id": "16204ea1f8624067a39d9aaf2ea555d8"
            }
          },
          "metadata": {}
        },
        {
          "name": "stdout",
          "text": "Train loss: 1.6394466655007724, Train metric: 0.4103586673736572\nTrain loss: 1.6394427418708801, Train metric: 0.41270554065704346\nTrain loss: 1.640470900754819, Train metric: 0.4116706848144531\nTrain loss: 1.6378535803022056, Train metric: 0.41426974534988403\nTrain loss: 1.6344200915303724, Train metric: 0.4191417694091797\n\nEvaluating...\nVal loss: 1.5715888568333216, Val metric: 0.49471515417099\nVal loss: 1.5868259498051234, Val metric: 0.4777635633945465\nVal loss: 1.5847452311288743, Val metric: 0.483438640832901\nVal loss: 1.5836030159677779, Val metric: 0.4850797653198242\nVal loss: 1.5834886857441492, Val metric: 0.4875607192516327\n\nstarting Epoch 3\nTraining...\n",
          "output_type": "stream"
        },
        {
          "output_type": "display_data",
          "data": {
            "text/plain": "Epoch 3:   0%|          | 0/18784 [00:00<?, ?it/s]",
            "application/vnd.jupyter.widget-view+json": {
              "version_major": 2,
              "version_minor": 0,
              "model_id": "a897a8d25fc0487a9eb1700cf752cc14"
            }
          },
          "metadata": {}
        },
        {
          "name": "stdout",
          "text": "Train loss: 1.5423447880251655, Train metric: 0.5972731113433838\nTrain loss: 1.5018266048924676, Train metric: 0.6259652972221375\nTrain loss: 1.47534088019667, Train metric: 0.6412419080734253\nTrain loss: 1.4631104469299316, Train metric: 0.6468098759651184\nTrain loss: 1.4505002145109505, Train metric: 0.6551326513290405\n\nEvaluating...\nVal loss: 1.394176755632673, Val metric: 0.690934956073761\nVal loss: 1.413983336516789, Val metric: 0.677472710609436\nVal loss: 1.4145195427395048, Val metric: 0.6748032569885254\nVal loss: 1.4118536923612868, Val metric: 0.6755216717720032\nVal loss: 1.4120203699384417, Val metric: 0.6771082282066345\n\nstarting Epoch 4\nTraining...\n",
          "output_type": "stream"
        },
        {
          "output_type": "display_data",
          "data": {
            "text/plain": "Epoch 4:   0%|          | 0/18784 [00:00<?, ?it/s]",
            "application/vnd.jupyter.widget-view+json": {
              "version_major": 2,
              "version_minor": 0,
              "model_id": "e8ee856049064d80bd7ff01ba1a51d26"
            }
          },
          "metadata": {}
        },
        {
          "name": "stdout",
          "text": "Train loss: 1.424491993312178, Train metric: 0.664750337600708\nTrain loss: 1.4197050846856216, Train metric: 0.667026162147522\nTrain loss: 1.4162169681198296, Train metric: 0.6702612638473511\nTrain loss: 1.414357251134412, Train metric: 0.6705995798110962\nTrain loss: 1.411133519534407, Train metric: 0.6741015315055847\n\nEvaluating...\nVal loss: 1.3960081509181432, Val metric: 0.6871823668479919\nVal loss: 1.4163053291184562, Val metric: 0.6720033288002014\nVal loss: 1.4150161743164062, Val metric: 0.6731314659118652\nVal loss: 1.4122852001871382, Val metric: 0.6733845472335815\nVal loss: 1.412313049180167, Val metric: 0.6748788952827454\n\nstarting Epoch 5\nTraining...\n",
          "output_type": "stream"
        },
        {
          "output_type": "display_data",
          "data": {
            "text/plain": "Epoch 5:   0%|          | 0/18784 [00:00<?, ?it/s]",
            "application/vnd.jupyter.widget-view+json": {
              "version_major": 2,
              "version_minor": 0,
              "model_id": "114c834374714023a9e920c5ef0b9c77"
            }
          },
          "metadata": {}
        },
        {
          "name": "stdout",
          "text": "Train loss: 1.4133762737800335, Train metric: 0.6714547872543335\nTrain loss: 1.4172289330383827, Train metric: 0.6660141348838806\nTrain loss: 1.4179550135272674, Train metric: 0.664868950843811\nTrain loss: 1.4150491634319569, Train metric: 0.6693362593650818\nTrain loss: 1.4153965021001882, Train metric: 0.668232798576355\n\nEvaluating...\nVal loss: 1.3985773154667445, Val metric: 0.6695356369018555\nVal loss: 1.416197725704738, Val metric: 0.657128632068634\nVal loss: 1.4161568198885237, Val metric: 0.6584507822990417\nVal loss: 1.4118678612368447, Val metric: 0.6630831956863403\nVal loss: 1.4117637259619578, Val metric: 0.6637626886367798\nFilter: [2, 3] dropout rate: 0\n\nstarting Epoch 1\nTraining...\n",
          "output_type": "stream"
        },
        {
          "output_type": "display_data",
          "data": {
            "text/plain": "Epoch 1:   0%|          | 0/18784 [00:00<?, ?it/s]",
            "application/vnd.jupyter.widget-view+json": {
              "version_major": 2,
              "version_minor": 0,
              "model_id": "3b57b7f95dde4dfeab9dba43902e2d4b"
            }
          },
          "metadata": {}
        },
        {
          "name": "stdout",
          "text": "Train loss: 1.653009583210123, Train metric: 0.40415728092193604\nTrain loss: 1.6472341623799553, Train metric: 0.40933823585510254\nTrain loss: 1.6466178962554054, Train metric: 0.40649592876434326\nTrain loss: 1.643381818615157, Train metric: 0.4110313951969147\nTrain loss: 1.6424683365328558, Train metric: 0.4103199541568756\n\nEvaluating...\nVal loss: 1.623047845704215, Val metric: 0.42599552869796753\nVal loss: 1.6375005074909754, Val metric: 0.4094544053077698\nVal loss: 1.6359616234188987, Val metric: 0.41621479392051697\nVal loss: 1.6355231957776206, Val metric: 0.4149147868156433\nVal loss: 1.6351439680371966, Val metric: 0.4180520474910736\n\nstarting Epoch 2\nTraining...\n",
          "output_type": "stream"
        },
        {
          "output_type": "display_data",
          "data": {
            "text/plain": "Epoch 2:   0%|          | 0/18784 [00:00<?, ?it/s]",
            "application/vnd.jupyter.widget-view+json": {
              "version_major": 2,
              "version_minor": 0,
              "model_id": "b7a9cf252bfd419d8518b8d623660a9b"
            }
          },
          "metadata": {}
        },
        {
          "name": "stdout",
          "text": "Train loss: 1.6375925335390815, Train metric: 0.41493743658065796\nTrain loss: 1.6337462314243973, Train metric: 0.42094162106513977\nTrain loss: 1.6277730944512905, Train metric: 0.42504826188087463\nTrain loss: 1.6108819194908799, Train metric: 0.45932063460350037\nTrain loss: 1.582607525792615, Train metric: 0.4958648681640625\n\nEvaluating...\nVal loss: 1.4582315342766898, Val metric: 0.6199253797531128\nVal loss: 1.4791979789733887, Val metric: 0.5997901558876038\nVal loss: 1.4790952375956945, Val metric: 0.6004458665847778\nVal loss: 1.4763623007706232, Val metric: 0.6019507050514221\nVal loss: 1.474685423714774, Val metric: 0.6048458218574524\n\nstarting Epoch 3\nTraining...\n",
          "output_type": "stream"
        },
        {
          "output_type": "display_data",
          "data": {
            "text/plain": "Epoch 3:   0%|          | 0/18784 [00:00<?, ?it/s]",
            "application/vnd.jupyter.widget-view+json": {
              "version_major": 2,
              "version_minor": 0,
              "model_id": "74ae4eb76cac49ac82b076ec516cc037"
            }
          },
          "metadata": {}
        },
        {
          "name": "stdout",
          "text": "Train loss: 1.4285526275634766, Train metric: 0.659172773361206\nTrain loss: 1.4282774863571956, Train metric: 0.6626580953598022\nTrain loss: 1.420537717040928, Train metric: 0.667885959148407\nTrain loss: 1.4201843543299313, Train metric: 0.6669970154762268\nTrain loss: 1.4205462348872218, Train metric: 0.6665152907371521\n\nEvaluating...\nVal loss: 1.3923815318516322, Val metric: 0.689585268497467\nVal loss: 1.4113673908369881, Val metric: 0.6767927408218384\nVal loss: 1.412390078817095, Val metric: 0.6742699146270752\nVal loss: 1.4096531867980957, Val metric: 0.6756966710090637\nVal loss: 1.4098068237304688, Val metric: 0.6769307851791382\n\nstarting Epoch 4\nTraining...\n",
          "output_type": "stream"
        },
        {
          "output_type": "display_data",
          "data": {
            "text/plain": "Epoch 4:   0%|          | 0/18784 [00:00<?, ?it/s]",
            "application/vnd.jupyter.widget-view+json": {
              "version_major": 2,
              "version_minor": 0,
              "model_id": "85c8de8df68e4bf69cccc1146be0a219"
            }
          },
          "metadata": {}
        },
        {
          "name": "stdout",
          "text": "Train loss: 1.4127476626429065, Train metric: 0.6729931831359863\nTrain loss: 1.4080313382477596, Train metric: 0.6784554123878479\nTrain loss: 1.4076555665882153, Train metric: 0.678561270236969\nTrain loss: 1.4098216624095523, Train metric: 0.674719512462616\nTrain loss: 1.4174364163957793, Train metric: 0.6676393747329712\n\nEvaluating...\nVal loss: 1.386569789477757, Val metric: 0.6991714239120483\nVal loss: 1.4087674021720886, Val metric: 0.6810683012008667\nVal loss: 1.4101570390519642, Val metric: 0.6783550977706909\nVal loss: 1.4077627786568232, Val metric: 0.6787408590316772\nVal loss: 1.4079712356839862, Val metric: 0.6800877451896667\n\nstarting Epoch 5\nTraining...\n",
          "output_type": "stream"
        },
        {
          "output_type": "display_data",
          "data": {
            "text/plain": "Epoch 5:   0%|          | 0/18784 [00:00<?, ?it/s]",
            "application/vnd.jupyter.widget-view+json": {
              "version_major": 2,
              "version_minor": 0,
              "model_id": "25b1185489d549b98789a0ee8d4c2b1b"
            }
          },
          "metadata": {}
        },
        {
          "name": "stdout",
          "text": "Train loss: 1.4126826689161103, Train metric: 0.6727064847946167\nTrain loss: 1.4166615153181141, Train metric: 0.6659285426139832\nTrain loss: 1.4162855655297466, Train metric: 0.6668732762336731\nTrain loss: 1.4170342622132137, Train metric: 0.6668523550033569\nTrain loss: 1.4202753609624403, Train metric: 0.6626927852630615\n\nEvaluating...\nVal loss: 1.4152542182377406, Val metric: 0.6588387489318848\nVal loss: 1.4344248686517989, Val metric: 0.6439358592033386\nVal loss: 1.4308716683160692, Val metric: 0.650134801864624\nVal loss: 1.4284045483384813, Val metric: 0.6494632959365845\nVal loss: 1.427683789389474, Val metric: 0.6530492305755615\nFilter: [2, 3] dropout rate: 0.2\n\nstarting Epoch 1\nTraining...\n",
          "output_type": "stream"
        },
        {
          "output_type": "display_data",
          "data": {
            "text/plain": "Epoch 1:   0%|          | 0/18784 [00:00<?, ?it/s]",
            "application/vnd.jupyter.widget-view+json": {
              "version_major": 2,
              "version_minor": 0,
              "model_id": "bec51149cefb4b8bac8731a48ee791ac"
            }
          },
          "metadata": {}
        },
        {
          "name": "stdout",
          "text": "Train loss: 1.656570397574326, Train metric: 0.38318532705307007\nTrain loss: 1.6519397291643867, Train metric: 0.38979318737983704\nTrain loss: 1.6431180252425972, Train metric: 0.40513554215431213\nTrain loss: 1.6437538687525124, Train metric: 0.4047645330429077\nTrain loss: 1.6428981731677879, Train metric: 0.40698662400245667\n\nEvaluating...\nVal loss: 1.6254781144005912, Val metric: 0.42480215430259705\nVal loss: 1.6400716304779053, Val metric: 0.4088577330112457\nVal loss: 1.6374784991854714, Val metric: 0.41503965854644775\nVal loss: 1.6372341130461012, Val metric: 0.4140310287475586\nVal loss: 1.6361105714525495, Val metric: 0.4168524742126465\n\nstarting Epoch 2\nTraining...\n",
          "output_type": "stream"
        },
        {
          "output_type": "display_data",
          "data": {
            "text/plain": "Epoch 2:   0%|          | 0/18784 [00:00<?, ?it/s]",
            "application/vnd.jupyter.widget-view+json": {
              "version_major": 2,
              "version_minor": 0,
              "model_id": "e017f82cbf4f456bb11771ee2d30a208"
            }
          },
          "metadata": {}
        },
        {
          "name": "stdout",
          "text": "Train loss: 1.6367599142008815, Train metric: 0.4188111126422882\nTrain loss: 1.6350707802279243, Train metric: 0.4193238317966461\nTrain loss: 1.632249467674343, Train metric: 0.4190921187400818\nTrain loss: 1.6197895900956516, Train metric: 0.44875597953796387\nTrain loss: 1.5958710415609951, Train metric: 0.48726174235343933\n\nEvaluating...\nVal loss: 1.4368019444601876, Val metric: 0.6765111684799194\nVal loss: 1.4537432960101537, Val metric: 0.663178026676178\nVal loss: 1.453306516011556, Val metric: 0.662800669670105\nVal loss: 1.4495421350002289, Val metric: 0.6649550199508667\nVal loss: 1.448621187891279, Val metric: 0.6664251089096069\n\nstarting Epoch 3\nTraining...\n",
          "output_type": "stream"
        },
        {
          "output_type": "display_data",
          "data": {
            "text/plain": "Epoch 3:   0%|          | 0/18784 [00:00<?, ?it/s]",
            "application/vnd.jupyter.widget-view+json": {
              "version_major": 2,
              "version_minor": 0,
              "model_id": "4a51877519a1402eb5318b972952e326"
            }
          },
          "metadata": {}
        },
        {
          "name": "stdout",
          "text": "Train loss: 1.440221198673906, Train metric: 0.6572686433792114\nTrain loss: 1.4289837931764537, Train metric: 0.664923906326294\nTrain loss: 1.4272820250741367, Train metric: 0.6625378727912903\nTrain loss: 1.4223689426635873, Train metric: 0.6666276454925537\nTrain loss: 1.4238181763681872, Train metric: 0.6639267206192017\n\nEvaluating...\nVal loss: 1.4006900957652502, Val metric: 0.6788512468338013\nVal loss: 1.4188002262796675, Val metric: 0.6690183877944946\nVal loss: 1.4197829961776733, Val metric: 0.6666756868362427\nVal loss: 1.4158475015844618, Val metric: 0.6699533462524414\nVal loss: 1.415620149884905, Val metric: 0.671864926815033\n\nstarting Epoch 4\nTraining...\n",
          "output_type": "stream"
        },
        {
          "output_type": "display_data",
          "data": {
            "text/plain": "Epoch 4:   0%|          | 0/18784 [00:00<?, ?it/s]",
            "application/vnd.jupyter.widget-view+json": {
              "version_major": 2,
              "version_minor": 0,
              "model_id": "9aac5977c98f4c1da53b0995f4bbe5cf"
            }
          },
          "metadata": {}
        },
        {
          "name": "stdout",
          "text": "Train loss: 1.412809655584138, Train metric: 0.6658380627632141\nTrain loss: 1.418356492601592, Train metric: 0.6629295945167542\nTrain loss: 1.421171910461338, Train metric: 0.6592660546302795\nTrain loss: 1.4200645685195923, Train metric: 0.663906991481781\nTrain loss: 1.4164097695515074, Train metric: 0.6677131056785583\n\nEvaluating...\nVal loss: 1.4322388172149658, Val metric: 0.6527673006057739\nVal loss: 1.4579149399484908, Val metric: 0.6304752230644226\nVal loss: 1.4554808764230638, Val metric: 0.6338936686515808\nVal loss: 1.4539085669176919, Val metric: 0.6332160234451294\nVal loss: 1.4542365653174265, Val metric: 0.6340942978858948\n\nstarting Epoch 5\nTraining...\n",
          "output_type": "stream"
        },
        {
          "output_type": "display_data",
          "data": {
            "text/plain": "Epoch 5:   0%|          | 0/18784 [00:00<?, ?it/s]",
            "application/vnd.jupyter.widget-view+json": {
              "version_major": 2,
              "version_minor": 0,
              "model_id": "d3291ed527094ae587b9f08172d3d607"
            }
          },
          "metadata": {}
        },
        {
          "name": "stdout",
          "text": "Train loss: 1.4230808101851364, Train metric: 0.6654497981071472\nTrain loss: 1.41581189015816, Train metric: 0.6715306639671326\nTrain loss: 1.4104522562575066, Train metric: 0.6743177771568298\nTrain loss: 1.4111583171219662, Train metric: 0.6728973388671875\nTrain loss: 1.4120936130655224, Train metric: 0.6730906367301941\n\nEvaluating...\nVal loss: 1.391614351953779, Val metric: 0.6894763112068176\nVal loss: 1.4128932867731367, Val metric: 0.6731238961219788\nVal loss: 1.4119061401912145, Val metric: 0.673119306564331\nVal loss: 1.4099110109465463, Val metric: 0.6730519533157349\nVal loss: 1.409940242767334, Val metric: 0.6746512651443481\nFilter: [2, 3] dropout rate: 0.5\n\nstarting Epoch 1\nTraining...\n",
          "output_type": "stream"
        },
        {
          "output_type": "display_data",
          "data": {
            "text/plain": "Epoch 1:   0%|          | 0/18784 [00:00<?, ?it/s]",
            "application/vnd.jupyter.widget-view+json": {
              "version_major": 2,
              "version_minor": 0,
              "model_id": "84568815cf7a4c3898fa09d115a8cbc5"
            }
          },
          "metadata": {}
        },
        {
          "name": "stdout",
          "text": "Train loss: 1.6550560655265019, Train metric: 0.3922514319419861\nTrain loss: 1.6443427657258922, Train metric: 0.40564751625061035\nTrain loss: 1.6426288848635795, Train metric: 0.40807032585144043\nTrain loss: 1.6417201346364514, Train metric: 0.4114852547645569\nTrain loss: 1.6428824474071635, Train metric: 0.40843504667282104\n\nEvaluating...\nVal loss: 1.6336136545453752, Val metric: 0.42480215430259705\nVal loss: 1.6508064780916487, Val metric: 0.4088577330112457\nVal loss: 1.6466168562571208, Val metric: 0.41503965854644775\nVal loss: 1.646957848753248, Val metric: 0.4140310287475586\nVal loss: 1.645186758041382, Val metric: 0.4168524742126465\n\nstarting Epoch 2\nTraining...\n",
          "output_type": "stream"
        },
        {
          "output_type": "display_data",
          "data": {
            "text/plain": "Epoch 2:   0%|          | 0/18784 [00:00<?, ?it/s]",
            "application/vnd.jupyter.widget-view+json": {
              "version_major": 2,
              "version_minor": 0,
              "model_id": "400a74d80a074507ba99061915d28c47"
            }
          },
          "metadata": {}
        },
        {
          "name": "stdout",
          "text": "Train loss: 1.6399539256918019, Train metric: 0.4151071608066559\nTrain loss: 1.634987810562397, Train metric: 0.4233733117580414\nTrain loss: 1.6361767560586162, Train metric: 0.4210573434829712\nTrain loss: 1.6352565504353622, Train metric: 0.4215049743652344\nTrain loss: 1.6344420983873564, Train metric: 0.4205639958381653\n\nEvaluating...\nVal loss: 1.6083485228674752, Val metric: 0.43934693932533264\nVal loss: 1.6218634247779846, Val metric: 0.4277011454105377\nVal loss: 1.6205672082446871, Val metric: 0.43112483620643616\nVal loss: 1.6206513770989008, Val metric: 0.42783746123313904\nVal loss: 1.6205145631517683, Val metric: 0.4302404820919037\n\nstarting Epoch 3\nTraining...\n",
          "output_type": "stream"
        },
        {
          "output_type": "display_data",
          "data": {
            "text/plain": "Epoch 3:   0%|          | 0/18784 [00:00<?, ?it/s]",
            "application/vnd.jupyter.widget-view+json": {
              "version_major": 2,
              "version_minor": 0,
              "model_id": "42a6d040837c44f1b16c789805593e44"
            }
          },
          "metadata": {}
        },
        {
          "name": "stdout",
          "text": "Train loss: 1.6206776931368072, Train metric: 0.4270341098308563\nTrain loss: 1.5814980597331607, Train metric: 0.5147438645362854\nTrain loss: 1.5408590895006027, Train metric: 0.5616570711135864\nTrain loss: 1.5146007178158596, Train metric: 0.5859081745147705\nTrain loss: 1.4950864939854063, Train metric: 0.6039403676986694\n\nEvaluating...\nVal loss: 1.3914318936211723, Val metric: 0.6968003511428833\nVal loss: 1.4162017277308874, Val metric: 0.6768122911453247\nVal loss: 1.4163335107621693, Val metric: 0.6755668520927429\nVal loss: 1.413297223193305, Val metric: 0.6763473153114319\nVal loss: 1.4137142896652222, Val metric: 0.6773200035095215\n\nstarting Epoch 4\nTraining...\n",
          "output_type": "stream"
        },
        {
          "output_type": "display_data",
          "data": {
            "text/plain": "Epoch 4:   0%|          | 0/18784 [00:00<?, ?it/s]",
            "application/vnd.jupyter.widget-view+json": {
              "version_major": 2,
              "version_minor": 0,
              "model_id": "0fafca51360542c386d2cfaf98a31d7c"
            }
          },
          "metadata": {}
        },
        {
          "name": "stdout",
          "text": "Train loss: 1.4101024783890823, Train metric: 0.6739707589149475\nTrain loss: 1.4071041386702965, Train metric: 0.678846538066864\nTrain loss: 1.4079746542305782, Train metric: 0.6776319146156311\nTrain loss: 1.4085803073028038, Train metric: 0.6777653694152832\nTrain loss: 1.4104332808790536, Train metric: 0.6769932508468628\n\nEvaluating...\nVal loss: 1.3896982840129308, Val metric: 0.6931713819503784\nVal loss: 1.4118864451135908, Val metric: 0.6761890649795532\nVal loss: 1.410967815489996, Val metric: 0.6771984100341797\nVal loss: 1.4089734213692802, Val metric: 0.6764194369316101\nVal loss: 1.4096736567361015, Val metric: 0.677334189414978\n\nstarting Epoch 5\nTraining...\n",
          "output_type": "stream"
        },
        {
          "output_type": "display_data",
          "data": {
            "text/plain": "Epoch 5:   0%|          | 0/18784 [00:00<?, ?it/s]",
            "application/vnd.jupyter.widget-view+json": {
              "version_major": 2,
              "version_minor": 0,
              "model_id": "21e048108acc4cd6ba594fb29eacb20c"
            }
          },
          "metadata": {}
        },
        {
          "name": "stdout",
          "text": "Train loss: 1.4004924913932537, Train metric: 0.6836478114128113\nTrain loss: 1.4190452982639443, Train metric: 0.666008472442627\nTrain loss: 1.418787077925671, Train metric: 0.6664012670516968\nTrain loss: 1.4151603137624675, Train metric: 0.6699087619781494\nTrain loss: 1.4126847711102717, Train metric: 0.6731311082839966\n\nEvaluating...\nVal loss: 1.4057313885007585, Val metric: 0.6682709455490112\nVal loss: 1.420997483389718, Val metric: 0.6614406704902649\nVal loss: 1.4215047189167567, Val metric: 0.6605743169784546\nVal loss: 1.4177670436246055, Val metric: 0.6603447198867798\nVal loss: 1.416692750794547, Val metric: 0.6622063517570496\nFilter: [3, 4] dropout rate: 0\n\nstarting Epoch 1\nTraining...\n",
          "output_type": "stream"
        },
        {
          "output_type": "display_data",
          "data": {
            "text/plain": "Epoch 1:   0%|          | 0/18784 [00:00<?, ?it/s]",
            "application/vnd.jupyter.widget-view+json": {
              "version_major": 2,
              "version_minor": 0,
              "model_id": "6fa0212d11514cfd9be92fc542ce1634"
            }
          },
          "metadata": {}
        },
        {
          "name": "stdout",
          "text": "Train loss: 1.65394245345017, Train metric: 0.3973792493343353\nTrain loss: 1.6450248257867222, Train metric: 0.4085540473461151\nTrain loss: 1.644069468838045, Train metric: 0.40923818945884705\nTrain loss: 1.6430620057829495, Train metric: 0.40947332978248596\nTrain loss: 1.6429531944209133, Train metric: 0.40915554761886597\n\nEvaluating...\nVal loss: 1.623709797859192, Val metric: 0.42480215430259705\nVal loss: 1.6383288672992162, Val metric: 0.4088577330112457\nVal loss: 1.6358117092223394, Val metric: 0.41503965854644775\nVal loss: 1.6354864154543196, Val metric: 0.4140310287475586\nVal loss: 1.6343431030000959, Val metric: 0.4168524742126465\n\nstarting Epoch 2\nTraining...\n",
          "output_type": "stream"
        },
        {
          "output_type": "display_data",
          "data": {
            "text/plain": "Epoch 2:   0%|          | 0/18784 [00:00<?, ?it/s]",
            "application/vnd.jupyter.widget-view+json": {
              "version_major": 2,
              "version_minor": 0,
              "model_id": "b9d150cb1c4447d4b7beb60b329b6118"
            }
          },
          "metadata": {}
        },
        {
          "name": "stdout",
          "text": "Train loss: 1.6368569957798924, Train metric: 0.42036134004592896\nTrain loss: 1.6362224858382652, Train metric: 0.4175446927547455\nTrain loss: 1.6338430547166145, Train metric: 0.4188980460166931\nTrain loss: 1.6307615719992539, Train metric: 0.4241127669811249\nTrain loss: 1.6183971158389387, Train metric: 0.45336297154426575\n\nEvaluating...\nVal loss: 1.5264726536614555, Val metric: 0.6115320324897766\nVal loss: 1.5401980366025652, Val metric: 0.598365843296051\nVal loss: 1.5402377503258842, Val metric: 0.6011970639228821\nVal loss: 1.5384258031845093, Val metric: 0.6021475195884705\nVal loss: 1.5382893596376692, Val metric: 0.6014037132263184\n\nstarting Epoch 3\nTraining...\n",
          "output_type": "stream"
        },
        {
          "output_type": "display_data",
          "data": {
            "text/plain": "Epoch 3:   0%|          | 0/18784 [00:00<?, ?it/s]",
            "application/vnd.jupyter.widget-view+json": {
              "version_major": 2,
              "version_minor": 0,
              "model_id": "83b4ac697d194cd48bd25019931a8c80"
            }
          },
          "metadata": {}
        },
        {
          "name": "stdout",
          "text": "Train loss: 1.488315931681929, Train metric: 0.644442081451416\nTrain loss: 1.4580190551692043, Train metric: 0.6545880436897278\nTrain loss: 1.4516081179695568, Train metric: 0.6523463726043701\nTrain loss: 1.4428773810123574, Train metric: 0.6570247411727905\nTrain loss: 1.4381548930858743, Train metric: 0.65981525182724\n\nEvaluating...\nVal loss: 1.4053207295281547, Val metric: 0.6767216920852661\nVal loss: 1.4267340217317854, Val metric: 0.6571847200393677\nVal loss: 1.4268956695284163, Val metric: 0.6568585634231567\nVal loss: 1.422926425933838, Val metric: 0.6590560078620911\nVal loss: 1.4218923841203963, Val metric: 0.6619482040405273\n\nstarting Epoch 4\nTraining...\n",
          "output_type": "stream"
        },
        {
          "output_type": "display_data",
          "data": {
            "text/plain": "Epoch 4:   0%|          | 0/18784 [00:00<?, ?it/s]",
            "application/vnd.jupyter.widget-view+json": {
              "version_major": 2,
              "version_minor": 0,
              "model_id": "7195016e7f304836afbab3a2b4322971"
            }
          },
          "metadata": {}
        },
        {
          "name": "stdout",
          "text": "Train loss: 1.4228935652765735, Train metric: 0.666649580001831\nTrain loss: 1.4153998083081738, Train metric: 0.6737764477729797\nTrain loss: 1.4155807070348454, Train metric: 0.6705425977706909\nTrain loss: 1.415365322910506, Train metric: 0.6706077456474304\nTrain loss: 1.411530585946708, Train metric: 0.6741114258766174\n\nEvaluating...\nVal loss: 1.3879614898136683, Val metric: 0.6942961812019348\nVal loss: 1.4120329022407532, Val metric: 0.6755849123001099\nVal loss: 1.4119539658228557, Val metric: 0.6747632026672363\nVal loss: 1.4090797475406103, Val metric: 0.6757693290710449\nVal loss: 1.4096116713115148, Val metric: 0.6775527000427246\n\nstarting Epoch 5\nTraining...\n",
          "output_type": "stream"
        },
        {
          "output_type": "display_data",
          "data": {
            "text/plain": "Epoch 5:   0%|          | 0/18784 [00:00<?, ?it/s]",
            "application/vnd.jupyter.widget-view+json": {
              "version_major": 2,
              "version_minor": 0,
              "model_id": "4166c672228448e7b4aa4a3ecc836c8a"
            }
          },
          "metadata": {}
        },
        {
          "name": "stdout",
          "text": "Train loss: 1.4040901249852673, Train metric: 0.6787137389183044\nTrain loss: 1.4058054706145977, Train metric: 0.6791166663169861\nTrain loss: 1.4100611415402642, Train metric: 0.6755104660987854\nTrain loss: 1.409528104395702, Train metric: 0.6753479242324829\nTrain loss: 1.4092914194896304, Train metric: 0.6757573485374451\n\nEvaluating...\nVal loss: 1.3905382326671056, Val metric: 0.6930866241455078\nVal loss: 1.4134041496685572, Val metric: 0.6756013035774231\nVal loss: 1.4128110295250302, Val metric: 0.6743448972702026\nVal loss: 1.4096098329339708, Val metric: 0.6751527786254883\nVal loss: 1.4103075776781355, Val metric: 0.6765873432159424\nFilter: [3, 4] dropout rate: 0.2\n\nstarting Epoch 1\nTraining...\n",
          "output_type": "stream"
        },
        {
          "output_type": "display_data",
          "data": {
            "text/plain": "Epoch 1:   0%|          | 0/18784 [00:00<?, ?it/s]",
            "application/vnd.jupyter.widget-view+json": {
              "version_major": 2,
              "version_minor": 0,
              "model_id": "954e3b0c5ed44d9cad2c40087876c164"
            }
          },
          "metadata": {}
        },
        {
          "name": "stdout",
          "text": "Train loss: 1.65342888749879, Train metric: 0.4082791805267334\nTrain loss: 1.6478571316291546, Train metric: 0.41109001636505127\nTrain loss: 1.64645730489972, Train metric: 0.41133055090904236\nTrain loss: 1.643551918967017, Train metric: 0.41245144605636597\nTrain loss: 1.643041595919379, Train metric: 0.4113532304763794\n\nEvaluating...\nVal loss: 1.6234032767159599, Val metric: 0.4260231852531433\nVal loss: 1.6379882437842233, Val metric: 0.40946823358535767\nVal loss: 1.6365786847614108, Val metric: 0.4158369302749634\nVal loss: 1.6359910411494119, Val metric: 0.4146290123462677\nVal loss: 1.6358070032937186, Val metric: 0.41733086109161377\n\nstarting Epoch 2\nTraining...\n",
          "output_type": "stream"
        },
        {
          "output_type": "display_data",
          "data": {
            "text/plain": "Epoch 2:   0%|          | 0/18784 [00:00<?, ?it/s]",
            "application/vnd.jupyter.widget-view+json": {
              "version_major": 2,
              "version_minor": 0,
              "model_id": "96c4341768674edc9d5f8cd99056c6ce"
            }
          },
          "metadata": {}
        },
        {
          "name": "stdout",
          "text": "Train loss: 1.639217471254283, Train metric: 0.4112226963043213\nTrain loss: 1.6263253113319134, Train metric: 0.4282452464103699\nTrain loss: 1.598649877241288, Train metric: 0.47810447216033936\nTrain loss: 1.5588740315930596, Train metric: 0.5233544111251831\nTrain loss: 1.5355582607203517, Train metric: 0.5498589277267456\n\nEvaluating...\nVal loss: 1.4054255826132638, Val metric: 0.6835892796516418\nVal loss: 1.4275138463292802, Val metric: 0.6635783314704895\nVal loss: 1.4265193314779372, Val metric: 0.6651009917259216\nVal loss: 1.4224719958645957, Val metric: 0.6670381426811218\nVal loss: 1.4219375269753591, Val metric: 0.6697937250137329\n\nstarting Epoch 3\nTraining...\n",
          "output_type": "stream"
        },
        {
          "output_type": "display_data",
          "data": {
            "text/plain": "Epoch 3:   0%|          | 0/18784 [00:00<?, ?it/s]",
            "application/vnd.jupyter.widget-view+json": {
              "version_major": 2,
              "version_minor": 0,
              "model_id": "6f4586422e974254889d1297c128ae39"
            }
          },
          "metadata": {}
        },
        {
          "name": "stdout",
          "text": "Train loss: 1.4254898655003514, Train metric: 0.6619961261749268\nTrain loss: 1.4189432427800934, Train metric: 0.6688622236251831\nTrain loss: 1.415037331909969, Train metric: 0.672650933265686\nTrain loss: 1.4130257326981117, Train metric: 0.6743040680885315\nTrain loss: 1.4151072074627054, Train metric: 0.6723891496658325\n\nEvaluating...\nVal loss: 1.3925475903919764, Val metric: 0.691999614238739\nVal loss: 1.4118120414870126, Val metric: 0.6792260408401489\nVal loss: 1.412187831742423, Val metric: 0.6751572489738464\nVal loss: 1.4092777712004525, Val metric: 0.6757993698120117\nVal loss: 1.4096292223249163, Val metric: 0.6775525212287903\n\nstarting Epoch 4\nTraining...\n",
          "output_type": "stream"
        },
        {
          "output_type": "display_data",
          "data": {
            "text/plain": "Epoch 4:   0%|          | 0/18784 [00:00<?, ?it/s]",
            "application/vnd.jupyter.widget-view+json": {
              "version_major": 2,
              "version_minor": 0,
              "model_id": "6ec75e6ac6b642618ef1f00dc8c620de"
            }
          },
          "metadata": {}
        },
        {
          "name": "stdout",
          "text": "Train loss: 1.4045092031873505, Train metric: 0.6759607195854187\nTrain loss: 1.4091654481558964, Train metric: 0.673296332359314\nTrain loss: 1.4093001985001838, Train metric: 0.6742333769798279\nTrain loss: 1.4081731274210174, Train metric: 0.6763888001441956\nTrain loss: 1.410432298430081, Train metric: 0.6750149130821228\n\nEvaluating...\nVal loss: 1.3877941370010376, Val metric: 0.6942736506462097\nVal loss: 1.4086105823516846, Val metric: 0.6780052781105042\nVal loss: 1.410331754457383, Val metric: 0.6739087104797363\nVal loss: 1.4068712081227983, Val metric: 0.6754466891288757\nVal loss: 1.40670405455998, Val metric: 0.6781544089317322\n\nstarting Epoch 5\nTraining...\n",
          "output_type": "stream"
        },
        {
          "output_type": "display_data",
          "data": {
            "text/plain": "Epoch 5:   0%|          | 0/18784 [00:00<?, ?it/s]",
            "application/vnd.jupyter.widget-view+json": {
              "version_major": 2,
              "version_minor": 0,
              "model_id": "40ea68467eef40df8e2da056dd1a639c"
            }
          },
          "metadata": {}
        },
        {
          "name": "stdout",
          "text": "Train loss: 1.4149920858185867, Train metric: 0.6700164675712585\nTrain loss: 1.4185472829588528, Train metric: 0.6674851179122925\nTrain loss: 1.4150306534493107, Train metric: 0.6724033951759338\nTrain loss: 1.4118983498935043, Train metric: 0.6744771003723145\nTrain loss: 1.4095650064534155, Train metric: 0.675995409488678\n\nEvaluating...\nVal loss: 1.395019258771624, Val metric: 0.6872600317001343\nVal loss: 1.41600136246, Val metric: 0.6701439023017883\nVal loss: 1.4163233268828619, Val metric: 0.66905277967453\nVal loss: 1.412664647613253, Val metric: 0.6705803871154785\nVal loss: 1.4123857634408132, Val metric: 0.6728441119194031\nFilter: [3, 4] dropout rate: 0.5\n\nstarting Epoch 1\nTraining...\n",
          "output_type": "stream"
        },
        {
          "output_type": "display_data",
          "data": {
            "text/plain": "Epoch 1:   0%|          | 0/18784 [00:00<?, ?it/s]",
            "application/vnd.jupyter.widget-view+json": {
              "version_major": 2,
              "version_minor": 0,
              "model_id": "cb049a9bf7ff49f4beb77036b92d31df"
            }
          },
          "metadata": {}
        },
        {
          "name": "stdout",
          "text": "Train loss: 1.6535118653856475, Train metric: 0.389910489320755\nTrain loss: 1.6492208427396313, Train metric: 0.3976181149482727\nTrain loss: 1.6443440845642967, Train metric: 0.40432053804397583\nTrain loss: 1.6412568390369415, Train metric: 0.41133442521095276\nTrain loss: 1.6401169842687147, Train metric: 0.41153502464294434\n\nEvaluating...\nVal loss: 1.6060981750488281, Val metric: 0.43099093437194824\nVal loss: 1.617845092500959, Val metric: 0.4234529435634613\nVal loss: 1.616178898584275, Val metric: 0.4266606271266937\nVal loss: 1.6151333962168013, Val metric: 0.42596325278282166\nVal loss: 1.6146301405770438, Val metric: 0.4292140305042267\n\nstarting Epoch 2\nTraining...\n",
          "output_type": "stream"
        },
        {
          "output_type": "display_data",
          "data": {
            "text/plain": "Epoch 2:   0%|          | 0/18784 [00:00<?, ?it/s]",
            "application/vnd.jupyter.widget-view+json": {
              "version_major": 2,
              "version_minor": 0,
              "model_id": "9aec579fc8f64b2c85035854d24e4543"
            }
          },
          "metadata": {}
        },
        {
          "name": "stdout",
          "text": "Train loss: 1.5734878572924385, Train metric: 0.5202142596244812\nTrain loss: 1.5134678770755898, Train metric: 0.5899408459663391\nTrain loss: 1.4835240210609875, Train metric: 0.6158069968223572\nTrain loss: 1.4667629805104485, Train metric: 0.6298556327819824\nTrain loss: 1.4569063573048033, Train metric: 0.638404905796051\n\nEvaluating...\nVal loss: 1.3902658905301775, Val metric: 0.6953827142715454\nVal loss: 1.4105126176561629, Val metric: 0.6779280304908752\nVal loss: 1.412782317116147, Val metric: 0.6750875115394592\nVal loss: 1.4098411543028695, Val metric: 0.6760449409484863\nVal loss: 1.4090083462851388, Val metric: 0.6786847710609436\n\nstarting Epoch 3\nTraining...\n",
          "output_type": "stream"
        },
        {
          "output_type": "display_data",
          "data": {
            "text/plain": "Epoch 3:   0%|          | 0/18784 [00:00<?, ?it/s]",
            "application/vnd.jupyter.widget-view+json": {
              "version_major": 2,
              "version_minor": 0,
              "model_id": "6650794e1b15424db54f620730fc2cc5"
            }
          },
          "metadata": {}
        },
        {
          "name": "stdout",
          "text": "Train loss: 1.440270053929296, Train metric: 0.6509847044944763\nTrain loss: 1.4284733780499161, Train metric: 0.6584488153457642\nTrain loss: 1.4227255843151574, Train metric: 0.663766622543335\nTrain loss: 1.4234005675233643, Train metric: 0.6628101468086243\nTrain loss: 1.4209729835904878, Train metric: 0.6646980047225952\n\nEvaluating...\nVal loss: 1.3931385959897722, Val metric: 0.6884315609931946\nVal loss: 1.4129763330732072, Val metric: 0.6732016801834106\nVal loss: 1.413178875332787, Val metric: 0.6719248294830322\nVal loss: 1.4104102679661341, Val metric: 0.6727473139762878\nVal loss: 1.410375326020377, Val metric: 0.67436283826828\n\nstarting Epoch 4\nTraining...\n",
          "output_type": "stream"
        },
        {
          "output_type": "display_data",
          "data": {
            "text/plain": "Epoch 4:   0%|          | 0/18784 [00:00<?, ?it/s]",
            "application/vnd.jupyter.widget-view+json": {
              "version_major": 2,
              "version_minor": 0,
              "model_id": "31a7ae62cab8452ba44004d33fcef0ec"
            }
          },
          "metadata": {}
        },
        {
          "name": "stdout",
          "text": "Train loss: 1.4048403830363834, Train metric: 0.6796320676803589\nTrain loss: 1.4126355586380794, Train metric: 0.6733309626579285\nTrain loss: 1.4118206240664954, Train metric: 0.6732600331306458\nTrain loss: 1.4086674390168026, Train metric: 0.676476001739502\nTrain loss: 1.4085704811688127, Train metric: 0.6772961020469666\n\nEvaluating...\nVal loss: 1.3940450293677193, Val metric: 0.6882293820381165\nVal loss: 1.412613034248352, Val metric: 0.6712828278541565\nVal loss: 1.412146119844346, Val metric: 0.6714434623718262\nVal loss: 1.4084497136729104, Val metric: 0.6744681000709534\nVal loss: 1.4075842687061855, Val metric: 0.6776247024536133\n\nstarting Epoch 5\nTraining...\n",
          "output_type": "stream"
        },
        {
          "output_type": "display_data",
          "data": {
            "text/plain": "Epoch 5:   0%|          | 0/18784 [00:00<?, ?it/s]",
            "application/vnd.jupyter.widget-view+json": {
              "version_major": 2,
              "version_minor": 0,
              "model_id": "f2c4686565234bb3ab6339f4d366990e"
            }
          },
          "metadata": {}
        },
        {
          "name": "stdout",
          "text": "Train loss: 1.4185490649321983, Train metric: 0.6706659197807312\nTrain loss: 1.4225913738382274, Train metric: 0.6653338074684143\nTrain loss: 1.4176338938460953, Train metric: 0.6694720387458801\nTrain loss: 1.415091904072926, Train metric: 0.6708912253379822\nTrain loss: 1.414203876462476, Train metric: 0.6718140840530396\n\nEvaluating...\nVal loss: 1.3908265658787318, Val metric: 0.6873155832290649\nVal loss: 1.4119178227015905, Val metric: 0.6726190447807312\nVal loss: 1.4115028381347656, Val metric: 0.6727749705314636\nVal loss: 1.4091129302978516, Val metric: 0.6734170317649841\nVal loss: 1.4093656301498414, Val metric: 0.6753617525100708\nFilter: [2, 4] dropout rate: 0\n\nstarting Epoch 1\nTraining...\n",
          "output_type": "stream"
        },
        {
          "output_type": "display_data",
          "data": {
            "text/plain": "Epoch 1:   0%|          | 0/18784 [00:00<?, ?it/s]",
            "application/vnd.jupyter.widget-view+json": {
              "version_major": 2,
              "version_minor": 0,
              "model_id": "3eacd0947956480e9e6f90981c3a6570"
            }
          },
          "metadata": {}
        },
        {
          "name": "stdout",
          "text": "Train loss: 1.648991613552488, Train metric: 0.3954949676990509\nTrain loss: 1.645594426270189, Train metric: 0.4036182165145874\nTrain loss: 1.6429532807448815, Train metric: 0.40579527616500854\nTrain loss: 1.642552056189241, Train metric: 0.4077621400356293\nTrain loss: 1.6414910826189764, Train metric: 0.4088113009929657\n\nEvaluating...\nVal loss: 1.6237696068627494, Val metric: 0.42378416657447815\nVal loss: 1.6342781441552299, Val metric: 0.4174003005027771\nVal loss: 1.6336343742552257, Val metric: 0.4214102327823639\nVal loss: 1.6319876738956995, Val metric: 0.42286211252212524\nVal loss: 1.6312298059463501, Val metric: 0.4264969825744629\n\nstarting Epoch 2\nTraining...\n",
          "output_type": "stream"
        },
        {
          "output_type": "display_data",
          "data": {
            "text/plain": "Epoch 2:   0%|          | 0/18784 [00:00<?, ?it/s]",
            "application/vnd.jupyter.widget-view+json": {
              "version_major": 2,
              "version_minor": 0,
              "model_id": "c946147f85424a9fbebc16f7c8532318"
            }
          },
          "metadata": {}
        },
        {
          "name": "stdout",
          "text": "Train loss: 1.6045668371792496, Train metric: 0.44958794116973877\nTrain loss: 1.5666630925803349, Train metric: 0.5366003513336182\nTrain loss: 1.53609805819632, Train metric: 0.5759791135787964\nTrain loss: 1.5115305801917767, Train metric: 0.5970039367675781\nTrain loss: 1.4946491266119069, Train metric: 0.6109387278556824\n\nEvaluating...\nVal loss: 1.40085688659123, Val metric: 0.682409405708313\nVal loss: 1.4239552531923567, Val metric: 0.6629534363746643\nVal loss: 1.4239681164423625, Val metric: 0.663885235786438\nVal loss: 1.420838121856962, Val metric: 0.6673003435134888\nVal loss: 1.4206195320401873, Val metric: 0.6682949066162109\n\nstarting Epoch 3\nTraining...\n",
          "output_type": "stream"
        },
        {
          "output_type": "display_data",
          "data": {
            "text/plain": "Epoch 3:   0%|          | 0/18784 [00:00<?, ?it/s]",
            "application/vnd.jupyter.widget-view+json": {
              "version_major": 2,
              "version_minor": 0,
              "model_id": "ba3232e39f134dfebc2a04b8e711a49e"
            }
          },
          "metadata": {}
        },
        {
          "name": "stdout",
          "text": "Train loss: 1.4190792708561337, Train metric: 0.6686474084854126\nTrain loss: 1.4272740997117142, Train metric: 0.660140872001648\nTrain loss: 1.4273185222998432, Train metric: 0.6627488732337952\nTrain loss: 1.4282084425975536, Train metric: 0.661587119102478\nTrain loss: 1.4226288655708577, Train metric: 0.6675865650177002\n\nEvaluating...\nVal loss: 1.3895795345306396, Val metric: 0.6978821754455566\nVal loss: 1.4119096994400024, Val metric: 0.6804060935974121\nVal loss: 1.412543813387553, Val metric: 0.6767409443855286\nVal loss: 1.4098339974880219, Val metric: 0.6769844889640808\nVal loss: 1.4101666722978865, Val metric: 0.6782328486442566\n\nstarting Epoch 4\nTraining...\n",
          "output_type": "stream"
        },
        {
          "output_type": "display_data",
          "data": {
            "text/plain": "Epoch 4:   0%|          | 0/18784 [00:00<?, ?it/s]",
            "application/vnd.jupyter.widget-view+json": {
              "version_major": 2,
              "version_minor": 0,
              "model_id": "9423b553d922436483e25f406157f537"
            }
          },
          "metadata": {}
        },
        {
          "name": "stdout",
          "text": "Train loss: 1.415051793229991, Train metric: 0.6696864366531372\nTrain loss: 1.4133658285798698, Train metric: 0.6730346083641052\nTrain loss: 1.4102259353659619, Train metric: 0.6753882765769958\nTrain loss: 1.418128137958461, Train metric: 0.666673481464386\nTrain loss: 1.4214856665709923, Train metric: 0.6617651581764221\n\nEvaluating...\nVal loss: 1.4063308238983154, Val metric: 0.6787360310554504\nVal loss: 1.4242542471204485, Val metric: 0.6599744558334351\nVal loss: 1.423944115638733, Val metric: 0.6614713072776794\nVal loss: 1.4198487826756068, Val metric: 0.6640130281448364\nVal loss: 1.4194681780678886, Val metric: 0.6671268343925476\n\nstarting Epoch 5\nTraining...\n",
          "output_type": "stream"
        },
        {
          "output_type": "display_data",
          "data": {
            "text/plain": "Epoch 5:   0%|          | 0/18784 [00:00<?, ?it/s]",
            "application/vnd.jupyter.widget-view+json": {
              "version_major": 2,
              "version_minor": 0,
              "model_id": "a72798f07e8841fe9ea69a1ff9159d77"
            }
          },
          "metadata": {}
        },
        {
          "name": "stdout",
          "text": "Train loss: 1.4033060032745888, Train metric: 0.6807979345321655\nTrain loss: 1.4081456805097645, Train metric: 0.6777269244194031\nTrain loss: 1.4107342067806201, Train metric: 0.6756624579429626\nTrain loss: 1.4091705422976921, Train metric: 0.6773843169212341\nTrain loss: 1.4105506157052927, Train metric: 0.675082266330719\n\nEvaluating...\nVal loss: 1.400005306516375, Val metric: 0.6777676343917847\nVal loss: 1.418296992778778, Val metric: 0.664360523223877\nVal loss: 1.4177964244570052, Val metric: 0.6664775013923645\nVal loss: 1.4152371755668096, Val metric: 0.6668134331703186\nVal loss: 1.4138603176389422, Val metric: 0.6707556843757629\nFilter: [2, 4] dropout rate: 0.2\n\nstarting Epoch 1\nTraining...\n",
          "output_type": "stream"
        },
        {
          "output_type": "display_data",
          "data": {
            "text/plain": "Epoch 1:   0%|          | 0/18784 [00:00<?, ?it/s]",
            "application/vnd.jupyter.widget-view+json": {
              "version_major": 2,
              "version_minor": 0,
              "model_id": "9ea3710e63db466392cec684e0ed5b02"
            }
          },
          "metadata": {}
        },
        {
          "name": "stdout",
          "text": "Train loss: 1.6474952204474087, Train metric: 0.4208691716194153\nTrain loss: 1.641755496633464, Train metric: 0.42209288477897644\nTrain loss: 1.6411785449104748, Train metric: 0.4173603355884552\nTrain loss: 1.6343665503222367, Train metric: 0.42518800497055054\nTrain loss: 1.611483362625385, Train metric: 0.46099358797073364\n\nEvaluating...\nVal loss: 1.4325568335396903, Val metric: 0.6717849969863892\nVal loss: 1.4518881951059615, Val metric: 0.6539813280105591\nVal loss: 1.4514646530151367, Val metric: 0.656697154045105\nVal loss: 1.448036287512098, Val metric: 0.6589080691337585\nVal loss: 1.4471380506243026, Val metric: 0.6623958945274353\n\nstarting Epoch 2\nTraining...\n",
          "output_type": "stream"
        },
        {
          "output_type": "display_data",
          "data": {
            "text/plain": "Epoch 2:   0%|          | 0/18784 [00:00<?, ?it/s]",
            "application/vnd.jupyter.widget-view+json": {
              "version_major": 2,
              "version_minor": 0,
              "model_id": "01f51585fc054f4c8ecc51a2e22da94e"
            }
          },
          "metadata": {}
        },
        {
          "name": "stdout",
          "text": "Train loss: 1.4519665693414623, Train metric: 0.6443507075309753\nTrain loss: 1.4411574376040492, Train metric: 0.6490276455879211\nTrain loss: 1.4302899248298557, Train metric: 0.6580637693405151\nTrain loss: 1.424622342504304, Train metric: 0.6638155579566956\nTrain loss: 1.4203692189578352, Train metric: 0.6682339310646057\n\nEvaluating...\nVal loss: 1.3942179679870605, Val metric: 0.6884596943855286\nVal loss: 1.4168199300765991, Val metric: 0.6696227192878723\nVal loss: 1.4169918639319283, Val metric: 0.6695521473884583\nVal loss: 1.4132793503148215, Val metric: 0.6727270483970642\nVal loss: 1.4133649247033255, Val metric: 0.6736201047897339\n\nstarting Epoch 3\nTraining...\n",
          "output_type": "stream"
        },
        {
          "output_type": "display_data",
          "data": {
            "text/plain": "Epoch 3:   0%|          | 0/18784 [00:00<?, ?it/s]",
            "application/vnd.jupyter.widget-view+json": {
              "version_major": 2,
              "version_minor": 0,
              "model_id": "729b632bb15a4e27b2607cd25a055063"
            }
          },
          "metadata": {}
        },
        {
          "name": "stdout",
          "text": "Train loss: 1.417488776404282, Train metric: 0.6709469556808472\nTrain loss: 1.4199796277901222, Train metric: 0.6665956974029541\nTrain loss: 1.4217155719625538, Train metric: 0.6650179028511047\nTrain loss: 1.4193724609654526, Train metric: 0.6667097806930542\nTrain loss: 1.4181524885111843, Train metric: 0.6673934459686279\n\nEvaluating...\nVal loss: 1.401922413281032, Val metric: 0.678826630115509\nVal loss: 1.4287845918110438, Val metric: 0.6562738418579102\nVal loss: 1.427583785284133, Val metric: 0.6587355732917786\nVal loss: 1.4242457066263472, Val metric: 0.6605225205421448\nVal loss: 1.424416204861232, Val metric: 0.6617357134819031\n\nstarting Epoch 4\nTraining...\n",
          "output_type": "stream"
        },
        {
          "output_type": "display_data",
          "data": {
            "text/plain": "Epoch 4:   0%|          | 0/18784 [00:00<?, ?it/s]",
            "application/vnd.jupyter.widget-view+json": {
              "version_major": 2,
              "version_minor": 0,
              "model_id": "2712e979547d461fa9feff16fd3201ab"
            }
          },
          "metadata": {}
        },
        {
          "name": "stdout",
          "text": "Train loss: 1.4088390325677806, Train metric: 0.6757742762565613\nTrain loss: 1.4086344735375766, Train metric: 0.6773064732551575\nTrain loss: 1.4081898064448917, Train metric: 0.6778488755226135\nTrain loss: 1.4057006846214164, Train metric: 0.6797756552696228\nTrain loss: 1.4100464023392776, Train metric: 0.6747557520866394\n\nEvaluating...\nVal loss: 1.3927646364484514, Val metric: 0.6929618120193481\nVal loss: 1.4109323109899248, Val metric: 0.6784406304359436\nVal loss: 1.4106215238571167, Val metric: 0.6774795055389404\nVal loss: 1.4074482790061407, Val metric: 0.6795758008956909\nVal loss: 1.4073162487574986, Val metric: 0.6822401285171509\n\nstarting Epoch 5\nTraining...\n",
          "output_type": "stream"
        },
        {
          "output_type": "display_data",
          "data": {
            "text/plain": "Epoch 5:   0%|          | 0/18784 [00:00<?, ?it/s]",
            "application/vnd.jupyter.widget-view+json": {
              "version_major": 2,
              "version_minor": 0,
              "model_id": "b5729c05ed444d7393fe951cb9ce4955"
            }
          },
          "metadata": {}
        },
        {
          "name": "stdout",
          "text": "Train loss: 1.411248700372104, Train metric: 0.6714694499969482\nTrain loss: 1.4128621796081806, Train metric: 0.6727569103240967\nTrain loss: 1.4168510409607284, Train metric: 0.6690225005149841\nTrain loss: 1.4147830471910279, Train metric: 0.6702945232391357\nTrain loss: 1.4130610860627273, Train metric: 0.671964168548584\n\nEvaluating...\nVal loss: 1.3964040619986398, Val metric: 0.683676540851593\nVal loss: 1.4172483256884985, Val metric: 0.6678012013435364\nVal loss: 1.4144430728185744, Val metric: 0.6711782813072205\nVal loss: 1.4123309084347315, Val metric: 0.6713182330131531\nVal loss: 1.4121862377439227, Val metric: 0.6742361783981323\nFilter: [2, 4] dropout rate: 0.5\n\nstarting Epoch 1\nTraining...\n",
          "output_type": "stream"
        },
        {
          "output_type": "display_data",
          "data": {
            "text/plain": "Epoch 1:   0%|          | 0/18784 [00:00<?, ?it/s]",
            "application/vnd.jupyter.widget-view+json": {
              "version_major": 2,
              "version_minor": 0,
              "model_id": "c2e3510cd7c54fa8926dbbb796cdf722"
            }
          },
          "metadata": {}
        },
        {
          "name": "stdout",
          "text": "Train loss: 1.6583035814351048, Train metric: 0.3937456011772156\nTrain loss: 1.6467134705905258, Train metric: 0.409738153219223\nTrain loss: 1.6424887646203754, Train metric: 0.40879693627357483\nTrain loss: 1.6352413728319366, Train metric: 0.4182797074317932\nTrain loss: 1.6297584804995306, Train metric: 0.4291745126247406\n\nEvaluating...\nVal loss: 1.5839463472366333, Val metric: 0.42480215430259705\nVal loss: 1.6010221328054155, Val metric: 0.4088577330112457\nVal loss: 1.597401397568839, Val metric: 0.41503965854644775\nVal loss: 1.5972315924508231, Val metric: 0.4140310287475586\nVal loss: 1.5961406537464686, Val metric: 0.4168524742126465\n\nstarting Epoch 2\nTraining...\n",
          "output_type": "stream"
        },
        {
          "output_type": "display_data",
          "data": {
            "text/plain": "Epoch 2:   0%|          | 0/18784 [00:00<?, ?it/s]",
            "application/vnd.jupyter.widget-view+json": {
              "version_major": 2,
              "version_minor": 0,
              "model_id": "e6a7245071304dada22e5e5d6b13347c"
            }
          },
          "metadata": {}
        },
        {
          "name": "stdout",
          "text": "Train loss: 1.5863057909340694, Train metric: 0.5051477551460266\nTrain loss: 1.5763077222067734, Train metric: 0.5190675854682922\nTrain loss: 1.5622494837333416, Train metric: 0.5341059565544128\nTrain loss: 1.5562226433178474, Train metric: 0.5355067253112793\nTrain loss: 1.554820886151544, Train metric: 0.5328609347343445\n\nEvaluating...\nVal loss: 1.512764470917838, Val metric: 0.5697064399719238\nVal loss: 1.5335677436419897, Val metric: 0.5516471266746521\nVal loss: 1.5307451827185494, Val metric: 0.5565701127052307\nVal loss: 1.5306364808763777, Val metric: 0.5545029640197754\nVal loss: 1.5300912720816475, Val metric: 0.5566016435623169\n\nstarting Epoch 3\nTraining...\n",
          "output_type": "stream"
        },
        {
          "output_type": "display_data",
          "data": {
            "text/plain": "Epoch 3:   0%|          | 0/18784 [00:00<?, ?it/s]",
            "application/vnd.jupyter.widget-view+json": {
              "version_major": 2,
              "version_minor": 0,
              "model_id": "6d8f7ac652da4a2cb71a2827278edd22"
            }
          },
          "metadata": {}
        },
        {
          "name": "stdout",
          "text": "Train loss: 1.53141961015504, Train metric: 0.5503334403038025\nTrain loss: 1.5244776647666405, Train metric: 0.554757833480835\nTrain loss: 1.522605260213216, Train metric: 0.5573630332946777\nTrain loss: 1.522294254138552, Train metric: 0.5585201382637024\nTrain loss: 1.5193185830938405, Train metric: 0.5614120960235596\n\nEvaluating...\nVal loss: 1.4975388901574271, Val metric: 0.5746436715126038\nVal loss: 1.50953323500497, Val metric: 0.5697497725486755\nVal loss: 1.510264589672997, Val metric: 0.5697501301765442\nVal loss: 1.5114055020468575, Val metric: 0.5673217177391052\nVal loss: 1.510326211793082, Val metric: 0.5692617893218994\n\nstarting Epoch 4\nTraining...\n",
          "output_type": "stream"
        },
        {
          "output_type": "display_data",
          "data": {
            "text/plain": "Epoch 4:   0%|          | 0/18784 [00:00<?, ?it/s]",
            "application/vnd.jupyter.widget-view+json": {
              "version_major": 2,
              "version_minor": 0,
              "model_id": "120021bab69f4034b629bf302fe38b64"
            }
          },
          "metadata": {}
        },
        {
          "name": "stdout",
          "text": "Train loss: 1.5118763529021164, Train metric: 0.5646466016769409\nTrain loss: 1.5253638995104823, Train metric: 0.5534399747848511\nTrain loss: 1.5267938320664154, Train metric: 0.5516448020935059\nTrain loss: 1.5256596783111835, Train metric: 0.5522377490997314\nTrain loss: 1.5209528002245674, Train metric: 0.5578848719596863\n\nEvaluating...\nVal loss: 1.4994572911943709, Val metric: 0.564156711101532\nVal loss: 1.5146752170154028, Val metric: 0.5580742955207825\nVal loss: 1.5146634465172177, Val metric: 0.5599365830421448\nVal loss: 1.5154379265648978, Val metric: 0.5572904348373413\nVal loss: 1.5145407336098806, Val metric: 0.5594134330749512\n\nstarting Epoch 5\nTraining...\n",
          "output_type": "stream"
        },
        {
          "output_type": "display_data",
          "data": {
            "text/plain": "Epoch 5:   0%|          | 0/18784 [00:00<?, ?it/s]",
            "application/vnd.jupyter.widget-view+json": {
              "version_major": 2,
              "version_minor": 0,
              "model_id": "f6b712b13b1d446696c3a0d51b2cc9ab"
            }
          },
          "metadata": {}
        },
        {
          "name": "stdout",
          "text": "Train loss: 1.4951760028970653, Train metric: 0.5772643685340881\nTrain loss: 1.5004789315421005, Train metric: 0.5756340026855469\nTrain loss: 1.4986468169881009, Train metric: 0.579702615737915\nTrain loss: 1.4995237897182334, Train metric: 0.5798881649971008\nTrain loss: 1.5102596315844306, Train metric: 0.5670514106750488\n\nEvaluating...\nVal loss: 1.7182294470923287, Val metric: 0.31668469309806824\nVal loss: 1.7244105424199785, Val metric: 0.3139689266681671\nVal loss: 1.726068309375218, Val metric: 0.3108313977718353\nVal loss: 1.7242337465286255, Val metric: 0.31120753288269043\nVal loss: 1.7260674340384348, Val metric: 0.31085658073425293\nFilter: [2, 3, 4] dropout rate: 0\n\nstarting Epoch 1\nTraining...\n",
          "output_type": "stream"
        },
        {
          "output_type": "display_data",
          "data": {
            "text/plain": "Epoch 1:   0%|          | 0/18784 [00:00<?, ?it/s]",
            "application/vnd.jupyter.widget-view+json": {
              "version_major": 2,
              "version_minor": 0,
              "model_id": "163eed907dec4503a34f243987defdfb"
            }
          },
          "metadata": {}
        },
        {
          "name": "stdout",
          "text": "Train loss: 1.6566055273187572, Train metric: 0.3894989490509033\nTrain loss: 1.6481984319358036, Train metric: 0.40398141741752625\nTrain loss: 1.6420139540200946, Train metric: 0.4120922386646271\nTrain loss: 1.6425785114025246, Train metric: 0.4104823172092438\nTrain loss: 1.641923450601512, Train metric: 0.41117075085639954\n\nEvaluating...\nVal loss: 1.6238940783909388, Val metric: 0.42480215430259705\nVal loss: 1.6397611328533717, Val metric: 0.4088577330112457\nVal loss: 1.637786621139163, Val metric: 0.41503965854644775\nVal loss: 1.6372121359620775, Val metric: 0.4140310287475586\nVal loss: 1.636623934337071, Val metric: 0.4168524742126465\n\nstarting Epoch 2\nTraining...\n",
          "output_type": "stream"
        },
        {
          "output_type": "display_data",
          "data": {
            "text/plain": "Epoch 2:   0%|          | 0/18784 [00:00<?, ?it/s]",
            "application/vnd.jupyter.widget-view+json": {
              "version_major": 2,
              "version_minor": 0,
              "model_id": "c94b6c6143ac4269bb4693ed5ec94e79"
            }
          },
          "metadata": {}
        },
        {
          "name": "stdout",
          "text": "Train loss: 1.6418981099950856, Train metric: 0.4028492271900177\nTrain loss: 1.6392925895493606, Train metric: 0.4090198874473572\nTrain loss: 1.631768096452472, Train metric: 0.4246785342693329\nTrain loss: 1.5964945729436546, Train metric: 0.48056960105895996\nTrain loss: 1.5628293662235655, Train metric: 0.5193696022033691\n\nEvaluating...\nVal loss: 1.398214272090367, Val metric: 0.6930776238441467\nVal loss: 1.4184715918132238, Val metric: 0.6767721176147461\nVal loss: 1.4196298519770305, Val metric: 0.675112247467041\nVal loss: 1.4168182356016976, Val metric: 0.6760681867599487\nVal loss: 1.4170829977308002, Val metric: 0.6767987012863159\n\nstarting Epoch 3\nTraining...\n",
          "output_type": "stream"
        },
        {
          "output_type": "display_data",
          "data": {
            "text/plain": "Epoch 3:   0%|          | 0/18784 [00:00<?, ?it/s]",
            "application/vnd.jupyter.widget-view+json": {
              "version_major": 2,
              "version_minor": 0,
              "model_id": "28f91a72c52a42a0914699a45853b8fb"
            }
          },
          "metadata": {}
        },
        {
          "name": "stdout",
          "text": "Train loss: 1.4306543654408947, Train metric: 0.6627101302146912\nTrain loss: 1.4301623496515998, Train metric: 0.6617429256439209\nTrain loss: 1.4266754923195675, Train metric: 0.6658293008804321\nTrain loss: 1.423651432168895, Train metric: 0.6668657660484314\nTrain loss: 1.4225613224095313, Train metric: 0.6669349670410156\n\nEvaluating...\nVal loss: 1.436089141028268, Val metric: 0.6411021947860718\nVal loss: 1.450085529259273, Val metric: 0.632187008857727\nVal loss: 1.4485548734664917, Val metric: 0.6350433826446533\nVal loss: 1.4439532160758972, Val metric: 0.63666170835495\nVal loss: 1.442816744531904, Val metric: 0.6408615112304688\n\nstarting Epoch 4\nTraining...\n",
          "output_type": "stream"
        },
        {
          "output_type": "display_data",
          "data": {
            "text/plain": "Epoch 4:   0%|          | 0/18784 [00:00<?, ?it/s]",
            "application/vnd.jupyter.widget-view+json": {
              "version_major": 2,
              "version_minor": 0,
              "model_id": "17a4fd4641e54333b142e07f8dc47346"
            }
          },
          "metadata": {}
        },
        {
          "name": "stdout",
          "text": "Train loss: 1.424200411500602, Train metric: 0.6664825677871704\nTrain loss: 1.4223298820956, Train metric: 0.6658211946487427\nTrain loss: 1.427832836392282, Train metric: 0.6601330041885376\nTrain loss: 1.427722312253097, Train metric: 0.6596632599830627\nTrain loss: 1.423332793137123, Train metric: 0.6634994745254517\n\nEvaluating...\nVal loss: 1.3950278929301672, Val metric: 0.6837231516838074\nVal loss: 1.4186109219278609, Val metric: 0.6605259776115417\nVal loss: 1.4186182135627383, Val metric: 0.6602903008460999\nVal loss: 1.4149877301284246, Val metric: 0.6643190383911133\nVal loss: 1.4146402733666557, Val metric: 0.6671448945999146\n\nstarting Epoch 5\nTraining...\n",
          "output_type": "stream"
        },
        {
          "output_type": "display_data",
          "data": {
            "text/plain": "Epoch 5:   0%|          | 0/18784 [00:00<?, ?it/s]",
            "application/vnd.jupyter.widget-view+json": {
              "version_major": 2,
              "version_minor": 0,
              "model_id": "941467a0788e43d2a3097abb6f2f4f9c"
            }
          },
          "metadata": {}
        },
        {
          "name": "stdout",
          "text": "Train loss: 1.418578867254586, Train metric: 0.668718159198761\nTrain loss: 1.4177022761312024, Train metric: 0.6712576746940613\nTrain loss: 1.4145329094481194, Train metric: 0.6740013957023621\nTrain loss: 1.415715839328437, Train metric: 0.6713443994522095\nTrain loss: 1.41549116743022, Train metric: 0.6704099774360657\n\nEvaluating...\nVal loss: 1.3911511046545846, Val metric: 0.6931009292602539\nVal loss: 1.411410195486886, Val metric: 0.6755661368370056\nVal loss: 1.4120971986225672, Val metric: 0.6734389066696167\nVal loss: 1.4093879461288452, Val metric: 0.6742401123046875\nVal loss: 1.4094392504010882, Val metric: 0.6762143969535828\nFilter: [2, 3, 4] dropout rate: 0.2\n\nstarting Epoch 1\nTraining...\n",
          "output_type": "stream"
        },
        {
          "output_type": "display_data",
          "data": {
            "text/plain": "Epoch 1:   0%|          | 0/18784 [00:00<?, ?it/s]",
            "application/vnd.jupyter.widget-view+json": {
              "version_major": 2,
              "version_minor": 0,
              "model_id": "f90d81b75f4b4646b6e4f7a5a909556f"
            }
          },
          "metadata": {}
        },
        {
          "name": "stdout",
          "text": "Train loss: 1.6487340968230675, Train metric: 0.40727418661117554\nTrain loss: 1.6458451809554264, Train metric: 0.40888139605522156\nTrain loss: 1.6439461036660206, Train metric: 0.4109196662902832\nTrain loss: 1.6428940758622925, Train metric: 0.4126247763633728\nTrain loss: 1.6430036224167923, Train metric: 0.41093677282333374\n\nEvaluating...\nVal loss: 1.6225642136165075, Val metric: 0.4260321259498596\nVal loss: 1.6364329286984034, Val metric: 0.4118764102458954\nVal loss: 1.634963728132702, Val metric: 0.4182277023792267\nVal loss: 1.634214733328138, Val metric: 0.4170200228691101\nVal loss: 1.6333967753819056, Val metric: 0.4204689562320709\n\nstarting Epoch 2\nTraining...\n",
          "output_type": "stream"
        },
        {
          "output_type": "display_data",
          "data": {
            "text/plain": "Epoch 2:   0%|          | 0/18784 [00:00<?, ?it/s]",
            "application/vnd.jupyter.widget-view+json": {
              "version_major": 2,
              "version_minor": 0,
              "model_id": "400ca824186c4970871e1d82ed4da6b3"
            }
          },
          "metadata": {}
        },
        {
          "name": "stdout",
          "text": "Train loss: 1.6173384312925667, Train metric: 0.4391915202140808\nTrain loss: 1.5550497873076077, Train metric: 0.5284215807914734\nTrain loss: 1.5156883809758328, Train metric: 0.575140655040741\nTrain loss: 1.4971010130027245, Train metric: 0.5934897065162659\nTrain loss: 1.4807511157002942, Train metric: 0.609130322933197\n\nEvaluating...\nVal loss: 1.3942814384187971, Val metric: 0.6884376406669617\nVal loss: 1.4194261942590987, Val metric: 0.6653570532798767\nVal loss: 1.4185870715550013, Val metric: 0.6683582067489624\nVal loss: 1.4157379525048392, Val metric: 0.6703898310661316\nVal loss: 1.4158857720238822, Val metric: 0.6717767715454102\n\nstarting Epoch 3\nTraining...\n",
          "output_type": "stream"
        },
        {
          "output_type": "display_data",
          "data": {
            "text/plain": "Epoch 3:   0%|          | 0/18784 [00:00<?, ?it/s]",
            "application/vnd.jupyter.widget-view+json": {
              "version_major": 2,
              "version_minor": 0,
              "model_id": "34e601de6a5946eea4a41fbb8df52fc1"
            }
          },
          "metadata": {}
        },
        {
          "name": "stdout",
          "text": "Train loss: 1.4137297786515335, Train metric: 0.6712213158607483\nTrain loss: 1.4109886185876255, Train metric: 0.6741140484809875\nTrain loss: 1.4182757413250275, Train metric: 0.6677395105361938\nTrain loss: 1.4153680287558457, Train metric: 0.6714908480644226\nTrain loss: 1.41588045810831, Train metric: 0.6716898083686829\n\nEvaluating...\nVal loss: 1.424924101148333, Val metric: 0.6457982063293457\nVal loss: 1.4423797641481673, Val metric: 0.6339139342308044\nVal loss: 1.440422188668024, Val metric: 0.638185977935791\nVal loss: 1.4368193447589874, Val metric: 0.6390315890312195\nVal loss: 1.4356268542153494, Val metric: 0.6429831981658936\n\nstarting Epoch 4\nTraining...\n",
          "output_type": "stream"
        },
        {
          "output_type": "display_data",
          "data": {
            "text/plain": "Epoch 4:   0%|          | 0/18784 [00:00<?, ?it/s]",
            "application/vnd.jupyter.widget-view+json": {
              "version_major": 2,
              "version_minor": 0,
              "model_id": "0903aa8e8e5e45c180dca346d1970c8b"
            }
          },
          "metadata": {}
        },
        {
          "name": "stdout",
          "text": "Train loss: 1.4108759082596878, Train metric: 0.6783619523048401\nTrain loss: 1.4067634672954166, Train metric: 0.6803703904151917\nTrain loss: 1.405628356440314, Train metric: 0.68216472864151\nTrain loss: 1.4089009833746944, Train metric: 0.6785783171653748\nTrain loss: 1.4093393605330895, Train metric: 0.6778266429901123\n\nEvaluating...\nVal loss: 1.3879317045211792, Val metric: 0.6966785788536072\nVal loss: 1.4103755780628748, Val metric: 0.6766409277915955\nVal loss: 1.4103374481201172, Val metric: 0.6770782470703125\nVal loss: 1.407264266695295, Val metric: 0.6775182485580444\nVal loss: 1.4079900537218366, Val metric: 0.6786841154098511\n\nstarting Epoch 5\nTraining...\n",
          "output_type": "stream"
        },
        {
          "output_type": "display_data",
          "data": {
            "text/plain": "Epoch 5:   0%|          | 0/18784 [00:00<?, ?it/s]",
            "application/vnd.jupyter.widget-view+json": {
              "version_major": 2,
              "version_minor": 0,
              "model_id": "dc9397d853ba47038d9d1ad107ff298e"
            }
          },
          "metadata": {}
        },
        {
          "name": "stdout",
          "text": "Train loss: 1.4040698224100574, Train metric: 0.6862366199493408\nTrain loss: 1.4119795560836792, Train metric: 0.6742422580718994\nTrain loss: 1.4086769874068512, Train metric: 0.6758612990379333\nTrain loss: 1.407909699555101, Train metric: 0.6774213910102844\nTrain loss: 1.4076368792303677, Train metric: 0.6776868104934692\n\nEvaluating...\nVal loss: 1.3879296779632568, Val metric: 0.7014631628990173\nVal loss: 1.4098632335662842, Val metric: 0.6833227872848511\nVal loss: 1.4115708952858335, Val metric: 0.6795058250427246\nVal loss: 1.40743459548269, Val metric: 0.6810839772224426\nVal loss: 1.4079537323543003, Val metric: 0.6815084218978882\nFilter: [2, 3, 4] dropout rate: 0.5\n\nstarting Epoch 1\nTraining...\n",
          "output_type": "stream"
        },
        {
          "output_type": "display_data",
          "data": {
            "text/plain": "Epoch 1:   0%|          | 0/18784 [00:00<?, ?it/s]",
            "application/vnd.jupyter.widget-view+json": {
              "version_major": 2,
              "version_minor": 0,
              "model_id": "2f23842af46b4695a5cbc83a72e64c05"
            }
          },
          "metadata": {}
        },
        {
          "name": "stdout",
          "text": "Train loss: 1.653755837473376, Train metric: 0.38730454444885254\nTrain loss: 1.646543040357787, Train metric: 0.39925551414489746\nTrain loss: 1.641575574874878, Train metric: 0.4107472598552704\nTrain loss: 1.6422766642323856, Train metric: 0.41067537665367126\nTrain loss: 1.6419502340514085, Train metric: 0.41040748357772827\n\nEvaluating...\nVal loss: 1.6294970512390137, Val metric: 0.42492371797561646\nVal loss: 1.6407063433102198, Val metric: 0.41686972975730896\nVal loss: 1.6394821462177096, Val metric: 0.41830143332481384\nVal loss: 1.6384749114513397, Val metric: 0.4190986454486847\nVal loss: 1.6373025928224836, Val metric: 0.424446702003479\n\nstarting Epoch 2\nTraining...\n",
          "output_type": "stream"
        },
        {
          "output_type": "display_data",
          "data": {
            "text/plain": "Epoch 2:   0%|          | 0/18784 [00:00<?, ?it/s]",
            "application/vnd.jupyter.widget-view+json": {
              "version_major": 2,
              "version_minor": 0,
              "model_id": "d84e495f72f04b069abe22bb34fbe9e4"
            }
          },
          "metadata": {}
        },
        {
          "name": "stdout",
          "text": "Train loss: 1.6366704537950714, Train metric: 0.41816213726997375\nTrain loss: 1.618491146071204, Train metric: 0.45461952686309814\nTrain loss: 1.577747847842074, Train metric: 0.5216113924980164\nTrain loss: 1.541427205348837, Train metric: 0.5589680075645447\nTrain loss: 1.5176780437601023, Train metric: 0.5811425447463989\n\nEvaluating...\nVal loss: 1.4055005822862898, Val metric: 0.676425576210022\nVal loss: 1.4319112300872803, Val metric: 0.6544628739356995\nVal loss: 1.4310268731344313, Val metric: 0.6571246385574341\nVal loss: 1.4275202453136444, Val metric: 0.6593144536018372\nVal loss: 1.42786089352199, Val metric: 0.6602909564971924\n\nstarting Epoch 3\nTraining...\n",
          "output_type": "stream"
        },
        {
          "output_type": "display_data",
          "data": {
            "text/plain": "Epoch 3:   0%|          | 0/18784 [00:00<?, ?it/s]",
            "application/vnd.jupyter.widget-view+json": {
              "version_major": 2,
              "version_minor": 0,
              "model_id": "2a67da911ac341f3ab1b69f7131b3ea3"
            }
          },
          "metadata": {}
        },
        {
          "name": "stdout",
          "text": "Train loss: 1.4105267689145844, Train metric: 0.6771507859230042\nTrain loss: 1.4138465832019675, Train metric: 0.6729731559753418\nTrain loss: 1.4177961445402825, Train metric: 0.6688506007194519\nTrain loss: 1.4178091863106037, Train metric: 0.6680274605751038\nTrain loss: 1.4170618081914967, Train metric: 0.6688902974128723\n\nEvaluating...\nVal loss: 1.393086280141558, Val metric: 0.6906986236572266\nVal loss: 1.415106475353241, Val metric: 0.6731509566307068\nVal loss: 1.4152514991306124, Val metric: 0.672715961933136\nVal loss: 1.4122112223080225, Val metric: 0.6736230254173279\nVal loss: 1.4120987142835344, Val metric: 0.6750932335853577\n\nstarting Epoch 4\nTraining...\n",
          "output_type": "stream"
        },
        {
          "output_type": "display_data",
          "data": {
            "text/plain": "Epoch 4:   0%|          | 0/18784 [00:00<?, ?it/s]",
            "application/vnd.jupyter.widget-view+json": {
              "version_major": 2,
              "version_minor": 0,
              "model_id": "49d9845f0765454eb6612744249dd321"
            }
          },
          "metadata": {}
        },
        {
          "name": "stdout",
          "text": "Train loss: 1.4063991554852189, Train metric: 0.6787527203559875\nTrain loss: 1.4088249083223015, Train metric: 0.6767172813415527\nTrain loss: 1.409920295079549, Train metric: 0.6729534864425659\nTrain loss: 1.4103893319080616, Train metric: 0.673038899898529\nTrain loss: 1.4120892935785754, Train metric: 0.6719523668289185\n\nEvaluating...\nVal loss: 1.3907897302082606, Val metric: 0.6920066475868225\nVal loss: 1.4113233940941947, Val metric: 0.6755857467651367\nVal loss: 1.412232137861706, Val metric: 0.6739455461502075\nVal loss: 1.4094593737806593, Val metric: 0.674858570098877\nVal loss: 1.4095606872013637, Val metric: 0.6758166551589966\n\nstarting Epoch 5\nTraining...\n",
          "output_type": "stream"
        },
        {
          "output_type": "display_data",
          "data": {
            "text/plain": "Epoch 5:   0%|          | 0/18784 [00:00<?, ?it/s]",
            "application/vnd.jupyter.widget-view+json": {
              "version_major": 2,
              "version_minor": 0,
              "model_id": "c1ff4923c91848aab39797c3213206c8"
            }
          },
          "metadata": {}
        },
        {
          "name": "stdout",
          "text": "Train loss: 1.3985663405780135, Train metric: 0.6873766183853149\nTrain loss: 1.4050615840944751, Train metric: 0.681071400642395\nTrain loss: 1.4131977105962819, Train metric: 0.6720665097236633\nTrain loss: 1.410064704459289, Train metric: 0.6765062212944031\nTrain loss: 1.4082122876726348, Train metric: 0.6773019433021545\n\nEvaluating...\nVal loss: 1.4058727877480643, Val metric: 0.6717326045036316\nVal loss: 1.428131639957428, Val metric: 0.6563676595687866\nVal loss: 1.4266362303779239, Val metric: 0.6579045057296753\nVal loss: 1.4236366493361337, Val metric: 0.6589669585227966\nVal loss: 1.422628675188337, Val metric: 0.6624177694320679\n",
          "output_type": "stream"
        }
      ]
    },
    {
      "cell_type": "markdown",
      "source": [
        "Посмотрим на результаты модели при различных фильтрах и дропаутах."
      ],
      "metadata": {
        "id": "Y7pSVHh8FrNl"
      }
    },
    {
      "cell_type": "code",
      "source": [
        "filters_for_dropout_0 = [] # adding accuracy scores\n",
        "filters_for_dropout_02 = []\n",
        "filters_for_dropout_05 = []\n",
        "for item in results:\n",
        "    if item['dropout'] == 0:\n",
        "        filters_for_dropout_0.append(np.mean(item['eval_accuracy']))\n",
        "    if item['dropout'] == 0.2:\n",
        "        filters_for_dropout_02.append(np.mean(item['eval_accuracy']))\n",
        "    if item['dropout'] == 0.5:\n",
        "        filters_for_dropout_05.append(np.mean(item['eval_accuracy']))"
      ],
      "metadata": {
        "execution": {
          "iopub.status.busy": "2021-12-29T15:56:36.435982Z",
          "iopub.execute_input": "2021-12-29T15:56:36.436645Z",
          "iopub.status.idle": "2021-12-29T15:56:36.443656Z",
          "shell.execute_reply.started": "2021-12-29T15:56:36.436606Z",
          "shell.execute_reply": "2021-12-29T15:56:36.442869Z"
        },
        "trusted": true,
        "id": "5ApS6LlAFrNm"
      },
      "execution_count": null,
      "outputs": []
    },
    {
      "cell_type": "code",
      "source": [
        "barWidth = 0.25\n",
        "fig = plt.subplots(figsize =(12, 8))\n",
        " \n",
        "br1 = np.arange(len(filters))\n",
        "br2 = [x + barWidth for x in br1]\n",
        "br3 = [x + barWidth for x in br2]\n",
        " \n",
        "plt.bar(br1, filters_for_dropout_0, color ='r', width = barWidth,\n",
        "        edgecolor ='grey', label ='dropout 0')\n",
        "plt.bar(br2, filters_for_dropout_02, color ='g', width = barWidth,\n",
        "        edgecolor ='grey', label ='dropout 0.2')\n",
        "plt.bar(br3, filters_for_dropout_05, color ='b', width = barWidth,\n",
        "        edgecolor ='grey', label ='dropout 0.5')\n",
        " \n",
        "plt.xlabel('Filters', fontweight ='bold', fontsize = 15)\n",
        "plt.ylabel('Accuracy', fontweight ='bold', fontsize = 15)\n",
        "plt.xticks([r + barWidth for r in range(len(filters))], filters)\n",
        "plt.legend()\n",
        "plt.show()"
      ],
      "metadata": {
        "execution": {
          "iopub.status.busy": "2021-12-29T16:17:05.187958Z",
          "iopub.execute_input": "2021-12-29T16:17:05.188241Z",
          "iopub.status.idle": "2021-12-29T16:17:05.449962Z",
          "shell.execute_reply.started": "2021-12-29T16:17:05.188212Z",
          "shell.execute_reply": "2021-12-29T16:17:05.449283Z"
        },
        "trusted": true,
        "id": "R6voWljDFrNm",
        "outputId": "39fd8fde-b397-44f3-abc8-3d4b5ff2509b"
      },
      "execution_count": null,
      "outputs": [
        {
          "output_type": "display_data",
          "data": {
            "text/plain": "<Figure size 864x576 with 1 Axes>",
            "image/png": "[encoded data removed]"
          },
          "metadata": {
            "needs_background": "light"
          }
        }
      ]
    },
    {
      "cell_type": "markdown",
      "source": [
        "Результаты метрик получились не сильно разбросанными как это было в статье, при этом фильтры длины 2 и 3 показали результаты не хуже чем длины 1 (а в статье лучшие результаты были именно у фильтров длины 1). У нас же лучшие результаты получились при комбинации фильтра [2,4] и dropout 0.2. В целом почти со всеми фильтрами (кроме фильтра 3) dropout 0.2 показал наилучшие результаты. \n",
        "Попробуем теперь применить большее кол-во фильтров в CNN и изменим параметр memory dimension in LSTM."
      ],
      "metadata": {
        "id": "fEPAOdytFrNn"
      }
    },
    {
      "cell_type": "code",
      "source": [
        "model = C_LSTM(len(word2id), max_len=600, filter_sizes=[2, 4],\n",
        "               filters_num=300, memory_dim=300, dropout_rate=0.2, \n",
        "               dropout_input=False, dropout_lstm=True)\n",
        "model = model.to(DEVICE)\n",
        "optimizer = RMSprop(model.parameters(), lr=0.001, weight_decay=0.0001)\n",
        "criterion = nn.CrossEntropyLoss()\n",
        "criterion = criterion.to(DEVICE)\n",
        "\n",
        "epochs = 5\n",
        "train_losses = []\n",
        "train_accuracy = []\n",
        "eval_losses = []\n",
        "eval_accuracy = []\n",
        "\n",
        "for epoch in range(epochs):\n",
        "    print(f'\\nstarting Epoch {epoch+1}')\n",
        "    print('Training...')\n",
        "    epoch_loss, epoch_metrics = train(model, optimizer, criterion, epoch)\n",
        "    train_losses.append(epoch_loss)\n",
        "    train_accuracy.append(epoch_metrics)\n",
        "    print('\\nEvaluating...')\n",
        "    epoch_loss_eval, epoch_metrics_eval = evaluate(model, criterion)\n",
        "    eval_losses.append(epoch_loss_eval)\n",
        "    eval_accuracy.append(epoch_metrics_eval)          "
      ],
      "metadata": {
        "execution": {
          "iopub.status.busy": "2021-12-29T16:27:40.791934Z",
          "iopub.execute_input": "2021-12-29T16:27:40.792641Z",
          "iopub.status.idle": "2021-12-29T16:30:29.854437Z",
          "shell.execute_reply.started": "2021-12-29T16:27:40.792603Z",
          "shell.execute_reply": "2021-12-29T16:30:29.850584Z"
        },
        "trusted": true,
        "colab": {
          "referenced_widgets": [
            "a3a82f1ba5e74693b226137076bac6da",
            "d16f2210db624680b33ae36be08f254f",
            "924a1195a6da409f8eeaa6a79c82dd69",
            "19c086896fbe441ca41aa2a6ddaf7c1b",
            "eeb28c2f474e4557a3e6a0f23bc3de2d"
          ]
        },
        "id": "cbIfSGNgFrNo",
        "outputId": "90f3eff5-ee4f-45bc-be68-5634807cb9cb"
      },
      "execution_count": null,
      "outputs": [
        {
          "name": "stdout",
          "text": "\nstarting Epoch 1\nTraining...\n",
          "output_type": "stream"
        },
        {
          "output_type": "display_data",
          "data": {
            "text/plain": "Epoch 1:   0%|          | 0/18784 [00:00<?, ?it/s]",
            "application/vnd.jupyter.widget-view+json": {
              "version_major": 2,
              "version_minor": 0,
              "model_id": "a3a82f1ba5e74693b226137076bac6da"
            }
          },
          "metadata": {}
        },
        {
          "name": "stdout",
          "text": "Train loss: 1.6562300591633237, Train metric: 0.39622801542282104\nTrain loss: 1.6482793298260918, Train metric: 0.4016621708869934\nTrain loss: 1.6472673525755432, Train metric: 0.4049249291419983\nTrain loss: 1.6463246283860042, Train metric: 0.40668562054634094\nTrain loss: 1.6445804817923184, Train metric: 0.4093874990940094\n\nEvaluating...\nVal loss: 1.6259040321622575, Val metric: 0.42480215430259705\nVal loss: 1.6401340961456299, Val metric: 0.4088577330112457\nVal loss: 1.6376099983851116, Val metric: 0.4150264263153076\nVal loss: 1.63722391639437, Val metric: 0.4140211045742035\nVal loss: 1.6357744557516916, Val metric: 0.41660642623901367\n\nstarting Epoch 2\nTraining...\n",
          "output_type": "stream"
        },
        {
          "output_type": "display_data",
          "data": {
            "text/plain": "Epoch 2:   0%|          | 0/18784 [00:00<?, ?it/s]",
            "application/vnd.jupyter.widget-view+json": {
              "version_major": 2,
              "version_minor": 0,
              "model_id": "d16f2210db624680b33ae36be08f254f"
            }
          },
          "metadata": {}
        },
        {
          "name": "stdout",
          "text": "Train loss: 1.6470410412755505, Train metric: 0.40523725748062134\nTrain loss: 1.6414877649011284, Train metric: 0.41609686613082886\nTrain loss: 1.6296056728253419, Train metric: 0.4376252591609955\nTrain loss: 1.589242881742017, Train metric: 0.49332255125045776\nTrain loss: 1.559612277458454, Train metric: 0.5254786610603333\n\nEvaluating...\nVal loss: 1.4101537806647164, Val metric: 0.6788009405136108\nVal loss: 1.434875556400844, Val metric: 0.6562873721122742\nVal loss: 1.4341850961957658, Val metric: 0.6583410501480103\nVal loss: 1.4306967939649309, Val metric: 0.6599054932594299\nVal loss: 1.430614801815578, Val metric: 0.6622128486633301\n\nstarting Epoch 3\nTraining...\n",
          "output_type": "stream"
        },
        {
          "output_type": "display_data",
          "data": {
            "text/plain": "Epoch 3:   0%|          | 0/18784 [00:00<?, ?it/s]",
            "application/vnd.jupyter.widget-view+json": {
              "version_major": 2,
              "version_minor": 0,
              "model_id": "924a1195a6da409f8eeaa6a79c82dd69"
            }
          },
          "metadata": {}
        },
        {
          "name": "stdout",
          "text": "Train loss: 1.4320725695840244, Train metric: 0.6556276679039001\nTrain loss: 1.4245097945476402, Train metric: 0.6619626879692078\nTrain loss: 1.4212600705267369, Train metric: 0.6670229434967041\nTrain loss: 1.4212849962300267, Train metric: 0.6675045490264893\nTrain loss: 1.4210051955847904, Train metric: 0.6678420305252075\n\nEvaluating...\nVal loss: 1.3990146943501063, Val metric: 0.6883411407470703\nVal loss: 1.4226609213011605, Val metric: 0.665864884853363\nVal loss: 1.4225167887551444, Val metric: 0.6670811772346497\nVal loss: 1.419537024838584, Val metric: 0.6676076054573059\nVal loss: 1.41876311983381, Val metric: 0.6695329546928406\n\nstarting Epoch 4\nTraining...\n",
          "output_type": "stream"
        },
        {
          "output_type": "display_data",
          "data": {
            "text/plain": "Epoch 4:   0%|          | 0/18784 [00:00<?, ?it/s]",
            "application/vnd.jupyter.widget-view+json": {
              "version_major": 2,
              "version_minor": 0,
              "model_id": "19c086896fbe441ca41aa2a6ddaf7c1b"
            }
          },
          "metadata": {}
        },
        {
          "name": "stdout",
          "text": "Train loss: 1.408776094173563, Train metric: 0.680027425289154\nTrain loss: 1.4133583368926212, Train metric: 0.6717309355735779\nTrain loss: 1.4147291142365028, Train metric: 0.6714379787445068\nTrain loss: 1.417205561851633, Train metric: 0.6685486435890198\nTrain loss: 1.4162330684990718, Train metric: 0.6698803901672363\n\nEvaluating...\nVal loss: 1.4005051851272583, Val metric: 0.6835463643074036\nVal loss: 1.4187604018620081, Val metric: 0.6719959378242493\nVal loss: 1.4203642436436243, Val metric: 0.6694810390472412\nVal loss: 1.4165688071932112, Val metric: 0.6708909869194031\nVal loss: 1.415481093951634, Val metric: 0.6733265519142151\n\nstarting Epoch 5\nTraining...\n",
          "output_type": "stream"
        },
        {
          "output_type": "display_data",
          "data": {
            "text/plain": "Epoch 5:   0%|          | 0/18784 [00:00<?, ?it/s]",
            "application/vnd.jupyter.widget-view+json": {
              "version_major": 2,
              "version_minor": 0,
              "model_id": "eeb28c2f474e4557a3e6a0f23bc3de2d"
            }
          },
          "metadata": {}
        },
        {
          "name": "stdout",
          "text": "Train loss: 1.3986055933195969, Train metric: 0.6867908239364624\nTrain loss: 1.413571035039836, Train metric: 0.6727417707443237\nTrain loss: 1.4129783463204044, Train metric: 0.6715153455734253\nTrain loss: 1.4117338698485802, Train metric: 0.6738410592079163\nTrain loss: 1.4125147581100463, Train metric: 0.6737191081047058\n\nEvaluating...\nVal loss: 1.4027448722294398, Val metric: 0.675483226776123\nVal loss: 1.4203684329986572, Val metric: 0.6656326055526733\nVal loss: 1.4207372211274647, Val metric: 0.6640592217445374\nVal loss: 1.4166083761623927, Val metric: 0.666254997253418\nVal loss: 1.4160619565418788, Val metric: 0.6688755750656128\n",
          "output_type": "stream"
        }
      ]
    },
    {
      "cell_type": "code",
      "source": [
        "plt.figure(1, figsize=(10, 10))\n",
        "\n",
        "plt.subplot(211)\n",
        "plt.plot(train_losses)\n",
        "plt.plot(eval_losses)\n",
        "plt.title('Training')\n",
        "plt.ylabel('Loss')\n",
        "plt.xlabel('epoch')\n",
        "plt.legend(['train', 'val'], loc='upper right')\n",
        "\n",
        "\n",
        "plt.subplot(212)\n",
        "plt.plot(train_accuracy)\n",
        "plt.plot(eval_accuracy)\n",
        "plt.title('Evaluation')\n",
        "plt.ylabel('Accuracy')\n",
        "plt.xlabel('epoch')\n",
        "plt.legend(['train', 'val'], loc='upper right')\n",
        "\n",
        "plt.show()"
      ],
      "metadata": {
        "execution": {
          "iopub.status.busy": "2021-12-29T16:30:38.010239Z",
          "iopub.execute_input": "2021-12-29T16:30:38.010486Z",
          "iopub.status.idle": "2021-12-29T16:30:38.340516Z",
          "shell.execute_reply.started": "2021-12-29T16:30:38.010459Z",
          "shell.execute_reply": "2021-12-29T16:30:38.339868Z"
        },
        "trusted": true,
        "id": "IwVZzsPPFrNp",
        "outputId": "065cb06c-de52-4a15-c7f2-a61928ef0acb"
      },
      "execution_count": null,
      "outputs": [
        {
          "output_type": "display_data",
          "data": {
            "text/plain": "<Figure size 720x720 with 2 Axes>",
            "image/png": "[encoded data removed]"
          },
          "metadata": {
            "needs_background": "light"
          }
        }
      ]
    },
    {
      "cell_type": "code",
      "source": [
        "y_pred = []\n",
        "y_true = []\n",
        "for texts, y in val_iterator:   \n",
        "    y_pred.extend(torch.argmax(model(texts), dim=1).cpu().detach().numpy())\n",
        "    y_true.extend(y.cpu().detach().numpy())\n",
        "print(classification_report(y_true, y_pred))"
      ],
      "metadata": {
        "execution": {
          "iopub.status.busy": "2021-12-29T16:30:59.511594Z",
          "iopub.execute_input": "2021-12-29T16:30:59.511845Z",
          "iopub.status.idle": "2021-12-29T16:31:02.454250Z",
          "shell.execute_reply.started": "2021-12-29T16:30:59.511816Z",
          "shell.execute_reply": "2021-12-29T16:31:02.453526Z"
        },
        "trusted": true,
        "id": "J-7ruG-sFrNq",
        "outputId": "01584227-bcbe-4af9-c366-c2c57e719a54"
      },
      "execution_count": null,
      "outputs": [
        {
          "name": "stdout",
          "text": "              precision    recall  f1-score   support\n\n           0       0.00      0.00      0.00       314\n           1       0.00      0.00      0.00       156\n           2       0.91      0.89      0.90      1810\n           3       0.00      0.00      0.00       157\n           4       0.00      0.00      0.00       892\n           5       0.45      0.96      0.61      1368\n\n    accuracy                           0.62      4697\n   macro avg       0.23      0.31      0.25      4697\nweighted avg       0.48      0.62      0.52      4697\n\n",
          "output_type": "stream"
        },
        {
          "name": "stderr",
          "text": "/opt/conda/lib/python3.7/site-packages/sklearn/metrics/_classification.py:1221: UndefinedMetricWarning: Precision and F-score are ill-defined and being set to 0.0 in labels with no predicted samples. Use `zero_division` parameter to control this behavior.\n  _warn_prf(average, modifier, msg_start, len(result))\n",
          "output_type": "stream"
        }
      ]
    },
    {
      "cell_type": "markdown",
      "source": [
        "Стало чуть получше, но все равно результаты неутешительные...С какими параметрами у меня получилось улучшить модель:\n",
        "- dropout 0.2\n",
        "- filter_sizes [2,4]\n",
        "- filters_num 300 \n",
        "- memory_dim 300\n",
        "\n",
        "В целом можно еще покрутить и другие параметры (я не меняла learning rate, функции активации). Я бы сказала, что наши данные сильно отличаются от тех данных, что использовались в статье, кроме того, наши данные плохо подходят для классификации в их первоначальном виде. Как можно было заметить из результатов выше, модель не справляется с классификацией малочисленных классов. "
      ],
      "metadata": {
        "id": "WkABi1ajFrNr"
      }
    }
  ]
}