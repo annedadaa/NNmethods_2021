{
  "nbformat": 4,
  "nbformat_minor": 0,
  "metadata": {
    "colab": {
      "name": "NNmethods_hw1.ipynb",
      "provenance": [],
      "collapsed_sections": []
    },
    "kernelspec": {
      "name": "python3",
      "display_name": "Python 3"
    },
    "language_info": {
      "name": "python"
    }
  },
  "cells": [
    {
      "cell_type": "code",
      "metadata": {
        "colab": {
          "base_uri": "https://localhost:8080/"
        },
        "id": "2tVRi15fpeGa",
        "outputId": "4a5562ba-e9a5-4a20-ce1a-0881c4ffe70e"
      },
      "source": [
        "from nltk.stem import WordNetLemmatizer\n",
        "from nltk.corpus import stopwords\n",
        "from string import punctuation\n",
        "from scipy import stats\n",
        "from tqdm import tqdm\n",
        "import matplotlib.pyplot as plt\n",
        "import seaborn as sns\n",
        "import pandas as pd\n",
        "import numpy as np\n",
        "import statistics\n",
        "import string\n",
        "import regex\n",
        "import nltk\n",
        "import re\n",
        "%matplotlib inline\n",
        "nltk.download('punkt')\n",
        "nltk.download('stopwords')\n",
        "nltk.download('wordnet')\n",
        "stopword = stopwords.words('english')\n",
        "lemmatizer = WordNetLemmatizer()"
      ],
      "execution_count": 1,
      "outputs": [
        {
          "output_type": "stream",
          "name": "stdout",
          "text": [
            "[nltk_data] Downloading package punkt to /root/nltk_data...\n",
            "[nltk_data]   Package punkt is already up-to-date!\n",
            "[nltk_data] Downloading package stopwords to /root/nltk_data...\n",
            "[nltk_data]   Package stopwords is already up-to-date!\n",
            "[nltk_data] Downloading package wordnet to /root/nltk_data...\n",
            "[nltk_data]   Package wordnet is already up-to-date!\n"
          ]
        }
      ]
    },
    {
      "cell_type": "code",
      "metadata": {
        "id": "PKTX3B7Lb7Br"
      },
      "source": [
        "from sklearn.model_selection import train_test_split, StratifiedKFold, KFold, cross_val_score, GridSearchCV, RepeatedStratifiedKFold\n",
        "from sklearn.metrics import r2_score, mean_squared_error, mean_absolute_error, plot_confusion_matrix, confusion_matrix, f1_score\n",
        "from sklearn.feature_extraction.text import CountVectorizer, TfidfVectorizer, TfidfTransformer\n",
        "from sklearn.linear_model import Ridge, LinearRegression, Lasso\n",
        "from sklearn.neighbors import KNeighborsClassifier\n",
        "from sklearn.naive_bayes import MultinomialNB\n",
        "from sklearn.utils import resample,shuffle\n",
        "from sklearn.pipeline import Pipeline\n",
        "from sklearn import linear_model"
      ],
      "execution_count": 2,
      "outputs": []
    },
    {
      "cell_type": "markdown",
      "metadata": {
        "id": "jc1BKM8oooh3"
      },
      "source": [
        "#### Задание 1.\n",
        "Предсказать цену по описанию товара (для каждого товара)"
      ]
    },
    {
      "cell_type": "code",
      "metadata": {
        "id": "k4WqIVZFySJC"
      },
      "source": [
        "df = pd.read_csv('Shoes_Data.csv', sep = ',')\n",
        "for row in range(0, len(df)):\n",
        "  df['price'].loc[row] = df['price'].loc[row].lstrip('₹')\n",
        "  df['price'].loc[row] = float(df['price'].loc[row])\n",
        "df_1 = df[['price', 'product_description']]"
      ],
      "execution_count": 3,
      "outputs": []
    },
    {
      "cell_type": "markdown",
      "metadata": {
        "id": "BaKO2ZvnrhdW"
      },
      "source": [
        "Оставила в рабочем датафрейме только колонки *price* и *product_description*. Убрала дубликаты. Дальше я убрала все нелатинские символы, предварительно посчитав, сколько таких описаний. Можно заметить, что текстов не на латинице достаточно мало, и их удаление не испортит нашу модель (см. графики ниже). \n",
        "\n",
        "\n"
      ]
    },
    {
      "cell_type": "code",
      "metadata": {
        "id": "GZlorme8HvcW"
      },
      "source": [
        "df_1 = df_1.drop_duplicates()\n",
        "df_1['index']= range(0, len(df_1))\n",
        "df_1 = df_1.set_index('index')\n",
        "\n",
        "def latin(df, column):\n",
        "    nonenglish = 0\n",
        "    english = 0\n",
        "    length = []\n",
        "    length_all = []\n",
        "    for row in range(len(df[column])):\n",
        "        text = df.loc[row, column]\n",
        "        length_all.append(len(text.split()))\n",
        "        if text.isascii() == False:\n",
        "            nonenglish += 1\n",
        "        else:\n",
        "            english += 1\n",
        "        encoded_string = text.encode(\"ascii\", \"ignore\")\n",
        "        decode_string = encoded_string.decode()\n",
        "        decode_string = re.sub(r'\\s+', ' ', decode_string)\n",
        "        df.loc[row, column] = decode_string\n",
        "        length.append(len(decode_string.split()))\n",
        "    nonlatin = column + ' не полностью на латинице:' + str(nonenglish)\n",
        "    lat = column +  ' полностью на латинице:' + str(english)\n",
        "    return df, nonlatin, lat, length_all, length"
      ],
      "execution_count": 4,
      "outputs": []
    },
    {
      "cell_type": "code",
      "metadata": {
        "colab": {
          "base_uri": "https://localhost:8080/",
          "height": 252
        },
        "id": "5meHrkZeJVh7",
        "outputId": "c11e0410-5b5c-44b8-d897-3b5018fa1b42"
      },
      "source": [
        "df_1, nonlatin, lat, length_all, length = latin(df_1, 'product_description')\n",
        "print(nonlatin, lat)\n",
        "df_1.head()"
      ],
      "execution_count": 5,
      "outputs": [
        {
          "output_type": "stream",
          "name": "stdout",
          "text": [
            "product_description не полностью на латинице:178 product_description полностью на латинице:791\n"
          ]
        },
        {
          "output_type": "execute_result",
          "data": {
            "text/html": [
              "<div>\n",
              "<style scoped>\n",
              "    .dataframe tbody tr th:only-of-type {\n",
              "        vertical-align: middle;\n",
              "    }\n",
              "\n",
              "    .dataframe tbody tr th {\n",
              "        vertical-align: top;\n",
              "    }\n",
              "\n",
              "    .dataframe thead th {\n",
              "        text-align: right;\n",
              "    }\n",
              "</style>\n",
              "<table border=\"1\" class=\"dataframe\">\n",
              "  <thead>\n",
              "    <tr style=\"text-align: right;\">\n",
              "      <th></th>\n",
              "      <th>price</th>\n",
              "      <th>product_description</th>\n",
              "    </tr>\n",
              "    <tr>\n",
              "      <th>index</th>\n",
              "      <th></th>\n",
              "      <th></th>\n",
              "    </tr>\n",
              "  </thead>\n",
              "  <tbody>\n",
              "    <tr>\n",
              "      <th>0</th>\n",
              "      <td>279</td>\n",
              "      <td>Elevate your style with this classy pair of Ru...</td>\n",
              "    </tr>\n",
              "    <tr>\n",
              "      <th>1</th>\n",
              "      <td>479</td>\n",
              "      <td>The product will be an excellent pick for you....</td>\n",
              "    </tr>\n",
              "    <tr>\n",
              "      <th>2</th>\n",
              "      <td>430</td>\n",
              "      <td>Flaunt with these stylish and unique red casua...</td>\n",
              "    </tr>\n",
              "    <tr>\n",
              "      <th>3</th>\n",
              "      <td>499</td>\n",
              "      <td>Robbie Jones Shoes Are Designed To Keeping In ...</td>\n",
              "    </tr>\n",
              "    <tr>\n",
              "      <th>4</th>\n",
              "      <td>499</td>\n",
              "      <td>Sparx is a spectacular range of footwear from ...</td>\n",
              "    </tr>\n",
              "  </tbody>\n",
              "</table>\n",
              "</div>"
            ],
            "text/plain": [
              "      price                                product_description\n",
              "index                                                         \n",
              "0       279  Elevate your style with this classy pair of Ru...\n",
              "1       479  The product will be an excellent pick for you....\n",
              "2       430  Flaunt with these stylish and unique red casua...\n",
              "3       499  Robbie Jones Shoes Are Designed To Keeping In ...\n",
              "4       499  Sparx is a spectacular range of footwear from ..."
            ]
          },
          "metadata": {},
          "execution_count": 5
        }
      ]
    },
    {
      "cell_type": "markdown",
      "metadata": {
        "id": "0nxDwj0i0Cjd"
      },
      "source": [
        "Два ящика с усами: на обоих графиках показано распределение длин описаний товара. \n",
        "\n",
        "1.   Распределение значений длин при описаниях с не латинскими символами. Выбросов достаточно много.\n",
        "2.   Распределение значений при описаниях только на латинице.\n",
        "\n",
        "Оба ящика выглядят одинаково, тк значения там в 80% случаях совпадают (из данных выше о кол-ве описаний на латинице/ не латинице). Нас не интересуют выбросы, т.е очень длинные описания, потому что они не сопоставимы с теми, что только на латинице. Поэтому можно смело их удалить и дальше использовать только очищенные от не латиницы тексты.\n"
      ]
    },
    {
      "cell_type": "code",
      "metadata": {
        "colab": {
          "base_uri": "https://localhost:8080/",
          "height": 476
        },
        "id": "mv0l2gGX1Pvf",
        "outputId": "885ac115-e38a-470b-e289-64e031fd9c08"
      },
      "source": [
        "plt.figure(figsize=(10, 6))\n",
        "plt.boxplot([length_all, length])\n",
        "plt.show()\n",
        "\n",
        "print('медиана длин описаний только на латинице:', statistics.median(length))\n",
        "print('максимальная длина описаний только на латинице:', max(length))\n",
        "print('минимальная длина описаний только на латинице:', min(length))\n",
        "print('медиана длин описаний со всеми символами:', statistics.median(length_all))\n",
        "print('максимальная длина описаний со всеми символами:', max(length_all))\n",
        "print('минимальная длина описаний со всеми символами:', min(length_all))"
      ],
      "execution_count": 6,
      "outputs": [
        {
          "output_type": "display_data",
          "data": {
            "image/png": "[encoded data removed]",
            "text/plain": [
              "<Figure size 720x432 with 1 Axes>"
            ]
          },
          "metadata": {
            "needs_background": "light"
          }
        },
        {
          "output_type": "stream",
          "name": "stdout",
          "text": [
            "медиана длин описаний только на латинице: 46\n",
            "максимальная длина описаний только на латинице: 472\n",
            "минимальная длина описаний только на латинице: 0\n",
            "медиана длин описаний со всеми символами: 46\n",
            "максимальная длина описаний со всеми символами: 1666\n",
            "минимальная длина описаний со всеми символами: 0\n"
          ]
        }
      ]
    },
    {
      "cell_type": "markdown",
      "metadata": {
        "id": "x_cjNR-uohws"
      },
      "source": [
        "Дальше идет лемматизация описаний, удаление стоп-слов, пунктуации, цифр. Я попробовала сделать такую предобработку, а затем сравнила с необработанными данными (см график ниже). Я сравнивала только кол-во токенов VS кол-во лем в описании по отношению к цене товара. Что я заметила:\n",
        "*   Благодаря предпроцессингу текстов, данные по описаниям получаются более равномерными\n",
        "*   Кажется, что линейной зависимости нет, короткие описания характерны для всех ценовых категорий товара\n",
        "*   С другой стороны, похоже, что чем длиннее отзыв - тем ниже цена, а для наибольших цен вообще не характерны длинные описания\n",
        "\n"
      ]
    },
    {
      "cell_type": "code",
      "metadata": {
        "id": "T3ii1LItDYWT"
      },
      "source": [
        "def preprocessing(anydf, column):\n",
        "    anydf[column + '_lems'] = ''\n",
        "    lem_length = []\n",
        "    desc_length = []\n",
        "    for row in range(len(anydf[column])):\n",
        "        text = anydf[column][row]\n",
        "        text = str(text)\n",
        "        desc_length.append(len(text.split())) \n",
        "        tokens = nltk.word_tokenize(text.lower())\n",
        "        lems = [lemmatizer.lemmatize(w) for w in tokens]\n",
        "        lems = [lem for lem in lems if lem not in stopword\n",
        "                  and lem != \" \"\n",
        "                  and len(lem) >= 3\n",
        "                  and lem.strip() not in punctuation\n",
        "                  and lem.isdigit() is False]\n",
        "        lems = [i for i in lems if not any(j.isdigit()\n",
        "              or j in punctuation for j in i)]\n",
        "        text = \" \".join(lems)\n",
        "        anydf[column + '_lems'][row] = text\n",
        "        lem_length.append(len(text.split()))\n",
        "    return anydf, lem_length, desc_length"
      ],
      "execution_count": 7,
      "outputs": []
    },
    {
      "cell_type": "code",
      "metadata": {
        "colab": {
          "base_uri": "https://localhost:8080/",
          "height": 235
        },
        "id": "OgXV_jKxH66i",
        "outputId": "d66284b4-81de-4d9c-ce16-2aa10022bfc0"
      },
      "source": [
        "df_1, lem_length, desc_length = preprocessing(df_1, 'product_description')\n",
        "df_1.head()"
      ],
      "execution_count": 8,
      "outputs": [
        {
          "output_type": "execute_result",
          "data": {
            "text/html": [
              "<div>\n",
              "<style scoped>\n",
              "    .dataframe tbody tr th:only-of-type {\n",
              "        vertical-align: middle;\n",
              "    }\n",
              "\n",
              "    .dataframe tbody tr th {\n",
              "        vertical-align: top;\n",
              "    }\n",
              "\n",
              "    .dataframe thead th {\n",
              "        text-align: right;\n",
              "    }\n",
              "</style>\n",
              "<table border=\"1\" class=\"dataframe\">\n",
              "  <thead>\n",
              "    <tr style=\"text-align: right;\">\n",
              "      <th></th>\n",
              "      <th>price</th>\n",
              "      <th>product_description</th>\n",
              "      <th>product_description_lems</th>\n",
              "    </tr>\n",
              "    <tr>\n",
              "      <th>index</th>\n",
              "      <th></th>\n",
              "      <th></th>\n",
              "      <th></th>\n",
              "    </tr>\n",
              "  </thead>\n",
              "  <tbody>\n",
              "    <tr>\n",
              "      <th>0</th>\n",
              "      <td>279</td>\n",
              "      <td>Elevate your style with this classy pair of Ru...</td>\n",
              "      <td>elevate style classy pair running shoe house c...</td>\n",
              "    </tr>\n",
              "    <tr>\n",
              "      <th>1</th>\n",
              "      <td>479</td>\n",
              "      <td>The product will be an excellent pick for you....</td>\n",
              "      <td>product excellent pick ensures easy maintenance</td>\n",
              "    </tr>\n",
              "    <tr>\n",
              "      <th>2</th>\n",
              "      <td>430</td>\n",
              "      <td>Flaunt with these stylish and unique red casua...</td>\n",
              "      <td>flaunt stylish unique red casual shoe per late...</td>\n",
              "    </tr>\n",
              "    <tr>\n",
              "      <th>3</th>\n",
              "      <td>499</td>\n",
              "      <td>Robbie Jones Shoes Are Designed To Keeping In ...</td>\n",
              "      <td>robbie jones shoe designed keeping mind durabi...</td>\n",
              "    </tr>\n",
              "    <tr>\n",
              "      <th>4</th>\n",
              "      <td>499</td>\n",
              "      <td>Sparx is a spectacular range of footwear from ...</td>\n",
              "      <td>sparx spectacular range footwear house relaxo ...</td>\n",
              "    </tr>\n",
              "  </tbody>\n",
              "</table>\n",
              "</div>"
            ],
            "text/plain": [
              "      price  ...                           product_description_lems\n",
              "index        ...                                                   \n",
              "0       279  ...  elevate style classy pair running shoe house c...\n",
              "1       479  ...    product excellent pick ensures easy maintenance\n",
              "2       430  ...  flaunt stylish unique red casual shoe per late...\n",
              "3       499  ...  robbie jones shoe designed keeping mind durabi...\n",
              "4       499  ...  sparx spectacular range footwear house relaxo ...\n",
              "\n",
              "[5 rows x 3 columns]"
            ]
          },
          "metadata": {},
          "execution_count": 8
        }
      ]
    },
    {
      "cell_type": "code",
      "metadata": {
        "colab": {
          "base_uri": "https://localhost:8080/",
          "height": 388
        },
        "id": "d_kXcglzu2S3",
        "outputId": "ebc99516-4b27-4d3e-aea7-f0a4360bfbe0"
      },
      "source": [
        "price = df_1['price'].tolist()\n",
        "x = price\n",
        "y = desc_length\n",
        "v = lem_length\n",
        "fig = plt.figure(figsize=(10, 6))\n",
        "ax1 = fig.add_subplot(111)\n",
        "\n",
        "ax1.scatter(x, y, s=10, c='b', label='raw')\n",
        "ax1.scatter(x, v, s=10, c='r', label='preprocessed')\n",
        "ax1.set_xlabel('price')\n",
        "ax1.set_ylabel('number of words in description')\n",
        "plt.legend(loc='upper left');\n",
        "plt.show()"
      ],
      "execution_count": 9,
      "outputs": [
        {
          "output_type": "display_data",
          "data": {
            "image/png": "[encoded data removed]",
            "text/plain": [
              "<Figure size 720x432 with 1 Axes>"
            ]
          },
          "metadata": {
            "needs_background": "light"
          }
        }
      ]
    },
    {
      "cell_type": "markdown",
      "metadata": {
        "id": "wT9wtmWBgKjI"
      },
      "source": [
        "Инициализирую два векторайзера (CountVectorizer, TfidfVectorizer). Ф-ция для оценки работы моделей линейной регрессии. "
      ]
    },
    {
      "cell_type": "code",
      "metadata": {
        "id": "EYLBJVKsE2Rp"
      },
      "source": [
        "bow_vectorizer = CountVectorizer(ngram_range=(1,2))\n",
        "x1 = bow_vectorizer.fit_transform(df_1['product_description_lems'])\n",
        "y1 = df_1['price']\n",
        "x_train1, x_test1, y_train1, y_test1 = train_test_split(x1, y1)"
      ],
      "execution_count": 10,
      "outputs": []
    },
    {
      "cell_type": "code",
      "metadata": {
        "id": "XOcTiLetIrHK"
      },
      "source": [
        "tfidf_vectorizer = TfidfVectorizer(ngram_range=(1,2))\n",
        "x2 = tfidf_vectorizer.fit_transform(df_1['product_description_lems'])\n",
        "y2 = df_1['price']\n",
        "x_train2, x_test2, y_train2, y_test2 = train_test_split(x2, y2)"
      ],
      "execution_count": 11,
      "outputs": []
    },
    {
      "cell_type": "code",
      "metadata": {
        "id": "xf-ASO7ATGRJ"
      },
      "source": [
        "def get_cv_scores(model, x_train, y_train, y_true, y_pred):\n",
        "    scores = cross_val_score(model,\n",
        "                             x_train,\n",
        "                             y_train,\n",
        "                             cv=5,\n",
        "                             scoring='r2')\n",
        "    mae = mean_absolute_error(y_true, y_pred)\n",
        "    print('MAE (0 is cool): ', mae)\n",
        "    mse = mean_squared_error(y_true, y_pred)\n",
        "    print('MSE (0 is cool): ', mse)\n",
        "    rmse = np.sqrt(mean_squared_error(y_true, y_pred))\n",
        "    print('RMSE (0 is cool): ', rmse)\n",
        "    r2 = r2_score(y_true, y_pred)\n",
        "    print('R2 (1 is cool): ', r2)\n",
        "    cvmean = np.mean(scores)\n",
        "    print('CV Mean (mean r2): ', cvmean)\n",
        "    std = np.std(scores)\n",
        "    print('STD (standart derivation): ', std)\n",
        "    return model, mae, mse, rmse, r2, cvmean, std"
      ],
      "execution_count": 12,
      "outputs": []
    },
    {
      "cell_type": "markdown",
      "metadata": {
        "id": "C3jOlaaPOFtV"
      },
      "source": [
        "Для предсказания цены я взяла модели: linearregression, ridge, lasso (elastic-net фитилась 15 минут и давала результаты не лучше чем другие модели, я ее удалила). В качестве векторайзера я попробовала сразу оба, чтобы сравнить результаты не только между моделями, но и по векторайзерам."
      ]
    },
    {
      "cell_type": "markdown",
      "metadata": {
        "id": "rpKLiQzRizwj"
      },
      "source": [
        "**Линейная регрессия** \n"
      ]
    },
    {
      "cell_type": "code",
      "metadata": {
        "colab": {
          "base_uri": "https://localhost:8080/"
        },
        "id": "0WyzPeigizGd",
        "outputId": "c1ca1c00-1354-47d7-efc0-162769d7f1da"
      },
      "source": [
        "lr = LinearRegression(fit_intercept=False, normalize=True).fit(x_train1, y_train1)\n",
        "lr_y_pred1 = lr.predict(x_test1)\n",
        "lr_bow = get_cv_scores(lr, x_train1, y_train1, y_test1, lr_y_pred1)\n",
        "print('\\n')\n",
        "lr = LinearRegression(fit_intercept=False, normalize=True).fit(x_train2, y_train2)\n",
        "lr_y_pred2 = lr.predict(x_test2)\n",
        "lr_tfidf = get_cv_scores(lr, x_train2, y_train2, y_test2, lr_y_pred2)"
      ],
      "execution_count": 13,
      "outputs": [
        {
          "output_type": "stream",
          "name": "stdout",
          "text": [
            "MAE (0 is cool):  1059.4395922591527\n",
            "MSE (0 is cool):  2859485.964543999\n",
            "RMSE (0 is cool):  1691.0014679307642\n",
            "R2 (1 is cool):  -0.18724366489595012\n",
            "CV Mean (mean r2):  -0.21331214016209316\n",
            "STD (standart derivation):  0.267668913534754\n",
            "\n",
            "\n",
            "MAE (0 is cool):  799.2867415642276\n",
            "MSE (0 is cool):  1782952.6636825884\n",
            "RMSE (0 is cool):  1335.2725054020202\n",
            "R2 (1 is cool):  0.2557133617436188\n",
            "CV Mean (mean r2):  0.25597174402818695\n",
            "STD (standart derivation):  0.03700302692429087\n"
          ]
        }
      ]
    },
    {
      "cell_type": "markdown",
      "metadata": {
        "id": "1Ans8iKMf8JF"
      },
      "source": [
        "**Регрессия Ridge** "
      ]
    },
    {
      "cell_type": "code",
      "metadata": {
        "colab": {
          "base_uri": "https://localhost:8080/"
        },
        "id": "JKif96ogOrHl",
        "outputId": "922d76df-7948-42fa-8ec4-ff3c519345ae"
      },
      "source": [
        "ridge1 = Ridge(alpha=1).fit(x_train1, y_train1)\n",
        "ridge2 = Ridge(alpha=1).fit(x_train2, y_train2)\n",
        "alpha = [0.001, 0.01, 0.1, 1, 10, 100, 1000]\n",
        "param_grid = dict(alpha=alpha)\n",
        "grid = GridSearchCV(estimator=ridge1, param_grid=param_grid, scoring='r2', verbose=1, n_jobs=-1)\n",
        "grid_result_1 = grid.fit(x_train1, y_train1)\n",
        "print('Best Score for BoW: ', grid_result_1.best_score_)\n",
        "print('Best Params for BoW: ', grid_result_1.best_params_)\n",
        "print('\\n')\n",
        "grid = GridSearchCV(estimator=ridge2, param_grid=param_grid, scoring='r2', verbose=1, n_jobs=-1)\n",
        "grid_result_2 = grid.fit(x_train2, y_train2)\n",
        "print('Best Score for TfIdf: ', grid_result_2.best_score_)\n",
        "print('Best Params for TfIdf: ', grid_result_2.best_params_)"
      ],
      "execution_count": 14,
      "outputs": [
        {
          "output_type": "stream",
          "name": "stdout",
          "text": [
            "Fitting 5 folds for each of 7 candidates, totalling 35 fits\n"
          ]
        },
        {
          "output_type": "stream",
          "name": "stderr",
          "text": [
            "[Parallel(n_jobs=-1)]: Using backend LokyBackend with 2 concurrent workers.\n",
            "[Parallel(n_jobs=-1)]: Done  35 out of  35 | elapsed:    2.4s finished\n",
            "[Parallel(n_jobs=-1)]: Using backend LokyBackend with 2 concurrent workers.\n"
          ]
        },
        {
          "output_type": "stream",
          "name": "stdout",
          "text": [
            "Best Score for BoW:  0.3822066377764751\n",
            "Best Params for BoW:  {'alpha': 100}\n",
            "\n",
            "\n",
            "Fitting 5 folds for each of 7 candidates, totalling 35 fits\n",
            "Best Score for TfIdf:  0.43764255432018195\n",
            "Best Params for TfIdf:  {'alpha': 0.1}\n"
          ]
        },
        {
          "output_type": "stream",
          "name": "stderr",
          "text": [
            "[Parallel(n_jobs=-1)]: Done  35 out of  35 | elapsed:    0.5s finished\n"
          ]
        }
      ]
    },
    {
      "cell_type": "code",
      "metadata": {
        "id": "WXKVqBVPX08Q"
      },
      "source": [
        "ridge_y_pred1 = grid_result_1.predict(x_test1)\n",
        "ridge_y_pred2 = grid_result_2.predict(x_test2)"
      ],
      "execution_count": 15,
      "outputs": []
    },
    {
      "cell_type": "code",
      "metadata": {
        "colab": {
          "base_uri": "https://localhost:8080/"
        },
        "id": "Xp4HlO-vXcqq",
        "outputId": "230ccc08-480d-4b15-e58e-ee5e9edac2b7"
      },
      "source": [
        "ridge_bow = get_cv_scores(ridge1, x_train1, y_train1, y_test1, ridge_y_pred1)\n",
        "print('\\n')\n",
        "ridge_tfidf = get_cv_scores(ridge2, x_train2, y_train2, y_test2, ridge_y_pred2)"
      ],
      "execution_count": 16,
      "outputs": [
        {
          "output_type": "stream",
          "name": "stdout",
          "text": [
            "MAE (0 is cool):  764.5667985285793\n",
            "MSE (0 is cool):  1297643.1841416801\n",
            "RMSE (0 is cool):  1139.1414241180416\n",
            "R2 (1 is cool):  0.46122531504948294\n",
            "CV Mean (mean r2):  0.2319392620106005\n",
            "STD (standart derivation):  0.1424613318512512\n",
            "\n",
            "\n",
            "MAE (0 is cool):  709.8323935924094\n",
            "MSE (0 is cool):  1117498.0721992652\n",
            "RMSE (0 is cool):  1057.1178137744464\n",
            "R2 (1 is cool):  0.5335047865503799\n",
            "CV Mean (mean r2):  0.42045952786732255\n",
            "STD (standart derivation):  0.037822478888996605\n"
          ]
        }
      ]
    },
    {
      "cell_type": "markdown",
      "metadata": {
        "id": "M8xQohknwDgj"
      },
      "source": [
        "**Регрессия Lasso**"
      ]
    },
    {
      "cell_type": "code",
      "metadata": {
        "id": "yzVcAbygxEL1",
        "colab": {
          "base_uri": "https://localhost:8080/"
        },
        "outputId": "34570660-253b-4d9d-949d-999dd4e30737"
      },
      "source": [
        "lasso1 = Lasso(alpha=1).fit(x_train1, y_train1)\n",
        "lasso2 = Lasso(alpha=1).fit(x_train2, y_train2)\n",
        "alpha = [0.001, 0.01, 0.1, 1, 10, 100, 1000]\n",
        "param_grid = dict(alpha=alpha)\n",
        "grid = GridSearchCV(estimator=lasso1, param_grid=param_grid, scoring='r2', verbose=1, n_jobs=-1)\n",
        "grid_result1 = grid.fit(x_train1, y_train1)\n",
        "print('Best Score: ', grid_result1.best_score_)\n",
        "print('Best Params: ', grid_result1.best_params_)\n",
        "print('\\n')\n",
        "grid = GridSearchCV(estimator=lasso2, param_grid=param_grid, scoring='r2', verbose=1, n_jobs=-1)\n",
        "grid_result2 = grid.fit(x_train2, y_train2)\n",
        "print('Best Score: ', grid_result2.best_score_)\n",
        "print('Best Params: ', grid_result2.best_params_)"
      ],
      "execution_count": 17,
      "outputs": [
        {
          "output_type": "stream",
          "name": "stderr",
          "text": [
            "/usr/local/lib/python3.7/dist-packages/sklearn/linear_model/_coordinate_descent.py:460: ConvergenceWarning: Objective did not converge. You might want to increase the number of iterations. Duality gap: 236963.9123043567, tolerance: 184613.4862512672\n",
            "  max_iter, tol, rng, random, positive)\n"
          ]
        },
        {
          "output_type": "stream",
          "name": "stdout",
          "text": [
            "Fitting 5 folds for each of 7 candidates, totalling 35 fits\n"
          ]
        },
        {
          "output_type": "stream",
          "name": "stderr",
          "text": [
            "[Parallel(n_jobs=-1)]: Using backend LokyBackend with 2 concurrent workers.\n",
            "[Parallel(n_jobs=-1)]: Done  35 out of  35 | elapsed:  1.7min finished\n"
          ]
        },
        {
          "output_type": "stream",
          "name": "stdout",
          "text": [
            "Best Score:  0.3512109342343957\n",
            "Best Params:  {'alpha': 10}\n",
            "\n",
            "\n",
            "Fitting 5 folds for each of 7 candidates, totalling 35 fits\n"
          ]
        },
        {
          "output_type": "stream",
          "name": "stderr",
          "text": [
            "[Parallel(n_jobs=-1)]: Using backend LokyBackend with 2 concurrent workers.\n",
            "[Parallel(n_jobs=-1)]: Done  35 out of  35 | elapsed:  1.2min finished\n"
          ]
        },
        {
          "output_type": "stream",
          "name": "stdout",
          "text": [
            "Best Score:  0.44272794368491086\n",
            "Best Params:  {'alpha': 1}\n"
          ]
        }
      ]
    },
    {
      "cell_type": "code",
      "metadata": {
        "id": "_YL1EmE-xElR"
      },
      "source": [
        "lasso_y_pred1 = grid_result1.predict(x_test1)\n",
        "lasso_y_pred2 = grid_result2.predict(x_test2)"
      ],
      "execution_count": 18,
      "outputs": []
    },
    {
      "cell_type": "code",
      "metadata": {
        "id": "MfMll9V9xErC",
        "colab": {
          "base_uri": "https://localhost:8080/"
        },
        "outputId": "b8442b45-58e4-4535-fbfb-c9c77363243a"
      },
      "source": [
        "lasso_bow = get_cv_scores(lasso1, x_train1, y_train1, y_test1, lasso_y_pred1)\n",
        "print('\\n')\n",
        "lasso_tfidf = get_cv_scores(lasso2, x_train2, y_train2, y_test2, lasso_y_pred2)"
      ],
      "execution_count": 19,
      "outputs": [
        {
          "output_type": "stream",
          "name": "stderr",
          "text": [
            "/usr/local/lib/python3.7/dist-packages/sklearn/linear_model/_coordinate_descent.py:460: ConvergenceWarning: Objective did not converge. You might want to increase the number of iterations. Duality gap: 400450.31763498485, tolerance: 140220.22410093795\n",
            "  max_iter, tol, rng, random, positive)\n",
            "/usr/local/lib/python3.7/dist-packages/sklearn/linear_model/_coordinate_descent.py:460: ConvergenceWarning: Objective did not converge. You might want to increase the number of iterations. Duality gap: 1449336.7835159153, tolerance: 144737.8126097074\n",
            "  max_iter, tol, rng, random, positive)\n",
            "/usr/local/lib/python3.7/dist-packages/sklearn/linear_model/_coordinate_descent.py:460: ConvergenceWarning: Objective did not converge. You might want to increase the number of iterations. Duality gap: 156809.7494570464, tolerance: 149794.77460385548\n",
            "  max_iter, tol, rng, random, positive)\n"
          ]
        },
        {
          "output_type": "stream",
          "name": "stdout",
          "text": [
            "MAE (0 is cool):  860.6348270820691\n",
            "MSE (0 is cool):  1543639.4444467572\n",
            "RMSE (0 is cool):  1242.4328732155943\n",
            "R2 (1 is cool):  0.35908895024243537\n",
            "CV Mean (mean r2):  0.2284383589323573\n",
            "STD (standart derivation):  0.13943327658676233\n",
            "\n",
            "\n",
            "MAE (0 is cool):  774.9838875934801\n",
            "MSE (0 is cool):  1258350.8701603874\n",
            "RMSE (0 is cool):  1121.7623946988003\n",
            "R2 (1 is cool):  0.4747063351843417\n",
            "CV Mean (mean r2):  0.44272794368491086\n",
            "STD (standart derivation):  0.04710078737772223\n"
          ]
        }
      ]
    },
    {
      "cell_type": "code",
      "metadata": {
        "colab": {
          "base_uri": "https://localhost:8080/",
          "height": 391
        },
        "id": "X1lKyYNP2YMV",
        "outputId": "19c7ccbf-8d31-4dc0-f9b2-fd56d1220f6a"
      },
      "source": [
        "fig = plt.figure(figsize=(10, 6))\n",
        "\n",
        "X = ['lr_bow', 'lr_tfidf', 'ridge_bow',\n",
        "      'ridge_tfidf', 'lasso_bow', 'lasso_tfidf']\n",
        "xmaes = [lr_bow[1], lr_tfidf[1], ridge_bow[1],\n",
        "        ridge_tfidf[1], lasso_bow[1], lasso_tfidf[1]]\n",
        "yrmses = [lr_bow[3], lr_tfidf[3], ridge_bow[3],\n",
        "        ridge_tfidf[3], lasso_bow[3], lasso_tfidf[3]]\n",
        "\n",
        "X_axis = np.arange(len(X))\n",
        "\n",
        "plt.bar(X_axis - 0.2, xmaes, 0.4, color = 'b', label = 'Mae')\n",
        "plt.bar(X_axis + 0.2, yrmses, 0.4, color = 'r', label = 'Rmse')\n",
        "  \n",
        "plt.xticks(X_axis, X)\n",
        "plt.title(\"Closer to 0 is better\")\n",
        "plt.legend()\n",
        "plt.show()"
      ],
      "execution_count": 20,
      "outputs": [
        {
          "output_type": "display_data",
          "data": {
            "image/png": "[encoded data removed]",
            "text/plain": [
              "<Figure size 720x432 with 1 Axes>"
            ]
          },
          "metadata": {
            "needs_background": "light"
          }
        }
      ]
    },
    {
      "cell_type": "code",
      "metadata": {
        "colab": {
          "base_uri": "https://localhost:8080/",
          "height": 390
        },
        "id": "TgPx274GNcxS",
        "outputId": "efd89ff0-902b-46d8-ea2f-835b68f4edc7"
      },
      "source": [
        "fig = plt.figure(figsize=(10, 6))\n",
        "x = ['lr_bow', 'lr_tfidf', 'ridge_bow',\n",
        "      'ridge_tfidf', 'lasso_bow', 'lasso_tfidf']\n",
        "y = [lr_bow[4], lr_tfidf[4], ridge_bow[4],\n",
        "        ridge_tfidf[4], lasso_bow[4], lasso_tfidf[4]]\n",
        "\n",
        "plt.title(\"Closer to 1 is better\")\n",
        "plt.barh(x, y)\n",
        "plt.show()"
      ],
      "execution_count": 21,
      "outputs": [
        {
          "output_type": "display_data",
          "data": {
            "image/png": "[encoded data removed]",
            "text/plain": [
              "<Figure size 720x432 with 1 Axes>"
            ]
          },
          "metadata": {
            "needs_background": "light"
          }
        }
      ]
    },
    {
      "cell_type": "markdown",
      "metadata": {
        "id": "jK_ni9MyODR_"
      },
      "source": [
        "Вывод по результатам моделей: лучше всех по всем метрикам оказалась модель **Ridge regression** с CountVectorizer и TfidfVectorizer, хотя Lasso Regression несильно уступает ей. Хуже всех справились модель простой линейной регрессии и CountVectorizer (в совокупности в том числе). Очевидно, простая линейная регрессия не справится с таким большим разбросом данных. Модели Ridge regression и Lasso Regression помогает бороться с псевдозависимостью между переменными, которыми могли быть выбросы. "
      ]
    },
    {
      "cell_type": "markdown",
      "metadata": {
        "id": "sbZ2wrnM2Ye2"
      },
      "source": [
        "**Комментарии к 1 заданию**\n",
        "\n",
        "Так как инструментов много, а данные несбалансированные, я перечислю то, что, как мне кажется, может улучшить существующие модели в данной задаче:\n",
        "\n",
        "*   Сбалансировать данные. Например, выставить верхнюю границу длины отзывов или наоброт добавить дубликатов с длинными отзывами.\n",
        "*   Можно попробовать другие способы лемматизации текстов (другие библиотеки), не убирать стоп-слова.\n",
        "*   При векторизации можно выставить n-граммы в параметрах (я взяла n-граммы от 1 до 2, но можно и другие проверить), а также покрутить другие параметры. Можно внедрить в гридсерч векторайзеры, чтобы не считать вручную результаты для каждого (но для меня это показалось легче, так как я знаю, как это делать).\n",
        "*   Мне кажется, если использовать названия товаров (колонка title), можно лучше предсказать цену. Это связано с тем, что некоторые бренды дороже, а другие дешевле сами по себе.\n",
        "\n"
      ]
    },
    {
      "cell_type": "markdown",
      "metadata": {
        "id": "-Fkn7_BixE2Q"
      },
      "source": [
        "#### Задание 2.\n",
        "Предсказать оценку товара пользователем по его отзыву (для каждого отзыва)"
      ]
    },
    {
      "cell_type": "markdown",
      "metadata": {
        "id": "36yigcblWJ-8"
      },
      "source": [
        "Сначала я разделила отзывы из изначального датафрейма на отдельные строки с отзывами. Затем я посчитала кол-во нелатиницы в отзывах и убрала все нелатинские символы. Препроцессинг я сделала тот же, что и в задаче с регрессией, но я оставила стоп-слова и слова меньше длины 3. Например, *not* может помочь модели отнести отзыв к негативному (возможно даже есть устойчивые характерные словосочетания типа 'not very' или подобные). В любом случае, результат стал от этого лучше (f1-score повышается примерно на 0.05, что существенно!)."
      ]
    },
    {
      "cell_type": "code",
      "metadata": {
        "id": "M7RiCnTexM_t"
      },
      "source": [
        "df_2 = df[['reviews', 'reviews_rating']]\n",
        "texts = []\n",
        "ratings = []\n",
        "for row in range(0, len(df_2)):\n",
        "    texts.append(df_2['reviews'].loc[row].split('|| '))\n",
        "    ratings.append(df_2['reviews_rating'].loc[row].split('|| '))\n",
        "texts = [item for sublist in texts for item in sublist]\n",
        "ratings = [item for sublist in ratings for item in sublist]"
      ],
      "execution_count": 22,
      "outputs": []
    },
    {
      "cell_type": "code",
      "metadata": {
        "id": "5boIJQj_Vwa9"
      },
      "source": [
        "data = {'review': texts, 'rating': ratings}   \n",
        "df_2 = pd.DataFrame(data)\n",
        "for row in range(0, len(df_2)):\n",
        "    df_2['rating'][row] = float(df_2['rating'].loc[row].split(' ')[0])"
      ],
      "execution_count": 23,
      "outputs": []
    },
    {
      "cell_type": "code",
      "metadata": {
        "id": "NxbLReoh4l89"
      },
      "source": [
        "df_2 = df_2.drop_duplicates(ignore_index=True)\n",
        "nonenglish = 0\n",
        "english = 0\n",
        "length = []\n",
        "length_all = []\n",
        "for row in range(len(df_2['review'])):\n",
        "    text = df_2.loc[row, 'review']\n",
        "    length_all.append(len(text.split()))\n",
        "    if text.isascii() == False:\n",
        "        nonenglish += 1\n",
        "    else:\n",
        "        english += 1\n",
        "    encoded_string = text.encode(\"ascii\", \"ignore\")\n",
        "    decode_string = encoded_string.decode()\n",
        "    decode_string = re.sub(r'\\s+', ' ', decode_string)\n",
        "    df_2.loc[row, 'review'] = decode_string\n",
        "    length.append(len(decode_string.split()))\n",
        "nonlatin = 'review не полностью на латинице:' + str(nonenglish)\n",
        "lat = 'review полностью на латинице:' + str(english)"
      ],
      "execution_count": 24,
      "outputs": []
    },
    {
      "cell_type": "markdown",
      "metadata": {
        "id": "hC5T8aa9WwtC"
      },
      "source": [
        "Отзывов с нелатиницей оказалось мало."
      ]
    },
    {
      "cell_type": "code",
      "metadata": {
        "colab": {
          "base_uri": "https://localhost:8080/"
        },
        "id": "EvIvJEpD5HtX",
        "outputId": "d322f693-db02-44b5-c78d-3b4494c7bc08"
      },
      "source": [
        "print(nonlatin, lat)"
      ],
      "execution_count": 25,
      "outputs": [
        {
          "output_type": "stream",
          "name": "stdout",
          "text": [
            "review не полностью на латинице:309 review полностью на латинице:5030\n"
          ]
        }
      ]
    },
    {
      "cell_type": "code",
      "metadata": {
        "colab": {
          "base_uri": "https://localhost:8080/",
          "height": 204
        },
        "id": "ZL-0o9HOiyTo",
        "outputId": "579a0a2a-e6f6-4b0c-cd21-a46dde96cefa"
      },
      "source": [
        "df_2['review_lems'] = ''\n",
        "lem_len = []\n",
        "rev_len = []\n",
        "for row in range(0, len(df_2)):\n",
        "    text = df_2['review'].loc[row]\n",
        "    text = str(text)\n",
        "    rev_len = [].append(len(text.split())) \n",
        "    tokens = nltk.word_tokenize(text.lower())\n",
        "    lems = [lemmatizer.lemmatize(w) for w in tokens]\n",
        "    lems = [lem for lem in lems if lem != \" \"\n",
        "        and lem.strip() not in punctuation\n",
        "        and lem.isdigit() is False]\n",
        "    lems = [i for i in lems if not any(j.isdigit()\n",
        "            or j in punctuation for j in i)]\n",
        "    text = \" \".join(lems)\n",
        "    df_2['review_lems'][row] = text\n",
        "    lem_len = [].append(len(text.split()))\n",
        "df_2.drop(df_2.loc[df_2['review']==''].index, inplace=True)\n",
        "df_2.drop(df_2.loc[df_2['review']==''].index, inplace=True)\n",
        "df_2.head()"
      ],
      "execution_count": 26,
      "outputs": [
        {
          "output_type": "execute_result",
          "data": {
            "text/html": [
              "<div>\n",
              "<style scoped>\n",
              "    .dataframe tbody tr th:only-of-type {\n",
              "        vertical-align: middle;\n",
              "    }\n",
              "\n",
              "    .dataframe tbody tr th {\n",
              "        vertical-align: top;\n",
              "    }\n",
              "\n",
              "    .dataframe thead th {\n",
              "        text-align: right;\n",
              "    }\n",
              "</style>\n",
              "<table border=\"1\" class=\"dataframe\">\n",
              "  <thead>\n",
              "    <tr style=\"text-align: right;\">\n",
              "      <th></th>\n",
              "      <th>review</th>\n",
              "      <th>rating</th>\n",
              "      <th>review_lems</th>\n",
              "    </tr>\n",
              "  </thead>\n",
              "  <tbody>\n",
              "    <tr>\n",
              "      <th>0</th>\n",
              "      <td>Not happy with product</td>\n",
              "      <td>1</td>\n",
              "      <td>not happy with product</td>\n",
              "    </tr>\n",
              "    <tr>\n",
              "      <th>1</th>\n",
              "      <td>It's not as expected.</td>\n",
              "      <td>1</td>\n",
              "      <td>it not a expected</td>\n",
              "    </tr>\n",
              "    <tr>\n",
              "      <th>2</th>\n",
              "      <td>AVERAGE PRODUCT</td>\n",
              "      <td>3</td>\n",
              "      <td>average product</td>\n",
              "    </tr>\n",
              "    <tr>\n",
              "      <th>3</th>\n",
              "      <td>Pic more beautiful</td>\n",
              "      <td>3</td>\n",
              "      <td>pic more beautiful</td>\n",
              "    </tr>\n",
              "    <tr>\n",
              "      <th>4</th>\n",
              "      <td>Got damage product. But quality is average for...</td>\n",
              "      <td>3</td>\n",
              "      <td>got damage product but quality is average for</td>\n",
              "    </tr>\n",
              "  </tbody>\n",
              "</table>\n",
              "</div>"
            ],
            "text/plain": [
              "                                              review  ...                                    review_lems\n",
              "0                             Not happy with product  ...                         not happy with product\n",
              "1                              It's not as expected.  ...                              it not a expected\n",
              "2                                    AVERAGE PRODUCT  ...                                average product\n",
              "3                                 Pic more beautiful  ...                             pic more beautiful\n",
              "4  Got damage product. But quality is average for...  ...  got damage product but quality is average for\n",
              "\n",
              "[5 rows x 3 columns]"
            ]
          },
          "metadata": {},
          "execution_count": 26
        }
      ]
    },
    {
      "cell_type": "markdown",
      "metadata": {
        "id": "ELHQUwGS900A"
      },
      "source": [
        "Ниже представлен график распределения кол-ва отзывов по оценкам. Кол-во отзывов на оценку 5 сильно превышает все остальные, что может сбить модель с толку, т.е более частое и точное предсказывание отзывов на 5, чем, например, на 2. Я попробовала зафитить такие данные в модель и получила f1-score около 0.40 (очень мало!!). В итоге я решила все же добавить данных в малочисленные классы, и обучить (только обучить!) модель на таких данных."
      ]
    },
    {
      "cell_type": "code",
      "metadata": {
        "colab": {
          "base_uri": "https://localhost:8080/",
          "height": 394
        },
        "id": "664b5Wwh8Dxs",
        "outputId": "096d471c-99b8-44bb-bf5e-31cca82d1ec1"
      },
      "source": [
        "df_2['rating'] = pd.to_numeric(df_2['rating'])\n",
        "fig = plt.figure(figsize=(10, 6))\n",
        "df_2.groupby('rating').review.count().plot.bar(ylim=0, color = 'r')\n",
        "plt.show()"
      ],
      "execution_count": 27,
      "outputs": [
        {
          "output_type": "display_data",
          "data": {
            "image/png": "[encoded data removed]",
            "text/plain": [
              "<Figure size 720x432 with 1 Axes>"
            ]
          },
          "metadata": {
            "needs_background": "light"
          }
        }
      ]
    },
    {
      "cell_type": "code",
      "metadata": {
        "id": "SRCWz9ds9GeH"
      },
      "source": [
        "train, test = train_test_split(df_2, test_size=0.2, random_state=42)"
      ],
      "execution_count": 28,
      "outputs": []
    },
    {
      "cell_type": "code",
      "metadata": {
        "id": "I5btTX87O0YE"
      },
      "source": [
        "train_1 = train[train['rating'] == 1]\n",
        "train_2 = train[train['rating'] == 2]\n",
        "train_3 = train[train['rating'] == 3]\n",
        "train_4 = train[train['rating'] == 4]\n",
        "train_5 = train[train['rating'] == 5]\n",
        "\n",
        "train_1_new = resample(train_1,random_state=42,n_samples=1800,replace=True)\n",
        "train_2_new = resample(train_2,random_state=42,n_samples=1800,replace=True)\n",
        "train_3_new = resample(train_3,random_state=42,n_samples=1800,replace=True)\n",
        "train_4_new = resample(train_4,random_state=42,n_samples=1800,replace=True)\n",
        "\n",
        "train_new = pd.concat([train_5, train_1_new, train_2_new, train_3_new,\n",
        "                       train_4_new])"
      ],
      "execution_count": 29,
      "outputs": []
    },
    {
      "cell_type": "markdown",
      "metadata": {
        "id": "EB-j44jpXpBR"
      },
      "source": [
        "Этот график показывает, что train data сбалансирована по всем классам, все красиво."
      ]
    },
    {
      "cell_type": "code",
      "metadata": {
        "colab": {
          "base_uri": "https://localhost:8080/",
          "height": 394
        },
        "id": "CMsAe9uASBTa",
        "outputId": "db13d3bc-93d1-44b4-d9b5-b3e10077d95d"
      },
      "source": [
        "fig = plt.figure(figsize=(10, 6))\n",
        "train_new.groupby('rating').review.count().plot.bar(ylim=0, color = 'g')\n",
        "plt.show()"
      ],
      "execution_count": 30,
      "outputs": [
        {
          "output_type": "display_data",
          "data": {
            "image/png": "[encoded data removed]",
            "text/plain": [
              "<Figure size 720x432 with 1 Axes>"
            ]
          },
          "metadata": {
            "needs_background": "light"
          }
        }
      ]
    },
    {
      "cell_type": "markdown",
      "metadata": {
        "id": "2DNT6FhMYw7B"
      },
      "source": [
        "Я взяла две модели: KNeighborsClassifier и Multinomial Naive Bayes. Это самые базовые модели для мультиклассовой классификации (+ можно взять Random Forest и Gradient Boosting). Кроме того, есть адапторы бинарных классификаторов для мультиклассификации - OneVsOneClassifier и его друзья, их я не брала, но как вариант.\n",
        "\n",
        "! В первом задании я отдельно векторизовала тексты, а тут я положила TfidfVectorizer и CountVectorizer в пайплайн, чтобы гридсерч сам подсказал, как лучше векторизовать. НО такой способ занимает больше времени, тк перебираются всевозможные вариации параметров."
      ]
    },
    {
      "cell_type": "markdown",
      "metadata": {
        "id": "KPgMmKiRbn0_"
      },
      "source": [
        "**KNN** "
      ]
    },
    {
      "cell_type": "code",
      "metadata": {
        "colab": {
          "base_uri": "https://localhost:8080/"
        },
        "id": "aqJjgFqy8gPJ",
        "outputId": "79259d12-33a2-421c-f2b4-c7dae43dfee9"
      },
      "source": [
        "knn = Pipeline([('vectorizer', CountVectorizer()),\n",
        " ('tfidf', TfidfTransformer()),\n",
        " ('knn', KNeighborsClassifier())])\n",
        "\n",
        "\n",
        "param_knn = {'vectorizer__ngram_range': [(1, 1), (1, 2), (2,2)],\n",
        "             'tfidf__use_idf': (True, False),\n",
        "             'knn__n_neighbors': np.arange(1, 30),\n",
        "             'knn__weights': ('uniform', 'distance')}\n",
        "               \n",
        "knn_gscv = GridSearchCV(knn, param_knn, n_jobs=-1, scoring = 'f1_weighted')\n",
        "grid_results = knn_gscv.fit(train_new['review_lems'], train_new['rating'])\n",
        "print(grid_results.best_score_)\n",
        "print(grid_results.best_params_)"
      ],
      "execution_count": 31,
      "outputs": [
        {
          "output_type": "stream",
          "name": "stdout",
          "text": [
            "0.8106348180680577\n",
            "{'knn__n_neighbors': 3, 'knn__weights': 'distance', 'tfidf__use_idf': False, 'vectorizer__ngram_range': (1, 2)}\n"
          ]
        }
      ]
    },
    {
      "cell_type": "markdown",
      "metadata": {
        "id": "USYzkBGBL1gE"
      },
      "source": [
        "**Multinomial Naive Bayes**"
      ]
    },
    {
      "cell_type": "code",
      "metadata": {
        "colab": {
          "base_uri": "https://localhost:8080/"
        },
        "id": "gtOmTi2dDule",
        "outputId": "ccb33ddf-b22f-4f9f-a20e-3277c7229af3"
      },
      "source": [
        "nb = Pipeline([('vectorizer', CountVectorizer()),\n",
        " ('tfidf', TfidfTransformer()),\n",
        " ('nb', MultinomialNB())])\n",
        "\n",
        "\n",
        "param_nb = {'vectorizer__ngram_range': [(1, 1), (1, 2), (2,2)],\n",
        "               'tfidf__use_idf': (True, False),\n",
        "               'tfidf__smooth_idf': (True, False),\n",
        "               'tfidf__sublinear_tf': (True, False),\n",
        "               'nb__fit_prior': (True, False),\n",
        "               'nb__alpha': (100, 10, 1, 0.1, 0.01, 0.001, 0)}\n",
        "               \n",
        "nb_gscv = GridSearchCV(nb, param_nb, n_jobs=-1, scoring = \"f1_weighted\")\n",
        "nb_gscv = nb_gscv.fit(train_new['review_lems'], train_new['rating'])\n",
        "print(nb_gscv.best_score_)\n",
        "print(nb_gscv.best_params_)"
      ],
      "execution_count": 32,
      "outputs": [
        {
          "output_type": "stream",
          "name": "stdout",
          "text": [
            "0.7520884568074219\n",
            "{'nb__alpha': 0, 'nb__fit_prior': True, 'tfidf__smooth_idf': True, 'tfidf__sublinear_tf': False, 'tfidf__use_idf': False, 'vectorizer__ngram_range': (1, 2)}\n"
          ]
        },
        {
          "output_type": "stream",
          "name": "stderr",
          "text": [
            "/usr/local/lib/python3.7/dist-packages/sklearn/naive_bayes.py:507: UserWarning: alpha too small will result in numeric errors, setting alpha = 1.0e-10\n",
            "  'setting alpha = %.1e' % _ALPHA_MIN)\n"
          ]
        }
      ]
    },
    {
      "cell_type": "markdown",
      "metadata": {
        "id": "11igY5W0ojup"
      },
      "source": [
        "Теперь посмотрим на результаты моделей на тестовой несбалансированной части отзывов. Результаты гораздо хуже, чем при обучении модели, но это ожидаемо. Внезапно у модели NB с худшим результатом на тестовых данных получились лучше результаты на тестовых данных."
      ]
    },
    {
      "cell_type": "code",
      "metadata": {
        "colab": {
          "base_uri": "https://localhost:8080/"
        },
        "id": "2wULMKOOo03Y",
        "outputId": "7d422a36-91dc-4254-8553-24872a8c0580"
      },
      "source": [
        "y_pred_knn = knn_gscv.predict(test['review_lems'])\n",
        "y_true_knn = test['rating']\n",
        "print('f1score for KNN', f1_score(y_true_knn, y_pred_knn, average='weighted'))\n",
        "y_pred_nb = nb_gscv.predict(test['review_lems'])\n",
        "y_true_nb = test['rating']\n",
        "print('f1score for nb', f1_score(y_true_nb, y_pred_nb, average='weighted'))"
      ],
      "execution_count": 33,
      "outputs": [
        {
          "output_type": "stream",
          "name": "stdout",
          "text": [
            "f1score for KNN 0.4369554176438655\n",
            "f1score for nb 0.5050921879321798\n"
          ]
        }
      ]
    },
    {
      "cell_type": "markdown",
      "metadata": {
        "id": "CDjecBX94lOY"
      },
      "source": [
        "Confusion Matrix для модели Multinomial Naive Bayes. Модель лучше всего справилась с распознаванием оценок 5 и 1, что коррелирует с изначальным распределением данных. "
      ]
    },
    {
      "cell_type": "code",
      "metadata": {
        "colab": {
          "base_uri": "https://localhost:8080/",
          "height": 513
        },
        "id": "EQf2AwHh1sAL",
        "outputId": "da639108-e1ac-43e3-9025-122ea79ee6ae"
      },
      "source": [
        "cm = confusion_matrix(y_true_nb, y_pred_nb)\n",
        "cm_df = pd.DataFrame(cm,\n",
        "                     index = [1, 2, 3, 4, 5], \n",
        "                     columns = [1, 2, 3, 4, 5])\n",
        "plt.figure(figsize=(10,8))\n",
        "sns.heatmap(cm_df, annot=True)\n",
        "plt.title('Confusion Matrix')\n",
        "plt.ylabel('Actal Values')\n",
        "plt.xlabel('Predicted Values')\n",
        "plt.show()"
      ],
      "execution_count": 34,
      "outputs": [
        {
          "output_type": "display_data",
          "data": {
            "image/png": "[encoded data removed]",
            "text/plain": [
              "<Figure size 720x576 with 2 Axes>"
            ]
          },
          "metadata": {
            "needs_background": "light"
          }
        }
      ]
    },
    {
      "cell_type": "markdown",
      "metadata": {
        "id": "IFxzSg4I5sR1"
      },
      "source": [
        "**Комментарии к 2 заданию**\n",
        "\n",
        "Несмотря на хорошие результаты в гридсерче, модель не справилась с несбалансированными данными на тестовых данных. *Почему так могло случиться:*\n",
        "*   Отзывы на оценки 1 и 5 - самые полярные, а значит самые красочные и разнообразные (мое предположение), поэтому дублирование или искусственное создание данных не поможет улучшить распознавание \"скучных\" отзывов на двоечку-четверочку.\n",
        "*   Отзывы на 1 и 5 самые длинных (как следствие предыдущего пункта), а значит больше данных для модели.\n",
        "\n",
        "*Как можно улучшить модель:*\n",
        "*   Добавить отзывов с оценками 2-4.\n",
        "*   Возможно, сбалансировать длины отзывов из разных классов. Я не проверяла распределение по средней длине в каждом классе, но я думаю, это было бы полезно.\n",
        "*   Опробовать другие модели, например, OneVsOneClassifier и другие.\n",
        "*   Чем больше классов для отзывов, тем меньше разница между соседними классами. Можно попробовать положить все отзывы на 2-4 в один класс и посмотреть на работу модели, хотя это уже другая история...\n",
        "\n",
        "\n",
        "\n",
        "\n",
        "\n",
        "\n"
      ]
    }
  ]
}