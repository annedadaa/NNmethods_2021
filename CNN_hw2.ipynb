{
  "nbformat": 4,
  "nbformat_minor": 0,
  "metadata": {
    "accelerator": "GPU",
    "colab": {
      "name": "CNN_hw2-2.ipynb",
      "provenance": [],
      "collapsed_sections": []
    },
    "kernelspec": {
      "display_name": "Python 3",
      "name": "python3"
    },
    "language_info": {
      "name": "python"
    }
  },
  "cells": [
    {
      "cell_type": "code",
      "metadata": {
        "id": "dcZtlPu-OXZd"
      },
      "source": [
        "import pandas as pd\n",
        "import numpy as np\n",
        "import re\n",
        "from string import punctuation\n",
        "from collections import Counter\n",
        "import matplotlib.pyplot as plt\n",
        "\n",
        "from sklearn.model_selection import train_test_split\n",
        "from sklearn.utils import shuffle\n",
        "import torch\n",
        "import torch.nn as nn\n",
        "import torch.nn.functional as F\n",
        "from torch.utils.data import Dataset, DataLoader, RandomSampler, SequentialSampler\n",
        "from torch.nn.utils.rnn import pad_sequence\n",
        "import torch.optim as optim\n",
        "from torchmetrics.functional import f1\n",
        "from gensim.models import FastText\n",
        "import ipdb\n",
        "import spacy\n",
        "import tqdm"
      ],
      "execution_count": 3,
      "outputs": []
    },
    {
      "cell_type": "code",
      "metadata": {
        "id": "VFBsqq6eO52p"
      },
      "source": [
        "# !pip install ipdb\n",
        "# !pip install torchmetrics"
      ],
      "execution_count": 4,
      "outputs": []
    },
    {
      "cell_type": "code",
      "metadata": {
        "id": "IIQ1Dj_pOp46"
      },
      "source": [
        "# !wget https://www.dropbox.com/s/r6u59ljhhjdg6j0/negative.csv\n",
        "# !wget https://www.dropbox.com/s/fnpq3z4bcnoktiv/positive.csv"
      ],
      "execution_count": 6,
      "outputs": []
    },
    {
      "cell_type": "code",
      "metadata": {
        "id": "-eH35LDxOy9X"
      },
      "source": [
        "pos_tweets = pd.read_csv('positive.csv', encoding='utf-8', sep=';', header=None,  names=[0,1,2,'text','tone',5,6,7,8,9,10,11])"
      ],
      "execution_count": 7,
      "outputs": []
    },
    {
      "cell_type": "code",
      "metadata": {
        "id": "bEnPV7ryO15r"
      },
      "source": [
        "neg_tweets = pd.read_csv('negative.csv', encoding='utf-8', sep=';', header=None, names=[0,1,2,'text','tone',5,6,7,8,9,10,11])\n",
        "neg_tweets['tone'] = 0"
      ],
      "execution_count": 8,
      "outputs": []
    },
    {
      "cell_type": "code",
      "metadata": {
        "colab": {
          "base_uri": "https://localhost:8080/"
        },
        "id": "MekqKYnAO4pN",
        "outputId": "4f1fecab-7612-45bf-fed2-caee83ae5235"
      },
      "source": [
        "all_tweets_data = pos_tweets.append(neg_tweets)\n",
        "print(len(all_tweets_data))"
      ],
      "execution_count": 9,
      "outputs": [
        {
          "output_type": "stream",
          "name": "stdout",
          "text": [
            "226834\n"
          ]
        }
      ]
    },
    {
      "cell_type": "code",
      "metadata": {
        "id": "CnjeH3A6PKev"
      },
      "source": [
        "tweets_data = shuffle(all_tweets_data[['text','tone']])[:100000]"
      ],
      "execution_count": 10,
      "outputs": []
    },
    {
      "cell_type": "code",
      "metadata": {
        "id": "x4Yh041v4GSK"
      },
      "source": [
        "def preprocess(text): \n",
        "    text = text.lower().replace(\"ё\", \"е\")\n",
        "    text = re.sub('((www\\.[^\\s]+)|(https?://[^\\s]+))', 'URL', text)\n",
        "    text = re.sub('@[^\\s]+', 'USER', text)\n",
        "    text = re.sub('[^a-zA-Zа-яА-Я1-9]+', ' ', text)\n",
        "    text = re.sub(' +', ' ', text)\n",
        "    return text.split()"
      ],
      "execution_count": 11,
      "outputs": []
    },
    {
      "cell_type": "code",
      "metadata": {
        "id": "JOwwbw2_4Hg0"
      },
      "source": [
        "tweets_data['prep_text'] = tweets_data.text.apply(lambda x: ' '.join(preprocess(x)))"
      ],
      "execution_count": 12,
      "outputs": []
    },
    {
      "cell_type": "code",
      "metadata": {
        "colab": {
          "base_uri": "https://localhost:8080/",
          "height": 419
        },
        "id": "TJyAx24K5IB1",
        "outputId": "576c756e-4c5d-4d02-9b97-9de33f8c8f91"
      },
      "source": [
        "tweets_data"
      ],
      "execution_count": 13,
      "outputs": [
        {
          "output_type": "execute_result",
          "data": {
            "text/html": [
              "<div>\n",
              "<style scoped>\n",
              "    .dataframe tbody tr th:only-of-type {\n",
              "        vertical-align: middle;\n",
              "    }\n",
              "\n",
              "    .dataframe tbody tr th {\n",
              "        vertical-align: top;\n",
              "    }\n",
              "\n",
              "    .dataframe thead th {\n",
              "        text-align: right;\n",
              "    }\n",
              "</style>\n",
              "<table border=\"1\" class=\"dataframe\">\n",
              "  <thead>\n",
              "    <tr style=\"text-align: right;\">\n",
              "      <th></th>\n",
              "      <th>text</th>\n",
              "      <th>tone</th>\n",
              "      <th>prep_text</th>\n",
              "    </tr>\n",
              "  </thead>\n",
              "  <tbody>\n",
              "    <tr>\n",
              "      <th>106517</th>\n",
              "      <td>не хочу ничего делать:( хочу слушать музыку см...</td>\n",
              "      <td>0</td>\n",
              "      <td>не хочу ничего делать хочу слушать музыку смот...</td>\n",
              "    </tr>\n",
              "    <tr>\n",
              "      <th>38695</th>\n",
              "      <td>RT @artemini1: http://t.co/4d6CGxLALj Если жиз...</td>\n",
              "      <td>1</td>\n",
              "      <td>rt USER URL если жизнь повернулась к тебе задо...</td>\n",
              "    </tr>\n",
              "    <tr>\n",
              "      <th>25652</th>\n",
              "      <td>На ночь глянули документальный фильм,про Титан...</td>\n",
              "      <td>1</td>\n",
              "      <td>на ночь глянули документальный фильм про титан...</td>\n",
              "    </tr>\n",
              "    <tr>\n",
              "      <th>113327</th>\n",
              "      <td>@KatrinaOrlova59 А я спать иду у меня пол двен...</td>\n",
              "      <td>1</td>\n",
              "      <td>USER а я спать иду у меня пол двенадцатого смо...</td>\n",
              "    </tr>\n",
              "    <tr>\n",
              "      <th>107216</th>\n",
              "      <td>Я не хочу идти на курсы в свой день ррждения.....</td>\n",
              "      <td>0</td>\n",
              "      <td>я не хочу идти на курсы в свой день ррждения а...</td>\n",
              "    </tr>\n",
              "    <tr>\n",
              "      <th>...</th>\n",
              "      <td>...</td>\n",
              "      <td>...</td>\n",
              "      <td>...</td>\n",
              "    </tr>\n",
              "    <tr>\n",
              "      <th>62145</th>\n",
              "      <td>@DavidovaEugenia оооо, почитала твой твит и за...</td>\n",
              "      <td>1</td>\n",
              "      <td>USER оооо почитала твой твит и захотелось борща</td>\n",
              "    </tr>\n",
              "    <tr>\n",
              "      <th>47080</th>\n",
              "      <td>#HappyBirthdayTreCool\\nДаже мой учебник по био...</td>\n",
              "      <td>1</td>\n",
              "      <td>happybirthdaytrecool даже мой учебник по биоло...</td>\n",
              "    </tr>\n",
              "    <tr>\n",
              "      <th>6328</th>\n",
              "      <td>Хочу снова свой цвет и такую длину волос:( htt...</td>\n",
              "      <td>0</td>\n",
              "      <td>хочу снова свой цвет и такую длину волос URL</td>\n",
              "    </tr>\n",
              "    <tr>\n",
              "      <th>3407</th>\n",
              "      <td>Я, не побоюсь этого слова, люблю свою работу, ...</td>\n",
              "      <td>0</td>\n",
              "      <td>я не побоюсь этого слова люблю свою работу но ...</td>\n",
              "    </tr>\n",
              "    <tr>\n",
              "      <th>26999</th>\n",
              "      <td>RT @monusonojixo: с Денисом переезжаем в Норве...</td>\n",
              "      <td>1</td>\n",
              "      <td>rt USER с денисом переезжаем в норвегию берешь...</td>\n",
              "    </tr>\n",
              "  </tbody>\n",
              "</table>\n",
              "<p>100000 rows × 3 columns</p>\n",
              "</div>"
            ],
            "text/plain": [
              "                                                     text  ...                                          prep_text\n",
              "106517  не хочу ничего делать:( хочу слушать музыку см...  ...  не хочу ничего делать хочу слушать музыку смот...\n",
              "38695   RT @artemini1: http://t.co/4d6CGxLALj Если жиз...  ...  rt USER URL если жизнь повернулась к тебе задо...\n",
              "25652   На ночь глянули документальный фильм,про Титан...  ...  на ночь глянули документальный фильм про титан...\n",
              "113327  @KatrinaOrlova59 А я спать иду у меня пол двен...  ...  USER а я спать иду у меня пол двенадцатого смо...\n",
              "107216  Я не хочу идти на курсы в свой день ррждения.....  ...  я не хочу идти на курсы в свой день ррждения а...\n",
              "...                                                   ...  ...                                                ...\n",
              "62145   @DavidovaEugenia оооо, почитала твой твит и за...  ...    USER оооо почитала твой твит и захотелось борща\n",
              "47080   #HappyBirthdayTreCool\\nДаже мой учебник по био...  ...  happybirthdaytrecool даже мой учебник по биоло...\n",
              "6328    Хочу снова свой цвет и такую длину волос:( htt...  ...       хочу снова свой цвет и такую длину волос URL\n",
              "3407    Я, не побоюсь этого слова, люблю свою работу, ...  ...  я не побоюсь этого слова люблю свою работу но ...\n",
              "26999   RT @monusonojixo: с Денисом переезжаем в Норве...  ...  rt USER с денисом переезжаем в норвегию берешь...\n",
              "\n",
              "[100000 rows x 3 columns]"
            ]
          },
          "metadata": {},
          "execution_count": 13
        }
      ]
    },
    {
      "cell_type": "code",
      "metadata": {
        "id": "ZND9RJHgPMSY"
      },
      "source": [
        "train_sentences, val_sentences = train_test_split(tweets_data, test_size=0.2)"
      ],
      "execution_count": 14,
      "outputs": []
    },
    {
      "cell_type": "code",
      "metadata": {
        "colab": {
          "base_uri": "https://localhost:8080/"
        },
        "id": "sdc2eJkhP9Nn",
        "outputId": "57411799-a06d-4a50-f12b-b4bfa59cc601"
      },
      "source": [
        "train_sentences[train_sentences.tone == 1].shape[0] /train_sentences.shape[0]"
      ],
      "execution_count": 15,
      "outputs": [
        {
          "output_type": "execute_result",
          "data": {
            "text/plain": [
              "0.506525"
            ]
          },
          "metadata": {},
          "execution_count": 15
        }
      ]
    },
    {
      "cell_type": "code",
      "metadata": {
        "colab": {
          "base_uri": "https://localhost:8080/"
        },
        "id": "Rcb0sJM4QzCb",
        "outputId": "c3fad47f-fc44-4b4d-a9fc-f616e9ae8e60"
      },
      "source": [
        "vocab = Counter()\n",
        "\n",
        "for text in tweets_data['prep_text']:\n",
        "    vocab.update(text.split())\n",
        "print('всего уникальных токенов:', len(vocab))"
      ],
      "execution_count": 16,
      "outputs": [
        {
          "output_type": "stream",
          "name": "stdout",
          "text": [
            "всего уникальных токенов: 111446\n"
          ]
        }
      ]
    },
    {
      "cell_type": "code",
      "metadata": {
        "colab": {
          "base_uri": "https://localhost:8080/"
        },
        "id": "Pn6YQR3wQ8I5",
        "outputId": "51cebdab-1da2-4cee-d773-17ef597c0186"
      },
      "source": [
        "filtered_vocab = set()\n",
        "\n",
        "for word in vocab:\n",
        "    if vocab[word] > 5:\n",
        "        filtered_vocab.add(word)\n",
        "print('уникальных токенов, втретившихся больше 5 раз:', len(filtered_vocab))"
      ],
      "execution_count": 17,
      "outputs": [
        {
          "output_type": "stream",
          "name": "stdout",
          "text": [
            "уникальных токенов, втретившихся больше 5 раз: 14841\n"
          ]
        }
      ]
    },
    {
      "cell_type": "code",
      "metadata": {
        "id": "NB6ptdORQP9q"
      },
      "source": [
        "word2id = {'PAD':0}\n",
        "\n",
        "for word in filtered_vocab:\n",
        "    word2id[word] = len(word2id)"
      ],
      "execution_count": 18,
      "outputs": []
    },
    {
      "cell_type": "code",
      "metadata": {
        "id": "hkcfioRXQrCX"
      },
      "source": [
        "id2word = {i:word for word, i in word2id.items()}"
      ],
      "execution_count": 19,
      "outputs": []
    },
    {
      "cell_type": "code",
      "metadata": {
        "colab": {
          "base_uri": "https://localhost:8080/"
        },
        "id": "82N5nVh4QuUn",
        "outputId": "4b4486c3-9857-4d8a-e9c1-edc9ed7f7f1c"
      },
      "source": [
        "DEVICE = torch.device('cuda') if torch.cuda.is_available() else torch.device('cpu')\n",
        "DEVICE"
      ],
      "execution_count": 20,
      "outputs": [
        {
          "output_type": "execute_result",
          "data": {
            "text/plain": [
              "device(type='cuda')"
            ]
          },
          "metadata": {},
          "execution_count": 20
        }
      ]
    },
    {
      "cell_type": "code",
      "metadata": {
        "id": "d2BpbyqDRPhm"
      },
      "source": [
        "class TweetsDataset(Dataset):\n",
        "\n",
        "    def __init__(self, dataset, word2id, DEVICE):\n",
        "        self.dataset = dataset['text'].values\n",
        "        self.word2id = word2id\n",
        "        self.length = dataset.shape[0]\n",
        "        self.target = torch.Tensor(dataset['tone'].values)\n",
        "        self.device = DEVICE\n",
        "\n",
        "    def __len__(self):\n",
        "        return self.length\n",
        "\n",
        "    def __getitem__(self, index): \n",
        "        tokens = self.dataset[index].split()\n",
        "        ids = torch.LongTensor([self.word2id[token] for token in tokens if token in self.word2id])\n",
        "        y = [self.target[index]]\n",
        "        return ids, y\n",
        "\n",
        "    def collate_fn(self, batch):\n",
        "      ids, y = list(zip(*batch))\n",
        "      padded_ids = pad_sequence(ids, batch_first=True).to(self.device)\n",
        "      y = torch.Tensor(y).to(self.device)\n",
        "      return padded_ids, y"
      ],
      "execution_count": 21,
      "outputs": []
    },
    {
      "cell_type": "code",
      "metadata": {
        "id": "snNHEy3aTCbg"
      },
      "source": [
        "train_dataset = TweetsDataset(train_sentences, word2id, DEVICE)\n",
        "train_sampler = RandomSampler(train_dataset)\n",
        "train_iterator = DataLoader(train_dataset, collate_fn = train_dataset.collate_fn, sampler=train_sampler, batch_size=1024)"
      ],
      "execution_count": 22,
      "outputs": []
    },
    {
      "cell_type": "code",
      "metadata": {
        "colab": {
          "base_uri": "https://localhost:8080/"
        },
        "id": "tDJCLHO6TbbJ",
        "outputId": "ceed8233-37ab-4bae-d37f-296dc22e8ed2"
      },
      "source": [
        "batch = next(iter(train_iterator))\n",
        "batch[0].shape"
      ],
      "execution_count": 23,
      "outputs": [
        {
          "output_type": "execute_result",
          "data": {
            "text/plain": [
              "torch.Size([1024, 21])"
            ]
          },
          "metadata": {},
          "execution_count": 23
        }
      ]
    },
    {
      "cell_type": "code",
      "metadata": {
        "id": "hRRPt4RwgdmE"
      },
      "source": [
        "val_dataset = TweetsDataset(val_sentences, word2id, DEVICE)\n",
        "val_sampler = SequentialSampler(val_dataset)\n",
        "val_iterator = DataLoader(val_dataset, collate_fn = val_dataset.collate_fn, sampler=val_sampler, batch_size=1024)"
      ],
      "execution_count": 24,
      "outputs": []
    },
    {
      "cell_type": "code",
      "metadata": {
        "colab": {
          "base_uri": "https://localhost:8080/"
        },
        "id": "5y_Ivn4tfuE6",
        "outputId": "a7275429-08b8-44d8-ee18-30189750b204"
      },
      "source": [
        "test_batch = next(iter(val_iterator))\n",
        "test_batch[0].shape"
      ],
      "execution_count": 25,
      "outputs": [
        {
          "output_type": "execute_result",
          "data": {
            "text/plain": [
              "torch.Size([1024, 23])"
            ]
          },
          "metadata": {},
          "execution_count": 25
        }
      ]
    },
    {
      "cell_type": "code",
      "metadata": {
        "id": "XEPpKZySaoLI"
      },
      "source": [
        "class CNN(nn.Module):\n",
        "    \n",
        "    def __init__(self, vocab_size, embedding_dim):\n",
        "        super().__init__()\n",
        "        self.embedding = nn.Embedding(vocab_size, embedding_dim)\n",
        "        self.bigrams = nn.Conv1d(in_channels=embedding_dim, out_channels=80, kernel_size=2, padding='same')\n",
        "        self.trigrams = nn.Conv1d(in_channels=embedding_dim, out_channels=60, kernel_size=3, padding='same')\n",
        "        self.ngrams_cat = nn.Conv1d(in_channels=140, out_channels=140, kernel_size=2, padding='same')\n",
        "        self.pooling = nn.MaxPool1d(kernel_size=2, stride=2)\n",
        "        self.relu = nn.ReLU()\n",
        "        self.hidden = nn.Linear(in_features=140, out_features=1)\n",
        "        self.dropout = nn.Dropout(p=0.5)\n",
        "        self.out = nn.Sigmoid()\n",
        "\n",
        "    def forward(self, text):\n",
        "        #batch_size x seq_len\n",
        "        embedded = self.embedding(text)\n",
        "        #batch_size x seq_len x embedding_dim\n",
        "        embedded = embedded.transpose(1,2)\n",
        "        #batch_size x embedding_dim x seq_len\n",
        "        #feature_map_bigrams = self.dropout(self.pooling(self.relu(self.bigrams(embedded))))\n",
        "        #batch_size x filter_count2 x seq_len* \n",
        "        #feature_map_trigrams = self.dropout(self.pooling(self.relu(self.trigrams(embedded))))\n",
        "        #batch_size x filter_count3 x seq_len*\n",
        "        feature_map_bigrams = self.relu(self.bigrams(embedded))\n",
        "        feature_map_trigrams = self.relu(self.trigrams(embedded))\n",
        "\n",
        "\n",
        "        #pooling1 = feature_map_bigrams.max(2)[0] \n",
        "        # batch_size x filter_count2\n",
        "        #pooling2 = feature_map_trigrams.max(2)[0]\n",
        "        # batch_size x filter_count3\n",
        "        #concat = torch.cat((pooling1, pooling2), 1)\n",
        "        concat = torch.cat((feature_map_bigrams, feature_map_trigrams), 1)\n",
        "        pooling = self.pooling(self.relu(self.ngrams_cat(concat)))\n",
        "        bm = pooling.max(2)[0]\n",
        "        # batch _size x (filter_count2 + filter_count3)\n",
        "        logits = self.hidden(bm) \n",
        "        logits = self.out(logits)       \n",
        "        return logits"
      ],
      "execution_count": 38,
      "outputs": []
    },
    {
      "cell_type": "markdown",
      "metadata": {
        "id": "WLmPgv6kgoEO"
      },
      "source": [
        "### Training model"
      ]
    },
    {
      "cell_type": "code",
      "metadata": {
        "id": "ygWAlLajgkP0"
      },
      "source": [
        "def train(model, iterator, optimizer, criterion):\n",
        "    epoch_loss = 0 # для подсчета среднего лосса на всех батчах\n",
        "\n",
        "    model.train()  # ставим модель в обучение, явно указываем, что сейчас надо будет хранить градиенты у всех весов\n",
        "\n",
        "    for i, (texts, ys) in enumerate(iterator): #итерируемся по батчам\n",
        "        optimizer.zero_grad()  #обнуляем градиенты\n",
        "        preds = model(texts)  #прогоняем данные через модель\n",
        "        loss = criterion(preds, ys) #считаем значение функции потерь  \n",
        "        loss.backward() #считаем градиенты  \n",
        "        optimizer.step() #обновляем веса \n",
        "        epoch_loss += loss.item() #сохраняем значение функции потерь\n",
        "        if not (i + 1) % int(len(iterator)/5):\n",
        "            print(f'Train loss: {epoch_loss/i}')      \n",
        "    return  epoch_loss / len(iterator) # возвращаем среднее значение лосса по всей выборке"
      ],
      "execution_count": 39,
      "outputs": []
    },
    {
      "cell_type": "code",
      "metadata": {
        "id": "yNrrOniQgyaD"
      },
      "source": [
        "def evaluate(model, iterator, criterion):\n",
        "    epoch_loss = 0\n",
        "    epoch_metric = 0\n",
        "    model.eval() \n",
        "    with torch.no_grad():\n",
        "        for i, (texts, ys) in enumerate(iterator):   \n",
        "            preds = model(texts)  # делаем предсказания на тесте\n",
        "            loss = criterion(preds, ys)   # считаем значения функции ошибки для статистики  \n",
        "            epoch_loss += loss.item()\n",
        "            batch_metric = f1(preds.round().long(), ys.long(), ignore_index=0)\n",
        "            epoch_metric += batch_metric\n",
        "\n",
        "            if not (i + 1) % int(len(iterator)/5):\n",
        "              print(f'Val loss: {epoch_loss/i}, Val f1: {epoch_metric/i}')\n",
        "        \n",
        "    return epoch_metric / len(iterator), epoch_loss / len(iterator) # возвращаем среднее значение по всей выборке\n"
      ],
      "execution_count": 40,
      "outputs": []
    },
    {
      "cell_type": "code",
      "metadata": {
        "id": "XdOZACBVg4mK"
      },
      "source": [
        "model = CNN(len(word2id), 5)\n",
        "optimizer = optim.Adam(model.parameters(), lr=0.001)\n",
        "criterion = nn.BCELoss()  \n",
        "\n",
        "# веса модели и значения лосса храним там же, где и все остальные тензоры\n",
        "model = model.to(DEVICE)\n",
        "criterion = criterion.to(DEVICE)"
      ],
      "execution_count": 41,
      "outputs": []
    },
    {
      "cell_type": "markdown",
      "metadata": {
        "id": "RyAMySgEg-Mx"
      },
      "source": [
        "### Обучим эмбеддинг слой на нашей модели"
      ]
    },
    {
      "cell_type": "code",
      "metadata": {
        "colab": {
          "base_uri": "https://localhost:8080/"
        },
        "id": "KVYE4iwyg9e5",
        "outputId": "0e2ec70c-97b0-4a02-88d5-573ae45a2956"
      },
      "source": [
        "losses = []\n",
        "losses_eval = []\n",
        "f1s = []\n",
        "f1s_eval = []\n",
        "\n",
        "for i in range(15):\n",
        "    print(f'\\nstarting Epoch {i}')\n",
        "    print('Training...')\n",
        "    epoch_loss = train(model, train_iterator, optimizer, criterion)\n",
        "    losses.append(epoch_loss)\n",
        "    print('\\nEvaluating on train...')\n",
        "    f1_on_train,_ = evaluate(model, train_iterator, criterion)\n",
        "    f1s.append(f1_on_train)\n",
        "    print('\\nEvaluating on test...')\n",
        "    f1_on_test, epoch_loss_on_test = evaluate(model, val_iterator, criterion)\n",
        "    losses_eval.append(epoch_loss_on_test)\n",
        "    f1s_eval.append(f1_on_test)"
      ],
      "execution_count": 42,
      "outputs": [
        {
          "output_type": "stream",
          "name": "stdout",
          "text": [
            "\n",
            "starting Epoch 0\n",
            "Training...\n",
            "Train loss: 0.7440354909215655\n",
            "Train loss: 0.7156811459311123\n",
            "Train loss: 0.7056096765128049\n",
            "Train loss: 0.7007841235500271\n",
            "Train loss: 0.6971773714632601\n",
            "\n",
            "Evaluating on train...\n",
            "Val loss: 0.7293269378798348, Val f1: 0.6116084456443787\n",
            "Val loss: 0.703844925452923, Val f1: 0.5889434218406677\n",
            "Val loss: 0.695688930424777, Val f1: 0.5834709405899048\n",
            "Val loss: 0.6924523125260563, Val f1: 0.578447699546814\n",
            "Val loss: 0.6897845590436781, Val f1: 0.5775890946388245\n",
            "\n",
            "Evaluating on test...\n",
            "Val loss: 0.9109327793121338, Val f1: 0.7503536939620972\n",
            "Val loss: 0.7819757631846836, Val f1: 0.6373599767684937\n",
            "Val loss: 0.7472553686662153, Val f1: 0.6044872403144836\n",
            "Val loss: 0.7299055139223735, Val f1: 0.596498429775238\n",
            "Val loss: 0.7192141037238272, Val f1: 0.5882503986358643\n",
            "\n",
            "starting Epoch 1\n",
            "Training...\n",
            "Train loss: 0.7302260100841522\n",
            "Train loss: 0.7040562896892942\n",
            "Train loss: 0.6954930776899512\n",
            "Train loss: 0.6904040039595911\n",
            "Train loss: 0.6873963958508259\n",
            "\n",
            "Evaluating on train...\n",
            "Val loss: 0.7211298516818455, Val f1: 0.6655877232551575\n",
            "Val loss: 0.696321349719475, Val f1: 0.6421011090278625\n",
            "Val loss: 0.6886804862455889, Val f1: 0.6342058777809143\n",
            "Val loss: 0.6838832972413402, Val f1: 0.6324664354324341\n",
            "Val loss: 0.6816456390393747, Val f1: 0.6303184032440186\n",
            "\n",
            "Evaluating on test...\n",
            "Val loss: 0.9039164781570435, Val f1: 0.8257230520248413\n",
            "Val loss: 0.7763033253805978, Val f1: 0.6952119469642639\n",
            "Val loss: 0.7419331127947028, Val f1: 0.6623896360397339\n",
            "Val loss: 0.7244769215583802, Val f1: 0.6514011025428772\n",
            "Val loss: 0.7144090752852591, Val f1: 0.6394271850585938\n",
            "\n",
            "starting Epoch 2\n",
            "Training...\n",
            "Train loss: 0.7197672895022801\n",
            "Train loss: 0.6946906509070561\n",
            "Train loss: 0.6861738996072249\n",
            "Train loss: 0.6826333100512877\n",
            "Train loss: 0.68043324673498\n",
            "\n",
            "Evaluating on train...\n",
            "Val loss: 0.7123989249978747, Val f1: 0.6887779831886292\n",
            "Val loss: 0.6876928600771673, Val f1: 0.6663224697113037\n",
            "Val loss: 0.6803223246877844, Val f1: 0.6576563715934753\n",
            "Val loss: 0.6764093738491253, Val f1: 0.6541083455085754\n",
            "Val loss: 0.6738130329428492, Val f1: 0.6525729298591614\n",
            "\n",
            "Evaluating on test...\n",
            "Val loss: 0.898380716641744, Val f1: 0.8501626253128052\n",
            "Val loss: 0.7725629721369062, Val f1: 0.714694082736969\n",
            "Val loss: 0.7384490424936468, Val f1: 0.6790750622749329\n",
            "Val loss: 0.720803697903951, Val f1: 0.6675873398780823\n",
            "Val loss: 0.7106868091382479, Val f1: 0.6588134765625\n",
            "\n",
            "starting Epoch 3\n",
            "Training...\n",
            "Train loss: 0.7114624083042145\n",
            "Train loss: 0.6885525871967447\n",
            "Train loss: 0.679414686831561\n",
            "Train loss: 0.6761901651398611\n",
            "Train loss: 0.6735374830864571\n",
            "\n",
            "Evaluating on train...\n",
            "Val loss: 0.7063074878283909, Val f1: 0.6722604632377625\n",
            "Val loss: 0.6806021394400761, Val f1: 0.6499174237251282\n",
            "Val loss: 0.6727243363857269, Val f1: 0.6452776789665222\n",
            "Val loss: 0.6682970756191319, Val f1: 0.6418775320053101\n",
            "Val loss: 0.6657062833373611, Val f1: 0.6402838826179504\n",
            "\n",
            "Evaluating on test...\n",
            "Val loss: 0.8947014411290487, Val f1: 0.8086118102073669\n",
            "Val loss: 0.768429160118103, Val f1: 0.6878986954689026\n",
            "Val loss: 0.7341827858578075, Val f1: 0.6541793942451477\n",
            "Val loss: 0.7168331782023112, Val f1: 0.64274662733078\n",
            "Val loss: 0.7064906170493678, Val f1: 0.6339870691299438\n",
            "\n",
            "starting Epoch 4\n",
            "Training...\n",
            "Train loss: 0.7047030712877002\n",
            "Train loss: 0.6798371487650378\n",
            "Train loss: 0.6713626723397862\n",
            "Train loss: 0.6685449885109723\n",
            "Train loss: 0.6665601134300232\n",
            "\n",
            "Evaluating on train...\n",
            "Val loss: 0.6958578101226262, Val f1: 0.6650360822677612\n",
            "Val loss: 0.6709706310568184, Val f1: 0.6440079808235168\n",
            "Val loss: 0.6649765941229734, Val f1: 0.6341404914855957\n",
            "Val loss: 0.6606503674539469, Val f1: 0.6307366490364075\n",
            "Val loss: 0.6581110124652451, Val f1: 0.6294726133346558\n",
            "\n",
            "Evaluating on test...\n",
            "Val loss: 0.890772263209025, Val f1: 0.7843966484069824\n",
            "Val loss: 0.7653008869716099, Val f1: 0.670110285282135\n",
            "Val loss: 0.7314004572955045, Val f1: 0.6378135681152344\n",
            "Val loss: 0.7142781933148702, Val f1: 0.626065731048584\n",
            "Val loss: 0.7037909501477292, Val f1: 0.617769181728363\n",
            "\n",
            "starting Epoch 5\n",
            "Training...\n",
            "Train loss: 0.6975380906036922\n",
            "Train loss: 0.6717637407368627\n",
            "Train loss: 0.663763783194802\n",
            "Train loss: 0.6599787554498446\n",
            "Train loss: 0.6572736984974629\n",
            "\n",
            "Evaluating on train...\n",
            "Val loss: 0.6907577216625214, Val f1: 0.6835954189300537\n",
            "Val loss: 0.6630141467883669, Val f1: 0.6690268516540527\n",
            "Val loss: 0.6542285152456977, Val f1: 0.6647818088531494\n",
            "Val loss: 0.6509998582177243, Val f1: 0.6601899862289429\n",
            "Val loss: 0.6487003363467552, Val f1: 0.6574790477752686\n",
            "\n",
            "Evaluating on test...\n",
            "Val loss: 0.8851909637451172, Val f1: 0.8219260573387146\n",
            "Val loss: 0.7616763881274632, Val f1: 0.6958568692207336\n",
            "Val loss: 0.7276619835333391, Val f1: 0.6624382138252258\n",
            "Val loss: 0.7107209801673889, Val f1: 0.6511622071266174\n",
            "Val loss: 0.7003413815247385, Val f1: 0.641758918762207\n",
            "\n",
            "starting Epoch 6\n",
            "Training...\n",
            "Train loss: 0.6883479612214225\n",
            "Train loss: 0.6641447749631159\n",
            "Train loss: 0.6558076956055381\n",
            "Train loss: 0.6523312421168311\n",
            "Train loss: 0.6505811407759383\n",
            "\n",
            "Evaluating on train...\n",
            "Val loss: 0.6818523023809705, Val f1: 0.7209583520889282\n",
            "Val loss: 0.6542753412805754, Val f1: 0.6965622305870056\n",
            "Val loss: 0.6479537879878824, Val f1: 0.6861558556556702\n",
            "Val loss: 0.6425248536012941, Val f1: 0.6846838593482971\n",
            "Val loss: 0.6404142420034151, Val f1: 0.682374894618988\n",
            "\n",
            "Evaluating on test...\n",
            "Val loss: 0.8797637224197388, Val f1: 0.8538479804992676\n",
            "Val loss: 0.7589521152632577, Val f1: 0.7248707413673401\n",
            "Val loss: 0.7251009724356912, Val f1: 0.6886412501335144\n",
            "Val loss: 0.7082892497380574, Val f1: 0.6771087646484375\n",
            "Val loss: 0.6984721767274957, Val f1: 0.6654446125030518\n",
            "\n",
            "starting Epoch 7\n",
            "Training...\n",
            "Train loss: 0.681070510830198\n",
            "Train loss: 0.6567809232350054\n",
            "Train loss: 0.6495349867777391\n",
            "Train loss: 0.6452860519037409\n",
            "Train loss: 0.6432877344054144\n",
            "\n",
            "Evaluating on train...\n",
            "Val loss: 0.6662788093090057, Val f1: 0.7042415738105774\n",
            "Val loss: 0.6465140375597723, Val f1: 0.6791903376579285\n",
            "Val loss: 0.638706697659059, Val f1: 0.6711123585700989\n",
            "Val loss: 0.635507620997348, Val f1: 0.6657592058181763\n",
            "Val loss: 0.6329037684041101, Val f1: 0.6646605134010315\n",
            "\n",
            "Evaluating on test...\n",
            "Val loss: 0.8812634348869324, Val f1: 0.8142498731613159\n",
            "Val loss: 0.7571408748626709, Val f1: 0.6972305774688721\n",
            "Val loss: 0.7237823497165333, Val f1: 0.66139155626297\n",
            "Val loss: 0.7069490234057109, Val f1: 0.646882176399231\n",
            "Val loss: 0.6967465250115645, Val f1: 0.6366579532623291\n",
            "\n",
            "starting Epoch 8\n",
            "Training...\n",
            "Train loss: 0.6680652797222137\n",
            "Train loss: 0.6459378661780522\n",
            "Train loss: 0.6382660459388386\n",
            "Train loss: 0.6350993019039348\n",
            "Train loss: 0.6331737871105606\n",
            "\n",
            "Evaluating on train...\n",
            "Val loss: 0.6577219877924237, Val f1: 0.7460372447967529\n",
            "Val loss: 0.6382482298489275, Val f1: 0.7170603275299072\n",
            "Val loss: 0.6311166950247504, Val f1: 0.7101708650588989\n",
            "Val loss: 0.6275249638799894, Val f1: 0.705376923084259\n",
            "Val loss: 0.6255503747914288, Val f1: 0.7029770612716675\n",
            "\n",
            "Evaluating on test...\n",
            "Val loss: 0.877904494603475, Val f1: 0.86667799949646\n",
            "Val loss: 0.7567415152277265, Val f1: 0.7410690784454346\n",
            "Val loss: 0.7234593033790588, Val f1: 0.7058172225952148\n",
            "Val loss: 0.7066755652427673, Val f1: 0.6916546821594238\n",
            "Val loss: 0.6972568003754867, Val f1: 0.6787179708480835\n",
            "\n",
            "starting Epoch 9\n",
            "Training...\n",
            "Train loss: 0.6595530807971954\n",
            "Train loss: 0.6393812935927818\n",
            "Train loss: 0.6315275498411872\n",
            "Train loss: 0.6267394534612106\n",
            "Train loss: 0.6254100066584509\n",
            "\n",
            "Evaluating on train...\n",
            "Val loss: 0.6582391432353428, Val f1: 0.7576053738594055\n",
            "Val loss: 0.6348873972892761, Val f1: 0.7301434278488159\n",
            "Val loss: 0.6263406357981942, Val f1: 0.7227423787117004\n",
            "Val loss: 0.6232311432644472, Val f1: 0.716854989528656\n",
            "Val loss: 0.6206813108276676, Val f1: 0.7145034670829773\n",
            "\n",
            "Evaluating on test...\n",
            "Val loss: 0.8816957473754883, Val f1: 0.8914899826049805\n",
            "Val loss: 0.760710997240884, Val f1: 0.7555893659591675\n",
            "Val loss: 0.7270037748596885, Val f1: 0.7206479907035828\n",
            "Val loss: 0.7099995017051697, Val f1: 0.7075065970420837\n",
            "Val loss: 0.700809801879682, Val f1: 0.6931052803993225\n",
            "\n",
            "starting Epoch 10\n",
            "Training...\n",
            "Train loss: 0.6499290892056057\n",
            "Train loss: 0.6299317520240257\n",
            "Train loss: 0.623583350669254\n",
            "Train loss: 0.6190628015388877\n",
            "Train loss: 0.6173429175003154\n",
            "\n",
            "Evaluating on train...\n",
            "Val loss: 0.6423875306333814, Val f1: 0.7592952251434326\n",
            "Val loss: 0.6230762909198629, Val f1: 0.7309253811836243\n",
            "Val loss: 0.6147314161062241, Val f1: 0.7228838801383972\n",
            "Val loss: 0.610186946594109, Val f1: 0.7189996242523193\n",
            "Val loss: 0.6086848893681088, Val f1: 0.716346025466919\n",
            "\n",
            "Evaluating on test...\n",
            "Val loss: 0.877599279085795, Val f1: 0.8716230392456055\n",
            "Val loss: 0.7551172886575971, Val f1: 0.7413192987442017\n",
            "Val loss: 0.7221070202914152, Val f1: 0.7048045992851257\n",
            "Val loss: 0.704842483997345, Val f1: 0.6924927234649658\n",
            "Val loss: 0.6953004975067941, Val f1: 0.6813594698905945\n",
            "\n",
            "starting Epoch 11\n",
            "Training...\n",
            "Train loss: 0.6429909893444606\n",
            "Train loss: 0.6214779923702108\n",
            "Train loss: 0.6177656040950255\n",
            "Train loss: 0.6131552053710162\n",
            "Train loss: 0.610458936240222\n",
            "\n",
            "Evaluating on train...\n",
            "Val loss: 0.6296932441847665, Val f1: 0.7375442385673523\n",
            "Val loss: 0.6092736679932167, Val f1: 0.7117708325386047\n",
            "Val loss: 0.603303084319288, Val f1: 0.7026803493499756\n",
            "Val loss: 0.5996913829092252, Val f1: 0.6979765295982361\n",
            "Val loss: 0.5980188596893001, Val f1: 0.6952400207519531\n",
            "\n",
            "Evaluating on test...\n",
            "Val loss: 0.8734155495961508, Val f1: 0.829673171043396\n",
            "Val loss: 0.7516536116600037, Val f1: 0.7088313698768616\n",
            "Val loss: 0.7185340252789584, Val f1: 0.6733617186546326\n",
            "Val loss: 0.7027880867322286, Val f1: 0.6580755710601807\n",
            "Val loss: 0.6931767934247067, Val f1: 0.6485460996627808\n",
            "\n",
            "starting Epoch 12\n",
            "Training...\n",
            "Train loss: 0.632331805569785\n",
            "Train loss: 0.6153411248634602\n",
            "Train loss: 0.6065210943872278\n",
            "Train loss: 0.6028480105480906\n",
            "Train loss: 0.6011155730969197\n",
            "\n",
            "Evaluating on train...\n",
            "Val loss: 0.6483453597341265, Val f1: 0.6622571349143982\n",
            "Val loss: 0.6281518853943924, Val f1: 0.6371595859527588\n",
            "Val loss: 0.620295218446038, Val f1: 0.6283780336380005\n",
            "Val loss: 0.6150539881092006, Val f1: 0.6249750852584839\n",
            "Val loss: 0.6125299157323064, Val f1: 0.6216655969619751\n",
            "\n",
            "Evaluating on test...\n",
            "Val loss: 0.9097272157669067, Val f1: 0.7136529684066772\n",
            "Val loss: 0.779516509601048, Val f1: 0.6032329797744751\n",
            "Val loss: 0.744621444832195, Val f1: 0.5757304430007935\n",
            "Val loss: 0.728984534740448, Val f1: 0.5672156810760498\n",
            "Val loss: 0.7176112752211722, Val f1: 0.5633262395858765\n",
            "\n",
            "starting Epoch 13\n",
            "Training...\n",
            "Train loss: 0.631569117307663\n",
            "Train loss: 0.6102770135320467\n",
            "Train loss: 0.6019074754281477\n",
            "Train loss: 0.5970221869016098\n",
            "Train loss: 0.5945867888025336\n",
            "\n",
            "Evaluating on train...\n",
            "Val loss: 0.6108939264501844, Val f1: 0.764631450176239\n",
            "Val loss: 0.5899958651641319, Val f1: 0.7382842898368835\n",
            "Val loss: 0.5854792527177117, Val f1: 0.7276319265365601\n",
            "Val loss: 0.5821554226390386, Val f1: 0.7241125106811523\n",
            "Val loss: 0.5801080996925766, Val f1: 0.7227064371109009\n",
            "\n",
            "Evaluating on test...\n",
            "Val loss: 0.8727897802988688, Val f1: 0.8632170557975769\n",
            "Val loss: 0.7512093697275434, Val f1: 0.7347730994224548\n",
            "Val loss: 0.7183030301874335, Val f1: 0.6983051300048828\n",
            "Val loss: 0.7021534442901611, Val f1: 0.682476818561554\n",
            "Val loss: 0.6928855337594685, Val f1: 0.6712486147880554\n",
            "\n",
            "starting Epoch 14\n",
            "Training...\n",
            "Train loss: 0.6147088834217617\n",
            "Train loss: 0.5899054942459896\n",
            "Train loss: 0.5855842706832018\n",
            "Train loss: 0.5847283086534274\n",
            "Train loss: 0.5837659344479844\n",
            "\n",
            "Evaluating on train...\n",
            "Val loss: 0.6077588839190347, Val f1: 0.7785875797271729\n",
            "Val loss: 0.584705991991635, Val f1: 0.7546340227127075\n",
            "Val loss: 0.5789737687869505, Val f1: 0.7454050183296204\n",
            "Val loss: 0.5743640247037856, Val f1: 0.7393964529037476\n",
            "Val loss: 0.5725500970273405, Val f1: 0.736248791217804\n",
            "\n",
            "Evaluating on test...\n",
            "Val loss: 0.8739238977432251, Val f1: 0.874618649482727\n",
            "Val loss: 0.751971960067749, Val f1: 0.7456633448600769\n",
            "Val loss: 0.7191479097713124, Val f1: 0.7094294428825378\n",
            "Val loss: 0.703311010201772, Val f1: 0.6950214505195618\n",
            "Val loss: 0.6941804697639063, Val f1: 0.6835762858390808\n"
          ]
        }
      ]
    },
    {
      "cell_type": "code",
      "metadata": {
        "colab": {
          "base_uri": "https://localhost:8080/",
          "height": 295
        },
        "id": "Vh6BKYWphKIm",
        "outputId": "1d832efc-2578-4655-9b73-fd4aad52de0e"
      },
      "source": [
        "plt.plot(losses)\n",
        "plt.plot(losses_eval)\n",
        "plt.title('BCE loss value')\n",
        "plt.ylabel('BCE loss')\n",
        "plt.xlabel('epoch')\n",
        "plt.legend(['train', 'val'], loc='upper right')\n",
        "plt.show()"
      ],
      "execution_count": 43,
      "outputs": [
        {
          "output_type": "display_data",
          "data": {
            "image/png": "[encoded data removed]",
            "text/plain": [
              "<Figure size 432x288 with 1 Axes>"
            ]
          },
          "metadata": {
            "needs_background": "light"
          }
        }
      ]
    },
    {
      "cell_type": "code",
      "metadata": {
        "colab": {
          "base_uri": "https://localhost:8080/",
          "height": 295
        },
        "id": "MFupP21hhNTd",
        "outputId": "9aaa3233-f329-49e7-d4e6-4fc254dfc475"
      },
      "source": [
        "plt.plot(f1s)\n",
        "plt.plot(f1s_eval)\n",
        "plt.title('f1 value')\n",
        "plt.ylabel('f1 value')\n",
        "plt.xlabel('epoch')\n",
        "plt.legend(['train', 'val'], loc='upper right')\n",
        "plt.show()"
      ],
      "execution_count": 44,
      "outputs": [
        {
          "output_type": "display_data",
          "data": {
            "image/png": "[encoded data removed]",
            "text/plain": [
              "<Figure size 432x288 with 1 Axes>"
            ]
          },
          "metadata": {
            "needs_background": "light"
          }
        }
      ]
    },
    {
      "cell_type": "code",
      "metadata": {
        "id": "w0H_X1WrhQfJ"
      },
      "source": [
        "def predict(model, iterator):\n",
        "    model.eval()\n",
        "    fp = []\n",
        "    fn = []\n",
        "    tp = [] \n",
        "    tn = []\n",
        "    with torch.no_grad():\n",
        "        for i, (texts, ys) in enumerate(iterator):   \n",
        "            preds = model(texts)  # делаем предсказания на тесте \n",
        "            for pred, gold, text in zip(preds, ys, texts):\n",
        "              text = ' '.join([id2word[int(word)] for word in text if word !=0])\n",
        "              if round(pred.item()) > gold:\n",
        "                fp.append(text)\n",
        "              elif round(pred.item()) < gold:\n",
        "                fn.append(text)\n",
        "              elif round(pred.item()) == gold == 1:\n",
        "                tp.append(text)\n",
        "              elif round(pred.item()) == gold == 0:\n",
        "                tn.append(text)\n",
        "    return fp, fn, tp, tn"
      ],
      "execution_count": 45,
      "outputs": []
    },
    {
      "cell_type": "code",
      "metadata": {
        "id": "0y9lQiBnhVD8"
      },
      "source": [
        "fp, fn, tp, tn = predict(model, val_iterator)"
      ],
      "execution_count": 46,
      "outputs": []
    },
    {
      "cell_type": "code",
      "metadata": {
        "colab": {
          "base_uri": "https://localhost:8080/"
        },
        "id": "jT9S5PH7BYH1",
        "outputId": "a336d509-e149-4821-cfeb-25fe951477c9"
      },
      "source": [
        "recall = len(tp)/(len(tp) + len(fn))\n",
        "precision = len(tp)/(len(tp) + len(fp))\n",
        "f_score = 2 * precision * recall / (precision + recall)\n",
        "f_score"
      ],
      "execution_count": 47,
      "outputs": [
        {
          "output_type": "execute_result",
          "data": {
            "text/plain": [
              "0.6489007943838906"
            ]
          },
          "metadata": {},
          "execution_count": 47
        }
      ]
    },
    {
      "cell_type": "markdown",
      "metadata": {
        "id": "JcBg_wYH7SQ4"
      },
      "source": [
        "результаты сомнительные...графики тоже не очень, попробуем улучшить модель."
      ]
    },
    {
      "cell_type": "code",
      "metadata": {
        "colab": {
          "base_uri": "https://localhost:8080/"
        },
        "id": "AgUFGjQ86z9S",
        "outputId": "9231b215-2b99-4bd0-b130-4bacbcda91e5"
      },
      "source": [
        "fn[:5]"
      ],
      "execution_count": null,
      "outputs": [
        {
          "output_type": "execute_result",
          "data": {
            "text/plain": [
              "['как хотя вы такие что не',\n",
              " 'ni вообще я залил всю клаву',\n",
              " 'скучно наверно фильм смотреть хз',\n",
              " 'же что без тебя серо и будь рядом',\n",
              " 'вышел с к чтобы конфеты не забрали я всю химию ржу от этих конфет']"
            ]
          },
          "metadata": {},
          "execution_count": 198
        }
      ]
    },
    {
      "cell_type": "markdown",
      "metadata": {
        "id": "JOiTJjRgK6xe"
      },
      "source": [
        "### Подгрузим обученные эмбеддинги Fasttext"
      ]
    },
    {
      "cell_type": "code",
      "metadata": {
        "id": "RTEamsu8NBRo"
      },
      "source": [
        "texts = tweets_data.prep_text.tolist()"
      ],
      "execution_count": 51,
      "outputs": []
    },
    {
      "cell_type": "code",
      "metadata": {
        "id": "EmgSOPL7NLQ1"
      },
      "source": [
        "ft = FastText(texts, size=100, window=5, min_count=1)"
      ],
      "execution_count": 52,
      "outputs": []
    },
    {
      "cell_type": "code",
      "metadata": {
        "id": "NEqLfD6mNdyl"
      },
      "source": [
        "weights = np.zeros((len(word2id), 100))\n",
        "count = 0\n",
        "for word, i in word2id.items():\n",
        "    if word == 'PAD':\n",
        "        continue   \n",
        "    try:\n",
        "        weights[i] = ft.wv[word]    \n",
        "    except KeyError:\n",
        "      count += 1\n",
        "      # oov словам сопоставляем случайный вектор\n",
        "      weights[i] = np.random.normal(0,0.1,100)"
      ],
      "execution_count": 53,
      "outputs": []
    },
    {
      "cell_type": "code",
      "metadata": {
        "id": "OiVOeng_NiKn"
      },
      "source": [
        "class CNN(nn.Module):\n",
        "    \n",
        "    def __init__(self, vocab_size, embedding_dim):\n",
        "        super().__init__()\n",
        "        self.embedding = nn.Embedding(vocab_size, embedding_dim)\n",
        "        self.embedding.from_pretrained(torch.tensor(weights), freeze=True)\n",
        "        self.bigrams = nn.Conv1d(in_channels=embedding_dim, out_channels=80, kernel_size=2, padding='same')\n",
        "        self.trigrams = nn.Conv1d(in_channels=embedding_dim, out_channels=60, kernel_size=3, padding='same')\n",
        "        self.ngrams_cat = nn.Conv1d(in_channels=140, out_channels=140, kernel_size=2, padding='same')\n",
        "        self.pooling = nn.MaxPool1d(kernel_size=2, stride=2)\n",
        "        self.relu = nn.ReLU()\n",
        "        self.hidden = nn.Linear(in_features=140, out_features=1)\n",
        "        self.dropout = nn.Dropout(p=0.5)\n",
        "        self.out = nn.Sigmoid()\n",
        "\n",
        "    def forward(self, text):\n",
        "        embedded = self.embedding(text)\n",
        "        embedded = embedded.transpose(1,2)\n",
        "        feature_map_bigrams = self.relu(self.bigrams(embedded))\n",
        "        feature_map_trigrams = self.relu(self.trigrams(embedded))\n",
        "        concat = torch.cat((feature_map_bigrams, feature_map_trigrams), 1)\n",
        "        pooling = self.pooling(self.relu(self.ngrams_cat(concat)))\n",
        "        bm = pooling.max(2)[0]\n",
        "        logits = self.hidden(bm) \n",
        "        logits = self.out(logits)       \n",
        "        return logits"
      ],
      "execution_count": 54,
      "outputs": []
    },
    {
      "cell_type": "code",
      "metadata": {
        "id": "XATH2gf6Ouu-"
      },
      "source": [
        "model = CNN(len(word2id), 5)\n",
        "optimizer = optim.Adam(model.parameters(), lr=0.001)\n",
        "criterion = nn.BCELoss()  \n",
        "\n",
        "# веса модели и значения лосса храним там же, где и все остальные тензоры\n",
        "model = model.to(DEVICE)\n",
        "criterion = criterion.to(DEVICE)"
      ],
      "execution_count": 55,
      "outputs": []
    },
    {
      "cell_type": "code",
      "metadata": {
        "colab": {
          "base_uri": "https://localhost:8080/"
        },
        "id": "p5SwbzycPwiY",
        "outputId": "beb1b535-503a-47de-9b02-4f6ed10cd283"
      },
      "source": [
        "losses = []\n",
        "losses_eval = []\n",
        "f1s = []\n",
        "f1s_eval = []\n",
        "\n",
        "for i in range(15):\n",
        "    print(f'\\nstarting Epoch {i}')\n",
        "    print('Training...')\n",
        "    epoch_loss = train(model, train_iterator, optimizer, criterion)\n",
        "    losses.append(epoch_loss)\n",
        "    print('\\nEvaluating on train...')\n",
        "    f1_on_train,_ = evaluate(model, train_iterator, criterion)\n",
        "    f1s.append(f1_on_train)\n",
        "    print('\\nEvaluating on test...')\n",
        "    f1_on_test, epoch_loss_on_test = evaluate(model, val_iterator, criterion)\n",
        "    losses_eval.append(epoch_loss_on_test)\n",
        "    f1s_eval.append(f1_on_test)"
      ],
      "execution_count": 56,
      "outputs": [
        {
          "output_type": "stream",
          "name": "stdout",
          "text": [
            "\n",
            "starting Epoch 0\n",
            "Training...\n",
            "Train loss: 0.7442966571875981\n",
            "Train loss: 0.7163601640997261\n",
            "Train loss: 0.7069632370363582\n",
            "Train loss: 0.7023533663507235\n",
            "Train loss: 0.6993581507657025\n",
            "\n",
            "Evaluating on train...\n",
            "Val loss: 0.7323948528085437, Val f1: 0.598504900932312\n",
            "Val loss: 0.7067165230882579, Val f1: 0.5763217210769653\n",
            "Val loss: 0.6987987661903555, Val f1: 0.5676146745681763\n",
            "Val loss: 0.6950676673549717, Val f1: 0.5615387558937073\n",
            "Val loss: 0.6929395545173336, Val f1: 0.5599706768989563\n",
            "\n",
            "Evaluating on test...\n",
            "Val loss: 0.9164356787999471, Val f1: 0.7162491679191589\n",
            "Val loss: 0.7848502652985709, Val f1: 0.6162203550338745\n",
            "Val loss: 0.7486724745143544, Val f1: 0.5904375910758972\n",
            "Val loss: 0.7319497863451639, Val f1: 0.5784367322921753\n",
            "Val loss: 0.7218234068468997, Val f1: 0.5725264549255371\n",
            "\n",
            "starting Epoch 1\n",
            "Training...\n",
            "Train loss: 0.7324549768652234\n",
            "Train loss: 0.7071088758008234\n",
            "Train loss: 0.6988819959488782\n",
            "Train loss: 0.6948276515734397\n",
            "Train loss: 0.6919460715474309\n",
            "\n",
            "Evaluating on train...\n",
            "Val loss: 0.7269721840109143, Val f1: 0.569783091545105\n",
            "Val loss: 0.7007834520833246, Val f1: 0.5541901588439941\n",
            "Val loss: 0.6926986141638323, Val f1: 0.5472152829170227\n",
            "Val loss: 0.6886690248877315, Val f1: 0.545914888381958\n",
            "Val loss: 0.686036205775029, Val f1: 0.5451556444168091\n",
            "\n",
            "Evaluating on test...\n",
            "Val loss: 0.9106642206509908, Val f1: 0.7032599449157715\n",
            "Val loss: 0.7795103788375854, Val f1: 0.6014494299888611\n",
            "Val loss: 0.7440205270593817, Val f1: 0.5693994760513306\n",
            "Val loss: 0.727721345424652, Val f1: 0.5599493980407715\n",
            "Val loss: 0.7173259415124592, Val f1: 0.5548507571220398\n",
            "\n",
            "starting Epoch 2\n",
            "Training...\n",
            "Train loss: 0.7250083684921265\n",
            "Train loss: 0.6984363732666805\n",
            "Train loss: 0.6906658532944593\n",
            "Train loss: 0.6862157411494497\n",
            "Train loss: 0.683133457158063\n",
            "\n",
            "Evaluating on train...\n",
            "Val loss: 0.7147368746144431, Val f1: 0.6178531646728516\n",
            "Val loss: 0.6907623862398082, Val f1: 0.596515953540802\n",
            "Val loss: 0.6825133968483318, Val f1: 0.5902393460273743\n",
            "Val loss: 0.6786963000135907, Val f1: 0.5884084105491638\n",
            "Val loss: 0.6762145218011495, Val f1: 0.5872534513473511\n",
            "\n",
            "Evaluating on test...\n",
            "Val loss: 0.9043885072072347, Val f1: 0.7409316897392273\n",
            "Val loss: 0.7734705209732056, Val f1: 0.642524242401123\n",
            "Val loss: 0.7387775507840243, Val f1: 0.6082807779312134\n",
            "Val loss: 0.7220357020696004, Val f1: 0.5952844023704529\n",
            "Val loss: 0.7110940186600936, Val f1: 0.589201033115387\n",
            "\n",
            "starting Epoch 3\n",
            "Training...\n",
            "Train loss: 0.7144087467874799\n",
            "Train loss: 0.6902736548719735\n",
            "Train loss: 0.6826237318190661\n",
            "Train loss: 0.6775214470038979\n",
            "Train loss: 0.6748866366373526\n",
            "\n",
            "Evaluating on train...\n",
            "Val loss: 0.7108761625630515, Val f1: 0.7177578806877136\n",
            "Val loss: 0.6848557550331642, Val f1: 0.6936070919036865\n",
            "Val loss: 0.6777684878219258, Val f1: 0.6849561929702759\n",
            "Val loss: 0.6738974098431862, Val f1: 0.6801688075065613\n",
            "Val loss: 0.6715462900496818, Val f1: 0.6786282658576965\n",
            "\n",
            "Evaluating on test...\n",
            "Val loss: 0.9012887477874756, Val f1: 0.8785384893417358\n",
            "Val loss: 0.7730792164802551, Val f1: 0.7458974123001099\n",
            "Val loss: 0.7390521602197127, Val f1: 0.7106285691261292\n",
            "Val loss: 0.7207450946172078, Val f1: 0.6990739703178406\n",
            "Val loss: 0.7106650659912511, Val f1: 0.6893101334571838\n",
            "\n",
            "starting Epoch 4\n",
            "Training...\n",
            "Train loss: 0.7072451795850482\n",
            "Train loss: 0.6816805765546602\n",
            "Train loss: 0.6723438108509238\n",
            "Train loss: 0.6680033813088627\n",
            "Train loss: 0.6651587961493312\n",
            "\n",
            "Evaluating on train...\n",
            "Val loss: 0.6955344166074481, Val f1: 0.7044614553451538\n",
            "Val loss: 0.6684581904575743, Val f1: 0.68336421251297\n",
            "Val loss: 0.6621003191579472, Val f1: 0.6738364100456238\n",
            "Val loss: 0.6586509175219778, Val f1: 0.6682428121566772\n",
            "Val loss: 0.656725954365086, Val f1: 0.6652911305427551\n",
            "\n",
            "Evaluating on test...\n",
            "Val loss: 0.8889271219571432, Val f1: 0.8440689444541931\n",
            "Val loss: 0.7624197091375079, Val f1: 0.7198168039321899\n",
            "Val loss: 0.7293594208630648, Val f1: 0.6864452362060547\n",
            "Val loss: 0.7118632555007934, Val f1: 0.6732397675514221\n",
            "Val loss: 0.7015921818582636, Val f1: 0.663171648979187\n",
            "\n",
            "starting Epoch 5\n",
            "Training...\n",
            "Train loss: 0.694656069789614\n",
            "Train loss: 0.6701820780491007\n",
            "Train loss: 0.663441610607234\n",
            "Train loss: 0.659402744244721\n",
            "Train loss: 0.6565881170131065\n",
            "\n",
            "Evaluating on train...\n",
            "Val loss: 0.6828634653772626, Val f1: 0.6988289952278137\n",
            "Val loss: 0.6596488109950361, Val f1: 0.6773936748504639\n",
            "Val loss: 0.6531867439096625, Val f1: 0.6669739484786987\n",
            "Val loss: 0.6492835576251402, Val f1: 0.6638586521148682\n",
            "Val loss: 0.6472789314953057, Val f1: 0.6614137887954712\n",
            "\n",
            "Evaluating on test...\n",
            "Val loss: 0.8853787779808044, Val f1: 0.830348014831543\n",
            "Val loss: 0.7585874285016742, Val f1: 0.7089985013008118\n",
            "Val loss: 0.7256407304243608, Val f1: 0.6738839149475098\n",
            "Val loss: 0.7083352446556092, Val f1: 0.6608379483222961\n",
            "Val loss: 0.6978190635379992, Val f1: 0.6509789228439331\n",
            "\n",
            "starting Epoch 6\n",
            "Training...\n",
            "Train loss: 0.6851631871291569\n",
            "Train loss: 0.6617689893163484\n",
            "Train loss: 0.6546861813826994\n",
            "Train loss: 0.651151637909776\n",
            "Train loss: 0.6484947132097708\n",
            "\n",
            "Evaluating on train...\n",
            "Val loss: 0.6735313960484096, Val f1: 0.7032915353775024\n",
            "Val loss: 0.6488229097991154, Val f1: 0.6802768111228943\n",
            "Val loss: 0.6430478068915281, Val f1: 0.670170783996582\n",
            "Val loss: 0.6400807752447614, Val f1: 0.6659767031669617\n",
            "Val loss: 0.6388452922975695, Val f1: 0.662310779094696\n",
            "\n",
            "Evaluating on test...\n",
            "Val loss: 0.8826701045036316, Val f1: 0.8288030624389648\n",
            "Val loss: 0.7561017104557582, Val f1: 0.7053505182266235\n",
            "Val loss: 0.7238263325257734, Val f1: 0.6702070832252502\n",
            "Val loss: 0.7062764167785645, Val f1: 0.6577745676040649\n",
            "Val loss: 0.695534138303054, Val f1: 0.648193359375\n",
            "\n",
            "starting Epoch 7\n",
            "Training...\n",
            "Train loss: 0.675305609192167\n",
            "Train loss: 0.6522471041514956\n",
            "Train loss: 0.6461306756192987\n",
            "Train loss: 0.6420896447311013\n",
            "Train loss: 0.6396853674102474\n",
            "\n",
            "Evaluating on train...\n",
            "Val loss: 0.6709180346557072, Val f1: 0.677190899848938\n",
            "Val loss: 0.6488556409704274, Val f1: 0.6506733298301697\n",
            "Val loss: 0.6415299366820942, Val f1: 0.6440689563751221\n",
            "Val loss: 0.6376894227528976, Val f1: 0.6409847736358643\n",
            "Val loss: 0.6339208507860029, Val f1: 0.640796959400177\n",
            "\n",
            "Evaluating on test...\n",
            "Val loss: 0.886414110660553, Val f1: 0.7872384786605835\n",
            "Val loss: 0.7587437118802752, Val f1: 0.6696493625640869\n",
            "Val loss: 0.7258485555648804, Val f1: 0.6388871073722839\n",
            "Val loss: 0.7086429278055827, Val f1: 0.6257205009460449\n",
            "Val loss: 0.6972986302877727, Val f1: 0.6168038249015808\n",
            "\n",
            "starting Epoch 8\n",
            "Training...\n",
            "Train loss: 0.6762351223400661\n",
            "Train loss: 0.6471323555913465\n",
            "Train loss: 0.6391041129827499\n",
            "Train loss: 0.6351664480516466\n",
            "Train loss: 0.6337954450298\n",
            "\n",
            "Evaluating on train...\n",
            "Val loss: 0.6585341734545571, Val f1: 0.7277935147285461\n",
            "Val loss: 0.6346372982551312, Val f1: 0.7021782398223877\n",
            "Val loss: 0.6278359131379561, Val f1: 0.6922510266304016\n",
            "Val loss: 0.6236907809467639, Val f1: 0.6890742182731628\n",
            "Val loss: 0.6213930321706308, Val f1: 0.6863852739334106\n",
            "\n",
            "Evaluating on test...\n",
            "Val loss: 0.8760742545127869, Val f1: 0.840800940990448\n",
            "Val loss: 0.7492490070206779, Val f1: 0.7180388569831848\n",
            "Val loss: 0.7180035493590615, Val f1: 0.6834678649902344\n",
            "Val loss: 0.7008743564287822, Val f1: 0.6694175004959106\n",
            "Val loss: 0.6903620362281799, Val f1: 0.6601017713546753\n",
            "\n",
            "starting Epoch 9\n",
            "Training...\n",
            "Train loss: 0.6675678406442914\n",
            "Train loss: 0.6417121167840629\n",
            "Train loss: 0.6339078003709967\n",
            "Train loss: 0.6281083064564204\n",
            "Train loss: 0.6251231891077917\n",
            "\n",
            "Evaluating on train...\n",
            "Val loss: 0.6605549241815295, Val f1: 0.6756698489189148\n",
            "Val loss: 0.6373175382614136, Val f1: 0.6506679058074951\n",
            "Val loss: 0.6278868764638901, Val f1: 0.645102322101593\n",
            "Val loss: 0.6251741728540194, Val f1: 0.6414060592651367\n",
            "Val loss: 0.6217396807026219, Val f1: 0.640499472618103\n",
            "\n",
            "Evaluating on test...\n",
            "Val loss: 0.8875209093093872, Val f1: 0.7615598440170288\n",
            "Val loss: 0.7572765520640782, Val f1: 0.6551440954208374\n",
            "Val loss: 0.7258090810342268, Val f1: 0.6212568879127502\n",
            "Val loss: 0.7093523820241292, Val f1: 0.6106487512588501\n",
            "Val loss: 0.6976248747424075, Val f1: 0.6031149625778198\n",
            "\n",
            "starting Epoch 10\n",
            "Training...\n",
            "Train loss: 0.6577214768954686\n",
            "Train loss: 0.6308078848082443\n",
            "Train loss: 0.6231048716740175\n",
            "Train loss: 0.6181990888159153\n",
            "Train loss: 0.6158695220947266\n",
            "\n",
            "Evaluating on train...\n",
            "Val loss: 0.6427250036171505, Val f1: 0.736237645149231\n",
            "Val loss: 0.6185128524385649, Val f1: 0.711814284324646\n",
            "Val loss: 0.6118951778520237, Val f1: 0.7025703191757202\n",
            "Val loss: 0.6078703211525739, Val f1: 0.7006745338439941\n",
            "Val loss: 0.6047366027896469, Val f1: 0.698248565196991\n",
            "\n",
            "Evaluating on test...\n",
            "Val loss: 0.8742355108261108, Val f1: 0.8391784429550171\n",
            "Val loss: 0.7488345163209098, Val f1: 0.7169540524482727\n",
            "Val loss: 0.7174220572818409, Val f1: 0.682634174823761\n",
            "Val loss: 0.6997657179832458, Val f1: 0.668774425983429\n",
            "Val loss: 0.6892259528762416, Val f1: 0.6593993306159973\n",
            "\n",
            "starting Epoch 11\n",
            "Training...\n",
            "Train loss: 0.6388107963970729\n",
            "Train loss: 0.6177072052297921\n",
            "Train loss: 0.6109951490705664\n",
            "Train loss: 0.6076387722613448\n",
            "Train loss: 0.6071169287771792\n",
            "\n",
            "Evaluating on train...\n",
            "Val loss: 0.6328379852431161, Val f1: 0.7319096326828003\n",
            "Val loss: 0.6106729384126335, Val f1: 0.7033619284629822\n",
            "Val loss: 0.6046635860746558, Val f1: 0.6933426856994629\n",
            "Val loss: 0.6020804926500483, Val f1: 0.6866521239280701\n",
            "Val loss: 0.5995107703917736, Val f1: 0.6852395534515381\n",
            "\n",
            "Evaluating on test...\n",
            "Val loss: 0.8767151236534119, Val f1: 0.8130812644958496\n",
            "Val loss: 0.7494240403175354, Val f1: 0.6938472390174866\n",
            "Val loss: 0.7177836894989014, Val f1: 0.6586897969245911\n",
            "Val loss: 0.7014468749364217, Val f1: 0.6461881995201111\n",
            "Val loss: 0.6909683974165666, Val f1: 0.6372233033180237\n",
            "\n",
            "starting Epoch 12\n",
            "Training...\n",
            "Train loss: 0.6349933913775853\n",
            "Train loss: 0.6135868574010914\n",
            "Train loss: 0.6099404164335944\n",
            "Train loss: 0.6059953711800656\n",
            "Train loss: 0.6025898206878353\n",
            "\n",
            "Evaluating on train...\n",
            "Val loss: 0.6226549105984824, Val f1: 0.7769863605499268\n",
            "Val loss: 0.601905580224662, Val f1: 0.7491910457611084\n",
            "Val loss: 0.5960688441991806, Val f1: 0.7383825182914734\n",
            "Val loss: 0.5931568863028187, Val f1: 0.7338988780975342\n",
            "Val loss: 0.591315825243254, Val f1: 0.7311239242553711\n",
            "\n",
            "Evaluating on test...\n",
            "Val loss: 0.8773752252260844, Val f1: 0.8908905386924744\n",
            "Val loss: 0.7513903209141323, Val f1: 0.7583310604095459\n",
            "Val loss: 0.7214366305958141, Val f1: 0.7198838591575623\n",
            "Val loss: 0.7030547618865967, Val f1: 0.7051181793212891\n",
            "Val loss: 0.6936423998129996, Val f1: 0.6953928470611572\n",
            "\n",
            "starting Epoch 13\n",
            "Training...\n",
            "Train loss: 0.6267512738704681\n",
            "Train loss: 0.6033877812582871\n",
            "Train loss: 0.5962222719734366\n",
            "Train loss: 0.5926568255586139\n",
            "Train loss: 0.5911303694183762\n",
            "\n",
            "Evaluating on train...\n",
            "Val loss: 0.6102658637932369, Val f1: 0.7653728723526001\n",
            "Val loss: 0.5893173854926537, Val f1: 0.7442690134048462\n",
            "Val loss: 0.5826765596866608, Val f1: 0.7372121810913086\n",
            "Val loss: 0.5800815992436167, Val f1: 0.732520341873169\n",
            "Val loss: 0.5797245881041965, Val f1: 0.7288421392440796\n",
            "\n",
            "Evaluating on test...\n",
            "Val loss: 0.8743994832038879, Val f1: 0.8666398525238037\n",
            "Val loss: 0.7470189418111529, Val f1: 0.736927330493927\n",
            "Val loss: 0.7168621258302168, Val f1: 0.700317919254303\n",
            "Val loss: 0.6991151412328084, Val f1: 0.6875416040420532\n",
            "Val loss: 0.6891105425985236, Val f1: 0.6795634031295776\n",
            "\n",
            "starting Epoch 14\n",
            "Training...\n",
            "Train loss: 0.6148769004004342\n",
            "Train loss: 0.5953846327189741\n",
            "Train loss: 0.5903577384623614\n",
            "Train loss: 0.5873830217426106\n",
            "Train loss: 0.586166845785605\n",
            "\n",
            "Evaluating on train...\n",
            "Val loss: 0.6027237474918365, Val f1: 0.7704073190689087\n",
            "Val loss: 0.5819785779920118, Val f1: 0.7435354590415955\n",
            "Val loss: 0.5767848491668701, Val f1: 0.7343280911445618\n",
            "Val loss: 0.5730073694455422, Val f1: 0.7307678461074829\n",
            "Val loss: 0.5710281504167093, Val f1: 0.7286492586135864\n",
            "\n",
            "Evaluating on test...\n",
            "Val loss: 0.8713475863138834, Val f1: 0.8531622886657715\n",
            "Val loss: 0.745468727179936, Val f1: 0.7283219695091248\n",
            "Val loss: 0.7149904478680004, Val f1: 0.693012535572052\n",
            "Val loss: 0.6982787211736043, Val f1: 0.6797237992286682\n",
            "Val loss: 0.6878748881189447, Val f1: 0.6708940267562866\n"
          ]
        }
      ]
    },
    {
      "cell_type": "code",
      "metadata": {
        "colab": {
          "base_uri": "https://localhost:8080/",
          "height": 295
        },
        "id": "y6iJrbtcP_D9",
        "outputId": "faabf714-46d6-4276-b49c-f26862689d2b"
      },
      "source": [
        "plt.plot(losses)\n",
        "plt.plot(losses_eval)\n",
        "plt.title('BCE loss value')\n",
        "plt.ylabel('BCE loss')\n",
        "plt.xlabel('epoch')\n",
        "plt.legend(['train', 'val'], loc='upper right')\n",
        "plt.show()"
      ],
      "execution_count": 57,
      "outputs": [
        {
          "output_type": "display_data",
          "data": {
            "image/png": "[encoded data removed]",
            "text/plain": [
              "<Figure size 432x288 with 1 Axes>"
            ]
          },
          "metadata": {
            "needs_background": "light"
          }
        }
      ]
    },
    {
      "cell_type": "code",
      "metadata": {
        "colab": {
          "base_uri": "https://localhost:8080/",
          "height": 295
        },
        "id": "1KvwqBJwQKaD",
        "outputId": "936e1b50-ca4e-4eda-b584-d867cf7605aa"
      },
      "source": [
        "plt.plot(f1s)\n",
        "plt.plot(f1s_eval)\n",
        "plt.title('f1 value')\n",
        "plt.ylabel('f1 value')\n",
        "plt.xlabel('epoch')\n",
        "plt.legend(['train', 'val'], loc='upper right')\n",
        "plt.show()"
      ],
      "execution_count": 58,
      "outputs": [
        {
          "output_type": "display_data",
          "data": {
            "image/png": "[encoded data removed]",
            "text/plain": [
              "<Figure size 432x288 with 1 Axes>"
            ]
          },
          "metadata": {
            "needs_background": "light"
          }
        }
      ]
    },
    {
      "cell_type": "code",
      "metadata": {
        "id": "IL_nwF1SQQ5d"
      },
      "source": [
        "fp, fn, tp, tn = predict(model, val_iterator)"
      ],
      "execution_count": 59,
      "outputs": []
    },
    {
      "cell_type": "code",
      "metadata": {
        "colab": {
          "base_uri": "https://localhost:8080/"
        },
        "id": "ErgVOdwGQY-v",
        "outputId": "8721511c-8165-4401-a387-c5dcad0eb820"
      },
      "source": [
        "recall = len(tp)/(len(tp) + len(fn))\n",
        "precision = len(tp)/(len(tp) + len(fp))\n",
        "f_score = 2 * precision * recall / (precision + recall)\n",
        "f_score"
      ],
      "execution_count": 60,
      "outputs": [
        {
          "output_type": "execute_result",
          "data": {
            "text/plain": [
              "0.6371006659588843"
            ]
          },
          "metadata": {},
          "execution_count": 60
        }
      ]
    },
    {
      "cell_type": "code",
      "metadata": {
        "colab": {
          "base_uri": "https://localhost:8080/"
        },
        "id": "vuyCOKeB-nJy",
        "outputId": "cfa9b612-e916-4e74-a7c0-6b75ccb2f5fb"
      },
      "source": [
        "fn[:5]"
      ],
      "execution_count": 61,
      "outputs": [
        {
          "output_type": "execute_result",
          "data": {
            "text/plain": [
              "['и сюда хули нет',\n",
              " 'кааак',\n",
              " 'утро сейчас в путь дорогу на соревнования небо поможет',\n",
              " 'давайте посмотрим я вот вчера все части',\n",
              " 'вы с утра пока все из дома не и только потом']"
            ]
          },
          "metadata": {},
          "execution_count": 61
        }
      ]
    },
    {
      "cell_type": "markdown",
      "metadata": {
        "id": "LKpWlAsIRCvX"
      },
      "source": [
        "Подруженные эмбеддинги не улучшили результаты :("
      ]
    },
    {
      "cell_type": "markdown",
      "metadata": {
        "id": "mBcVM8T4RnpG"
      },
      "source": [
        "Попробуем убрать предобработку текстов совсем. От переобучения я уже спасла модель тем, что добавила Dropout, уменьшила embedding_dim до 5, уменьшила in_features (и соответственно out_channels) до 140, разделила текст на train/val как 8 к 2. Learning rate 0.001 тоже помогает улучшить результаты + небольшое кол-во эпох предотвращает переобучение."
      ]
    },
    {
      "cell_type": "code",
      "metadata": {
        "id": "mZp9VkcwSy2Y"
      },
      "source": [
        "vocab = Counter()\n",
        "for text in tweets_data['text']:\n",
        "    vocab.update(text.split(' '))\n",
        "for word in vocab:\n",
        "    if vocab[word] > 5:\n",
        "        filtered_vocab.add(word)\n",
        "\n",
        "word2id = {'PAD':0}\n",
        "\n",
        "for word in filtered_vocab:\n",
        "    word2id[word] = len(word2id)\n",
        "id2word = {i:word for word, i in word2id.items()}"
      ],
      "execution_count": 62,
      "outputs": []
    },
    {
      "cell_type": "code",
      "metadata": {
        "id": "PkP3MAatTyOT"
      },
      "source": [
        "class RawTweetsDataset(Dataset):\n",
        "\n",
        "    def __init__(self, dataset, word2id, DEVICE):\n",
        "        self.dataset = dataset['text'].values\n",
        "        self.word2id = word2id\n",
        "        self.length = dataset.shape[0]\n",
        "        self.target = torch.Tensor(dataset['tone'].values)\n",
        "        self.device = DEVICE\n",
        "\n",
        "    def __len__(self):\n",
        "        return self.length\n",
        "\n",
        "    def __getitem__(self, index): \n",
        "        tokens = self.dataset[index].split(' ')\n",
        "        ids = torch.LongTensor([self.word2id[token] for token in tokens if token in self.word2id])\n",
        "        y = [self.target[index]]\n",
        "        return ids, y\n",
        "\n",
        "    def collate_fn(self, batch):\n",
        "      ids, y = list(zip(*batch))\n",
        "      padded_ids = pad_sequence(ids, batch_first=True).to(self.device)\n",
        "      y = torch.Tensor(y).to(self.device)\n",
        "      return padded_ids, y"
      ],
      "execution_count": 63,
      "outputs": []
    },
    {
      "cell_type": "code",
      "metadata": {
        "id": "Up0v5-j1UG-n"
      },
      "source": [
        "train_dataset = RawTweetsDataset(train_sentences, word2id, DEVICE)\n",
        "train_sampler = RandomSampler(train_dataset)\n",
        "train_iterator = DataLoader(train_dataset, collate_fn = train_dataset.collate_fn, sampler=train_sampler, batch_size=1024)"
      ],
      "execution_count": 64,
      "outputs": []
    },
    {
      "cell_type": "code",
      "metadata": {
        "id": "cNfYvwxoUKqJ"
      },
      "source": [
        "val_dataset = RawTweetsDataset(val_sentences, word2id, DEVICE)\n",
        "val_sampler = SequentialSampler(val_dataset)\n",
        "val_iterator = DataLoader(val_dataset, collate_fn = val_dataset.collate_fn, sampler=val_sampler, batch_size=1024)"
      ],
      "execution_count": 65,
      "outputs": []
    },
    {
      "cell_type": "code",
      "metadata": {
        "id": "zLC7FVsqUSHb"
      },
      "source": [
        "model = CNN(len(word2id), 5)\n",
        "optimizer = optim.Adam(model.parameters(), lr=0.001)\n",
        "criterion = nn.BCELoss() \n",
        "\n",
        "# веса модели и значения лосса храним там же, где и все остальные тензоры\n",
        "model = model.to(DEVICE)\n",
        "criterion = criterion.to(DEVICE)"
      ],
      "execution_count": 66,
      "outputs": []
    },
    {
      "cell_type": "code",
      "metadata": {
        "colab": {
          "base_uri": "https://localhost:8080/"
        },
        "id": "1sdF_5M6Uf6H",
        "outputId": "15973857-d8b9-4238-c049-87cc05cd89db"
      },
      "source": [
        "losses = []\n",
        "losses_eval = []\n",
        "f1s = []\n",
        "f1s_eval = []\n",
        "\n",
        "for i in range(15):\n",
        "    print(f'\\nstarting Epoch {i}')\n",
        "    print('Training...')\n",
        "    epoch_loss = train(model, train_iterator, optimizer, criterion)\n",
        "    losses.append(epoch_loss)\n",
        "    print('\\nEvaluating on train...')\n",
        "    f1_on_train,_ = evaluate(model, train_iterator, criterion)\n",
        "    f1s.append(f1_on_train)\n",
        "    print('\\nEvaluating on test...')\n",
        "    f1_on_test, epoch_loss_on_test = evaluate(model, val_iterator, criterion)\n",
        "    losses_eval.append(epoch_loss_on_test)\n",
        "    f1s_eval.append(f1_on_test)"
      ],
      "execution_count": 67,
      "outputs": [
        {
          "output_type": "stream",
          "name": "stdout",
          "text": [
            "\n",
            "starting Epoch 0\n",
            "Training...\n",
            "Train loss: 0.7425261565617153\n",
            "Train loss: 0.7124633090249424\n",
            "Train loss: 0.6997694440863349\n",
            "Train loss: 0.6904480002694211\n",
            "Train loss: 0.6820363168780869\n",
            "\n",
            "Evaluating on train...\n",
            "Val loss: 0.6817730367183685, Val f1: 0.7031376361846924\n",
            "Val loss: 0.6557193131282412, Val f1: 0.6798455715179443\n",
            "Val loss: 0.6484759328040209, Val f1: 0.6727760434150696\n",
            "Val loss: 0.6449418674081059, Val f1: 0.6678467392921448\n",
            "Val loss: 0.6430699857505592, Val f1: 0.6665016412734985\n",
            "\n",
            "Evaluating on test...\n",
            "Val loss: 0.8452746868133545, Val f1: 0.8745368719100952\n",
            "Val loss: 0.7282027431896755, Val f1: 0.7428436875343323\n",
            "Val loss: 0.6947866407307711, Val f1: 0.7065210938453674\n",
            "Val loss: 0.6780308723449707, Val f1: 0.6947243809700012\n",
            "Val loss: 0.6687708591160021, Val f1: 0.683219313621521\n",
            "\n",
            "starting Epoch 1\n",
            "Training...\n",
            "Train loss: 0.6709419574056353\n",
            "Train loss: 0.6441787810161196\n",
            "Train loss: 0.6326057504523884\n",
            "Train loss: 0.6231598318633387\n",
            "Train loss: 0.6159594155646659\n",
            "\n",
            "Evaluating on train...\n",
            "Val loss: 0.6246711143425533, Val f1: 0.755435049533844\n",
            "Val loss: 0.6013307982477648, Val f1: 0.7332122325897217\n",
            "Val loss: 0.5949494229121641, Val f1: 0.7251598238945007\n",
            "Val loss: 0.5909774283231315, Val f1: 0.7212128043174744\n",
            "Val loss: 0.5892908621478725, Val f1: 0.7192997336387634\n",
            "\n",
            "Evaluating on test...\n",
            "Val loss: 0.7783311804135641, Val f1: 0.9448906779289246\n",
            "Val loss: 0.6719737563814435, Val f1: 0.7996389269828796\n",
            "Val loss: 0.6430507031354037, Val f1: 0.7601685523986816\n",
            "Val loss: 0.625982407728831, Val f1: 0.7476279139518738\n",
            "Val loss: 0.6179621815681458, Val f1: 0.735274076461792\n",
            "\n",
            "starting Epoch 2\n",
            "Training...\n",
            "Train loss: 0.6172527841159275\n",
            "Train loss: 0.5915611160212549\n",
            "Train loss: 0.5811899995261972\n",
            "Train loss: 0.5747818583149021\n",
            "Train loss: 0.5701126633463679\n",
            "\n",
            "Evaluating on train...\n",
            "Val loss: 0.5773557594844273, Val f1: 0.7519228458404541\n",
            "Val loss: 0.558212331656752, Val f1: 0.7248666286468506\n",
            "Val loss: 0.5524093847383152, Val f1: 0.7173039317131042\n",
            "Val loss: 0.5486098932007611, Val f1: 0.7124305367469788\n",
            "Val loss: 0.5472329371684307, Val f1: 0.7110773921012878\n",
            "\n",
            "Evaluating on test...\n",
            "Val loss: 0.7310985525449117, Val f1: 0.9202638864517212\n",
            "Val loss: 0.6309927020754132, Val f1: 0.7800188660621643\n",
            "Val loss: 0.6049777269363403, Val f1: 0.740632176399231\n",
            "Val loss: 0.5887483795483907, Val f1: 0.7289636731147766\n",
            "Val loss: 0.5807596194116693, Val f1: 0.7180448174476624\n",
            "\n",
            "starting Epoch 3\n",
            "Training...\n",
            "Train loss: 0.5824113701071058\n",
            "Train loss: 0.5558222244525778\n",
            "Train loss: 0.547976630655202\n",
            "Train loss: 0.5436696460691549\n",
            "Train loss: 0.5405365784425993\n",
            "\n",
            "Evaluating on train...\n",
            "Val loss: 0.5494372440235955, Val f1: 0.7930805087089539\n",
            "Val loss: 0.5292105315060451, Val f1: 0.7649707198143005\n",
            "Val loss: 0.5231585265560583, Val f1: 0.7569335699081421\n",
            "Val loss: 0.5228087250458993, Val f1: 0.7515196204185486\n",
            "Val loss: 0.5219701371482901, Val f1: 0.7471510171890259\n",
            "\n",
            "Evaluating on test...\n",
            "Val loss: 0.7024064064025879, Val f1: 0.9692316055297852\n",
            "Val loss: 0.6064532058579581, Val f1: 0.8160797357559204\n",
            "Val loss: 0.5830604542385448, Val f1: 0.775030791759491\n",
            "Val loss: 0.5668633222579956, Val f1: 0.7632337212562561\n",
            "Val loss: 0.5600751732525072, Val f1: 0.7503914833068848\n",
            "\n",
            "starting Epoch 4\n",
            "Training...\n",
            "Train loss: 0.543293080159596\n",
            "Train loss: 0.5276609463938351\n",
            "Train loss: 0.5212548354809935\n",
            "Train loss: 0.5181569593437647\n",
            "Train loss: 0.5158121400588268\n",
            "\n",
            "Evaluating on train...\n",
            "Val loss: 0.5223818932260785, Val f1: 0.8044253587722778\n",
            "Val loss: 0.5068560530399454, Val f1: 0.7734196186065674\n",
            "Val loss: 0.5010969117283821, Val f1: 0.7650665044784546\n",
            "Val loss: 0.5005951937982591, Val f1: 0.7578391432762146\n",
            "Val loss: 0.499165677138277, Val f1: 0.7553642392158508\n",
            "\n",
            "Evaluating on test...\n",
            "Val loss: 0.6798736155033112, Val f1: 0.9728349447250366\n",
            "Val loss: 0.5875282074723925, Val f1: 0.8223264813423157\n",
            "Val loss: 0.5652145878835158, Val f1: 0.7803716659545898\n",
            "Val loss: 0.549366976817449, Val f1: 0.7688487768173218\n",
            "Val loss: 0.54284037884913, Val f1: 0.7572030425071716\n",
            "\n",
            "starting Epoch 5\n",
            "Training...\n",
            "Train loss: 0.5288963232721601\n",
            "Train loss: 0.5072604140331005\n",
            "Train loss: 0.49881378696723416\n",
            "Train loss: 0.49534497725761545\n",
            "Train loss: 0.4940696910426423\n",
            "\n",
            "Evaluating on train...\n",
            "Val loss: 0.5077116808720997, Val f1: 0.7949672937393188\n",
            "Val loss: 0.4902599978035894, Val f1: 0.7655011415481567\n",
            "Val loss: 0.4838191812688654, Val f1: 0.7579895853996277\n",
            "Val loss: 0.48019142373133517, Val f1: 0.7542812824249268\n",
            "Val loss: 0.47864080039230555, Val f1: 0.7525765299797058\n",
            "\n",
            "Evaluating on test...\n",
            "Val loss: 0.6638116339842478, Val f1: 0.958572506904602\n",
            "Val loss: 0.5729813746043614, Val f1: 0.814121663570404\n",
            "Val loss: 0.5514116314324465, Val f1: 0.7702674865722656\n",
            "Val loss: 0.5359759469827016, Val f1: 0.7579118013381958\n",
            "Val loss: 0.5295764584290353, Val f1: 0.7464004158973694\n",
            "\n",
            "starting Epoch 6\n",
            "Training...\n",
            "Train loss: 0.5011395407574517\n",
            "Train loss: 0.485569776132189\n",
            "Train loss: 0.4790284789421342\n",
            "Train loss: 0.4767589922678673\n",
            "Train loss: 0.4767201575073036\n",
            "\n",
            "Evaluating on train...\n",
            "Val loss: 0.4889114073344639, Val f1: 0.805062472820282\n",
            "Val loss: 0.47225678583671304, Val f1: 0.776644229888916\n",
            "Val loss: 0.46511687677014957, Val f1: 0.7678335309028625\n",
            "Val loss: 0.46179352675454094, Val f1: 0.7646487355232239\n",
            "Val loss: 0.4606554552509978, Val f1: 0.7625640630722046\n",
            "\n",
            "Evaluating on test...\n",
            "Val loss: 0.6487027506033579, Val f1: 0.9648663997650146\n",
            "Val loss: 0.5597699199404035, Val f1: 0.818778395652771\n",
            "Val loss: 0.5387560779398138, Val f1: 0.7765916585922241\n",
            "Val loss: 0.5229078312714894, Val f1: 0.7634921669960022\n",
            "Val loss: 0.5173669331952145, Val f1: 0.749908983707428\n",
            "\n",
            "starting Epoch 7\n",
            "Training...\n",
            "Train loss: 0.4926922938653401\n",
            "Train loss: 0.4712157331663987\n",
            "Train loss: 0.4639659598469734\n",
            "Train loss: 0.4590078299328432\n",
            "Train loss: 0.4575092236737947\n",
            "\n",
            "Evaluating on train...\n",
            "Val loss: 0.47394191367285593, Val f1: 0.8486315608024597\n",
            "Val loss: 0.4602747292354189, Val f1: 0.8146215677261353\n",
            "Val loss: 0.45445645465092227, Val f1: 0.8049440383911133\n",
            "Val loss: 0.4502153376401481, Val f1: 0.8008542060852051\n",
            "Val loss: 0.4487525812677435, Val f1: 0.7982328534126282\n",
            "\n",
            "Evaluating on test...\n",
            "Val loss: 0.6428548296292623, Val f1: 1.0103777647018433\n",
            "Val loss: 0.5548736665930066, Val f1: 0.856693685054779\n",
            "Val loss: 0.5341563387350603, Val f1: 0.813578724861145\n",
            "Val loss: 0.5173849542935689, Val f1: 0.8006588220596313\n",
            "Val loss: 0.512379704337371, Val f1: 0.788508951663971\n",
            "\n",
            "starting Epoch 8\n",
            "Training...\n",
            "Train loss: 0.47069756260940004\n",
            "Train loss: 0.45351024331717654\n",
            "Train loss: 0.44514582373879175\n",
            "Train loss: 0.443293856362165\n",
            "Train loss: 0.4424966670371391\n",
            "\n",
            "Evaluating on train...\n",
            "Val loss: 0.4626134272132601, Val f1: 0.850415050983429\n",
            "Val loss: 0.4460368063943139, Val f1: 0.8224101066589355\n",
            "Val loss: 0.4405953376130624, Val f1: 0.8137502670288086\n",
            "Val loss: 0.4374516065848076, Val f1: 0.8100646138191223\n",
            "Val loss: 0.43461111993403045, Val f1: 0.8080840706825256\n",
            "\n",
            "Evaluating on test...\n",
            "Val loss: 0.6343840559323629, Val f1: 1.0203460454940796\n",
            "Val loss: 0.5488422427858625, Val f1: 0.8656936287879944\n",
            "Val loss: 0.5296326740221544, Val f1: 0.8229314684867859\n",
            "Val loss: 0.5115444461504618, Val f1: 0.8114780783653259\n",
            "Val loss: 0.5068583112013968, Val f1: 0.7992145419120789\n",
            "\n",
            "starting Epoch 9\n",
            "Training...\n",
            "Train loss: 0.4573138781956264\n",
            "Train loss: 0.4425539230478221\n",
            "Train loss: 0.43629238212650473\n",
            "Train loss: 0.4332092182110932\n",
            "Train loss: 0.4298615826142801\n",
            "\n",
            "Evaluating on train...\n",
            "Val loss: 0.4386509082147053, Val f1: 0.840490460395813\n",
            "Val loss: 0.4245758806837016, Val f1: 0.8101683259010315\n",
            "Val loss: 0.4205376824194735, Val f1: 0.8007405400276184\n",
            "Val loss: 0.41813896672200346, Val f1: 0.7954531311988831\n",
            "Val loss: 0.4164034309419426, Val f1: 0.7925347685813904\n",
            "\n",
            "Evaluating on test...\n",
            "Val loss: 0.6245956917603811, Val f1: 0.9791044592857361\n",
            "Val loss: 0.5367469617298671, Val f1: 0.8304169178009033\n",
            "Val loss: 0.5175398019227114, Val f1: 0.7904361486434937\n",
            "Val loss: 0.5012869437535604, Val f1: 0.7784801721572876\n",
            "Val loss: 0.4965757508026926, Val f1: 0.7649801969528198\n",
            "\n",
            "starting Epoch 10\n",
            "Training...\n",
            "Train loss: 0.43977105617523193\n",
            "Train loss: 0.421654533723305\n",
            "Train loss: 0.417461288923567\n",
            "Train loss: 0.4151309758929883\n",
            "Train loss: 0.41317640526874644\n",
            "\n",
            "Evaluating on train...\n",
            "Val loss: 0.42439340906483786, Val f1: 0.8548337817192078\n",
            "Val loss: 0.4056857043299182, Val f1: 0.8293538689613342\n",
            "Val loss: 0.40199350836602127, Val f1: 0.8199679851531982\n",
            "Val loss: 0.40039715928546454, Val f1: 0.8145734071731567\n",
            "Val loss: 0.39845964070912954, Val f1: 0.8127719163894653\n",
            "\n",
            "Evaluating on test...\n",
            "Val loss: 0.6099061767260233, Val f1: 1.0074303150177002\n",
            "Val loss: 0.5270886889525822, Val f1: 0.8512539267539978\n",
            "Val loss: 0.5085327869111841, Val f1: 0.809914767742157\n",
            "Val loss: 0.4919083774089813, Val f1: 0.7962020635604858\n",
            "Val loss: 0.4874591372515026, Val f1: 0.7828848958015442\n",
            "\n",
            "starting Epoch 11\n",
            "Training...\n",
            "Train loss: 0.4221712052822113\n",
            "Train loss: 0.4082012330663615\n",
            "Train loss: 0.40414743328636343\n",
            "Train loss: 0.4012420632071414\n",
            "Train loss: 0.39949891937745585\n",
            "\n",
            "Evaluating on train...\n",
            "Val loss: 0.40521022251674105, Val f1: 0.8823082447052002\n",
            "Val loss: 0.39274942977675076, Val f1: 0.8495180606842041\n",
            "Val loss: 0.39041139524091373, Val f1: 0.839004635810852\n",
            "Val loss: 0.3868755516359362, Val f1: 0.8338973522186279\n",
            "Val loss: 0.3855722264663593, Val f1: 0.8298144340515137\n",
            "\n",
            "Evaluating on test...\n",
            "Val loss: 0.6042088170846304, Val f1: 1.0281040668487549\n",
            "Val loss: 0.5226031882422311, Val f1: 0.8709934949874878\n",
            "Val loss: 0.5049046576023102, Val f1: 0.826931357383728\n",
            "Val loss: 0.48721427520116173, Val f1: 0.814622163772583\n",
            "Val loss: 0.4835319566099267, Val f1: 0.8016380667686462\n",
            "\n",
            "starting Epoch 12\n",
            "Training...\n",
            "Train loss: 0.4033617845603398\n",
            "Train loss: 0.39428922225689067\n",
            "Train loss: 0.3901728560978716\n",
            "Train loss: 0.3878061306678643\n",
            "Train loss: 0.3871251711168805\n",
            "\n",
            "Evaluating on train...\n",
            "Val loss: 0.39717526946749004, Val f1: 0.8876143097877502\n",
            "Val loss: 0.3801677730576745, Val f1: 0.8546892404556274\n",
            "Val loss: 0.37762458283792844, Val f1: 0.8432337641716003\n",
            "Val loss: 0.37488566061197703, Val f1: 0.83933424949646\n",
            "Val loss: 0.3727599825408008, Val f1: 0.8365854620933533\n",
            "\n",
            "Evaluating on test...\n",
            "Val loss: 0.5986533959706625, Val f1: 1.0313782691955566\n",
            "Val loss: 0.5180790509496417, Val f1: 0.8743233680725098\n",
            "Val loss: 0.5013805275613611, Val f1: 0.8295536041259766\n",
            "Val loss: 0.48426858385403954, Val f1: 0.8158818483352661\n",
            "Val loss: 0.48101862323911565, Val f1: 0.8026925325393677\n",
            "\n",
            "starting Epoch 13\n",
            "Training...\n",
            "Train loss: 0.3987380415201187\n",
            "Train loss: 0.38548728823661804\n",
            "Train loss: 0.3808974420482462\n",
            "Train loss: 0.3777897484221701\n",
            "Train loss: 0.3759411315660219\n",
            "\n",
            "Evaluating on train...\n",
            "Val loss: 0.38725843174116953, Val f1: 0.863171398639679\n",
            "Val loss: 0.3772669044034234, Val f1: 0.833237886428833\n",
            "Val loss: 0.3755632611838254, Val f1: 0.8223667144775391\n",
            "Val loss: 0.37349730831081585, Val f1: 0.8174310922622681\n",
            "Val loss: 0.37169963363054637, Val f1: 0.8143032193183899\n",
            "\n",
            "Evaluating on test...\n",
            "Val loss: 0.6131572723388672, Val f1: 0.9837988615036011\n",
            "Val loss: 0.5290630459785461, Val f1: 0.8343600034713745\n",
            "Val loss: 0.5108867043798621, Val f1: 0.7937602996826172\n",
            "Val loss: 0.49420503377914426, Val f1: 0.7804813385009766\n",
            "Val loss: 0.4903829882019444, Val f1: 0.7677656412124634\n",
            "\n",
            "starting Epoch 14\n",
            "Training...\n",
            "Train loss: 0.3793475925922394\n",
            "Train loss: 0.3682317754317974\n",
            "Train loss: 0.36470894650979474\n",
            "Train loss: 0.36354188444250723\n",
            "Train loss: 0.362874938426791\n",
            "\n",
            "Evaluating on train...\n",
            "Val loss: 0.36395263246127535, Val f1: 0.9045969247817993\n",
            "Val loss: 0.35527731837897464, Val f1: 0.8713333606719971\n",
            "Val loss: 0.3529169566252015, Val f1: 0.8592484593391418\n",
            "Val loss: 0.35192617824522116, Val f1: 0.854922890663147\n",
            "Val loss: 0.3501304742452261, Val f1: 0.8516253232955933\n",
            "\n",
            "Evaluating on test...\n",
            "Val loss: 0.5922753016153971, Val f1: 1.0400233268737793\n",
            "Val loss: 0.5126485696860722, Val f1: 0.8835029602050781\n",
            "Val loss: 0.4966572983698411, Val f1: 0.8392966985702515\n",
            "Val loss: 0.4787622392177582, Val f1: 0.8243805170059204\n",
            "Val loss: 0.47629370658021225, Val f1: 0.8117422461509705\n"
          ]
        }
      ]
    },
    {
      "cell_type": "code",
      "metadata": {
        "colab": {
          "base_uri": "https://localhost:8080/",
          "height": 295
        },
        "id": "DV0Y-v2pUlof",
        "outputId": "157c8d65-a480-4978-a13d-82f544263ba8"
      },
      "source": [
        "plt.plot(losses)\n",
        "plt.plot(losses_eval)\n",
        "plt.title('BCE loss value')\n",
        "plt.ylabel('BCE loss')\n",
        "plt.xlabel('epoch')\n",
        "plt.legend(['train', 'val'], loc='upper right')\n",
        "plt.show()"
      ],
      "execution_count": 68,
      "outputs": [
        {
          "output_type": "display_data",
          "data": {
            "image/png": "[encoded data removed]",
            "text/plain": [
              "<Figure size 432x288 with 1 Axes>"
            ]
          },
          "metadata": {
            "needs_background": "light"
          }
        }
      ]
    },
    {
      "cell_type": "code",
      "metadata": {
        "colab": {
          "base_uri": "https://localhost:8080/",
          "height": 295
        },
        "id": "TzGiN_hxUqTI",
        "outputId": "c86f0ac3-a9e2-4d08-c8d6-d5ae582cdea5"
      },
      "source": [
        "plt.plot(f1s)\n",
        "plt.plot(f1s_eval)\n",
        "plt.title('f1 value')\n",
        "plt.ylabel('f1 value')\n",
        "plt.xlabel('epoch')\n",
        "plt.legend(['train', 'val'], loc='upper right')\n",
        "plt.show()"
      ],
      "execution_count": 69,
      "outputs": [
        {
          "output_type": "display_data",
          "data": {
            "image/png": "[encoded data removed]",
            "text/plain": [
              "<Figure size 432x288 with 1 Axes>"
            ]
          },
          "metadata": {
            "needs_background": "light"
          }
        }
      ]
    },
    {
      "cell_type": "code",
      "metadata": {
        "colab": {
          "base_uri": "https://localhost:8080/"
        },
        "id": "uT2q8dzbUu74",
        "outputId": "01604473-5f88-4e54-9991-8f783cf539a1"
      },
      "source": [
        "fp, fn, tp, tn = predict(model, val_iterator)\n",
        "recall = len(tp)/(len(tp) + len(fn))\n",
        "precision = len(tp)/(len(tp) + len(fp))\n",
        "f_score = 2 * precision * recall / (precision + recall)\n",
        "f_score"
      ],
      "execution_count": 70,
      "outputs": [
        {
          "output_type": "execute_result",
          "data": {
            "text/plain": [
              "0.7716295873740254"
            ]
          },
          "metadata": {},
          "execution_count": 70
        }
      ]
    },
    {
      "cell_type": "markdown",
      "metadata": {
        "id": "6M_0_n7WV6Vx"
      },
      "source": [
        "Результаты стали лучше, ура! По всей видимости, чем больше информации о тексте получает модель, тем лучше она справляется с задачей. Тем более при оценки тональности текстов в соц. сетях нужно учитывать смайлики/знаки препинания/скобки и тд, тк они важные индикаторы \"настроения\" автора. Посмотрим на ошибки модели."
      ]
    },
    {
      "cell_type": "code",
      "metadata": {
        "colab": {
          "base_uri": "https://localhost:8080/"
        },
        "id": "w2wnKk_VWgmX",
        "outputId": "98c42a90-19ee-4a11-da79-47478e8242dc"
      },
      "source": [
        "fp[:5]"
      ],
      "execution_count": 71,
      "outputs": [
        {
          "output_type": "execute_result",
          "data": {
            "text/plain": [
              "['В моем случае только так( @',\n",
              " 'будешь смогла я',\n",
              " 'любовь на расстоянии это очень грустно:(',\n",
              " ' как конфет с итоге тебя кто - нибудь пошлет и',\n",
              " 'Сегодня по около в со скоростью в час, ни кто даже не']"
            ]
          },
          "metadata": {},
          "execution_count": 71
        }
      ]
    },
    {
      "cell_type": "code",
      "metadata": {
        "colab": {
          "base_uri": "https://localhost:8080/"
        },
        "id": "8Bzb7a__WnNG",
        "outputId": "1ba7221d-8711-4bf0-d24a-6ac9615fb074"
      },
      "source": [
        "fn[:5]"
      ],
      "execution_count": null,
      "outputs": [
        {
          "output_type": "execute_result",
          "data": {
            "text/plain": [
              "['скучно наверно фильм смотреть хз',\n",
              " 'Если какой я с тобой пойду. Хорошо иметь в жизни таких людей, которые способны сказать эти',\n",
              " 'реквестирую возможность и при этом быть на него а то нихрена не спасает от а',\n",
              " 'мы то с тобой обязательно',\n",
              " 'я до \"Не выдержала душа']"
            ]
          },
          "metadata": {},
          "execution_count": 220
        }
      ]
    },
    {
      "cell_type": "markdown",
      "metadata": {
        "id": "S96cJCxQV6y6"
      },
      "source": [
        "### Модель с комбинацией эмбеддингов и символьных признаков"
      ]
    },
    {
      "cell_type": "code",
      "metadata": {
        "colab": {
          "base_uri": "https://localhost:8080/"
        },
        "id": "4FPgE0gSWF4z",
        "outputId": "c6af8ff8-a113-44e6-c9f0-b2585403dd8a"
      },
      "source": [
        "vocab = Counter()\n",
        "for text in tweets_data['prep_text']:\n",
        "    vocab.update(text.split())\n",
        "\n",
        "filtered_vocab = set()\n",
        "\n",
        "for word in vocab:\n",
        "    if vocab[word] > 5:\n",
        "        filtered_vocab.add(word)\n",
        "print('уникальных токенов, втретившихся больше 5 раз:', len(filtered_vocab))\n",
        "\n",
        "word2id = {'PAD':0}\n",
        "\n",
        "for word in filtered_vocab:\n",
        "    word2id[word] = len(word2id)"
      ],
      "execution_count": null,
      "outputs": [
        {
          "output_type": "stream",
          "name": "stdout",
          "text": [
            "уникальных токенов, втретившихся больше 5 раз: 14917\n"
          ]
        }
      ]
    },
    {
      "cell_type": "code",
      "metadata": {
        "colab": {
          "base_uri": "https://localhost:8080/"
        },
        "id": "xckH6Iairm2E",
        "outputId": "a6ab8945-9eef-4fdf-c3ac-d1a99968426f"
      },
      "source": [
        "char_vocab = Counter()\n",
        "for text in tweets_data['prep_text']:\n",
        "    for word in text:\n",
        "      char_vocab.update(list(word))\n",
        "\n",
        "filtered_char_vocab = set()\n",
        "\n",
        "for word in char_vocab:\n",
        "    if char_vocab[word] > 10:\n",
        "        filtered_char_vocab.add(word)\n",
        "print('уникальных токенов, втретившихся больше 10 раз:', len(filtered_char_vocab))\n",
        "\n",
        "symbol2id = {'PAD':0}\n",
        "\n",
        "for symbol in filtered_char_vocab:\n",
        "    symbol2id[symbol] = len(symbol2id)"
      ],
      "execution_count": null,
      "outputs": [
        {
          "output_type": "stream",
          "name": "stdout",
          "text": [
            "уникальных токенов, втретившихся больше 10 раз: 73\n"
          ]
        }
      ]
    },
    {
      "cell_type": "code",
      "metadata": {
        "id": "yi-ATUOLuh--"
      },
      "source": [
        "id2word = {i:word for word, i in word2id.items()}"
      ],
      "execution_count": null,
      "outputs": []
    },
    {
      "cell_type": "code",
      "metadata": {
        "id": "D0W3I4dvuiaA"
      },
      "source": [
        "id2symbol = {i:symbol for symbol, i in symbol2id.items()}"
      ],
      "execution_count": null,
      "outputs": []
    },
    {
      "cell_type": "code",
      "metadata": {
        "id": "RlteRa4xlvv0"
      },
      "source": [
        "ft_2 = FastText(tweets_data['prep_text'].tolist(), size=100, window=5, min_count=1)"
      ],
      "execution_count": null,
      "outputs": []
    },
    {
      "cell_type": "code",
      "metadata": {
        "id": "Xr2dsGA_l1kU"
      },
      "source": [
        "weights = np.zeros((len(word2id), 100))\n",
        "count = 0\n",
        "for word, i in word2id.items():\n",
        "    if word == 'PAD':\n",
        "        continue   \n",
        "    try:\n",
        "        weights[i] = ft_2.wv[word]    \n",
        "    except KeyError:\n",
        "      count += 1\n",
        "      # oov словам сопоставляем случайный вектор\n",
        "      weights[i] = np.random.normal(0,0.1,100)"
      ],
      "execution_count": null,
      "outputs": []
    },
    {
      "cell_type": "code",
      "metadata": {
        "id": "GnQgR4eLsgA7"
      },
      "source": [
        "class WSTweetsDataset(Dataset):\n",
        "\n",
        "    def __init__(self, dataset, word2id, symbol2id, DEVICE):\n",
        "        self.dataset = dataset['prep_text'].values\n",
        "        self.word2id = word2id\n",
        "        self.symbol2id = symbol2id\n",
        "        self.length = dataset.shape[0]\n",
        "        self.target = torch.Tensor(dataset['tone'].values)\n",
        "        self.device = DEVICE\n",
        "\n",
        "    def __len__(self):\n",
        "        return self.length\n",
        "\n",
        "    def __getitem__(self, index): \n",
        "        symbols = list(self.dataset[index])\n",
        "        symb_ids = torch.LongTensor([self.symbol2id[symbol] for symbol in symbols if symbol in self.symbol2id])\n",
        "        tokens = self.dataset[index].split()\n",
        "        word_ids = torch.LongTensor([self.word2id[token] for token in tokens if token in self.word2id])\n",
        "        y = [self.target[index]]\n",
        "        return word_ids, symb_ids, y\n",
        "\n",
        "    def collate_fn(self, batch): #этот метод можно реализовывать и отдельно,\n",
        "    # он понадобится для DataLoader во время итерации по батчам\n",
        "      word_ids, symb_ids, y = list(zip(*batch))\n",
        "      padded_words = pad_sequence(word_ids, batch_first=True).to(self.device)\n",
        "      padded_symbs = pad_sequence(symb_ids, batch_first=True).to(self.device)\n",
        "      y = torch.Tensor(y).to(self.device)\n",
        "      return padded_words, padded_symbs, y"
      ],
      "execution_count": null,
      "outputs": []
    },
    {
      "cell_type": "code",
      "metadata": {
        "id": "IJYEHEJets6t"
      },
      "source": [
        "train_dataset = WSTweetsDataset(train_sentences, word2id, symbol2id, DEVICE)\n",
        "train_sampler = RandomSampler(train_dataset)\n",
        "train_iterator = DataLoader(train_dataset, collate_fn = train_dataset.collate_fn, sampler=train_sampler, batch_size=1024)"
      ],
      "execution_count": null,
      "outputs": []
    },
    {
      "cell_type": "code",
      "metadata": {
        "id": "TEmilBxhtx9T"
      },
      "source": [
        "val_dataset = WSTweetsDataset(val_sentences, word2id, symbol2id, DEVICE)\n",
        "val_sampler = SequentialSampler(val_dataset)\n",
        "val_iterator = DataLoader(val_dataset, collate_fn = val_dataset.collate_fn, sampler=val_sampler, batch_size=1024)"
      ],
      "execution_count": null,
      "outputs": []
    },
    {
      "cell_type": "code",
      "metadata": {
        "id": "h_adWCfJt4jW"
      },
      "source": [
        "class WSCNN(nn.Module):\n",
        "    def __init__(self, symb_vocab_size, symb_embedding_dim, word_vocab_size):\n",
        "        super().__init__()\n",
        "\n",
        "        # word-level\n",
        "        self.word_embedding = nn.Embedding(word_vocab_size, 100)\n",
        "        self.word_embedding.from_pretrained(torch.tensor(weights), freeze=True)\n",
        "        self.word_hidden = nn.Linear(100, 100) \n",
        "\n",
        "        # symbol-level\n",
        "        self.symb_embedding = nn.Embedding(symb_vocab_size, symb_embedding_dim)\n",
        "        self.symb_bigrams = nn.Conv1d(in_channels=symb_embedding_dim, out_channels=100, kernel_size=2, padding='same')\n",
        "        self.symb_trigrams = nn.Conv1d(in_channels=symb_embedding_dim, out_channels=80, kernel_size=3, padding='same')\n",
        "        self.symb_pooling = nn.MaxPool1d(kernel_size=2, stride=2)\n",
        "        self.symb_hidden = nn.Linear(in_features=180, out_features=100)\n",
        "\n",
        "        # both\n",
        "        self.relu = nn.ReLU()   \n",
        "        self.linear = nn.Linear(in_features=200, out_features=1)\n",
        "        self.dropout = nn.Dropout(p=0.5) \n",
        "        self.out = nn.Sigmoid()\n",
        "\n",
        "    def forward(self, words_seq, symb_seq):\n",
        "        #batch_size x seq_len\n",
        "        embedded = self.symb_embedding(symb_seq)\n",
        "        #batch_size x seq_len x embedding_dim\n",
        "        embedded = embedded.transpose(1,2)\n",
        "        #batch_size x embedding_dim x seq_len\n",
        "        feature_map_bigrams = self.dropout(self.symb_pooling(self.relu(self.symb_bigrams(embedded)))) \n",
        "        #batch_size x filter_count2 x seq_len* \n",
        "        feature_map_trigrams = self.dropout(self.symb_pooling(self.relu(self.symb_trigrams(embedded)))) \n",
        "        #batch_size x filter_count3 x seq_len*\n",
        "\n",
        "        pooling1 = feature_map_bigrams.max(2)[0] \n",
        "        # batch_size x filter_count2\n",
        "        pooling2 = feature_map_trigrams.max(2)[0]\n",
        "        # batch_size x filter_count3\n",
        "        concat = torch.cat((pooling1, pooling2), 1)\n",
        "        # batch_size x (filter_count2 + filter_count3)\n",
        "        symb_vector = self.symb_hidden(concat)\n",
        "\n",
        "        embedded_words = self.word_embedding(words_seq) \n",
        "        mean_emb_words = torch.mean(embedded_words, dim=1) \n",
        "        word_vector = self.dropout(self.word_hidden(mean_emb_words)) # тут был дропаут\n",
        "        word_vector = self.dropout(self.relu(word_vector)) # тут был дропаут\n",
        "        concat = torch.cat((symb_vector, word_vector), 1)\n",
        "        logits = self.out(self.linear(concat))      \n",
        "        return logits"
      ],
      "execution_count": null,
      "outputs": []
    },
    {
      "cell_type": "code",
      "metadata": {
        "id": "eIN_Qfv4vSA-"
      },
      "source": [
        "def train(model, iterator, optimizer, criterion):\n",
        "    epoch_loss = 0 # для подсчета среднего лосса на всех батчах\n",
        "\n",
        "    model.train()  # ставим модель в обучение, явно указываем, что сейчас надо будет хранить градиенты у всех весов\n",
        "\n",
        "    for i, (word_seq, symb_seq, ys) in enumerate(iterator): #итерируемся по батчам\n",
        "        optimizer.zero_grad()  #обнуляем градиенты\n",
        "        preds = model(word_seq, symb_seq)  #прогоняем данные через модель\n",
        "        loss = criterion(preds, ys) #считаем значение функции потерь  \n",
        "        loss.backward() #считаем градиенты  \n",
        "        optimizer.step() #обновляем веса \n",
        "        epoch_loss += loss.item() #сохраняем значение функции потерь\n",
        "        if not (i + 1) % int(len(iterator)/5):\n",
        "            print(f'Train loss: {epoch_loss/i}')      \n",
        "    return  epoch_loss / len(iterator) # возвращаем среднее значение лосса по всей выборке\n",
        "\n",
        "\n",
        "def evaluate(model, iterator, criterion):\n",
        "    epoch_loss = 0\n",
        "    epoch_metric = 0\n",
        "    model.eval() \n",
        "    with torch.no_grad():\n",
        "        for i, (word_seq, symb_seq, ys) in enumerate(iterator):   \n",
        "            preds = model(word_seq, symb_seq)  # делаем предсказания на тесте\n",
        "            loss = criterion(preds, ys)   # считаем значения функции ошибки для статистики  \n",
        "            epoch_loss += loss.item()\n",
        "            batch_metric = f1(preds.round().long(), ys.long(), ignore_index=0)\n",
        "            epoch_metric += batch_metric\n",
        "\n",
        "            if not (i + 1) % int(len(iterator)/5):\n",
        "              print(f'Val loss: {epoch_loss/i}, Val f1: {epoch_metric/i}')\n",
        "        \n",
        "    return epoch_metric / len(iterator), epoch_loss / len(iterator) # возвращаем среднее значение по всей выборке\n"
      ],
      "execution_count": null,
      "outputs": []
    },
    {
      "cell_type": "code",
      "metadata": {
        "id": "AxLCJDa-wwTx"
      },
      "source": [
        "model = WSCNN(len(symbol2id), 10, len(word2id))\n",
        "optimizer = optim.Adam(model.parameters(), lr=0.001)\n",
        "criterion = nn.BCELoss() \n",
        "\n",
        "# веса модели и значения лосса храним там же, где и все остальные тензоры\n",
        "model = model.to(DEVICE)\n",
        "criterion = criterion.to(DEVICE)"
      ],
      "execution_count": null,
      "outputs": []
    },
    {
      "cell_type": "code",
      "metadata": {
        "colab": {
          "base_uri": "https://localhost:8080/"
        },
        "id": "sbPA2VjVwtlI",
        "outputId": "91628a82-c210-4df4-9b04-dab8497ed541"
      },
      "source": [
        "losses = []\n",
        "losses_eval = []\n",
        "f1s = []\n",
        "f1s_eval = []\n",
        "\n",
        "for i in range(10):\n",
        "    print(f'\\nstarting Epoch {i}')\n",
        "    print('Training...')\n",
        "    epoch_loss = train(model, train_iterator, optimizer, criterion)\n",
        "    losses.append(epoch_loss)\n",
        "    print('\\nEvaluating on train...')\n",
        "    f1_on_train,_ = evaluate(model, train_iterator, criterion)\n",
        "    f1s.append(f1_on_train)\n",
        "    print('\\nEvaluating on test...')\n",
        "    f1_on_test, epoch_loss_on_test = evaluate(model, val_iterator, criterion)\n",
        "    losses_eval.append(epoch_loss_on_test)\n",
        "    f1s_eval.append(f1_on_test)"
      ],
      "execution_count": null,
      "outputs": [
        {
          "output_type": "stream",
          "name": "stdout",
          "text": [
            "\n",
            "starting Epoch 0\n",
            "Training...\n",
            "Train loss: 0.7970502589430127\n",
            "Train loss: 0.7439993249958959\n",
            "Train loss: 0.7234059233557094\n",
            "Train loss: 0.7108699275275409\n",
            "Train loss: 0.7016369998455048\n",
            "\n",
            "Evaluating on train...\n",
            "Val loss: 0.711431486266, Val f1: 0.7110620141029358\n",
            "Val loss: 0.6872936487197876, Val f1: 0.6851364374160767\n",
            "Val loss: 0.6793504817919298, Val f1: 0.6788883805274963\n",
            "Val loss: 0.6754608750343323, Val f1: 0.6748223900794983\n",
            "Val loss: 0.6732387301084157, Val f1: 0.6728519797325134\n",
            "\n",
            "Evaluating on test...\n",
            "Val loss: 0.8837892214457194, Val f1: 0.8960347175598145\n",
            "Val loss: 0.758181129183088, Val f1: 0.7598348259925842\n",
            "Val loss: 0.7235158302567222, Val f1: 0.7296117544174194\n",
            "Val loss: 0.7083022197087606, Val f1: 0.7111564874649048\n",
            "Val loss: 0.6997516217984652, Val f1: 0.6997172832489014\n",
            "\n",
            "starting Epoch 1\n",
            "Training...\n",
            "Train loss: 0.7021045429365975\n",
            "Train loss: 0.6740649239770298\n",
            "Train loss: 0.6632606807080182\n",
            "Train loss: 0.6542869483010244\n",
            "Train loss: 0.6474765716372309\n",
            "\n",
            "Evaluating on train...\n",
            "Val loss: 0.6632488753114428, Val f1: 0.740868330001831\n",
            "Val loss: 0.6389690781461781, Val f1: 0.7187281250953674\n",
            "Val loss: 0.6316305331208489, Val f1: 0.7089099287986755\n",
            "Val loss: 0.6286627842208087, Val f1: 0.7036396265029907\n",
            "Val loss: 0.6261579579598194, Val f1: 0.7027308940887451\n",
            "\n",
            "Evaluating on test...\n",
            "Val loss: 0.8239627083142599, Val f1: 0.9381911158561707\n",
            "Val loss: 0.7066694498062134, Val f1: 0.7978200316429138\n",
            "Val loss: 0.6745814085006714, Val f1: 0.7654157280921936\n",
            "Val loss: 0.6606283823649088, Val f1: 0.7455564737319946\n",
            "Val loss: 0.6522175136365389, Val f1: 0.7354158163070679\n",
            "\n",
            "starting Epoch 2\n",
            "Training...\n",
            "Train loss: 0.6512556884969983\n",
            "Train loss: 0.6276116227281505\n",
            "Train loss: 0.6177810687910427\n",
            "Train loss: 0.6099660770367767\n",
            "Train loss: 0.6041519577438766\n",
            "\n",
            "Evaluating on train...\n",
            "Val loss: 0.6174451879092625, Val f1: 0.7654063701629639\n",
            "Val loss: 0.5941875844166197, Val f1: 0.7423434853553772\n",
            "Val loss: 0.5869168747555126, Val f1: 0.7342268824577332\n",
            "Val loss: 0.5823092076738002, Val f1: 0.732158362865448\n",
            "Val loss: 0.5801204233556181, Val f1: 0.7296302914619446\n",
            "\n",
            "Evaluating on test...\n",
            "Val loss: 0.7698166767756144, Val f1: 0.9509732723236084\n",
            "Val loss: 0.6593320369720459, Val f1: 0.813295304775238\n",
            "Val loss: 0.6295691836964, Val f1: 0.7812251448631287\n",
            "Val loss: 0.6169057011604309, Val f1: 0.7616247534751892\n",
            "Val loss: 0.6079698550073724, Val f1: 0.7541054487228394\n",
            "\n",
            "starting Epoch 3\n",
            "Training...\n",
            "Train loss: 0.6121556035109929\n",
            "Train loss: 0.589257787013876\n",
            "Train loss: 0.5788610225374048\n",
            "Train loss: 0.5736491417480727\n",
            "Train loss: 0.56805962968517\n",
            "\n",
            "Evaluating on train...\n",
            "Val loss: 0.5818831622600555, Val f1: 0.7901641726493835\n",
            "Val loss: 0.557955450025098, Val f1: 0.7680231928825378\n",
            "Val loss: 0.5521609728986566, Val f1: 0.7583646178245544\n",
            "Val loss: 0.5496270616175765, Val f1: 0.7531203031539917\n",
            "Val loss: 0.5484118767686792, Val f1: 0.7492672801017761\n",
            "\n",
            "Evaluating on test...\n",
            "Val loss: 0.7352362076441447, Val f1: 0.9631473422050476\n",
            "Val loss: 0.6297469735145569, Val f1: 0.8280577063560486\n",
            "Val loss: 0.6016837900335138, Val f1: 0.7943207621574402\n",
            "Val loss: 0.5894110798835754, Val f1: 0.7763306498527527\n",
            "Val loss: 0.5803608517897757, Val f1: 0.7674152851104736\n",
            "\n",
            "starting Epoch 4\n",
            "Training...\n",
            "Train loss: 0.5853647845132011\n",
            "Train loss: 0.5602401864939722\n",
            "Train loss: 0.5549240505153482\n",
            "Train loss: 0.5506053031501124\n",
            "Train loss: 0.54752827496142\n",
            "\n",
            "Evaluating on train...\n",
            "Val loss: 0.5758884762014661, Val f1: 0.8095350861549377\n",
            "Val loss: 0.5560742760526722, Val f1: 0.7856562733650208\n",
            "Val loss: 0.5482263416051865, Val f1: 0.7786201238632202\n",
            "Val loss: 0.5455701543112933, Val f1: 0.7737250328063965\n",
            "Val loss: 0.543313093282081, Val f1: 0.771633505821228\n",
            "\n",
            "Evaluating on test...\n",
            "Val loss: 0.734555184841156, Val f1: 0.998309314250946\n",
            "Val loss: 0.6308816586221967, Val f1: 0.8527851700782776\n",
            "Val loss: 0.6015352552587335, Val f1: 0.8151833415031433\n",
            "Val loss: 0.589583444595337, Val f1: 0.7956412434577942\n",
            "Val loss: 0.5803527141872206, Val f1: 0.786878764629364\n",
            "\n",
            "starting Epoch 5\n",
            "Training...\n",
            "Train loss: 0.569643150482859\n",
            "Train loss: 0.5452102227457638\n",
            "Train loss: 0.5330833277919076\n",
            "Train loss: 0.5280584117113534\n",
            "Train loss: 0.5239270752346193\n",
            "\n",
            "Evaluating on train...\n",
            "Val loss: 0.5243106079953057, Val f1: 0.8187458515167236\n",
            "Val loss: 0.5073607882549023, Val f1: 0.7901490330696106\n",
            "Val loss: 0.5038042393597689, Val f1: 0.7804993987083435\n",
            "Val loss: 0.5021053178835724, Val f1: 0.7739967703819275\n",
            "Val loss: 0.5005916091235908, Val f1: 0.7721891403198242\n",
            "\n",
            "Evaluating on test...\n",
            "Val loss: 0.6915526787439982, Val f1: 0.982943058013916\n",
            "Val loss: 0.5933476941926139, Val f1: 0.838722825050354\n",
            "Val loss: 0.5665124979886141, Val f1: 0.803122878074646\n",
            "Val loss: 0.5538874904314677, Val f1: 0.7854341268539429\n",
            "Val loss: 0.5447998674292314, Val f1: 0.7772362232208252\n",
            "\n",
            "starting Epoch 6\n",
            "Training...\n",
            "Train loss: 0.5378349316971642\n",
            "Train loss: 0.5224474062179697\n",
            "Train loss: 0.515522377057509\n",
            "Train loss: 0.5120124700715987\n",
            "Train loss: 0.5104424216457315\n",
            "\n",
            "Evaluating on train...\n",
            "Val loss: 0.5237014996153968, Val f1: 0.8390191793441772\n",
            "Val loss: 0.5060855016626161, Val f1: 0.8082852363586426\n",
            "Val loss: 0.5008775605396791, Val f1: 0.799544632434845\n",
            "Val loss: 0.49724636189008165, Val f1: 0.7958133220672607\n",
            "Val loss: 0.49543629224235947, Val f1: 0.7941734790802002\n",
            "\n",
            "Evaluating on test...\n",
            "Val loss: 0.6909491221110026, Val f1: 1.0140266418457031\n",
            "Val loss: 0.5939731512750898, Val f1: 0.8644107580184937\n",
            "Val loss: 0.5663025216622786, Val f1: 0.8271111249923706\n",
            "Val loss: 0.5542503714561462, Val f1: 0.8086448907852173\n",
            "Val loss: 0.5453664440857736, Val f1: 0.8001902103424072\n",
            "\n",
            "starting Epoch 7\n",
            "Training...\n",
            "Train loss: 0.5321893053395408\n",
            "Train loss: 0.510778414792028\n",
            "Train loss: 0.4974103265187957\n",
            "Train loss: 0.49288389995946724\n",
            "Train loss: 0.49163691659231445\n",
            "\n",
            "Evaluating on train...\n",
            "Val loss: 0.4964848352330072, Val f1: 0.828542947769165\n",
            "Val loss: 0.48104614430460435, Val f1: 0.7978278994560242\n",
            "Val loss: 0.47562599317594006, Val f1: 0.7880910038948059\n",
            "Val loss: 0.47223471635479036, Val f1: 0.7839499711990356\n",
            "Val loss: 0.47087006633346146, Val f1: 0.78253173828125\n",
            "\n",
            "Evaluating on test...\n",
            "Val loss: 0.6740992665290833, Val f1: 0.9748429656028748\n",
            "Val loss: 0.5790173539093563, Val f1: 0.8316152095794678\n",
            "Val loss: 0.552778192541816, Val f1: 0.797591507434845\n",
            "Val loss: 0.539542422691981, Val f1: 0.7805352807044983\n",
            "Val loss: 0.5304759411435378, Val f1: 0.7729367017745972\n",
            "\n",
            "starting Epoch 8\n",
            "Training...\n",
            "Train loss: 0.5083916847194944\n",
            "Train loss: 0.4868375977565502\n",
            "Train loss: 0.48068440095944837\n",
            "Train loss: 0.4786093901779692\n",
            "Train loss: 0.476663808564882\n",
            "\n",
            "Evaluating on train...\n",
            "Val loss: 0.4867433032819203, Val f1: 0.8558148145675659\n",
            "Val loss: 0.4671639841178368, Val f1: 0.8285655975341797\n",
            "Val loss: 0.4625069857998328, Val f1: 0.8181586861610413\n",
            "Val loss: 0.4608797087507733, Val f1: 0.812746524810791\n",
            "Val loss: 0.45962240446258235, Val f1: 0.8094899654388428\n",
            "\n",
            "Evaluating on test...\n",
            "Val loss: 0.6697203616301218, Val f1: 1.020506739616394\n",
            "Val loss: 0.5747272414820535, Val f1: 0.8687302470207214\n",
            "Val loss: 0.5481897565451536, Val f1: 0.8321412205696106\n",
            "Val loss: 0.5359206557273865, Val f1: 0.8120796084403992\n",
            "Val loss: 0.5273752071355519, Val f1: 0.8036967515945435\n",
            "\n",
            "starting Epoch 9\n",
            "Training...\n",
            "Train loss: 0.49519010739667074\n",
            "Train loss: 0.4743932156727232\n",
            "Train loss: 0.46648339182138443\n",
            "Train loss: 0.4648012079424777\n",
            "Train loss: 0.46321267936680766\n",
            "\n",
            "Evaluating on train...\n",
            "Val loss: 0.47170548353876385, Val f1: 0.8598230481147766\n",
            "Val loss: 0.4557878652523304, Val f1: 0.828831136226654\n",
            "Val loss: 0.4502425207333131, Val f1: 0.8186013698577881\n",
            "Val loss: 0.447385371741602, Val f1: 0.8137637376785278\n",
            "Val loss: 0.4465972036123276, Val f1: 0.8107069730758667\n",
            "\n",
            "Evaluating on test...\n",
            "Val loss: 0.6598617633183798, Val f1: 1.0084607601165771\n",
            "Val loss: 0.5667102805205754, Val f1: 0.8583618998527527\n",
            "Val loss: 0.5403198491443287, Val f1: 0.823560893535614\n",
            "Val loss: 0.5275862395763398, Val f1: 0.8040412068367004\n",
            "Val loss: 0.5190066663842452, Val f1: 0.7959307432174683\n"
          ]
        }
      ]
    },
    {
      "cell_type": "code",
      "metadata": {
        "colab": {
          "base_uri": "https://localhost:8080/",
          "height": 295
        },
        "id": "KdpynFjq0jGr",
        "outputId": "dd251f23-b4d3-41c3-a71f-16245ffae089"
      },
      "source": [
        "import matplotlib.pyplot as plt\n",
        "plt.plot(losses)\n",
        "plt.plot(losses_eval)\n",
        "plt.title('BCE loss value')\n",
        "plt.ylabel('BCE loss')\n",
        "plt.xlabel('epoch')\n",
        "plt.legend(['train', 'val'], loc='upper right')\n",
        "plt.show()"
      ],
      "execution_count": null,
      "outputs": [
        {
          "output_type": "display_data",
          "data": {
            "image/png": "[encoded data removed]",
            "text/plain": [
              "<Figure size 432x288 with 1 Axes>"
            ]
          },
          "metadata": {
            "needs_background": "light"
          }
        }
      ]
    },
    {
      "cell_type": "code",
      "metadata": {
        "colab": {
          "base_uri": "https://localhost:8080/",
          "height": 295
        },
        "id": "HH02ISJj0qkk",
        "outputId": "2c9347da-dc66-4bb8-d17e-645ab4f0f546"
      },
      "source": [
        "plt.plot(f1s)\n",
        "plt.plot(f1s_eval)\n",
        "plt.title('f1 value')\n",
        "plt.ylabel('f1 value')\n",
        "plt.xlabel('epoch')\n",
        "plt.legend(['train', 'val'], loc='upper right')\n",
        "plt.show()"
      ],
      "execution_count": null,
      "outputs": [
        {
          "output_type": "display_data",
          "data": {
            "image/png": "[encoded data removed]",
            "text/plain": [
              "<Figure size 432x288 with 1 Axes>"
            ]
          },
          "metadata": {
            "needs_background": "light"
          }
        }
      ]
    },
    {
      "cell_type": "code",
      "metadata": {
        "id": "qslqgsMF0ulV"
      },
      "source": [
        "def predict(model, iterator):\n",
        "    model.eval()\n",
        "    fp = []\n",
        "    fn = []\n",
        "    tp = [] \n",
        "    tn = []\n",
        "    with torch.no_grad():\n",
        "        for i, (word_seq, symb_seq, ys) in enumerate(iterator):  \n",
        "            preds = model(word_seq, symb_seq)  # делаем предсказания на тесте \n",
        "            for pred, gold, text in zip(preds, ys, word_seq):\n",
        "              text = ' '.join([id2word[int(word)] for word in text if word !=0])\n",
        "              if round(pred.item()) > gold:\n",
        "                fp.append(text)\n",
        "              elif round(pred.item()) < gold:\n",
        "                fn.append(text)\n",
        "              elif round(pred.item()) == gold == 1:\n",
        "                tp.append(text)\n",
        "              elif round(pred.item()) == gold == 0:\n",
        "                tn.append(text)\n",
        "    return fp, fn, tp, tn"
      ],
      "execution_count": null,
      "outputs": []
    },
    {
      "cell_type": "code",
      "metadata": {
        "colab": {
          "base_uri": "https://localhost:8080/"
        },
        "id": "6h1KgOTj0x8r",
        "outputId": "700eb70d-05a4-4f88-c011-07ac6ae011e7"
      },
      "source": [
        "fp, fn, tp, tn = predict(model, val_iterator)\n",
        "recall = len(tp)/(len(tp) + len(fn))\n",
        "precision = len(tp)/(len(tp) + len(fp))\n",
        "f_score = 2 * precision * recall / (precision + recall)\n",
        "f_score"
      ],
      "execution_count": null,
      "outputs": [
        {
          "output_type": "execute_result",
          "data": {
            "text/plain": [
              "0.7563133185075365"
            ]
          },
          "metadata": {},
          "execution_count": 260
        }
      ]
    },
    {
      "cell_type": "code",
      "metadata": {
        "colab": {
          "base_uri": "https://localhost:8080/"
        },
        "id": "hKpPp7KV2ZjO",
        "outputId": "565d3060-aff6-4629-e536-2c28621615b1"
      },
      "source": [
        "tp[:5]"
      ],
      "execution_count": null,
      "outputs": [
        {
          "output_type": "execute_result",
          "data": {
            "text/plain": [
              "['USER давно не вам удачи вперед мои любимые ребята',\n",
              " 'как дела что делаете как настроение а хотя вы такие пидары что не d',\n",
              " 'нас уже 1 и так держать мы и дальше будем стараться для вас спасибо что вы с нами URL',\n",
              " 'USER под тренд пусть лучше он под нас',\n",
              " 'USER от бизнес школ меня освободили а на 1 пару ехать']"
            ]
          },
          "metadata": {},
          "execution_count": 261
        }
      ]
    },
    {
      "cell_type": "markdown",
      "metadata": {
        "id": "iVgAguNDEl-n"
      },
      "source": [
        "результат неплохой, попробуем убрать препроц + добавить эпох + не обрезать словарь по частотности"
      ]
    },
    {
      "cell_type": "code",
      "metadata": {
        "id": "cx7F7KYQGnIC"
      },
      "source": [
        "vocab = Counter()\n",
        "for text in tweets_data['text']:\n",
        "    vocab.update(text.split())\n",
        "\n",
        "word2id = {'PAD':0}\n",
        "\n",
        "for word in vocab:\n",
        "    word2id[word] = len(word2id)\n",
        "\n",
        "char_vocab = Counter()\n",
        "for text in tweets_data['text']:\n",
        "    for word in text:\n",
        "      char_vocab.update(list(word))\n",
        "\n",
        "symbol2id = {'PAD':0}\n",
        "\n",
        "for symbol in char_vocab:\n",
        "    symbol2id[symbol] = len(symbol2id)\n",
        "\n",
        "id2word = {i:word for word, i in word2id.items()}\n",
        "id2symbol = {i:symbol for symbol, i in symbol2id.items()}"
      ],
      "execution_count": null,
      "outputs": []
    },
    {
      "cell_type": "code",
      "metadata": {
        "colab": {
          "base_uri": "https://localhost:8080/"
        },
        "id": "mFEIsGxVHEnZ",
        "outputId": "7221e1bc-6217-44d1-8b97-0279c42cd7b0"
      },
      "source": [
        "print(len(symbol2id), len(word2id))"
      ],
      "execution_count": null,
      "outputs": [
        {
          "output_type": "stream",
          "name": "stdout",
          "text": [
            "338 305485\n"
          ]
        }
      ]
    },
    {
      "cell_type": "code",
      "metadata": {
        "id": "hFeZ76u7EqC_"
      },
      "source": [
        "class WSTweetsDataset(Dataset):\n",
        "\n",
        "    def __init__(self, dataset, word2id, symbol2id, DEVICE):\n",
        "        self.dataset = dataset['text'].values\n",
        "        self.word2id = word2id\n",
        "        self.symbol2id = symbol2id\n",
        "        self.length = dataset.shape[0]\n",
        "        self.target = torch.Tensor(dataset['tone'].values)\n",
        "        self.device = DEVICE\n",
        "\n",
        "    def __len__(self):\n",
        "        return self.length\n",
        "\n",
        "    def __getitem__(self, index): \n",
        "        symbols = list(self.dataset[index])\n",
        "        symb_ids = torch.LongTensor([self.symbol2id[symbol] for symbol in symbols if symbol in self.symbol2id])\n",
        "        tokens = self.dataset[index].split()\n",
        "        word_ids = torch.LongTensor([self.word2id[token] for token in tokens if token in self.word2id])\n",
        "        y = [self.target[index]]\n",
        "        return word_ids, symb_ids, y\n",
        "\n",
        "    def collate_fn(self, batch): #этот метод можно реализовывать и отдельно,\n",
        "    # он понадобится для DataLoader во время итерации по батчам\n",
        "      word_ids, symb_ids, y = list(zip(*batch))\n",
        "      padded_words = pad_sequence(word_ids, batch_first=True).to(self.device)\n",
        "      padded_symbs = pad_sequence(symb_ids, batch_first=True).to(self.device)\n",
        "      y = torch.Tensor(y).to(self.device)\n",
        "      return padded_words, padded_symbs, y"
      ],
      "execution_count": null,
      "outputs": []
    },
    {
      "cell_type": "code",
      "metadata": {
        "id": "zVSMwLzaFbVz"
      },
      "source": [
        "train_dataset = WSTweetsDataset(train_sentences, word2id, symbol2id, DEVICE)\n",
        "train_sampler = RandomSampler(train_dataset)\n",
        "train_iterator = DataLoader(train_dataset, collate_fn = train_dataset.collate_fn, sampler=train_sampler, batch_size=1024)"
      ],
      "execution_count": null,
      "outputs": []
    },
    {
      "cell_type": "code",
      "metadata": {
        "id": "5a90UPgrFiDF"
      },
      "source": [
        "val_dataset = WSTweetsDataset(val_sentences, word2id, symbol2id, DEVICE)\n",
        "val_sampler = SequentialSampler(val_dataset)\n",
        "val_iterator = DataLoader(val_dataset, collate_fn = val_dataset.collate_fn, sampler=val_sampler, batch_size=1024)"
      ],
      "execution_count": null,
      "outputs": []
    },
    {
      "cell_type": "code",
      "metadata": {
        "id": "NXHuqY_vFiNz"
      },
      "source": [
        "model = WSCNN(len(symbol2id), 10, len(word2id))\n",
        "optimizer = optim.Adam(model.parameters(), lr=0.001)\n",
        "criterion = nn.BCELoss() \n",
        "\n",
        "# веса модели и значения лосса храним там же, где и все остальные тензоры\n",
        "model = model.to(DEVICE)\n",
        "criterion = criterion.to(DEVICE)"
      ],
      "execution_count": null,
      "outputs": []
    },
    {
      "cell_type": "code",
      "metadata": {
        "colab": {
          "base_uri": "https://localhost:8080/"
        },
        "id": "IDLmhzaSF1hx",
        "outputId": "083e3f56-a3f7-4749-82ce-cc4614ac2088"
      },
      "source": [
        "losses = []\n",
        "losses_eval = []\n",
        "f1s = []\n",
        "f1s_eval = []\n",
        "\n",
        "for i in range(15):\n",
        "    print(f'\\nstarting Epoch {i}')\n",
        "    print('Training...')\n",
        "    epoch_loss = train(model, train_iterator, optimizer, criterion)\n",
        "    losses.append(epoch_loss)\n",
        "    print('\\nEvaluating on train...')\n",
        "    f1_on_train,_ = evaluate(model, train_iterator, criterion)\n",
        "    f1s.append(f1_on_train)\n",
        "    print('\\nEvaluating on test...')\n",
        "    f1_on_test, epoch_loss_on_test = evaluate(model, val_iterator, criterion)\n",
        "    losses_eval.append(epoch_loss_on_test)\n",
        "    f1s_eval.append(f1_on_test)"
      ],
      "execution_count": null,
      "outputs": [
        {
          "output_type": "stream",
          "name": "stdout",
          "text": [
            "\n",
            "starting Epoch 0\n",
            "Training...\n",
            "Train loss: 0.7829427548817226\n",
            "Train loss: 0.7261351840249424\n",
            "Train loss: 0.6992298594929955\n",
            "Train loss: 0.6746769416130195\n",
            "Train loss: 0.6445169565645424\n",
            "\n",
            "Evaluating on train...\n",
            "Val loss: 0.4958380460739136, Val f1: 0.9539183378219604\n",
            "Val loss: 0.47931364692490674, Val f1: 0.9194748997688293\n",
            "Val loss: 0.4740449874238534, Val f1: 0.909337043762207\n",
            "Val loss: 0.47069942446078283, Val f1: 0.9060183167457581\n",
            "Val loss: 0.4695067498329523, Val f1: 0.9026559591293335\n",
            "\n",
            "Evaluating on test...\n",
            "Val loss: 0.6200776696205139, Val f1: 1.1890051364898682\n",
            "Val loss: 0.5320288028035846, Val f1: 1.0152311325073242\n",
            "Val loss: 0.5070147947831587, Val f1: 0.9716357588768005\n",
            "Val loss: 0.4958838224411011, Val f1: 0.9492861032485962\n",
            "Val loss: 0.4894339504994844, Val f1: 0.9364045858383179\n",
            "\n",
            "starting Epoch 1\n",
            "Training...\n",
            "Train loss: 0.4115755132266453\n",
            "Train loss: 0.3345758858425864\n",
            "Train loss: 0.2807788750664754\n",
            "Train loss: 0.24130230838969602\n",
            "Train loss: 0.2117117068453415\n",
            "\n",
            "Evaluating on train...\n",
            "Val loss: 0.07467181741126946, Val f1: 1.0533607006072998\n",
            "Val loss: 0.07183425205534902, Val f1: 1.016809344291687\n",
            "Val loss: 0.07002754001454874, Val f1: 1.005569338798523\n",
            "Val loss: 0.06943387279318551, Val f1: 1.0000532865524292\n",
            "Val loss: 0.06935509173451243, Val f1: 0.9965814352035522\n",
            "\n",
            "Evaluating on test...\n",
            "Val loss: 0.09478267033894856, Val f1: 1.3104737997055054\n",
            "Val loss: 0.07985005208424159, Val f1: 1.1238899230957031\n",
            "Val loss: 0.0759479437362064, Val f1: 1.0727125406265259\n",
            "Val loss: 0.0736328681310018, Val f1: 1.048842430114746\n",
            "Val loss: 0.07325257949138943, Val f1: 1.0352131128311157\n",
            "\n",
            "starting Epoch 2\n",
            "Training...\n",
            "Train loss: 0.06928377811397825\n",
            "Train loss: 0.0615708875501978\n",
            "Train loss: 0.05652271659875458\n",
            "Train loss: 0.05196280689057657\n",
            "Train loss: 0.04829441723287911\n",
            "\n",
            "Evaluating on train...\n",
            "Val loss: 0.028769265727273056, Val f1: 1.0605381727218628\n",
            "Val loss: 0.026342415925243806, Val f1: 1.0252820253372192\n",
            "Val loss: 0.02598443441092968, Val f1: 1.0137450695037842\n",
            "Val loss: 0.025535015989158114, Val f1: 1.008220911026001\n",
            "Val loss: 0.02543315621143257, Val f1: 1.0049439668655396\n",
            "\n",
            "Evaluating on test...\n",
            "Val loss: 0.03390843483308951, Val f1: 1.3232513666152954\n",
            "Val loss: 0.02922133861907891, Val f1: 1.1329026222229004\n",
            "Val loss: 0.02782986821098761, Val f1: 1.081527590751648\n",
            "Val loss: 0.02738303889830907, Val f1: 1.0574426651000977\n",
            "Val loss: 0.027476269163583453, Val f1: 1.0430195331573486\n",
            "\n",
            "starting Epoch 3\n",
            "Training...\n",
            "Train loss: 0.031045224517583847\n",
            "Train loss: 0.028531096618751\n",
            "Train loss: 0.026169991798021576\n",
            "Train loss: 0.02449182446225215\n",
            "Train loss: 0.02308602918040108\n",
            "\n",
            "Evaluating on train...\n",
            "Val loss: 0.01198235566594771, Val f1: 1.0697981119155884\n",
            "Val loss: 0.011511291023986093, Val f1: 1.0327692031860352\n",
            "Val loss: 0.01165887379002842, Val f1: 1.0207767486572266\n",
            "Val loss: 0.011583917048144139, Val f1: 1.0149387121200562\n",
            "Val loss: 0.011661377823534044, Val f1: 1.0116095542907715\n",
            "\n",
            "Evaluating on test...\n",
            "Val loss: 0.01518067034582297, Val f1: 1.3323748111724854\n",
            "Val loss: 0.013654021679290704, Val f1: 1.1406381130218506\n",
            "Val loss: 0.012972548434680159, Val f1: 1.088730812072754\n",
            "Val loss: 0.012938507522145907, Val f1: 1.0642852783203125\n",
            "Val loss: 0.012940800405646624, Val f1: 1.0502663850784302\n",
            "\n",
            "starting Epoch 4\n",
            "Training...\n",
            "Train loss: 0.014740585615592343\n",
            "Train loss: 0.014608133680604655\n",
            "Train loss: 0.013942812844602899\n",
            "Train loss: 0.014235116020476415\n",
            "Train loss: 0.01348742244236574\n",
            "\n",
            "Evaluating on train...\n",
            "Val loss: 0.00811673015622156, Val f1: 1.0699903964996338\n",
            "Val loss: 0.007886025540787598, Val f1: 1.0331259965896606\n",
            "Val loss: 0.0073858003809370775, Val f1: 1.0215458869934082\n",
            "Val loss: 0.007271126504608635, Val f1: 1.0157495737075806\n",
            "Val loss: 0.007480818425884118, Val f1: 1.0122168064117432\n",
            "\n",
            "Evaluating on test...\n",
            "Val loss: 0.009095259321232637, Val f1: 1.333019733428955\n",
            "Val loss: 0.00847695195781333, Val f1: 1.1416085958480835\n",
            "Val loss: 0.008335185491225937, Val f1: 1.0894304513931274\n",
            "Val loss: 0.008464502481122812, Val f1: 1.0648608207702637\n",
            "Val loss: 0.008392343322109235, Val f1: 1.0510135889053345\n",
            "\n",
            "starting Epoch 5\n",
            "Training...\n",
            "Train loss: 0.011572758268032755\n",
            "Train loss: 0.010269030350549468\n",
            "Train loss: 0.009607376012189145\n",
            "Train loss: 0.009355960078379614\n",
            "Train loss: 0.008893505981619898\n",
            "\n",
            "Evaluating on train...\n",
            "Val loss: 0.004898705220382128, Val f1: 1.0705989599227905\n",
            "Val loss: 0.004743727558324563, Val f1: 1.0337454080581665\n",
            "Val loss: 0.004622101921334185, Val f1: 1.022087574005127\n",
            "Val loss: 0.004520602966264143, Val f1: 1.016373634338379\n",
            "Val loss: 0.004446192562731134, Val f1: 1.0129497051239014\n",
            "\n",
            "Evaluating on test...\n",
            "Val loss: 0.005419365130364895, Val f1: 1.3333333730697632\n",
            "Val loss: 0.005162267480045557, Val f1: 1.1422961950302124\n",
            "Val loss: 0.005222517616030845, Val f1: 1.0899536609649658\n",
            "Val loss: 0.005337551049888134, Val f1: 1.0656394958496094\n",
            "Val loss: 0.005232878127380421, Val f1: 1.0518206357955933\n",
            "\n",
            "starting Epoch 6\n",
            "Training...\n",
            "Train loss: 0.007106869182150278\n",
            "Train loss: 0.007002524806764619\n",
            "Train loss: 0.006828213544477793\n",
            "Train loss: 0.006865129766638501\n",
            "Train loss: 0.006700684225211876\n",
            "\n",
            "Evaluating on train...\n",
            "Val loss: 0.0037955937275130835, Val f1: 1.0709426403045654\n",
            "Val loss: 0.003683473433143106, Val f1: 1.0339444875717163\n",
            "Val loss: 0.003580649380720305, Val f1: 1.0221983194351196\n",
            "Val loss: 0.0035563348042699744, Val f1: 1.0163911581039429\n",
            "Val loss: 0.0035362302095981665, Val f1: 1.012963891029358\n",
            "\n",
            "Evaluating on test...\n",
            "Val loss: 0.004016713239252567, Val f1: 1.3333333730697632\n",
            "Val loss: 0.0039320584453110185, Val f1: 1.1422961950302124\n",
            "Val loss: 0.004232670095833865, Val f1: 1.0899536609649658\n",
            "Val loss: 0.004409445884327094, Val f1: 1.0655744075775146\n",
            "Val loss: 0.00427893307795258, Val f1: 1.0516713857650757\n",
            "\n",
            "starting Epoch 7\n",
            "Training...\n",
            "Train loss: 0.005816630786284804\n",
            "Train loss: 0.005661246447085306\n",
            "Train loss: 0.005461450592106717\n",
            "Train loss: 0.005555565563677731\n",
            "Train loss: 0.005315514215318537\n",
            "\n",
            "Evaluating on train...\n",
            "Val loss: 0.003156460555536406, Val f1: 1.0709459781646729\n",
            "Val loss: 0.002947396438183456, Val f1: 1.034085750579834\n",
            "Val loss: 0.0030324283182959666, Val f1: 1.0222889184951782\n",
            "Val loss: 0.003044020524643109, Val f1: 1.016438603401184\n",
            "Val loss: 0.0031055984939951952, Val f1: 1.0129631757736206\n",
            "\n",
            "Evaluating on test...\n",
            "Val loss: 0.003453206503763795, Val f1: 1.333019733428955\n",
            "Val loss: 0.0034570966714194845, Val f1: 1.1421617269515991\n",
            "Val loss: 0.003867355471646244, Val f1: 1.0897860527038574\n",
            "Val loss: 0.00405099093914032, Val f1: 1.0653854608535767\n",
            "Val loss: 0.003893967656614749, Val f1: 1.0515222549438477\n",
            "\n",
            "starting Epoch 8\n",
            "Training...\n",
            "Train loss: 0.004189491155557334\n",
            "Train loss: 0.003592994690326781\n",
            "Train loss: 0.004079604987055063\n",
            "Train loss: 0.004045921101597912\n",
            "Train loss: 0.003952593196535835\n",
            "\n",
            "Evaluating on train...\n",
            "Val loss: 0.0016459110567146646, Val f1: 1.071294903755188\n",
            "Val loss: 0.0015746635437043834, Val f1: 1.0343849658966064\n",
            "Val loss: 0.0016672980564180762, Val f1: 1.0226200819015503\n",
            "Val loss: 0.0017545548103891817, Val f1: 1.0167889595031738\n",
            "Val loss: 0.0016617577309040604, Val f1: 1.0133858919143677\n",
            "\n",
            "Evaluating on test...\n",
            "Val loss: 0.0019306952987487118, Val f1: 1.3333333730697632\n",
            "Val loss: 0.001881241366001112, Val f1: 1.1428571939468384\n",
            "Val loss: 0.0021225333171473308, Val f1: 1.09065580368042\n",
            "Val loss: 0.0022004645395403105, Val f1: 1.0664156675338745\n",
            "Val loss: 0.0021051060604421715, Val f1: 1.0524333715438843\n",
            "\n",
            "starting Epoch 9\n",
            "Training...\n",
            "Train loss: 0.004069699456782213\n",
            "Train loss: 0.003864579296124906\n",
            "Train loss: 0.003964596396227452\n",
            "Train loss: 0.0037455360930002592\n",
            "Train loss: 0.0037296268510053285\n",
            "\n",
            "Evaluating on train...\n",
            "Val loss: 0.0018504974182828196, Val f1: 1.0712288618087769\n",
            "Val loss: 0.0019084487576037645, Val f1: 1.0342202186584473\n",
            "Val loss: 0.0018263323105533016, Val f1: 1.0224659442901611\n",
            "Val loss: 0.0017855827138222502, Val f1: 1.0166538953781128\n",
            "Val loss: 0.0017429205370324387, Val f1: 1.0132402181625366\n",
            "\n",
            "Evaluating on test...\n",
            "Val loss: 0.001937473736082514, Val f1: 1.3333333730697632\n",
            "Val loss: 0.00197950514432575, Val f1: 1.142575979232788\n",
            "Val loss: 0.0024296801262111826, Val f1: 1.0902175903320312\n",
            "Val loss: 0.0025334327559297285, Val f1: 1.0660303831100464\n",
            "Val loss: 0.0023846455089943973, Val f1: 1.0521292686462402\n",
            "\n",
            "starting Epoch 10\n",
            "Training...\n",
            "Train loss: 0.003955541810552988\n",
            "Train loss: 0.0033746905151176556\n",
            "Train loss: 0.003004589549329301\n",
            "Train loss: 0.003020214826515797\n",
            "Train loss: 0.002900221266286649\n",
            "\n",
            "Evaluating on train...\n",
            "Val loss: 0.0009045074901743126, Val f1: 1.071428656578064\n",
            "Val loss: 0.0009425828707051175, Val f1: 1.034482717514038\n",
            "Val loss: 0.0009010397307892246, Val f1: 1.022705078125\n",
            "Val loss: 0.0009006143831726858, Val f1: 1.016899585723877\n",
            "Val loss: 0.0009716968264468518, Val f1: 1.013434886932373\n",
            "\n",
            "Evaluating on test...\n",
            "Val loss: 0.0011485109959418576, Val f1: 1.3333333730697632\n",
            "Val loss: 0.0011118612185652768, Val f1: 1.1428571939468384\n",
            "Val loss: 0.0013778246304189618, Val f1: 1.09065580368042\n",
            "Val loss: 0.0014343021825576822, Val f1: 1.0664156675338745\n",
            "Val loss: 0.001349937648659474, Val f1: 1.0524333715438843\n",
            "\n",
            "starting Epoch 11\n",
            "Training...\n",
            "Train loss: 0.0030644318196989062\n",
            "Train loss: 0.002849977746493472\n",
            "Train loss: 0.002676620882332579\n",
            "Train loss: 0.002549045515972805\n",
            "Train loss: 0.0025345481022865184\n",
            "\n",
            "Evaluating on train...\n",
            "Val loss: 0.0008428772707702592, Val f1: 1.0713597536087036\n",
            "Val loss: 0.0007979602488721239, Val f1: 1.0343830585479736\n",
            "Val loss: 0.0008231629749802364, Val f1: 1.022661566734314\n",
            "Val loss: 0.0008373073937560795, Val f1: 1.0168838500976562\n",
            "Val loss: 0.0007987761523140393, Val f1: 1.0134614706039429\n",
            "\n",
            "Evaluating on test...\n",
            "Val loss: 0.0009412955453929802, Val f1: 1.3333333730697632\n",
            "Val loss: 0.0009537598484062723, Val f1: 1.1428571939468384\n",
            "Val loss: 0.0012858011653985489, Val f1: 1.0905696153640747\n",
            "Val loss: 0.0013312761128569642, Val f1: 1.0663524866104126\n",
            "Val loss: 0.0012277049888660642, Val f1: 1.0523834228515625\n",
            "\n",
            "starting Epoch 12\n",
            "Training...\n",
            "Train loss: 0.0028268768302431063\n",
            "Train loss: 0.002334968243115421\n",
            "Train loss: 0.002152576090090654\n",
            "Train loss: 0.0022718981914695794\n",
            "Train loss: 0.0021982247228545413\n",
            "\n",
            "Evaluating on train...\n",
            "Val loss: 0.0006137508441627558, Val f1: 1.071428656578064\n",
            "Val loss: 0.0006611492306170664, Val f1: 1.034482717514038\n",
            "Val loss: 0.0006583470187086442, Val f1: 1.022704839706421\n",
            "Val loss: 0.000713040850961865, Val f1: 1.0169003009796143\n",
            "Val loss: 0.0007127576819904199, Val f1: 1.0134613513946533\n",
            "\n",
            "Evaluating on test...\n",
            "Val loss: 0.0008491254508650551, Val f1: 1.3333333730697632\n",
            "Val loss: 0.0008571049339869725, Val f1: 1.1428571939468384\n",
            "Val loss: 0.0012642816952641376, Val f1: 1.0905696153640747\n",
            "Val loss: 0.0012976701584799836, Val f1: 1.0663524866104126\n",
            "Val loss: 0.0011834496567883577, Val f1: 1.0523834228515625\n",
            "\n",
            "starting Epoch 13\n",
            "Training...\n",
            "Train loss: 0.0020710450272807585\n",
            "Train loss: 0.0018400149741049472\n",
            "Train loss: 0.0020381954408631745\n",
            "Train loss: 0.0019392660593069396\n",
            "Train loss: 0.0019168122297914295\n",
            "\n",
            "Evaluating on train...\n",
            "Val loss: 0.0008108732831065676, Val f1: 1.0712878704071045\n",
            "Val loss: 0.0007100643345219051, Val f1: 1.0344147682189941\n",
            "Val loss: 0.0006390656953127208, Val f1: 1.022682547569275\n",
            "Val loss: 0.0006358570108975489, Val f1: 1.0169157981872559\n",
            "Val loss: 0.0006408343334270112, Val f1: 1.0134741067886353\n",
            "\n",
            "Evaluating on test...\n",
            "Val loss: 0.0008123282653590044, Val f1: 1.3333333730697632\n",
            "Val loss: 0.0007821687447306301, Val f1: 1.1428571939468384\n",
            "Val loss: 0.0012630178243853152, Val f1: 1.0905696153640747\n",
            "Val loss: 0.0012679286068305374, Val f1: 1.0663524866104126\n",
            "Val loss: 0.001148448102053647, Val f1: 1.0523834228515625\n",
            "\n",
            "starting Epoch 14\n",
            "Training...\n",
            "Train loss: 0.0016875358331682427\n",
            "Train loss: 0.001677636185596729\n",
            "Train loss: 0.002040797368946104\n",
            "Train loss: 0.0019044894927331263\n",
            "Train loss: 0.0018281602800974774\n",
            "\n",
            "Evaluating on train...\n",
            "Val loss: 0.000869107894167038, Val f1: 1.0712921619415283\n",
            "Val loss: 0.0008034189442445621, Val f1: 1.0343174934387207\n",
            "Val loss: 0.0007376338154162196, Val f1: 1.0226184129714966\n",
            "Val loss: 0.0007008293762475537, Val f1: 1.016867995262146\n",
            "Val loss: 0.0007071349735614038, Val f1: 1.0134358406066895\n",
            "\n",
            "Evaluating on test...\n",
            "Val loss: 0.0009876364395798494, Val f1: 1.3333333730697632\n",
            "Val loss: 0.0009508813756318497, Val f1: 1.1428571939468384\n",
            "Val loss: 0.0014126695168670267, Val f1: 1.0905696153640747\n",
            "Val loss: 0.0014397760717353473, Val f1: 1.0663524866104126\n",
            "Val loss: 0.0012998559166015567, Val f1: 1.0523834228515625\n"
          ]
        }
      ]
    },
    {
      "cell_type": "code",
      "metadata": {
        "colab": {
          "base_uri": "https://localhost:8080/",
          "height": 295
        },
        "id": "XZGTLwVTF8DB",
        "outputId": "65e74577-f837-45ad-c2e5-2a7c2289c32a"
      },
      "source": [
        "plt.plot(losses)\n",
        "plt.plot(losses_eval)\n",
        "plt.title('BCE loss value')\n",
        "plt.ylabel('BCE loss')\n",
        "plt.xlabel('epoch')\n",
        "plt.legend(['train', 'val'], loc='upper right')\n",
        "plt.show()"
      ],
      "execution_count": null,
      "outputs": [
        {
          "output_type": "display_data",
          "data": {
            "image/png": "[encoded data removed]",
            "text/plain": [
              "<Figure size 432x288 with 1 Axes>"
            ]
          },
          "metadata": {
            "needs_background": "light"
          }
        }
      ]
    },
    {
      "cell_type": "code",
      "metadata": {
        "colab": {
          "base_uri": "https://localhost:8080/",
          "height": 295
        },
        "id": "KW2X49X5HpDS",
        "outputId": "cba2b062-f7b2-420d-b3aa-f6e1cd4774df"
      },
      "source": [
        "plt.plot(f1s)\n",
        "plt.plot(f1s_eval)\n",
        "plt.title('f1 value')\n",
        "plt.ylabel('f1 value')\n",
        "plt.xlabel('epoch')\n",
        "plt.legend(['train', 'val'], loc='upper right')\n",
        "plt.show()"
      ],
      "execution_count": null,
      "outputs": [
        {
          "output_type": "display_data",
          "data": {
            "image/png": "[encoded data removed]",
            "text/plain": [
              "<Figure size 432x288 with 1 Axes>"
            ]
          },
          "metadata": {
            "needs_background": "light"
          }
        }
      ]
    },
    {
      "cell_type": "code",
      "metadata": {
        "colab": {
          "base_uri": "https://localhost:8080/"
        },
        "id": "Doo44i3EHvdo",
        "outputId": "969a60e0-4d69-48e6-8b17-7cb579d74ecf"
      },
      "source": [
        "fp, fn, tp, tn = predict(model, val_iterator)\n",
        "recall = len(tp)/(len(tp) + len(fn))\n",
        "precision = len(tp)/(len(tp) + len(fp))\n",
        "f_score = 2 * precision * recall / (precision + recall)\n",
        "f_score"
      ],
      "execution_count": null,
      "outputs": [
        {
          "output_type": "execute_result",
          "data": {
            "text/plain": [
              "0.999755058051242"
            ]
          },
          "metadata": {},
          "execution_count": 278
        }
      ]
    },
    {
      "cell_type": "markdown",
      "metadata": {
        "id": "HXg1iAtbH7rU"
      },
      "source": [
        "результат получился высоким. вывод: скобочки, смайлики и проч. сильно влияют на оценку тональности твитов. текст сам по себе не так важен, как символы, которыми он сопровождается. :)"
      ]
    }
  ]
}