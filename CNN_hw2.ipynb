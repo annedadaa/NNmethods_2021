{
  "nbformat": 4,
  "nbformat_minor": 0,
  "metadata": {
    "accelerator": "GPU",
    "colab": {
      "name": "CNN_hw2.ipynb",
      "provenance": [],
      "collapsed_sections": []
    },
    "kernelspec": {
      "display_name": "Python 3",
      "name": "python3"
    },
    "language_info": {
      "name": "python"
    }
  },
  "cells": [
    {
      "cell_type": "code",
      "metadata": {
        "id": "dcZtlPu-OXZd"
      },
      "source": [
        "import pandas as pd\n",
        "import numpy as np\n",
        "import re\n",
        "from string import punctuation\n",
        "from collections import Counter\n",
        "import matplotlib.pyplot as plt\n",
        "\n",
        "from sklearn.model_selection import train_test_split\n",
        "from sklearn.utils import shuffle\n",
        "import torch\n",
        "import torch.nn as nn\n",
        "import torch.nn.functional as F\n",
        "from torch.utils.data import Dataset, DataLoader, RandomSampler, SequentialSampler\n",
        "from torch.nn.utils.rnn import pad_sequence\n",
        "import torch.optim as optim\n",
        "from torchmetrics.functional import f1\n",
        "from gensim.models import FastText\n",
        "import ipdb\n",
        "import spacy\n",
        "import tqdm"
      ],
      "execution_count": 240,
      "outputs": []
    },
    {
      "cell_type": "code",
      "metadata": {
        "id": "VFBsqq6eO52p"
      },
      "source": [
        "# !pip install ipdb\n",
        "# !pip install torchmetrics"
      ],
      "execution_count": 3,
      "outputs": []
    },
    {
      "cell_type": "code",
      "metadata": {
        "id": "IIQ1Dj_pOp46"
      },
      "source": [
        "# !wget https://www.dropbox.com/s/r6u59ljhhjdg6j0/negative.csv\n",
        "# !wget https://www.dropbox.com/s/fnpq3z4bcnoktiv/positive.csv"
      ],
      "execution_count": 6,
      "outputs": []
    },
    {
      "cell_type": "code",
      "metadata": {
        "id": "-eH35LDxOy9X"
      },
      "source": [
        "pos_tweets = pd.read_csv('positive.csv', encoding='utf-8', sep=';', header=None,  names=[0,1,2,'text','tone',5,6,7,8,9,10,11])"
      ],
      "execution_count": 7,
      "outputs": []
    },
    {
      "cell_type": "code",
      "metadata": {
        "id": "bEnPV7ryO15r"
      },
      "source": [
        "neg_tweets = pd.read_csv('negative.csv', encoding='utf-8', sep=';', header=None, names=[0,1,2,'text','tone',5,6,7,8,9,10,11])\n",
        "neg_tweets['tone'] = 0"
      ],
      "execution_count": 8,
      "outputs": []
    },
    {
      "cell_type": "code",
      "metadata": {
        "colab": {
          "base_uri": "https://localhost:8080/"
        },
        "id": "MekqKYnAO4pN",
        "outputId": "8e4e7c15-d0e1-40a8-a6b8-afa4c3d2e4a1"
      },
      "source": [
        "all_tweets_data = pos_tweets.append(neg_tweets)\n",
        "print(len(all_tweets_data))"
      ],
      "execution_count": 9,
      "outputs": [
        {
          "output_type": "stream",
          "name": "stdout",
          "text": [
            "226834\n"
          ]
        }
      ]
    },
    {
      "cell_type": "code",
      "metadata": {
        "id": "CnjeH3A6PKev"
      },
      "source": [
        "tweets_data = shuffle(all_tweets_data[['text','tone']])[:100000]"
      ],
      "execution_count": 10,
      "outputs": []
    },
    {
      "cell_type": "code",
      "metadata": {
        "id": "x4Yh041v4GSK"
      },
      "source": [
        "def preprocess(text): \n",
        "    text = text.lower().replace(\"ё\", \"е\")\n",
        "    text = re.sub('((www\\.[^\\s]+)|(https?://[^\\s]+))', 'URL', text)\n",
        "    text = re.sub('@[^\\s]+', 'USER', text)\n",
        "    text = re.sub('[^a-zA-Zа-яА-Я1-9]+', ' ', text)\n",
        "    text = re.sub(' +', ' ', text)\n",
        "    return text.split()"
      ],
      "execution_count": 107,
      "outputs": []
    },
    {
      "cell_type": "code",
      "metadata": {
        "id": "JOwwbw2_4Hg0"
      },
      "source": [
        "tweets_data['prep_text'] = tweets_data.text.apply(lambda x: ' '.join(preprocess(x)))"
      ],
      "execution_count": 117,
      "outputs": []
    },
    {
      "cell_type": "code",
      "metadata": {
        "colab": {
          "base_uri": "https://localhost:8080/",
          "height": 419
        },
        "id": "TJyAx24K5IB1",
        "outputId": "d8aced21-e991-430e-c998-33528814f608"
      },
      "source": [
        "tweets_data"
      ],
      "execution_count": 118,
      "outputs": [
        {
          "output_type": "execute_result",
          "data": {
            "text/html": [
              "<div>\n",
              "<style scoped>\n",
              "    .dataframe tbody tr th:only-of-type {\n",
              "        vertical-align: middle;\n",
              "    }\n",
              "\n",
              "    .dataframe tbody tr th {\n",
              "        vertical-align: top;\n",
              "    }\n",
              "\n",
              "    .dataframe thead th {\n",
              "        text-align: right;\n",
              "    }\n",
              "</style>\n",
              "<table border=\"1\" class=\"dataframe\">\n",
              "  <thead>\n",
              "    <tr style=\"text-align: right;\">\n",
              "      <th></th>\n",
              "      <th>text</th>\n",
              "      <th>tone</th>\n",
              "      <th>prep_text</th>\n",
              "    </tr>\n",
              "  </thead>\n",
              "  <tbody>\n",
              "    <tr>\n",
              "      <th>67849</th>\n",
              "      <td>RT @fuck_kakain: @dasha_1D_ Вроде. Потому что ...</td>\n",
              "      <td>1</td>\n",
              "      <td>rt USER USER вроде потому что я с этих слов на...</td>\n",
              "    </tr>\n",
              "    <tr>\n",
              "      <th>99432</th>\n",
              "      <td>@suicidebananas :\"( 25 билетов, хз сколько это...</td>\n",
              "      <td>0</td>\n",
              "      <td>USER 25 билетов хз сколько это страниц</td>\n",
              "    </tr>\n",
              "    <tr>\n",
              "      <th>45663</th>\n",
              "      <td>@mishanicolaev да, ага, им эти поля футбольные...</td>\n",
              "      <td>1</td>\n",
              "      <td>USER да ага им эти поля футбольные нахуй не нужны</td>\n",
              "    </tr>\n",
              "    <tr>\n",
              "      <th>51253</th>\n",
              "      <td>нужно пересмотреть свои взгляды на жизнь (</td>\n",
              "      <td>0</td>\n",
              "      <td>нужно пересмотреть свои взгляды на жизнь</td>\n",
              "    </tr>\n",
              "    <tr>\n",
              "      <th>34830</th>\n",
              "      <td>Третий день НИХРЕНА не готовлюсь к сессии.Я го...</td>\n",
              "      <td>0</td>\n",
              "      <td>третий день нихрена не готовлюсь к сессии я го...</td>\n",
              "    </tr>\n",
              "    <tr>\n",
              "      <th>...</th>\n",
              "      <td>...</td>\n",
              "      <td>...</td>\n",
              "      <td>...</td>\n",
              "    </tr>\n",
              "    <tr>\n",
              "      <th>2099</th>\n",
              "      <td>@foxnastya97 с тобой ахуенно смотреть ужааасти...</td>\n",
              "      <td>1</td>\n",
              "      <td>USER с тобой ахуенно смотреть ужааастииикииии 3</td>\n",
              "    </tr>\n",
              "    <tr>\n",
              "      <th>102704</th>\n",
              "      <td>Гуфака встретился с Сэмом \"Оказывается я так с...</td>\n",
              "      <td>1</td>\n",
              "      <td>гуфака встретился с сэмом оказывается я так ск...</td>\n",
              "    </tr>\n",
              "    <tr>\n",
              "      <th>30259</th>\n",
              "      <td>У меня экран на телефоне страшно поцарапался :...</td>\n",
              "      <td>0</td>\n",
              "      <td>у меня экран на телефоне страшно поцарапался х...</td>\n",
              "    </tr>\n",
              "    <tr>\n",
              "      <th>87256</th>\n",
              "      <td>сегодня будем целый день спать! ну очень лень ...</td>\n",
              "      <td>0</td>\n",
              "      <td>сегодня будем целый день спать ну очень лень к...</td>\n",
              "    </tr>\n",
              "    <tr>\n",
              "      <th>88384</th>\n",
              "      <td>У кого-то будет бурная ночка. Только я и Тэдди...</td>\n",
              "      <td>0</td>\n",
              "      <td>у кого то будет бурная ночка только я и тэдди ...</td>\n",
              "    </tr>\n",
              "  </tbody>\n",
              "</table>\n",
              "<p>100000 rows × 3 columns</p>\n",
              "</div>"
            ],
            "text/plain": [
              "                                                     text  ...                                          prep_text\n",
              "67849   RT @fuck_kakain: @dasha_1D_ Вроде. Потому что ...  ...  rt USER USER вроде потому что я с этих слов на...\n",
              "99432   @suicidebananas :\"( 25 билетов, хз сколько это...  ...             USER 25 билетов хз сколько это страниц\n",
              "45663   @mishanicolaev да, ага, им эти поля футбольные...  ...  USER да ага им эти поля футбольные нахуй не нужны\n",
              "51253          нужно пересмотреть свои взгляды на жизнь (  ...           нужно пересмотреть свои взгляды на жизнь\n",
              "34830   Третий день НИХРЕНА не готовлюсь к сессии.Я го...  ...  третий день нихрена не готовлюсь к сессии я го...\n",
              "...                                                   ...  ...                                                ...\n",
              "2099    @foxnastya97 с тобой ахуенно смотреть ужааасти...  ...    USER с тобой ахуенно смотреть ужааастииикииии 3\n",
              "102704  Гуфака встретился с Сэмом \"Оказывается я так с...  ...  гуфака встретился с сэмом оказывается я так ск...\n",
              "30259   У меня экран на телефоне страшно поцарапался :...  ...  у меня экран на телефоне страшно поцарапался х...\n",
              "87256   сегодня будем целый день спать! ну очень лень ...  ...  сегодня будем целый день спать ну очень лень к...\n",
              "88384   У кого-то будет бурная ночка. Только я и Тэдди...  ...  у кого то будет бурная ночка только я и тэдди ...\n",
              "\n",
              "[100000 rows x 3 columns]"
            ]
          },
          "metadata": {},
          "execution_count": 118
        }
      ]
    },
    {
      "cell_type": "code",
      "metadata": {
        "id": "ZND9RJHgPMSY"
      },
      "source": [
        "train_sentences, val_sentences = train_test_split(tweets_data, test_size=0.2)"
      ],
      "execution_count": 174,
      "outputs": []
    },
    {
      "cell_type": "code",
      "metadata": {
        "colab": {
          "base_uri": "https://localhost:8080/"
        },
        "id": "sdc2eJkhP9Nn",
        "outputId": "346c1116-84dd-4234-d17e-073ab411649b"
      },
      "source": [
        "train_sentences[train_sentences.tone == 1].shape[0] /train_sentences.shape[0]"
      ],
      "execution_count": 175,
      "outputs": [
        {
          "output_type": "execute_result",
          "data": {
            "text/plain": [
              "0.504975"
            ]
          },
          "metadata": {},
          "execution_count": 175
        }
      ]
    },
    {
      "cell_type": "code",
      "metadata": {
        "colab": {
          "base_uri": "https://localhost:8080/"
        },
        "id": "Rcb0sJM4QzCb",
        "outputId": "07bcb9ba-62cd-4b3e-e81e-c1dd7990cc00"
      },
      "source": [
        "vocab = Counter()\n",
        "\n",
        "for text in tweets_data['prep_text']:\n",
        "    vocab.update(text.split())\n",
        "print('всего уникальных токенов:', len(vocab))"
      ],
      "execution_count": 176,
      "outputs": [
        {
          "output_type": "stream",
          "name": "stdout",
          "text": [
            "всего уникальных токенов: 110842\n"
          ]
        }
      ]
    },
    {
      "cell_type": "code",
      "metadata": {
        "colab": {
          "base_uri": "https://localhost:8080/"
        },
        "id": "Pn6YQR3wQ8I5",
        "outputId": "f2e84462-5267-4fa6-a7f3-4aa1dbaa37bc"
      },
      "source": [
        "filtered_vocab = set()\n",
        "\n",
        "for word in vocab:\n",
        "    if vocab[word] > 5:\n",
        "        filtered_vocab.add(word)\n",
        "print('уникальных токенов, втретившихся больше 5 раз:', len(filtered_vocab))"
      ],
      "execution_count": 177,
      "outputs": [
        {
          "output_type": "stream",
          "name": "stdout",
          "text": [
            "уникальных токенов, втретившихся больше 5 раз: 14917\n"
          ]
        }
      ]
    },
    {
      "cell_type": "code",
      "metadata": {
        "id": "NB6ptdORQP9q"
      },
      "source": [
        "word2id = {'PAD':0}\n",
        "\n",
        "for word in filtered_vocab:\n",
        "    word2id[word] = len(word2id)"
      ],
      "execution_count": 178,
      "outputs": []
    },
    {
      "cell_type": "code",
      "metadata": {
        "id": "hkcfioRXQrCX"
      },
      "source": [
        "id2word = {i:word for word, i in word2id.items()}"
      ],
      "execution_count": 179,
      "outputs": []
    },
    {
      "cell_type": "code",
      "metadata": {
        "colab": {
          "base_uri": "https://localhost:8080/"
        },
        "id": "82N5nVh4QuUn",
        "outputId": "517b07b9-4b18-4dd0-abbd-465249e63cd8"
      },
      "source": [
        "DEVICE = torch.device('cuda') if torch.cuda.is_available() else torch.device('cpu')\n",
        "DEVICE"
      ],
      "execution_count": 180,
      "outputs": [
        {
          "output_type": "execute_result",
          "data": {
            "text/plain": [
              "device(type='cuda')"
            ]
          },
          "metadata": {},
          "execution_count": 180
        }
      ]
    },
    {
      "cell_type": "code",
      "metadata": {
        "id": "d2BpbyqDRPhm"
      },
      "source": [
        "class TweetsDataset(Dataset):\n",
        "\n",
        "    def __init__(self, dataset, word2id, DEVICE):\n",
        "        self.dataset = dataset['text'].values\n",
        "        self.word2id = word2id\n",
        "        self.length = dataset.shape[0]\n",
        "        self.target = torch.Tensor(dataset['tone'].values)\n",
        "        self.device = DEVICE\n",
        "\n",
        "    def __len__(self):\n",
        "        return self.length\n",
        "\n",
        "    def __getitem__(self, index): \n",
        "        tokens = self.dataset[index].split()\n",
        "        ids = torch.LongTensor([self.word2id[token] for token in tokens if token in self.word2id])\n",
        "        y = [self.target[index]]\n",
        "        return ids, y\n",
        "\n",
        "    def collate_fn(self, batch):\n",
        "      ids, y = list(zip(*batch))\n",
        "      padded_ids = pad_sequence(ids, batch_first=True).to(self.device)\n",
        "      y = torch.Tensor(y).to(self.device)\n",
        "      return padded_ids, y"
      ],
      "execution_count": 181,
      "outputs": []
    },
    {
      "cell_type": "code",
      "metadata": {
        "id": "snNHEy3aTCbg"
      },
      "source": [
        "train_dataset = TweetsDataset(train_sentences, word2id, DEVICE)\n",
        "train_sampler = RandomSampler(train_dataset)\n",
        "train_iterator = DataLoader(train_dataset, collate_fn = train_dataset.collate_fn, sampler=train_sampler, batch_size=1024)"
      ],
      "execution_count": 182,
      "outputs": []
    },
    {
      "cell_type": "code",
      "metadata": {
        "colab": {
          "base_uri": "https://localhost:8080/"
        },
        "id": "tDJCLHO6TbbJ",
        "outputId": "d66a50b8-1926-42e5-d9b8-d73a055842c2"
      },
      "source": [
        "batch = next(iter(train_iterator))\n",
        "batch[0].shape"
      ],
      "execution_count": 183,
      "outputs": [
        {
          "output_type": "execute_result",
          "data": {
            "text/plain": [
              "torch.Size([1024, 20])"
            ]
          },
          "metadata": {},
          "execution_count": 183
        }
      ]
    },
    {
      "cell_type": "code",
      "metadata": {
        "id": "hRRPt4RwgdmE"
      },
      "source": [
        "val_dataset = TweetsDataset(val_sentences, word2id, DEVICE)\n",
        "val_sampler = SequentialSampler(val_dataset)\n",
        "val_iterator = DataLoader(val_dataset, collate_fn = val_dataset.collate_fn, sampler=val_sampler, batch_size=1024)"
      ],
      "execution_count": 184,
      "outputs": []
    },
    {
      "cell_type": "code",
      "metadata": {
        "colab": {
          "base_uri": "https://localhost:8080/"
        },
        "id": "5y_Ivn4tfuE6",
        "outputId": "008f3212-5ecc-466b-fdb2-c36559c9f8d5"
      },
      "source": [
        "test_batch = next(iter(val_iterator))\n",
        "test_batch[0].shape"
      ],
      "execution_count": 185,
      "outputs": [
        {
          "output_type": "execute_result",
          "data": {
            "text/plain": [
              "torch.Size([1024, 20])"
            ]
          },
          "metadata": {},
          "execution_count": 185
        }
      ]
    },
    {
      "cell_type": "code",
      "metadata": {
        "id": "XEPpKZySaoLI"
      },
      "source": [
        "class CNN(nn.Module):\n",
        "    \n",
        "    def __init__(self, vocab_size, embedding_dim):\n",
        "        super().__init__()\n",
        "        self.embedding = nn.Embedding(vocab_size, embedding_dim)\n",
        "        self.bigrams = nn.Conv1d(in_channels=embedding_dim, out_channels=80, kernel_size=2, padding='same')\n",
        "        self.trigrams = nn.Conv1d(in_channels=embedding_dim, out_channels=60, kernel_size=3, padding='same')\n",
        "        self.pooling = nn.MaxPool1d(kernel_size=2, stride=2)\n",
        "        self.relu = nn.ReLU()\n",
        "        self.hidden = nn.Linear(in_features=140, out_features=1)\n",
        "        self.dropout = nn.Dropout(p=0.5)\n",
        "        self.out = nn.Sigmoid()\n",
        "\n",
        "    def forward(self, text):\n",
        "        #batch_size x seq_len\n",
        "        embedded = self.embedding(text)\n",
        "        #batch_size x seq_len x embedding_dim\n",
        "        embedded = embedded.transpose(1,2)\n",
        "        #batch_size x embedding_dim x seq_len\n",
        "        feature_map_bigrams = self.dropout(self.pooling(self.relu(self.bigrams(embedded))))\n",
        "        #batch_size x filter_count2 x seq_len* \n",
        "        feature_map_trigrams = self.dropout(self.pooling(self.relu(self.trigrams(embedded))))\n",
        "        #batch_size x filter_count3 x seq_len*\n",
        "\n",
        "        pooling1 = feature_map_bigrams.max(2)[0] \n",
        "        # batch_size x filter_count2\n",
        "        pooling2 = feature_map_trigrams.max(2)[0]\n",
        "        # batch_size x filter_count3\n",
        "        concat = torch.cat((pooling1, pooling2), 1)\n",
        "        # batch _size x (filter_count2 + filter_count3)\n",
        "        logits = self.hidden(concat) \n",
        "        logits = self.out(logits)       \n",
        "        return logits"
      ],
      "execution_count": 186,
      "outputs": []
    },
    {
      "cell_type": "markdown",
      "metadata": {
        "id": "WLmPgv6kgoEO"
      },
      "source": [
        "### Training model"
      ]
    },
    {
      "cell_type": "code",
      "metadata": {
        "id": "ygWAlLajgkP0"
      },
      "source": [
        "def train(model, iterator, optimizer, criterion):\n",
        "    epoch_loss = 0 # для подсчета среднего лосса на всех батчах\n",
        "\n",
        "    model.train()  # ставим модель в обучение, явно указываем, что сейчас надо будет хранить градиенты у всех весов\n",
        "\n",
        "    for i, (texts, ys) in enumerate(iterator): #итерируемся по батчам\n",
        "        optimizer.zero_grad()  #обнуляем градиенты\n",
        "        preds = model(texts)  #прогоняем данные через модель\n",
        "        loss = criterion(preds, ys) #считаем значение функции потерь  \n",
        "        loss.backward() #считаем градиенты  \n",
        "        optimizer.step() #обновляем веса \n",
        "        epoch_loss += loss.item() #сохраняем значение функции потерь\n",
        "        if not (i + 1) % int(len(iterator)/5):\n",
        "            print(f'Train loss: {epoch_loss/i}')      \n",
        "    return  epoch_loss / len(iterator) # возвращаем среднее значение лосса по всей выборке"
      ],
      "execution_count": 187,
      "outputs": []
    },
    {
      "cell_type": "code",
      "metadata": {
        "id": "yNrrOniQgyaD"
      },
      "source": [
        "def evaluate(model, iterator, criterion):\n",
        "    epoch_loss = 0\n",
        "    epoch_metric = 0\n",
        "    model.eval() \n",
        "    with torch.no_grad():\n",
        "        for i, (texts, ys) in enumerate(iterator):   \n",
        "            preds = model(texts)  # делаем предсказания на тесте\n",
        "            loss = criterion(preds, ys)   # считаем значения функции ошибки для статистики  \n",
        "            epoch_loss += loss.item()\n",
        "            batch_metric = f1(preds.round().long(), ys.long(), ignore_index=0)\n",
        "            epoch_metric += batch_metric\n",
        "\n",
        "            if not (i + 1) % int(len(iterator)/5):\n",
        "              print(f'Val loss: {epoch_loss/i}, Val f1: {epoch_metric/i}')\n",
        "        \n",
        "    return epoch_metric / len(iterator), epoch_loss / len(iterator) # возвращаем среднее значение по всей выборке\n"
      ],
      "execution_count": 188,
      "outputs": []
    },
    {
      "cell_type": "code",
      "metadata": {
        "id": "XdOZACBVg4mK"
      },
      "source": [
        "model = CNN(len(word2id), 5)\n",
        "optimizer = optim.Adam(model.parameters(), lr=0.001)\n",
        "criterion = nn.BCELoss()  \n",
        "\n",
        "# веса модели и значения лосса храним там же, где и все остальные тензоры\n",
        "model = model.to(DEVICE)\n",
        "criterion = criterion.to(DEVICE)"
      ],
      "execution_count": 191,
      "outputs": []
    },
    {
      "cell_type": "markdown",
      "metadata": {
        "id": "RyAMySgEg-Mx"
      },
      "source": [
        "### Обучим эмбеддинг слой на нашей модели"
      ]
    },
    {
      "cell_type": "code",
      "metadata": {
        "colab": {
          "base_uri": "https://localhost:8080/"
        },
        "id": "KVYE4iwyg9e5",
        "outputId": "fa663671-2bf6-4b38-a832-639267172644"
      },
      "source": [
        "losses = []\n",
        "losses_eval = []\n",
        "f1s = []\n",
        "f1s_eval = []\n",
        "\n",
        "for i in range(15):\n",
        "    print(f'\\nstarting Epoch {i}')\n",
        "    print('Training...')\n",
        "    epoch_loss = train(model, train_iterator, optimizer, criterion)\n",
        "    losses.append(epoch_loss)\n",
        "    print('\\nEvaluating on train...')\n",
        "    f1_on_train,_ = evaluate(model, train_iterator, criterion)\n",
        "    f1s.append(f1_on_train)\n",
        "    print('\\nEvaluating on test...')\n",
        "    f1_on_test, epoch_loss_on_test = evaluate(model, val_iterator, criterion)\n",
        "    losses_eval.append(epoch_loss_on_test)\n",
        "    f1s_eval.append(f1_on_test)"
      ],
      "execution_count": 192,
      "outputs": [
        {
          "output_type": "stream",
          "name": "stdout",
          "text": [
            "\n",
            "starting Epoch 0\n",
            "Training...\n",
            "Train loss: 0.7667672038078308\n",
            "Train loss: 0.7342740893363953\n",
            "Train loss: 0.7236179221760143\n",
            "Train loss: 0.7172105079990322\n",
            "Train loss: 0.7134825965842685\n",
            "\n",
            "Evaluating on train...\n",
            "Val loss: 0.7387108589921679, Val f1: 0.5606797933578491\n",
            "Val loss: 0.7134110167108733, Val f1: 0.5360041856765747\n",
            "Val loss: 0.7051611027934335, Val f1: 0.5306762456893921\n",
            "Val loss: 0.701465746103707, Val f1: 0.5264858603477478\n",
            "Val loss: 0.6990658302564878, Val f1: 0.524857223033905\n",
            "\n",
            "Evaluating on test...\n",
            "Val loss: 0.9217373927434286, Val f1: 0.6872689127922058\n",
            "Val loss: 0.7891773070607867, Val f1: 0.5923547744750977\n",
            "Val loss: 0.7535216429016807, Val f1: 0.5655909776687622\n",
            "Val loss: 0.7363164226214091, Val f1: 0.5496065020561218\n",
            "Val loss: 0.7265706626992476, Val f1: 0.5440840721130371\n",
            "\n",
            "starting Epoch 1\n",
            "Training...\n",
            "Train loss: 0.7484379623617444\n",
            "Train loss: 0.7213709703807173\n",
            "Train loss: 0.7122779989784415\n",
            "Train loss: 0.7077026801594233\n",
            "Train loss: 0.7046956629366488\n",
            "\n",
            "Evaluating on train...\n",
            "Val loss: 0.7354856090886253, Val f1: 0.5532895922660828\n",
            "Val loss: 0.7112730186561058, Val f1: 0.5240103006362915\n",
            "Val loss: 0.7033620585094799, Val f1: 0.5190120935440063\n",
            "Val loss: 0.6991741131928008, Val f1: 0.5172639489173889\n",
            "Val loss: 0.6966817008482443, Val f1: 0.5175779461860657\n",
            "\n",
            "Evaluating on test...\n",
            "Val loss: 0.9190171559651693, Val f1: 0.6669138669967651\n",
            "Val loss: 0.7866599815232413, Val f1: 0.5777418613433838\n",
            "Val loss: 0.7512415647506714, Val f1: 0.5561485290527344\n",
            "Val loss: 0.7342891812324523, Val f1: 0.5415326356887817\n",
            "Val loss: 0.7246654504223874, Val f1: 0.5363234281539917\n",
            "\n",
            "starting Epoch 2\n",
            "Training...\n",
            "Train loss: 0.7405178163732801\n",
            "Train loss: 0.7148685701962175\n",
            "Train loss: 0.7066559019413862\n",
            "Train loss: 0.7023749250476643\n",
            "Train loss: 0.699666702264064\n",
            "\n",
            "Evaluating on train...\n",
            "Val loss: 0.7345688470772335, Val f1: 0.5744860768318176\n",
            "Val loss: 0.7092014859462606, Val f1: 0.5506730079650879\n",
            "Val loss: 0.7010833133350719, Val f1: 0.547123908996582\n",
            "Val loss: 0.6971995840638371, Val f1: 0.5434528589248657\n",
            "Val loss: 0.6945254029454412, Val f1: 0.5424670577049255\n",
            "\n",
            "Evaluating on test...\n",
            "Val loss: 0.9164191683133444, Val f1: 0.7137657403945923\n",
            "Val loss: 0.7843997819083077, Val f1: 0.6104071736335754\n",
            "Val loss: 0.7490568811243231, Val f1: 0.584628701210022\n",
            "Val loss: 0.7322995225588481, Val f1: 0.5678247809410095\n",
            "Val loss: 0.7227041501747934, Val f1: 0.5613518953323364\n",
            "\n",
            "starting Epoch 3\n",
            "Training...\n",
            "Train loss: 0.7374575350965772\n",
            "Train loss: 0.7109755791466812\n",
            "Train loss: 0.7024259905923497\n",
            "Train loss: 0.6989118961964623\n",
            "Train loss: 0.6962229577270714\n",
            "\n",
            "Evaluating on train...\n",
            "Val loss: 0.7326824877943311, Val f1: 0.5761731863021851\n",
            "Val loss: 0.7069280620278984, Val f1: 0.5508852601051331\n",
            "Val loss: 0.6985058879310434, Val f1: 0.5425697565078735\n",
            "Val loss: 0.6948364740711147, Val f1: 0.5389001965522766\n",
            "Val loss: 0.6925410386678335, Val f1: 0.5371665358543396\n",
            "\n",
            "Evaluating on test...\n",
            "Val loss: 0.9141782919565836, Val f1: 0.709131121635437\n",
            "Val loss: 0.7823501144136701, Val f1: 0.6033596992492676\n",
            "Val loss: 0.7471639730713584, Val f1: 0.5789538621902466\n",
            "Val loss: 0.7305736144383749, Val f1: 0.5622705221176147\n",
            "Val loss: 0.7210410300054049, Val f1: 0.5564069151878357\n",
            "\n",
            "starting Epoch 4\n",
            "Training...\n",
            "Train loss: 0.7331571493829999\n",
            "Train loss: 0.7076284741533214\n",
            "Train loss: 0.6990894038568843\n",
            "Train loss: 0.694943559371819\n",
            "Train loss: 0.6925531931825586\n",
            "\n",
            "Evaluating on train...\n",
            "Val loss: 0.7290187648364476, Val f1: 0.5844670534133911\n",
            "Val loss: 0.7042822673402983, Val f1: 0.5587461590766907\n",
            "Val loss: 0.6964831176129255, Val f1: 0.5532563328742981\n",
            "Val loss: 0.6924320115881452, Val f1: 0.5512530207633972\n",
            "Val loss: 0.6900808029883617, Val f1: 0.5490351915359497\n",
            "\n",
            "Evaluating on test...\n",
            "Val loss: 0.9114823937416077, Val f1: 0.7179259657859802\n",
            "Val loss: 0.7798824906349182, Val f1: 0.6158013343811035\n",
            "Val loss: 0.7447398142381148, Val f1: 0.590859055519104\n",
            "Val loss: 0.7283327778180441, Val f1: 0.573164701461792\n",
            "Val loss: 0.7188082682458978, Val f1: 0.567477822303772\n",
            "\n",
            "starting Epoch 5\n",
            "Training...\n",
            "Train loss: 0.7290842575686318\n",
            "Train loss: 0.7044500955219927\n",
            "Train loss: 0.6958768516778946\n",
            "Train loss: 0.6923999291355327\n",
            "Train loss: 0.6894915514701122\n",
            "\n",
            "Evaluating on train...\n",
            "Val loss: 0.7258412667683193, Val f1: 0.6371808052062988\n",
            "Val loss: 0.7006979605247234, Val f1: 0.6124618053436279\n",
            "Val loss: 0.693281972950155, Val f1: 0.6063494682312012\n",
            "Val loss: 0.6888693298323679, Val f1: 0.6031715273857117\n",
            "Val loss: 0.6866199470855094, Val f1: 0.6009295582771301\n",
            "\n",
            "Evaluating on test...\n",
            "Val loss: 0.9067849715550741, Val f1: 0.7788928747177124\n",
            "Val loss: 0.7760416354451861, Val f1: 0.6699280142784119\n",
            "Val loss: 0.7410267266360197, Val f1: 0.6430425643920898\n",
            "Val loss: 0.7250292102495829, Val f1: 0.623007595539093\n",
            "Val loss: 0.7154572982537118, Val f1: 0.6157187819480896\n",
            "\n",
            "starting Epoch 6\n",
            "Training...\n",
            "Train loss: 0.7280022033623287\n",
            "Train loss: 0.702351777717985\n",
            "Train loss: 0.6931683935902335\n",
            "Train loss: 0.6887456138255232\n",
            "Train loss: 0.686172739879505\n",
            "\n",
            "Evaluating on train...\n",
            "Val loss: 0.7228121204035622, Val f1: 0.5994394421577454\n",
            "Val loss: 0.6975921967933918, Val f1: 0.5819802284240723\n",
            "Val loss: 0.6895166852257468, Val f1: 0.5773404240608215\n",
            "Val loss: 0.6862313696893595, Val f1: 0.5709139108657837\n",
            "Val loss: 0.6838246873907141, Val f1: 0.5700977444648743\n",
            "\n",
            "Evaluating on test...\n",
            "Val loss: 0.9046564896901449, Val f1: 0.7404509782791138\n",
            "Val loss: 0.7738070828574044, Val f1: 0.6360483169555664\n",
            "Val loss: 0.7391039729118347, Val f1: 0.6078368425369263\n",
            "Val loss: 0.7231051683425903, Val f1: 0.5898202657699585\n",
            "Val loss: 0.7136023107327913, Val f1: 0.5834745764732361\n",
            "\n",
            "starting Epoch 7\n",
            "Training...\n",
            "Train loss: 0.720162455524717\n",
            "Train loss: 0.6965984640450313\n",
            "Train loss: 0.6887329762632196\n",
            "Train loss: 0.6845593401941202\n",
            "Train loss: 0.682074323699281\n",
            "\n",
            "Evaluating on train...\n",
            "Val loss: 0.7173504063061306, Val f1: 0.6423746943473816\n",
            "Val loss: 0.6938497999618793, Val f1: 0.6183673739433289\n",
            "Val loss: 0.6861109286546707, Val f1: 0.6092286109924316\n",
            "Val loss: 0.6818984969187591, Val f1: 0.6059728860855103\n",
            "Val loss: 0.6795070928496283, Val f1: 0.6042476892471313\n",
            "\n",
            "Evaluating on test...\n",
            "Val loss: 0.899718165397644, Val f1: 0.7886082530021667\n",
            "Val loss: 0.7697620476995196, Val f1: 0.6735484600067139\n",
            "Val loss: 0.7351505756378174, Val f1: 0.6461937427520752\n",
            "Val loss: 0.7194525559743246, Val f1: 0.6256253123283386\n",
            "Val loss: 0.7098454801659835, Val f1: 0.6184735894203186\n",
            "\n",
            "starting Epoch 8\n",
            "Training...\n",
            "Train loss: 0.7194026623453412\n",
            "Train loss: 0.6937029443938156\n",
            "Train loss: 0.6855354498733174\n",
            "Train loss: 0.681765321957863\n",
            "Train loss: 0.67845099036758\n",
            "\n",
            "Evaluating on train...\n",
            "Val loss: 0.7147366915430341, Val f1: 0.6218999028205872\n",
            "Val loss: 0.6883179504295875, Val f1: 0.6078960299491882\n",
            "Val loss: 0.6807122962041334, Val f1: 0.5999875664710999\n",
            "Val loss: 0.6770586411831743, Val f1: 0.5977768898010254\n",
            "Val loss: 0.6752949638946636, Val f1: 0.5929939150810242\n",
            "\n",
            "Evaluating on test...\n",
            "Val loss: 0.8962305784225464, Val f1: 0.7673013210296631\n",
            "Val loss: 0.7666218280792236, Val f1: 0.6543470621109009\n",
            "Val loss: 0.7323598319833929, Val f1: 0.6282857656478882\n",
            "Val loss: 0.7166446725527446, Val f1: 0.6097445487976074\n",
            "Val loss: 0.7070570682224474, Val f1: 0.6031712889671326\n",
            "\n",
            "starting Epoch 9\n",
            "Training...\n",
            "Train loss: 0.7150095871516636\n",
            "Train loss: 0.6899678748229454\n",
            "Train loss: 0.6805902367288416\n",
            "Train loss: 0.6765720652321637\n",
            "Train loss: 0.6745237297302967\n",
            "\n",
            "Evaluating on train...\n",
            "Val loss: 0.7106989749840328, Val f1: 0.6778590083122253\n",
            "Val loss: 0.6862218010014501, Val f1: 0.6547356843948364\n",
            "Val loss: 0.67834511263804, Val f1: 0.6485698819160461\n",
            "Val loss: 0.6738644919152987, Val f1: 0.6466726660728455\n",
            "Val loss: 0.6714865694174895, Val f1: 0.643746554851532\n",
            "\n",
            "Evaluating on test...\n",
            "Val loss: 0.8907729983329773, Val f1: 0.830535352230072\n",
            "Val loss: 0.7625748429979596, Val f1: 0.7120910286903381\n",
            "Val loss: 0.7282930450005964, Val f1: 0.6839991211891174\n",
            "Val loss: 0.7131109913190206, Val f1: 0.6637560129165649\n",
            "Val loss: 0.7032476475364283, Val f1: 0.6582977175712585\n",
            "\n",
            "starting Epoch 10\n",
            "Training...\n",
            "Train loss: 0.7074603864124843\n",
            "Train loss: 0.6844849442613536\n",
            "Train loss: 0.6766628541729667\n",
            "Train loss: 0.6720826019675045\n",
            "Train loss: 0.6693047123986322\n",
            "\n",
            "Evaluating on train...\n",
            "Val loss: 0.7044243344238826, Val f1: 0.6767479181289673\n",
            "Val loss: 0.6796733593118602, Val f1: 0.6552396416664124\n",
            "Val loss: 0.6717192964120344, Val f1: 0.6465082168579102\n",
            "Val loss: 0.6685705720368078, Val f1: 0.6402963995933533\n",
            "Val loss: 0.6663513852132333, Val f1: 0.6380982398986816\n",
            "\n",
            "Evaluating on test...\n",
            "Val loss: 0.8862473567326864, Val f1: 0.8204168677330017\n",
            "Val loss: 0.7585191556385585, Val f1: 0.7045533061027527\n",
            "Val loss: 0.724682173945687, Val f1: 0.6760594844818115\n",
            "Val loss: 0.7095401644706726, Val f1: 0.655048131942749\n",
            "Val loss: 0.6996718958804482, Val f1: 0.6493659615516663\n",
            "\n",
            "starting Epoch 11\n",
            "Training...\n",
            "Train loss: 0.7022616948400225\n",
            "Train loss: 0.679418121946269\n",
            "Train loss: 0.6711122596805746\n",
            "Train loss: 0.6672602770692211\n",
            "Train loss: 0.6644562418396408\n",
            "\n",
            "Evaluating on train...\n",
            "Val loss: 0.6969231920582908, Val f1: 0.6710621118545532\n",
            "Val loss: 0.6749915418953731, Val f1: 0.6416720151901245\n",
            "Val loss: 0.6678854091600939, Val f1: 0.6342615485191345\n",
            "Val loss: 0.6642925436213866, Val f1: 0.629136323928833\n",
            "Val loss: 0.6619328792030746, Val f1: 0.6267899870872498\n",
            "\n",
            "Evaluating on test...\n",
            "Val loss: 0.8829841017723083, Val f1: 0.8095149397850037\n",
            "Val loss: 0.7556886843272618, Val f1: 0.6910015940666199\n",
            "Val loss: 0.7221484726125543, Val f1: 0.6625630855560303\n",
            "Val loss: 0.706925384203593, Val f1: 0.6431890726089478\n",
            "Val loss: 0.6970611277379488, Val f1: 0.6378042101860046\n",
            "\n",
            "starting Epoch 12\n",
            "Training...\n",
            "Train loss: 0.70005116718156\n",
            "Train loss: 0.674614497299852\n",
            "Train loss: 0.6666716730052774\n",
            "Train loss: 0.662809128478422\n",
            "Train loss: 0.6596811615131997\n",
            "\n",
            "Evaluating on train...\n",
            "Val loss: 0.6953714106764112, Val f1: 0.6436131596565247\n",
            "Val loss: 0.6731364459827028, Val f1: 0.6237540245056152\n",
            "Val loss: 0.6647329736839641, Val f1: 0.6203618049621582\n",
            "Val loss: 0.6609245467994173, Val f1: 0.6154671311378479\n",
            "Val loss: 0.6582537736441638, Val f1: 0.6144599914550781\n",
            "\n",
            "Evaluating on test...\n",
            "Val loss: 0.8802752494812012, Val f1: 0.7805583477020264\n",
            "Val loss: 0.7533569506236485, Val f1: 0.6664733290672302\n",
            "Val loss: 0.7203148169951006, Val f1: 0.6421437859535217\n",
            "Val loss: 0.7049123287200928, Val f1: 0.6241444945335388\n",
            "Val loss: 0.6950620444197404, Val f1: 0.6194024085998535\n",
            "\n",
            "starting Epoch 13\n",
            "Training...\n",
            "Train loss: 0.6928525056157794\n",
            "Train loss: 0.6716125792470472\n",
            "Train loss: 0.6643881337209181\n",
            "Train loss: 0.6592305413747238\n",
            "Train loss: 0.655817850216015\n",
            "\n",
            "Evaluating on train...\n",
            "Val loss: 0.6925787542547498, Val f1: 0.6357221603393555\n",
            "Val loss: 0.6696168595346911, Val f1: 0.6157841682434082\n",
            "Val loss: 0.6622177132151343, Val f1: 0.6093873977661133\n",
            "Val loss: 0.6580585483777321, Val f1: 0.6081855893135071\n",
            "Val loss: 0.6550722541035833, Val f1: 0.6090781092643738\n",
            "\n",
            "Evaluating on test...\n",
            "Val loss: 0.8776953816413879, Val f1: 0.7751874327659607\n",
            "Val loss: 0.7513283235686166, Val f1: 0.6582191586494446\n",
            "Val loss: 0.7187048847025092, Val f1: 0.6349091529846191\n",
            "Val loss: 0.7032587607701619, Val f1: 0.615800142288208\n",
            "Val loss: 0.693417960091641, Val f1: 0.6111335158348083\n",
            "\n",
            "starting Epoch 14\n",
            "Training...\n",
            "Train loss: 0.6899638814585549\n",
            "Train loss: 0.6664447928297108\n",
            "Train loss: 0.6579585386948152\n",
            "Train loss: 0.654310596191277\n",
            "Train loss: 0.652189076752276\n",
            "\n",
            "Evaluating on train...\n",
            "Val loss: 0.6870773306914738, Val f1: 0.6994178295135498\n",
            "Val loss: 0.6628504251611644, Val f1: 0.6741694808006287\n",
            "Val loss: 0.6544458662921732, Val f1: 0.6657170057296753\n",
            "Val loss: 0.6508665670782833, Val f1: 0.6621980667114258\n",
            "Val loss: 0.648492540056641, Val f1: 0.6615739464759827\n",
            "\n",
            "Evaluating on test...\n",
            "Val loss: 0.8691689968109131, Val f1: 0.8484982848167419\n",
            "Val loss: 0.7448986002377102, Val f1: 0.7214325666427612\n",
            "Val loss: 0.712252909486944, Val f1: 0.692173182964325\n",
            "Val loss: 0.6975467522939046, Val f1: 0.6720595359802246\n",
            "Val loss: 0.687543837647689, Val f1: 0.6672363877296448\n"
          ]
        }
      ]
    },
    {
      "cell_type": "code",
      "metadata": {
        "colab": {
          "base_uri": "https://localhost:8080/",
          "height": 295
        },
        "id": "Vh6BKYWphKIm",
        "outputId": "b17e81e0-d6e0-400b-8867-1ce085a2bfbf"
      },
      "source": [
        "plt.plot(losses)\n",
        "plt.plot(losses_eval)\n",
        "plt.title('BCE loss value')\n",
        "plt.ylabel('BCE loss')\n",
        "plt.xlabel('epoch')\n",
        "plt.legend(['train', 'val'], loc='upper right')\n",
        "plt.show()"
      ],
      "execution_count": 193,
      "outputs": [
        {
          "output_type": "display_data",
          "data": {
            "image/png": "[encoded data removed]",
            "text/plain": [
              "<Figure size 432x288 with 1 Axes>"
            ]
          },
          "metadata": {
            "needs_background": "light"
          }
        }
      ]
    },
    {
      "cell_type": "code",
      "metadata": {
        "colab": {
          "base_uri": "https://localhost:8080/",
          "height": 295
        },
        "id": "MFupP21hhNTd",
        "outputId": "7cc8912c-8002-4aab-c804-c5effac419d5"
      },
      "source": [
        "plt.plot(f1s)\n",
        "plt.plot(f1s_eval)\n",
        "plt.title('f1 value')\n",
        "plt.ylabel('f1 value')\n",
        "plt.xlabel('epoch')\n",
        "plt.legend(['train', 'val'], loc='upper right')\n",
        "plt.show()"
      ],
      "execution_count": 194,
      "outputs": [
        {
          "output_type": "display_data",
          "data": {
            "image/png": "[encoded data removed]",
            "text/plain": [
              "<Figure size 432x288 with 1 Axes>"
            ]
          },
          "metadata": {
            "needs_background": "light"
          }
        }
      ]
    },
    {
      "cell_type": "code",
      "metadata": {
        "id": "w0H_X1WrhQfJ"
      },
      "source": [
        "def predict(model, iterator):\n",
        "    model.eval()\n",
        "    fp = []\n",
        "    fn = []\n",
        "    tp = [] \n",
        "    tn = []\n",
        "    with torch.no_grad():\n",
        "        for i, (texts, ys) in enumerate(iterator):   \n",
        "            preds = model(texts)  # делаем предсказания на тесте \n",
        "            for pred, gold, text in zip(preds, ys, texts):\n",
        "              text = ' '.join([id2word[int(word)] for word in text if word !=0])\n",
        "              if round(pred.item()) > gold:\n",
        "                fp.append(text)\n",
        "              elif round(pred.item()) < gold:\n",
        "                fn.append(text)\n",
        "              elif round(pred.item()) == gold == 1:\n",
        "                tp.append(text)\n",
        "              elif round(pred.item()) == gold == 0:\n",
        "                tn.append(text)\n",
        "    return fp, fn, tp, tn"
      ],
      "execution_count": 195,
      "outputs": []
    },
    {
      "cell_type": "code",
      "metadata": {
        "id": "0y9lQiBnhVD8"
      },
      "source": [
        "fp, fn, tp, tn = predict(model, val_iterator)"
      ],
      "execution_count": 196,
      "outputs": []
    },
    {
      "cell_type": "code",
      "metadata": {
        "colab": {
          "base_uri": "https://localhost:8080/"
        },
        "id": "jT9S5PH7BYH1",
        "outputId": "fb8e66db-f52e-429f-e11c-f295a8174647"
      },
      "source": [
        "recall = len(tp)/(len(tp) + len(fn))\n",
        "precision = len(tp)/(len(tp) + len(fp))\n",
        "f_score = 2 * precision * recall / (precision + recall)\n",
        "f_score"
      ],
      "execution_count": 197,
      "outputs": [
        {
          "output_type": "execute_result",
          "data": {
            "text/plain": [
              "0.6345057034220533"
            ]
          },
          "metadata": {},
          "execution_count": 197
        }
      ]
    },
    {
      "cell_type": "markdown",
      "metadata": {
        "id": "JcBg_wYH7SQ4"
      },
      "source": [
        "результаты сомнительные...графики тоже не очень, попробуем улучшить модель."
      ]
    },
    {
      "cell_type": "code",
      "metadata": {
        "colab": {
          "base_uri": "https://localhost:8080/"
        },
        "id": "AgUFGjQ86z9S",
        "outputId": "9231b215-2b99-4bd0-b130-4bacbcda91e5"
      },
      "source": [
        "fn[:5]"
      ],
      "execution_count": 198,
      "outputs": [
        {
          "output_type": "execute_result",
          "data": {
            "text/plain": [
              "['как хотя вы такие что не',\n",
              " 'ni вообще я залил всю клаву',\n",
              " 'скучно наверно фильм смотреть хз',\n",
              " 'же что без тебя серо и будь рядом',\n",
              " 'вышел с к чтобы конфеты не забрали я всю химию ржу от этих конфет']"
            ]
          },
          "metadata": {},
          "execution_count": 198
        }
      ]
    },
    {
      "cell_type": "markdown",
      "metadata": {
        "id": "JOiTJjRgK6xe"
      },
      "source": [
        "### Подгрузим обученные эмбеддинги Fasttext"
      ]
    },
    {
      "cell_type": "code",
      "metadata": {
        "id": "RTEamsu8NBRo"
      },
      "source": [
        "texts = tweets_data.prep_text.tolist()"
      ],
      "execution_count": 199,
      "outputs": []
    },
    {
      "cell_type": "code",
      "metadata": {
        "id": "EmgSOPL7NLQ1"
      },
      "source": [
        "ft = FastText(texts, size=100, window=5, min_count=1)"
      ],
      "execution_count": 200,
      "outputs": []
    },
    {
      "cell_type": "code",
      "metadata": {
        "id": "NEqLfD6mNdyl"
      },
      "source": [
        "weights = np.zeros((len(word2id), 100))\n",
        "count = 0\n",
        "for word, i in word2id.items():\n",
        "    if word == 'PAD':\n",
        "        continue   \n",
        "    try:\n",
        "        weights[i] = ft.wv[word]    \n",
        "    except KeyError:\n",
        "      count += 1\n",
        "      # oov словам сопоставляем случайный вектор\n",
        "      weights[i] = np.random.normal(0,0.1,100)"
      ],
      "execution_count": 201,
      "outputs": []
    },
    {
      "cell_type": "code",
      "metadata": {
        "id": "OiVOeng_NiKn"
      },
      "source": [
        "class CNN(nn.Module):\n",
        "    \n",
        "    def __init__(self, vocab_size, embedding_dim):\n",
        "        super().__init__()\n",
        "        self.embedding = nn.Embedding(vocab_size, embedding_dim)\n",
        "        self.embedding.from_pretrained(torch.tensor(weights), freeze=True)\n",
        "        self.bigrams = nn.Conv1d(in_channels=embedding_dim, out_channels=80, kernel_size=2, padding='same')\n",
        "        self.trigrams = nn.Conv1d(in_channels=embedding_dim, out_channels=60, kernel_size=3, padding='same')\n",
        "        self.pooling = nn.MaxPool1d(kernel_size=2, stride=2)\n",
        "        self.relu = nn.ReLU()\n",
        "        self.hidden = nn.Linear(in_features=140, out_features=1)\n",
        "        self.dropout = nn.Dropout(p=0.5)\n",
        "        self.out = nn.Sigmoid()\n",
        "\n",
        "    def forward(self, text):\n",
        "        #batch_size x seq_len\n",
        "        embedded = self.embedding(text)\n",
        "        #batch_size x seq_len x embedding_dim\n",
        "        embedded = embedded.transpose(1,2)\n",
        "        #batch_size x embedding_dim x seq_len\n",
        "        feature_map_bigrams = self.dropout(self.pooling(self.relu(self.bigrams(embedded))))\n",
        "        #batch_size x filter_count2 x seq_len* \n",
        "        feature_map_trigrams = self.dropout(self.pooling(self.relu(self.trigrams(embedded))))\n",
        "        #batch_size x filter_count3 x seq_len*\n",
        "\n",
        "        pooling1 = feature_map_bigrams.max(2)[0] \n",
        "        # batch_size x filter_count2\n",
        "        pooling2 = feature_map_trigrams.max(2)[0]\n",
        "        # batch_size x filter_count3\n",
        "        concat = torch.cat((pooling1, pooling2), 1)\n",
        "        # batch _size x (filter_count2 + filter_count3)\n",
        "        logits = self.hidden(concat) \n",
        "        logits = self.out(logits)      \n",
        "        return logits"
      ],
      "execution_count": 202,
      "outputs": []
    },
    {
      "cell_type": "code",
      "metadata": {
        "id": "XATH2gf6Ouu-"
      },
      "source": [
        "model = CNN(len(word2id), 5)\n",
        "optimizer = optim.Adam(model.parameters(), lr=0.001)\n",
        "criterion = nn.BCELoss()  \n",
        "\n",
        "# веса модели и значения лосса храним там же, где и все остальные тензоры\n",
        "model = model.to(DEVICE)\n",
        "criterion = criterion.to(DEVICE)"
      ],
      "execution_count": 203,
      "outputs": []
    },
    {
      "cell_type": "code",
      "metadata": {
        "colab": {
          "base_uri": "https://localhost:8080/"
        },
        "id": "p5SwbzycPwiY",
        "outputId": "cdb9d4f0-ccf4-4262-e987-d6909c77bbea"
      },
      "source": [
        "losses = []\n",
        "losses_eval = []\n",
        "f1s = []\n",
        "f1s_eval = []\n",
        "\n",
        "for i in range(15):\n",
        "    print(f'\\nstarting Epoch {i}')\n",
        "    print('Training...')\n",
        "    epoch_loss = train(model, train_iterator, optimizer, criterion)\n",
        "    losses.append(epoch_loss)\n",
        "    print('\\nEvaluating on train...')\n",
        "    f1_on_train,_ = evaluate(model, train_iterator, criterion)\n",
        "    f1s.append(f1_on_train)\n",
        "    print('\\nEvaluating on test...')\n",
        "    f1_on_test, epoch_loss_on_test = evaluate(model, val_iterator, criterion)\n",
        "    losses_eval.append(epoch_loss_on_test)\n",
        "    f1s_eval.append(f1_on_test)"
      ],
      "execution_count": 204,
      "outputs": [
        {
          "output_type": "stream",
          "name": "stdout",
          "text": [
            "\n",
            "starting Epoch 0\n",
            "Training...\n",
            "Train loss: 0.7868708883013044\n",
            "Train loss: 0.7479735057929466\n",
            "Train loss: 0.7325857173312794\n",
            "Train loss: 0.7243273167286889\n",
            "Train loss: 0.7190316085879868\n",
            "\n",
            "Evaluating on train...\n",
            "Val loss: 0.73715626341956, Val f1: 0.5672937631607056\n",
            "Val loss: 0.7106868460260588, Val f1: 0.5518511533737183\n",
            "Val loss: 0.7028832029212605, Val f1: 0.5427787899971008\n",
            "Val loss: 0.6984985743538809, Val f1: 0.5420497059822083\n",
            "Val loss: 0.6964332251935392, Val f1: 0.5372347831726074\n",
            "\n",
            "Evaluating on test...\n",
            "Val loss: 0.9152701695760092, Val f1: 0.7246816158294678\n",
            "Val loss: 0.7838291355541774, Val f1: 0.6160173416137695\n",
            "Val loss: 0.7481766505674883, Val f1: 0.5916574597358704\n",
            "Val loss: 0.7317615787188212, Val f1: 0.5744195580482483\n",
            "Val loss: 0.72242755325217, Val f1: 0.5638317465782166\n",
            "\n",
            "starting Epoch 1\n",
            "Training...\n",
            "Train loss: 0.746682631117957\n",
            "Train loss: 0.7203223335331884\n",
            "Train loss: 0.7103663615205071\n",
            "Train loss: 0.706185851056697\n",
            "Train loss: 0.703452542826936\n",
            "\n",
            "Evaluating on train...\n",
            "Val loss: 0.7338459491729736, Val f1: 0.638229489326477\n",
            "Val loss: 0.7084326785186241, Val f1: 0.6165627837181091\n",
            "Val loss: 0.7003581334244121, Val f1: 0.6096581220626831\n",
            "Val loss: 0.6964368557525893, Val f1: 0.6063990592956543\n",
            "Val loss: 0.6938348613880776, Val f1: 0.6046963334083557\n",
            "\n",
            "Evaluating on test...\n",
            "Val loss: 0.9118742942810059, Val f1: 0.8173905611038208\n",
            "Val loss: 0.7812727689743042, Val f1: 0.6871339082717896\n",
            "Val loss: 0.7454314394430681, Val f1: 0.6608954668045044\n",
            "Val loss: 0.7292980551719666, Val f1: 0.6426470875740051\n",
            "Val loss: 0.719674101001338, Val f1: 0.6344153881072998\n",
            "\n",
            "starting Epoch 2\n",
            "Training...\n",
            "Train loss: 0.7384954307760511\n",
            "Train loss: 0.7131354151100948\n",
            "Train loss: 0.7045845917680047\n",
            "Train loss: 0.7004304942438158\n",
            "Train loss: 0.6978914447732874\n",
            "\n",
            "Evaluating on train...\n",
            "Val loss: 0.7333399908883231, Val f1: 0.5054019689559937\n",
            "Val loss: 0.7078641426974329, Val f1: 0.4874196946620941\n",
            "Val loss: 0.7003287266601216, Val f1: 0.48123347759246826\n",
            "Val loss: 0.696692099005489, Val f1: 0.47579073905944824\n",
            "Val loss: 0.6942217551373147, Val f1: 0.47510287165641785\n",
            "\n",
            "Evaluating on test...\n",
            "Val loss: 0.914059062798818, Val f1: 0.6287386417388916\n",
            "Val loss: 0.7829589162554059, Val f1: 0.5311932563781738\n",
            "Val loss: 0.7474841150370511, Val f1: 0.5127358436584473\n",
            "Val loss: 0.7306690851847331, Val f1: 0.500097930431366\n",
            "Val loss: 0.7211648539492959, Val f1: 0.4928971827030182\n",
            "\n",
            "starting Epoch 3\n",
            "Training...\n",
            "Train loss: 0.7354661055973598\n",
            "Train loss: 0.7110140118105658\n",
            "Train loss: 0.7018880248069763\n",
            "Train loss: 0.6974078659283913\n",
            "Train loss: 0.6950467212780101\n",
            "\n",
            "Evaluating on train...\n",
            "Val loss: 0.7305126445634025, Val f1: 0.6340517997741699\n",
            "Val loss: 0.7048206822625522, Val f1: 0.6106075644493103\n",
            "Val loss: 0.6965557011691007, Val f1: 0.6043301820755005\n",
            "Val loss: 0.6928889690819433, Val f1: 0.599916934967041\n",
            "Val loss: 0.6907740195055265, Val f1: 0.5979318022727966\n",
            "\n",
            "Evaluating on test...\n",
            "Val loss: 0.9088927110036215, Val f1: 0.7942285537719727\n",
            "Val loss: 0.778931268623897, Val f1: 0.6712670922279358\n",
            "Val loss: 0.7431839758699591, Val f1: 0.6453462243080139\n",
            "Val loss: 0.7268541057904562, Val f1: 0.6297652721405029\n",
            "Val loss: 0.7171198411991722, Val f1: 0.6213792562484741\n",
            "\n",
            "starting Epoch 4\n",
            "Training...\n",
            "Train loss: 0.7323388457298279\n",
            "Train loss: 0.7075553618628403\n",
            "Train loss: 0.6991266865621913\n",
            "Train loss: 0.6946647005566096\n",
            "Train loss: 0.6922063215358837\n",
            "\n",
            "Evaluating on train...\n",
            "Val loss: 0.7297672544206891, Val f1: 0.6127599477767944\n",
            "Val loss: 0.7052041374403855, Val f1: 0.5863659381866455\n",
            "Val loss: 0.6965562823143873, Val f1: 0.579366147518158\n",
            "Val loss: 0.6922717256061102, Val f1: 0.5775591731071472\n",
            "Val loss: 0.6897813266999012, Val f1: 0.5767812132835388\n",
            "\n",
            "Evaluating on test...\n",
            "Val loss: 0.9082475105921427, Val f1: 0.7634501457214355\n",
            "Val loss: 0.7783317055021014, Val f1: 0.6456607580184937\n",
            "Val loss: 0.742636962370439, Val f1: 0.6225031018257141\n",
            "Val loss: 0.7261763532956441, Val f1: 0.6075790524482727\n",
            "Val loss: 0.7164063485045182, Val f1: 0.5999763607978821\n",
            "\n",
            "starting Epoch 5\n",
            "Training...\n",
            "Train loss: 0.7337401679583958\n",
            "Train loss: 0.7072844443650081\n",
            "Train loss: 0.6993952339345758\n",
            "Train loss: 0.6943101398015427\n",
            "Train loss: 0.6912791140981622\n",
            "\n",
            "Evaluating on train...\n",
            "Val loss: 0.729015839951379, Val f1: 0.6105515360832214\n",
            "Val loss: 0.7026547892340298, Val f1: 0.5909715294837952\n",
            "Val loss: 0.6948379305276003, Val f1: 0.584902286529541\n",
            "Val loss: 0.6905214574377415, Val f1: 0.5824012160301208\n",
            "Val loss: 0.6883222944027668, Val f1: 0.5801480412483215\n",
            "\n",
            "Evaluating on test...\n",
            "Val loss: 0.9066799481709799, Val f1: 0.7729748487472534\n",
            "Val loss: 0.7770028795514788, Val f1: 0.652881920337677\n",
            "Val loss: 0.7412735657258467, Val f1: 0.6275392770767212\n",
            "Val loss: 0.7248376369476318, Val f1: 0.6118038892745972\n",
            "Val loss: 0.7149884669404281, Val f1: 0.6048786044120789\n",
            "\n",
            "starting Epoch 6\n",
            "Training...\n",
            "Train loss: 0.7278313594205039\n",
            "Train loss: 0.7029465231402167\n",
            "Train loss: 0.6944704706018622\n",
            "Train loss: 0.6901955847012795\n",
            "Train loss: 0.6879579811482817\n",
            "\n",
            "Evaluating on train...\n",
            "Val loss: 0.7254800498485565, Val f1: 0.6103785634040833\n",
            "Val loss: 0.7003166675567627, Val f1: 0.5878127217292786\n",
            "Val loss: 0.6922053667632017, Val f1: 0.5848565101623535\n",
            "Val loss: 0.6882804460444693, Val f1: 0.5832507610321045\n",
            "Val loss: 0.6861897900297835, Val f1: 0.5797713398933411\n",
            "\n",
            "Evaluating on test...\n",
            "Val loss: 0.904944638411204, Val f1: 0.7651411294937134\n",
            "Val loss: 0.7755524856703622, Val f1: 0.6440112590789795\n",
            "Val loss: 0.7397719675844366, Val f1: 0.6208716630935669\n",
            "Val loss: 0.7233685692151387, Val f1: 0.6060150861740112\n",
            "Val loss: 0.7133855756960417, Val f1: 0.5997193455696106\n",
            "\n",
            "starting Epoch 7\n",
            "Training...\n",
            "Train loss: 0.7253099467073169\n",
            "Train loss: 0.700432471160231\n",
            "Train loss: 0.693130153146657\n",
            "Train loss: 0.6887388593059475\n",
            "Train loss: 0.686183045844774\n",
            "\n",
            "Evaluating on train...\n",
            "Val loss: 0.7234359894480024, Val f1: 0.6301804780960083\n",
            "Val loss: 0.6972569453305212, Val f1: 0.6089419722557068\n",
            "Val loss: 0.6894935152747415, Val f1: 0.6008478999137878\n",
            "Val loss: 0.6859980286177942, Val f1: 0.5962837338447571\n",
            "Val loss: 0.683781059207143, Val f1: 0.5962600111961365\n",
            "\n",
            "Evaluating on test...\n",
            "Val loss: 0.9020288189252218, Val f1: 0.7852374315261841\n",
            "Val loss: 0.7731564811297825, Val f1: 0.662558913230896\n",
            "Val loss: 0.7373106913133101, Val f1: 0.6392332911491394\n",
            "Val loss: 0.721118958791097, Val f1: 0.6232849359512329\n",
            "Val loss: 0.7110266999194497, Val f1: 0.6176583766937256\n",
            "\n",
            "starting Epoch 8\n",
            "Training...\n",
            "Train loss: 0.7247998501573291\n",
            "Train loss: 0.6986811921514314\n",
            "Train loss: 0.6904557794332504\n",
            "Train loss: 0.6863839979899131\n",
            "Train loss: 0.6838130217951697\n",
            "\n",
            "Evaluating on train...\n",
            "Val loss: 0.7177098137991769, Val f1: 0.6373080015182495\n",
            "Val loss: 0.6945265695966524, Val f1: 0.6102767586708069\n",
            "Val loss: 0.6868892515247519, Val f1: 0.601969838142395\n",
            "Val loss: 0.6831612930459491, Val f1: 0.5979352593421936\n",
            "Val loss: 0.6810729624451818, Val f1: 0.5946230888366699\n",
            "\n",
            "Evaluating on test...\n",
            "Val loss: 0.8997405370076498, Val f1: 0.782544732093811\n",
            "Val loss: 0.7711343424660819, Val f1: 0.6627029180526733\n",
            "Val loss: 0.7351725805889476, Val f1: 0.6393043398857117\n",
            "Val loss: 0.719096040725708, Val f1: 0.62172931432724\n",
            "Val loss: 0.7088553811374464, Val f1: 0.6164781451225281\n",
            "\n",
            "starting Epoch 9\n",
            "Training...\n",
            "Train loss: 0.7189545461109706\n",
            "Train loss: 0.695614677051018\n",
            "Train loss: 0.6880476759238676\n",
            "Train loss: 0.6838007175316245\n",
            "Train loss: 0.6811479756960998\n",
            "\n",
            "Evaluating on train...\n",
            "Val loss: 0.7137798837253025, Val f1: 0.6558842658996582\n",
            "Val loss: 0.6917279814851696, Val f1: 0.6285142302513123\n",
            "Val loss: 0.684505822983655, Val f1: 0.6215993762016296\n",
            "Val loss: 0.6800664622904891, Val f1: 0.6193202137947083\n",
            "Val loss: 0.6777110293104842, Val f1: 0.6174866557121277\n",
            "\n",
            "Evaluating on test...\n",
            "Val loss: 0.8958423137664795, Val f1: 0.8152360916137695\n",
            "Val loss: 0.7679484401430402, Val f1: 0.690843939781189\n",
            "Val loss: 0.7319238185882568, Val f1: 0.6648213267326355\n",
            "Val loss: 0.7161538521448771, Val f1: 0.6454282999038696\n",
            "Val loss: 0.7057885025676928, Val f1: 0.6404081583023071\n",
            "\n",
            "starting Epoch 10\n",
            "Training...\n",
            "Train loss: 0.7162820398807526\n",
            "Train loss: 0.6928464379803888\n",
            "Train loss: 0.6844851686195894\n",
            "Train loss: 0.6796091653532901\n",
            "Train loss: 0.6775998916174915\n",
            "\n",
            "Evaluating on train...\n",
            "Val loss: 0.7140042270932879, Val f1: 0.6566635370254517\n",
            "Val loss: 0.68791899598878, Val f1: 0.6388002634048462\n",
            "Val loss: 0.6811218342997811, Val f1: 0.6301842927932739\n",
            "Val loss: 0.6769456893710767, Val f1: 0.627147376537323\n",
            "Val loss: 0.6746140412382178, Val f1: 0.6264057159423828\n",
            "\n",
            "Evaluating on test...\n",
            "Val loss: 0.8927949468294779, Val f1: 0.8190664649009705\n",
            "Val loss: 0.7653544289725167, Val f1: 0.6982344388961792\n",
            "Val loss: 0.7293281988664106, Val f1: 0.6712779402732849\n",
            "Val loss: 0.7137487173080445, Val f1: 0.65201735496521\n",
            "Val loss: 0.7032312092028166, Val f1: 0.6463497281074524\n",
            "\n",
            "starting Epoch 11\n",
            "Training...\n",
            "Train loss: 0.7145858449595315\n",
            "Train loss: 0.6896073324926968\n",
            "Train loss: 0.6820281147956848\n",
            "Train loss: 0.676938207472785\n",
            "Train loss: 0.6744687138377009\n",
            "\n",
            "Evaluating on train...\n",
            "Val loss: 0.7097603167806353, Val f1: 0.6488258838653564\n",
            "Val loss: 0.6842954528742823, Val f1: 0.6297587752342224\n",
            "Val loss: 0.6771378896453164, Val f1: 0.6200864911079407\n",
            "Val loss: 0.6735387454598637, Val f1: 0.6144999265670776\n",
            "Val loss: 0.671228779328836, Val f1: 0.6120272874832153\n",
            "\n",
            "Evaluating on test...\n",
            "Val loss: 0.8902417421340942, Val f1: 0.7972854375839233\n",
            "Val loss: 0.7631420237677438, Val f1: 0.6756631135940552\n",
            "Val loss: 0.7273021773858503, Val f1: 0.65276700258255\n",
            "Val loss: 0.7116544008255005, Val f1: 0.6351539492607117\n",
            "Val loss: 0.7010985644240129, Val f1: 0.6303187012672424\n",
            "\n",
            "starting Epoch 12\n",
            "Training...\n",
            "Train loss: 0.7089266606739589\n",
            "Train loss: 0.6859803508067953\n",
            "Train loss: 0.6772858663038774\n",
            "Train loss: 0.672780753192255\n",
            "Train loss: 0.6707842019764153\n",
            "\n",
            "Evaluating on train...\n",
            "Val loss: 0.7067199562277112, Val f1: 0.6371675729751587\n",
            "Val loss: 0.6809134051717561, Val f1: 0.6229819059371948\n",
            "Val loss: 0.6732771938497369, Val f1: 0.6157793998718262\n",
            "Val loss: 0.6698974562903582, Val f1: 0.6118727922439575\n",
            "Val loss: 0.6677676785636593, Val f1: 0.6095924973487854\n",
            "\n",
            "Evaluating on test...\n",
            "Val loss: 0.8876790404319763, Val f1: 0.7905826568603516\n",
            "Val loss: 0.7607760514531817, Val f1: 0.6725438237190247\n",
            "Val loss: 0.7252138961445201, Val f1: 0.6494058966636658\n",
            "Val loss: 0.709569803873698, Val f1: 0.6307328939437866\n",
            "Val loss: 0.6989858526932565, Val f1: 0.624738872051239\n",
            "\n",
            "starting Epoch 13\n",
            "Training...\n",
            "Train loss: 0.7040808541434151\n",
            "Train loss: 0.6810694624637735\n",
            "Train loss: 0.6728430498730053\n",
            "Train loss: 0.668544455099914\n",
            "Train loss: 0.6660463656928088\n",
            "\n",
            "Evaluating on train...\n",
            "Val loss: 0.7004518594060626, Val f1: 0.6633428335189819\n",
            "Val loss: 0.6771563414869637, Val f1: 0.6332777142524719\n",
            "Val loss: 0.6695689179680564, Val f1: 0.6285568475723267\n",
            "Val loss: 0.6650150539511341, Val f1: 0.6286396384239197\n",
            "Val loss: 0.6627167020295117, Val f1: 0.6260860562324524\n",
            "\n",
            "Evaluating on test...\n",
            "Val loss: 0.8829552133878072, Val f1: 0.8120880126953125\n",
            "Val loss: 0.7569212743214199, Val f1: 0.6889740228652954\n",
            "Val loss: 0.7216157046231356, Val f1: 0.6641535758972168\n",
            "Val loss: 0.7061947544415792, Val f1: 0.6443861722946167\n",
            "Val loss: 0.695489017586959, Val f1: 0.6392191052436829\n",
            "\n",
            "starting Epoch 14\n",
            "Training...\n",
            "Train loss: 0.7035488103117261\n",
            "Train loss: 0.6770770077047676\n",
            "Train loss: 0.6690267771482468\n",
            "Train loss: 0.6651269722793062\n",
            "Train loss: 0.6624470272579709\n",
            "\n",
            "Evaluating on train...\n",
            "Val loss: 0.6953348432268415, Val f1: 0.6505314707756042\n",
            "Val loss: 0.6719785394339726, Val f1: 0.6237272620201111\n",
            "Val loss: 0.6655562371015549, Val f1: 0.6157836318016052\n",
            "Val loss: 0.6622347892340967, Val f1: 0.6115753650665283\n",
            "Val loss: 0.6596629128262803, Val f1: 0.6103731989860535\n",
            "\n",
            "Evaluating on test...\n",
            "Val loss: 0.8815236290295919, Val f1: 0.7834696173667908\n",
            "Val loss: 0.755550239767347, Val f1: 0.6608915328979492\n",
            "Val loss: 0.7204459526322105, Val f1: 0.6391151547431946\n",
            "Val loss: 0.704917061328888, Val f1: 0.6209455132484436\n",
            "Val loss: 0.6941648502098886, Val f1: 0.6164164543151855\n"
          ]
        }
      ]
    },
    {
      "cell_type": "code",
      "metadata": {
        "colab": {
          "base_uri": "https://localhost:8080/",
          "height": 295
        },
        "id": "y6iJrbtcP_D9",
        "outputId": "d1a4c45f-47ae-4303-bf6a-08b7f1d0da79"
      },
      "source": [
        "plt.plot(losses)\n",
        "plt.plot(losses_eval)\n",
        "plt.title('BCE loss value')\n",
        "plt.ylabel('BCE loss')\n",
        "plt.xlabel('epoch')\n",
        "plt.legend(['train', 'val'], loc='upper right')\n",
        "plt.show()"
      ],
      "execution_count": 205,
      "outputs": [
        {
          "output_type": "display_data",
          "data": {
            "image/png": "[encoded data removed]",
            "text/plain": [
              "<Figure size 432x288 with 1 Axes>"
            ]
          },
          "metadata": {
            "needs_background": "light"
          }
        }
      ]
    },
    {
      "cell_type": "code",
      "metadata": {
        "colab": {
          "base_uri": "https://localhost:8080/",
          "height": 295
        },
        "id": "1KvwqBJwQKaD",
        "outputId": "4628c69c-f949-4d41-a6e8-d689dee335ff"
      },
      "source": [
        "plt.plot(f1s)\n",
        "plt.plot(f1s_eval)\n",
        "plt.title('f1 value')\n",
        "plt.ylabel('f1 value')\n",
        "plt.xlabel('epoch')\n",
        "plt.legend(['train', 'val'], loc='upper right')\n",
        "plt.show()"
      ],
      "execution_count": 206,
      "outputs": [
        {
          "output_type": "display_data",
          "data": {
            "image/png": "[encoded data removed]",
            "text/plain": [
              "<Figure size 432x288 with 1 Axes>"
            ]
          },
          "metadata": {
            "needs_background": "light"
          }
        }
      ]
    },
    {
      "cell_type": "code",
      "metadata": {
        "id": "IL_nwF1SQQ5d"
      },
      "source": [
        "fp, fn, tp, tn = predict(model, val_iterator)"
      ],
      "execution_count": 207,
      "outputs": []
    },
    {
      "cell_type": "code",
      "metadata": {
        "colab": {
          "base_uri": "https://localhost:8080/"
        },
        "id": "ErgVOdwGQY-v",
        "outputId": "0f316e61-bc47-4c6e-f3fe-48d23fff349c"
      },
      "source": [
        "recall = len(tp)/(len(tp) + len(fn))\n",
        "precision = len(tp)/(len(tp) + len(fp))\n",
        "f_score = 2 * precision * recall / (precision + recall)\n",
        "f_score"
      ],
      "execution_count": 208,
      "outputs": [
        {
          "output_type": "execute_result",
          "data": {
            "text/plain": [
              "0.5852371656202184"
            ]
          },
          "metadata": {},
          "execution_count": 208
        }
      ]
    },
    {
      "cell_type": "code",
      "metadata": {
        "colab": {
          "base_uri": "https://localhost:8080/"
        },
        "id": "vuyCOKeB-nJy",
        "outputId": "e7a70cf2-acf2-4b64-fc2c-568e820ddcb2"
      },
      "source": [
        "fn[:5]"
      ],
      "execution_count": 209,
      "outputs": [
        {
          "output_type": "execute_result",
          "data": {
            "text/plain": [
              "['ni вообще я залил всю клаву',\n",
              " 'пришлось за минуту скидывать все шмотки',\n",
              " 'же что без тебя серо и будь рядом',\n",
              " 'от бизнес школ меня а на 1 пару',\n",
              " 'вышел с к чтобы конфеты не забрали я всю химию ржу от этих конфет']"
            ]
          },
          "metadata": {},
          "execution_count": 209
        }
      ]
    },
    {
      "cell_type": "markdown",
      "metadata": {
        "id": "LKpWlAsIRCvX"
      },
      "source": [
        "Подруженные эмбеддинги не улучшили результаты :("
      ]
    },
    {
      "cell_type": "markdown",
      "metadata": {
        "id": "mBcVM8T4RnpG"
      },
      "source": [
        "Попробуем убрать предобработку текстов совсем. От переобучения я уже спасла модель тем, что добавила Dropout, уменьшила embedding_dim до 5, уменьшила in_features (и соответственно out_channels) до 140, разделила текст на train/val как 8 к 2. Learning rate 0.001 тоже помогает улучшить результаты + небольшое кол-во эпох предотвращает переобучение."
      ]
    },
    {
      "cell_type": "code",
      "metadata": {
        "id": "mZp9VkcwSy2Y"
      },
      "source": [
        "vocab = Counter()\n",
        "for text in tweets_data['text']:\n",
        "    vocab.update(text.split(' '))\n",
        "for word in vocab:\n",
        "    if vocab[word] > 5:\n",
        "        filtered_vocab.add(word)\n",
        "\n",
        "word2id = {'PAD':0}\n",
        "\n",
        "for word in filtered_vocab:\n",
        "    word2id[word] = len(word2id)\n",
        "id2word = {i:word for word, i in word2id.items()}"
      ],
      "execution_count": 210,
      "outputs": []
    },
    {
      "cell_type": "code",
      "metadata": {
        "id": "PkP3MAatTyOT"
      },
      "source": [
        "class RawTweetsDataset(Dataset):\n",
        "\n",
        "    def __init__(self, dataset, word2id, DEVICE):\n",
        "        self.dataset = dataset['text'].values\n",
        "        self.word2id = word2id\n",
        "        self.length = dataset.shape[0]\n",
        "        self.target = torch.Tensor(dataset['tone'].values)\n",
        "        self.device = DEVICE\n",
        "\n",
        "    def __len__(self):\n",
        "        return self.length\n",
        "\n",
        "    def __getitem__(self, index): \n",
        "        tokens = self.dataset[index].split(' ')\n",
        "        ids = torch.LongTensor([self.word2id[token] for token in tokens if token in self.word2id])\n",
        "        y = [self.target[index]]\n",
        "        return ids, y\n",
        "\n",
        "    def collate_fn(self, batch):\n",
        "      ids, y = list(zip(*batch))\n",
        "      padded_ids = pad_sequence(ids, batch_first=True).to(self.device)\n",
        "      y = torch.Tensor(y).to(self.device)\n",
        "      return padded_ids, y"
      ],
      "execution_count": 211,
      "outputs": []
    },
    {
      "cell_type": "code",
      "metadata": {
        "id": "Up0v5-j1UG-n"
      },
      "source": [
        "train_dataset = RawTweetsDataset(train_sentences, word2id, DEVICE)\n",
        "train_sampler = RandomSampler(train_dataset)\n",
        "train_iterator = DataLoader(train_dataset, collate_fn = train_dataset.collate_fn, sampler=train_sampler, batch_size=1024)"
      ],
      "execution_count": 212,
      "outputs": []
    },
    {
      "cell_type": "code",
      "metadata": {
        "id": "cNfYvwxoUKqJ"
      },
      "source": [
        "val_dataset = RawTweetsDataset(val_sentences, word2id, DEVICE)\n",
        "val_sampler = SequentialSampler(val_dataset)\n",
        "val_iterator = DataLoader(val_dataset, collate_fn = val_dataset.collate_fn, sampler=val_sampler, batch_size=1024)"
      ],
      "execution_count": 213,
      "outputs": []
    },
    {
      "cell_type": "code",
      "metadata": {
        "id": "zLC7FVsqUSHb"
      },
      "source": [
        "model = CNN(len(word2id), 5)\n",
        "optimizer = optim.Adam(model.parameters(), lr=0.001)\n",
        "criterion = nn.BCELoss() \n",
        "\n",
        "# веса модели и значения лосса храним там же, где и все остальные тензоры\n",
        "model = model.to(DEVICE)\n",
        "criterion = criterion.to(DEVICE)"
      ],
      "execution_count": 214,
      "outputs": []
    },
    {
      "cell_type": "code",
      "metadata": {
        "colab": {
          "base_uri": "https://localhost:8080/"
        },
        "id": "1sdF_5M6Uf6H",
        "outputId": "9dec3f2f-9250-4704-b8da-32e6acb7068b"
      },
      "source": [
        "losses = []\n",
        "losses_eval = []\n",
        "f1s = []\n",
        "f1s_eval = []\n",
        "\n",
        "for i in range(15):\n",
        "    print(f'\\nstarting Epoch {i}')\n",
        "    print('Training...')\n",
        "    epoch_loss = train(model, train_iterator, optimizer, criterion)\n",
        "    losses.append(epoch_loss)\n",
        "    print('\\nEvaluating on train...')\n",
        "    f1_on_train,_ = evaluate(model, train_iterator, criterion)\n",
        "    f1s.append(f1_on_train)\n",
        "    print('\\nEvaluating on test...')\n",
        "    f1_on_test, epoch_loss_on_test = evaluate(model, val_iterator, criterion)\n",
        "    losses_eval.append(epoch_loss_on_test)\n",
        "    f1s_eval.append(f1_on_test)"
      ],
      "execution_count": 215,
      "outputs": [
        {
          "output_type": "stream",
          "name": "stdout",
          "text": [
            "\n",
            "starting Epoch 0\n",
            "Training...\n",
            "Train loss: 0.7565522577081408\n",
            "Train loss: 0.727278602534327\n",
            "Train loss: 0.7166480394926938\n",
            "Train loss: 0.709829993167166\n",
            "Train loss: 0.7047240822701841\n",
            "\n",
            "Evaluating on train...\n",
            "Val loss: 0.7280775734356472, Val f1: 0.5503952503204346\n",
            "Val loss: 0.7032873877163591, Val f1: 0.5324893593788147\n",
            "Val loss: 0.6945907338099047, Val f1: 0.5301176309585571\n",
            "Val loss: 0.6905837897527016, Val f1: 0.5285765528678894\n",
            "Val loss: 0.6881178134196514, Val f1: 0.5274788737297058\n",
            "\n",
            "Evaluating on test...\n",
            "Val loss: 0.9090291460355123, Val f1: 0.6811788082122803\n",
            "Val loss: 0.7777931605066571, Val f1: 0.590686023235321\n",
            "Val loss: 0.741567546671087, Val f1: 0.5665120482444763\n",
            "Val loss: 0.7242537498474121, Val f1: 0.5549432635307312\n",
            "Val loss: 0.7147782256728724, Val f1: 0.5500301718711853\n",
            "\n",
            "starting Epoch 1\n",
            "Training...\n",
            "Train loss: 0.7314484289714268\n",
            "Train loss: 0.7036728838394428\n",
            "Train loss: 0.6937606998465278\n",
            "Train loss: 0.6887872865644552\n",
            "Train loss: 0.6849006849366266\n",
            "\n",
            "Evaluating on train...\n",
            "Val loss: 0.712929734161922, Val f1: 0.5863890647888184\n",
            "Val loss: 0.6890983376009711, Val f1: 0.5656266808509827\n",
            "Val loss: 0.6807146763259714, Val f1: 0.5590435266494751\n",
            "Val loss: 0.6766982219986997, Val f1: 0.5553407669067383\n",
            "Val loss: 0.6735510769728068, Val f1: 0.5556175112724304\n",
            "\n",
            "Evaluating on test...\n",
            "Val loss: 0.8927359183629354, Val f1: 0.7154530882835388\n",
            "Val loss: 0.7628506166594369, Val f1: 0.6167547106742859\n",
            "Val loss: 0.726957380771637, Val f1: 0.5933061838150024\n",
            "Val loss: 0.7096499800682068, Val f1: 0.5811178684234619\n",
            "Val loss: 0.7001247374634993, Val f1: 0.5756229758262634\n",
            "\n",
            "starting Epoch 2\n",
            "Training...\n",
            "Train loss: 0.7076428021703448\n",
            "Train loss: 0.682534776884934\n",
            "Train loss: 0.6719682392748919\n",
            "Train loss: 0.6666743341138808\n",
            "Train loss: 0.6626209801918751\n",
            "\n",
            "Evaluating on train...\n",
            "Val loss: 0.6898082707609449, Val f1: 0.6565930843353271\n",
            "Val loss: 0.6665360393195316, Val f1: 0.6362878680229187\n",
            "Val loss: 0.6584381772713228, Val f1: 0.6321338415145874\n",
            "Val loss: 0.6543005512932599, Val f1: 0.629093587398529\n",
            "Val loss: 0.6520186759330131, Val f1: 0.6283873319625854\n",
            "\n",
            "Evaluating on test...\n",
            "Val loss: 0.8675175905227661, Val f1: 0.8141323924064636\n",
            "Val loss: 0.7406202725001744, Val f1: 0.6962812542915344\n",
            "Val loss: 0.7049827196381309, Val f1: 0.6694973111152649\n",
            "Val loss: 0.6881705721219381, Val f1: 0.6551578640937805\n",
            "Val loss: 0.6786236982596549, Val f1: 0.650583803653717\n",
            "\n",
            "starting Epoch 3\n",
            "Training...\n",
            "Train loss: 0.6879643201828003\n",
            "Train loss: 0.6634774680795341\n",
            "Train loss: 0.652565831487829\n",
            "Train loss: 0.6458489026053477\n",
            "Train loss: 0.6410324074126579\n",
            "\n",
            "Evaluating on train...\n",
            "Val loss: 0.6605853353227887, Val f1: 0.7049388289451599\n",
            "Val loss: 0.6376670434557158, Val f1: 0.6787258386611938\n",
            "Val loss: 0.6320020082322034, Val f1: 0.6708526015281677\n",
            "Val loss: 0.6283192604275073, Val f1: 0.6676260828971863\n",
            "Val loss: 0.6265222333573006, Val f1: 0.6641101837158203\n",
            "\n",
            "Evaluating on test...\n",
            "Val loss: 0.8384694655736288, Val f1: 0.8608947992324829\n",
            "Val loss: 0.7146426354135785, Val f1: 0.7393805384635925\n",
            "Val loss: 0.6798040758479725, Val f1: 0.7076541781425476\n",
            "Val loss: 0.6634162187576294, Val f1: 0.6916614174842834\n",
            "Val loss: 0.6538151722205313, Val f1: 0.6860751509666443\n",
            "\n",
            "starting Epoch 4\n",
            "Training...\n",
            "Train loss: 0.661004730633327\n",
            "Train loss: 0.6343464769166092\n",
            "Train loss: 0.6253403262658552\n",
            "Train loss: 0.6190207974385407\n",
            "Train loss: 0.614602949168231\n",
            "\n",
            "Evaluating on train...\n",
            "Val loss: 0.6369415904794421, Val f1: 0.692631185054779\n",
            "Val loss: 0.6144945621490479, Val f1: 0.6716731190681458\n",
            "Val loss: 0.6073555661873384, Val f1: 0.6655457019805908\n",
            "Val loss: 0.6029946935378899, Val f1: 0.6615252494812012\n",
            "Val loss: 0.6017732523583077, Val f1: 0.6584246158599854\n",
            "\n",
            "Evaluating on test...\n",
            "Val loss: 0.8116145133972168, Val f1: 0.8366360068321228\n",
            "Val loss: 0.6901769297463554, Val f1: 0.7229697108268738\n",
            "Val loss: 0.656772028316151, Val f1: 0.6932194828987122\n",
            "Val loss: 0.6404767473538716, Val f1: 0.6806461811065674\n",
            "Val loss: 0.6309325318587454, Val f1: 0.6777053475379944\n",
            "\n",
            "starting Epoch 5\n",
            "Training...\n",
            "Train loss: 0.6364715099334717\n",
            "Train loss: 0.6133928401716824\n",
            "Train loss: 0.6010166596282612\n",
            "Train loss: 0.5952810574386079\n",
            "Train loss: 0.5905086720311964\n",
            "\n",
            "Evaluating on train...\n",
            "Val loss: 0.6044086175305503, Val f1: 0.7479685544967651\n",
            "Val loss: 0.5837149558396175, Val f1: 0.7204362154006958\n",
            "Val loss: 0.5785177973183718, Val f1: 0.708866536617279\n",
            "Val loss: 0.5763352907310098, Val f1: 0.7047791481018066\n",
            "Val loss: 0.5748013934573611, Val f1: 0.7022193670272827\n",
            "\n",
            "Evaluating on test...\n",
            "Val loss: 0.7788731455802917, Val f1: 0.9028401374816895\n",
            "Val loss: 0.6619028108460563, Val f1: 0.7778932452201843\n",
            "Val loss: 0.629592396996238, Val f1: 0.7459122538566589\n",
            "Val loss: 0.614274525642395, Val f1: 0.7299467921257019\n",
            "Val loss: 0.6047578642242833, Val f1: 0.7236768007278442\n",
            "\n",
            "starting Epoch 6\n",
            "Training...\n",
            "Train loss: 0.6080065880502973\n",
            "Train loss: 0.5853492370967207\n",
            "Train loss: 0.5769268504597924\n",
            "Train loss: 0.5710624436200675\n",
            "Train loss: 0.5667608356153643\n",
            "\n",
            "Evaluating on train...\n",
            "Val loss: 0.583587782723563, Val f1: 0.7560479044914246\n",
            "Val loss: 0.563047955776083, Val f1: 0.7315183877944946\n",
            "Val loss: 0.5574503622271798, Val f1: 0.7224106192588806\n",
            "Val loss: 0.5543128433874098, Val f1: 0.717451810836792\n",
            "Val loss: 0.5520694956586167, Val f1: 0.715056300163269\n",
            "\n",
            "Evaluating on test...\n",
            "Val loss: 0.7520845135052999, Val f1: 0.9144291877746582\n",
            "Val loss: 0.6381819418498448, Val f1: 0.79118412733078\n",
            "Val loss: 0.6072784012014215, Val f1: 0.7585773468017578\n",
            "Val loss: 0.5924724181493123, Val f1: 0.742023229598999\n",
            "Val loss: 0.5830893077348408, Val f1: 0.7356887459754944\n",
            "\n",
            "starting Epoch 7\n",
            "Training...\n",
            "Train loss: 0.5815271309443882\n",
            "Train loss: 0.561197213057814\n",
            "Train loss: 0.5525950640439987\n",
            "Train loss: 0.5476998414023447\n",
            "Train loss: 0.5452924185508007\n",
            "\n",
            "Evaluating on train...\n",
            "Val loss: 0.5643098737512316, Val f1: 0.7548423409461975\n",
            "Val loss: 0.5447479794765341, Val f1: 0.725321888923645\n",
            "Val loss: 0.5381231836297296, Val f1: 0.7157294750213623\n",
            "Val loss: 0.5348098793272245, Val f1: 0.7124621868133545\n",
            "Val loss: 0.5318182835707793, Val f1: 0.710626482963562\n",
            "\n",
            "Evaluating on test...\n",
            "Val loss: 0.7312676906585693, Val f1: 0.9004391431808472\n",
            "Val loss: 0.6187747291156224, Val f1: 0.782670795917511\n",
            "Val loss: 0.5895395333116705, Val f1: 0.7500674724578857\n",
            "Val loss: 0.5747673233350118, Val f1: 0.7338919043540955\n",
            "Val loss: 0.565611974189156, Val f1: 0.7274801135063171\n",
            "\n",
            "starting Epoch 8\n",
            "Training...\n",
            "Train loss: 0.5552383490971157\n",
            "Train loss: 0.5425561666488647\n",
            "Train loss: 0.5347832468422976\n",
            "Train loss: 0.530446054571766\n",
            "Train loss: 0.5262056166255796\n",
            "\n",
            "Evaluating on train...\n",
            "Val loss: 0.5390339110578809, Val f1: 0.7688138484954834\n",
            "Val loss: 0.5228411236713673, Val f1: 0.7357752323150635\n",
            "Val loss: 0.5170599127357657, Val f1: 0.7285154461860657\n",
            "Val loss: 0.5153399114891634, Val f1: 0.7235526442527771\n",
            "Val loss: 0.5137212707384212, Val f1: 0.7210709452629089\n",
            "\n",
            "Evaluating on test...\n",
            "Val loss: 0.7109775145848592, Val f1: 0.910397469997406\n",
            "Val loss: 0.6006200654166085, Val f1: 0.7937168478965759\n",
            "Val loss: 0.5726388096809387, Val f1: 0.7591848373413086\n",
            "Val loss: 0.5582788745562236, Val f1: 0.7425635457038879\n",
            "Val loss: 0.5493010329572778, Val f1: 0.7352855801582336\n",
            "\n",
            "starting Epoch 9\n",
            "Training...\n",
            "Train loss: 0.5440979897975922\n",
            "Train loss: 0.5248481960132204\n",
            "Train loss: 0.5172129009257663\n",
            "Train loss: 0.5121263770733849\n",
            "Train loss: 0.508441159048596\n",
            "\n",
            "Evaluating on train...\n",
            "Val loss: 0.5239801704883575, Val f1: 0.7851364612579346\n",
            "Val loss: 0.5059247787656456, Val f1: 0.7591124176979065\n",
            "Val loss: 0.4989887753670866, Val f1: 0.7536592483520508\n",
            "Val loss: 0.4959295144525625, Val f1: 0.7493675351142883\n",
            "Val loss: 0.49487297196645996, Val f1: 0.7464595437049866\n",
            "\n",
            "Evaluating on test...\n",
            "Val loss: 0.6889926195144653, Val f1: 0.9396783709526062\n",
            "Val loss: 0.5816782712936401, Val f1: 0.8177001476287842\n",
            "Val loss: 0.5546250451694835, Val f1: 0.7829343676567078\n",
            "Val loss: 0.5411662618319194, Val f1: 0.76571124792099\n",
            "Val loss: 0.5324315444419259, Val f1: 0.7594038844108582\n",
            "\n",
            "starting Epoch 10\n",
            "Training...\n",
            "Train loss: 0.5273453082357135\n",
            "Train loss: 0.5053146800090527\n",
            "Train loss: 0.499666346067732\n",
            "Train loss: 0.4942428232249567\n",
            "Train loss: 0.49179756480294307\n",
            "\n",
            "Evaluating on train...\n",
            "Val loss: 0.505936073405402, Val f1: 0.8010322451591492\n",
            "Val loss: 0.48649559452615937, Val f1: 0.7757853865623474\n",
            "Val loss: 0.4816315214742314, Val f1: 0.7665660381317139\n",
            "Val loss: 0.48072798827947194, Val f1: 0.7602585554122925\n",
            "Val loss: 0.478728399083421, Val f1: 0.7575709819793701\n",
            "\n",
            "Evaluating on test...\n",
            "Val loss: 0.6724335749944051, Val f1: 0.9488250017166138\n",
            "Val loss: 0.5668712769235883, Val f1: 0.8276054263114929\n",
            "Val loss: 0.5409658930518411, Val f1: 0.7927634716033936\n",
            "Val loss: 0.5279657224814097, Val f1: 0.7744046449661255\n",
            "Val loss: 0.5193994688360315, Val f1: 0.767311692237854\n",
            "\n",
            "starting Epoch 11\n",
            "Training...\n",
            "Train loss: 0.5083033314773014\n",
            "Train loss: 0.4908234662023084\n",
            "Train loss: 0.48555575988509436\n",
            "Train loss: 0.4803446915190099\n",
            "Train loss: 0.4779611914544492\n",
            "\n",
            "Evaluating on train...\n",
            "Val loss: 0.5014463918549674, Val f1: 0.7995207905769348\n",
            "Val loss: 0.4807703638898915, Val f1: 0.7764935493469238\n",
            "Val loss: 0.4728055074810982, Val f1: 0.7693758010864258\n",
            "Val loss: 0.4685740304195275, Val f1: 0.7668611407279968\n",
            "Val loss: 0.46528509460590983, Val f1: 0.7662789821624756\n",
            "\n",
            "Evaluating on test...\n",
            "Val loss: 0.6583447853724161, Val f1: 0.9594783186912537\n",
            "Val loss: 0.5541731289454869, Val f1: 0.8342372179031372\n",
            "Val loss: 0.5292494865981016, Val f1: 0.7986174821853638\n",
            "Val loss: 0.5165776292483012, Val f1: 0.7802760004997253\n",
            "Val loss: 0.5082768201828003, Val f1: 0.7729509472846985\n",
            "\n",
            "starting Epoch 12\n",
            "Training...\n",
            "Train loss: 0.49258351964609964\n",
            "Train loss: 0.4755203765014122\n",
            "Train loss: 0.4698983762751926\n",
            "Train loss: 0.4663688106051946\n",
            "Train loss: 0.46392172413903315\n",
            "\n",
            "Evaluating on train...\n",
            "Val loss: 0.4825110925095422, Val f1: 0.8095718622207642\n",
            "Val loss: 0.4625166274350265, Val f1: 0.7834091186523438\n",
            "Val loss: 0.45632231912829657, Val f1: 0.775475800037384\n",
            "Val loss: 0.4544216227733483, Val f1: 0.7702799439430237\n",
            "Val loss: 0.4524372179765959, Val f1: 0.7688677310943604\n",
            "\n",
            "Evaluating on test...\n",
            "Val loss: 0.6469453771909078, Val f1: 0.9577733874320984\n",
            "Val loss: 0.5436068517821175, Val f1: 0.8340707421302795\n",
            "Val loss: 0.5194786434823816, Val f1: 0.7991436123847961\n",
            "Val loss: 0.5069848358631134, Val f1: 0.7809370160102844\n",
            "Val loss: 0.49899622797966003, Val f1: 0.7735598683357239\n",
            "\n",
            "starting Epoch 13\n",
            "Training...\n",
            "Train loss: 0.47860416982855114\n",
            "Train loss: 0.46429764299557125\n",
            "Train loss: 0.4575155655091459\n",
            "Train loss: 0.4538633293014462\n",
            "Train loss: 0.45224218634334773\n",
            "\n",
            "Evaluating on train...\n",
            "Val loss: 0.46569833159446716, Val f1: 0.8248973488807678\n",
            "Val loss: 0.4475006019246989, Val f1: 0.7987245917320251\n",
            "Val loss: 0.44348625161431054, Val f1: 0.7884648442268372\n",
            "Val loss: 0.44193288633378885, Val f1: 0.782783567905426\n",
            "Val loss: 0.4405008200052622, Val f1: 0.7796902656555176\n",
            "\n",
            "Evaluating on test...\n",
            "Val loss: 0.6351731022198995, Val f1: 0.9716169238090515\n",
            "Val loss: 0.5334505268505642, Val f1: 0.8435623645782471\n",
            "Val loss: 0.5100432715632699, Val f1: 0.8079660534858704\n",
            "Val loss: 0.49792590936024983, Val f1: 0.7890691161155701\n",
            "Val loss: 0.4901865642321737, Val f1: 0.7817888855934143\n",
            "\n",
            "starting Epoch 14\n",
            "Training...\n",
            "Train loss: 0.46646434920174734\n",
            "Train loss: 0.4506486962581503\n",
            "Train loss: 0.44599845531311905\n",
            "Train loss: 0.44166961867930526\n",
            "Train loss: 0.44028463476413005\n",
            "\n",
            "Evaluating on train...\n",
            "Val loss: 0.44749242280210766, Val f1: 0.8386099934577942\n",
            "Val loss: 0.43523776428452854, Val f1: 0.8089000582695007\n",
            "Val loss: 0.4320800426331433, Val f1: 0.7987802028656006\n",
            "Val loss: 0.4314201464087276, Val f1: 0.7931938767433167\n",
            "Val loss: 0.4300175401810053, Val f1: 0.7902453541755676\n",
            "\n",
            "Evaluating on test...\n",
            "Val loss: 0.6249572038650513, Val f1: 0.98255455493927\n",
            "Val loss: 0.5245362903390612, Val f1: 0.8534253239631653\n",
            "Val loss: 0.5016423653472554, Val f1: 0.8169028759002686\n",
            "Val loss: 0.48998690048853555, Val f1: 0.7981845140457153\n",
            "Val loss: 0.4824112747844897, Val f1: 0.7902446389198303\n"
          ]
        }
      ]
    },
    {
      "cell_type": "code",
      "metadata": {
        "colab": {
          "base_uri": "https://localhost:8080/",
          "height": 295
        },
        "id": "DV0Y-v2pUlof",
        "outputId": "59bb5076-fcd0-4dee-bb7f-5252e55d8273"
      },
      "source": [
        "plt.plot(losses)\n",
        "plt.plot(losses_eval)\n",
        "plt.title('BCE loss value')\n",
        "plt.ylabel('BCE loss')\n",
        "plt.xlabel('epoch')\n",
        "plt.legend(['train', 'val'], loc='upper right')\n",
        "plt.show()"
      ],
      "execution_count": 216,
      "outputs": [
        {
          "output_type": "display_data",
          "data": {
            "image/png": "[encoded data removed]",
            "text/plain": [
              "<Figure size 432x288 with 1 Axes>"
            ]
          },
          "metadata": {
            "needs_background": "light"
          }
        }
      ]
    },
    {
      "cell_type": "code",
      "metadata": {
        "colab": {
          "base_uri": "https://localhost:8080/",
          "height": 295
        },
        "id": "TzGiN_hxUqTI",
        "outputId": "5c72a681-90f8-4010-ff72-2b874a989222"
      },
      "source": [
        "plt.plot(f1s)\n",
        "plt.plot(f1s_eval)\n",
        "plt.title('f1 value')\n",
        "plt.ylabel('f1 value')\n",
        "plt.xlabel('epoch')\n",
        "plt.legend(['train', 'val'], loc='upper right')\n",
        "plt.show()"
      ],
      "execution_count": 217,
      "outputs": [
        {
          "output_type": "display_data",
          "data": {
            "image/png": "[encoded data removed]",
            "text/plain": [
              "<Figure size 432x288 with 1 Axes>"
            ]
          },
          "metadata": {
            "needs_background": "light"
          }
        }
      ]
    },
    {
      "cell_type": "code",
      "metadata": {
        "colab": {
          "base_uri": "https://localhost:8080/"
        },
        "id": "uT2q8dzbUu74",
        "outputId": "22f7fee5-7e9a-49c4-c67c-1299994cfeba"
      },
      "source": [
        "fp, fn, tp, tn = predict(model, val_iterator)\n",
        "recall = len(tp)/(len(tp) + len(fn))\n",
        "precision = len(tp)/(len(tp) + len(fp))\n",
        "f_score = 2 * precision * recall / (precision + recall)\n",
        "f_score"
      ],
      "execution_count": 218,
      "outputs": [
        {
          "output_type": "execute_result",
          "data": {
            "text/plain": [
              "0.7503236729409422"
            ]
          },
          "metadata": {},
          "execution_count": 218
        }
      ]
    },
    {
      "cell_type": "markdown",
      "metadata": {
        "id": "6M_0_n7WV6Vx"
      },
      "source": [
        "Результаты стали лучше, ура! По всей видимости, чем больше информации о тексте получает модель, тем лучше она справляется с задачей. Тем более при оценки тональности текстов в соц. сетях нужно учитывать смайлики/знаки препинания/скобки и тд, тк они важные индикаторы \"настроения\" автора. Посмотрим на ошибки модели."
      ]
    },
    {
      "cell_type": "code",
      "metadata": {
        "colab": {
          "base_uri": "https://localhost:8080/"
        },
        "id": "w2wnKk_VWgmX",
        "outputId": "6a309f88-1012-4506-ad46-57b285e98723"
      },
      "source": [
        "fp[:5]"
      ],
      "execution_count": 219,
      "outputs": [
        {
          "output_type": "execute_result",
          "data": {
            "text/plain": [
              "['RT RT Хочу смайлики как вк чтобы в твиттер и инстаграм писать с',\n",
              " '-Я самый худший                                                                                 - А у меня хлеб',\n",
              " 'RT ты только',\n",
              " 'RT на работе пить поставила положила печенье и порезала горячим',\n",
              " 'кстати, никто еще с днем от не']"
            ]
          },
          "metadata": {},
          "execution_count": 219
        }
      ]
    },
    {
      "cell_type": "code",
      "metadata": {
        "colab": {
          "base_uri": "https://localhost:8080/"
        },
        "id": "8Bzb7a__WnNG",
        "outputId": "1ba7221d-8711-4bf0-d24a-6ac9615fb074"
      },
      "source": [
        "fn[:5]"
      ],
      "execution_count": 220,
      "outputs": [
        {
          "output_type": "execute_result",
          "data": {
            "text/plain": [
              "['скучно наверно фильм смотреть хз',\n",
              " 'Если какой я с тобой пойду. Хорошо иметь в жизни таких людей, которые способны сказать эти',\n",
              " 'реквестирую возможность и при этом быть на него а то нихрена не спасает от а',\n",
              " 'мы то с тобой обязательно',\n",
              " 'я до \"Не выдержала душа']"
            ]
          },
          "metadata": {},
          "execution_count": 220
        }
      ]
    },
    {
      "cell_type": "markdown",
      "metadata": {
        "id": "S96cJCxQV6y6"
      },
      "source": [
        "### Модель с комбинацией эмбеддингов и символьных признаков"
      ]
    },
    {
      "cell_type": "code",
      "metadata": {
        "colab": {
          "base_uri": "https://localhost:8080/"
        },
        "id": "4FPgE0gSWF4z",
        "outputId": "c6af8ff8-a113-44e6-c9f0-b2585403dd8a"
      },
      "source": [
        "vocab = Counter()\n",
        "for text in tweets_data['prep_text']:\n",
        "    vocab.update(text.split())\n",
        "\n",
        "filtered_vocab = set()\n",
        "\n",
        "for word in vocab:\n",
        "    if vocab[word] > 5:\n",
        "        filtered_vocab.add(word)\n",
        "print('уникальных токенов, втретившихся больше 5 раз:', len(filtered_vocab))\n",
        "\n",
        "word2id = {'PAD':0}\n",
        "\n",
        "for word in filtered_vocab:\n",
        "    word2id[word] = len(word2id)"
      ],
      "execution_count": 224,
      "outputs": [
        {
          "output_type": "stream",
          "name": "stdout",
          "text": [
            "уникальных токенов, втретившихся больше 5 раз: 14917\n"
          ]
        }
      ]
    },
    {
      "cell_type": "code",
      "metadata": {
        "colab": {
          "base_uri": "https://localhost:8080/"
        },
        "id": "xckH6Iairm2E",
        "outputId": "a6ab8945-9eef-4fdf-c3ac-d1a99968426f"
      },
      "source": [
        "char_vocab = Counter()\n",
        "for text in tweets_data['prep_text']:\n",
        "    for word in text:\n",
        "      char_vocab.update(list(word))\n",
        "\n",
        "filtered_char_vocab = set()\n",
        "\n",
        "for word in char_vocab:\n",
        "    if char_vocab[word] > 10:\n",
        "        filtered_char_vocab.add(word)\n",
        "print('уникальных токенов, втретившихся больше 10 раз:', len(filtered_char_vocab))\n",
        "\n",
        "symbol2id = {'PAD':0}\n",
        "\n",
        "for symbol in filtered_char_vocab:\n",
        "    symbol2id[symbol] = len(symbol2id)"
      ],
      "execution_count": 225,
      "outputs": [
        {
          "output_type": "stream",
          "name": "stdout",
          "text": [
            "уникальных токенов, втретившихся больше 10 раз: 73\n"
          ]
        }
      ]
    },
    {
      "cell_type": "code",
      "metadata": {
        "id": "yi-ATUOLuh--"
      },
      "source": [
        "id2word = {i:word for word, i in word2id.items()}"
      ],
      "execution_count": 227,
      "outputs": []
    },
    {
      "cell_type": "code",
      "metadata": {
        "id": "D0W3I4dvuiaA"
      },
      "source": [
        "id2symbol = {i:symbol for symbol, i in symbol2id.items()}"
      ],
      "execution_count": 228,
      "outputs": []
    },
    {
      "cell_type": "code",
      "metadata": {
        "id": "RlteRa4xlvv0"
      },
      "source": [
        "ft_2 = FastText(tweets_data['prep_text'].tolist(), size=100, window=5, min_count=1)"
      ],
      "execution_count": 231,
      "outputs": []
    },
    {
      "cell_type": "code",
      "metadata": {
        "id": "Xr2dsGA_l1kU"
      },
      "source": [
        "weights = np.zeros((len(word2id), 100))\n",
        "count = 0\n",
        "for word, i in word2id.items():\n",
        "    if word == 'PAD':\n",
        "        continue   \n",
        "    try:\n",
        "        weights[i] = ft_2.wv[word]    \n",
        "    except KeyError:\n",
        "      count += 1\n",
        "      # oov словам сопоставляем случайный вектор\n",
        "      weights[i] = np.random.normal(0,0.1,100)"
      ],
      "execution_count": 232,
      "outputs": []
    },
    {
      "cell_type": "code",
      "metadata": {
        "id": "GnQgR4eLsgA7"
      },
      "source": [
        "class WSTweetsDataset(Dataset):\n",
        "\n",
        "    def __init__(self, dataset, word2id, symbol2id, DEVICE):\n",
        "        self.dataset = dataset['prep_text'].values\n",
        "        self.word2id = word2id\n",
        "        self.symbol2id = symbol2id\n",
        "        self.length = dataset.shape[0]\n",
        "        self.target = torch.Tensor(dataset['tone'].values)\n",
        "        self.device = DEVICE\n",
        "\n",
        "    def __len__(self):\n",
        "        return self.length\n",
        "\n",
        "    def __getitem__(self, index): \n",
        "        symbols = list(self.dataset[index])\n",
        "        symb_ids = torch.LongTensor([self.symbol2id[symbol] for symbol in symbols if symbol in self.symbol2id])\n",
        "        tokens = self.dataset[index].split()\n",
        "        word_ids = torch.LongTensor([self.word2id[token] for token in tokens if token in self.word2id])\n",
        "        y = [self.target[index]]\n",
        "        return word_ids, symb_ids, y\n",
        "\n",
        "    def collate_fn(self, batch): #этот метод можно реализовывать и отдельно,\n",
        "    # он понадобится для DataLoader во время итерации по батчам\n",
        "      word_ids, symb_ids, y = list(zip(*batch))\n",
        "      padded_words = pad_sequence(word_ids, batch_first=True).to(self.device)\n",
        "      padded_symbs = pad_sequence(symb_ids, batch_first=True).to(self.device)\n",
        "      y = torch.Tensor(y).to(self.device)\n",
        "      return padded_words, padded_symbs, y"
      ],
      "execution_count": 250,
      "outputs": []
    },
    {
      "cell_type": "code",
      "metadata": {
        "id": "IJYEHEJets6t"
      },
      "source": [
        "train_dataset = WSTweetsDataset(train_sentences, word2id, symbol2id, DEVICE)\n",
        "train_sampler = RandomSampler(train_dataset)\n",
        "train_iterator = DataLoader(train_dataset, collate_fn = train_dataset.collate_fn, sampler=train_sampler, batch_size=1024)"
      ],
      "execution_count": 251,
      "outputs": []
    },
    {
      "cell_type": "code",
      "metadata": {
        "id": "TEmilBxhtx9T"
      },
      "source": [
        "val_dataset = WSTweetsDataset(val_sentences, word2id, symbol2id, DEVICE)\n",
        "val_sampler = SequentialSampler(val_dataset)\n",
        "val_iterator = DataLoader(val_dataset, collate_fn = val_dataset.collate_fn, sampler=val_sampler, batch_size=1024)"
      ],
      "execution_count": 252,
      "outputs": []
    },
    {
      "cell_type": "code",
      "metadata": {
        "id": "h_adWCfJt4jW"
      },
      "source": [
        "class WSCNN(nn.Module):\n",
        "    def __init__(self, symb_vocab_size, symb_embedding_dim, word_vocab_size):\n",
        "        super().__init__()\n",
        "\n",
        "        # word-level\n",
        "        self.word_embedding = nn.Embedding(word_vocab_size, 100)\n",
        "        self.word_embedding.from_pretrained(torch.tensor(weights), freeze=True)\n",
        "        self.word_hidden = nn.Linear(100, 100) \n",
        "\n",
        "        # symbol-level\n",
        "        self.symb_embedding = nn.Embedding(symb_vocab_size, symb_embedding_dim)\n",
        "        self.symb_bigrams = nn.Conv1d(in_channels=symb_embedding_dim, out_channels=100, kernel_size=2, padding='same')\n",
        "        self.symb_trigrams = nn.Conv1d(in_channels=symb_embedding_dim, out_channels=80, kernel_size=3, padding='same')\n",
        "        self.symb_pooling = nn.MaxPool1d(kernel_size=2, stride=2)\n",
        "        self.symb_hidden = nn.Linear(in_features=180, out_features=100)\n",
        "\n",
        "        # both\n",
        "        self.relu = nn.ReLU()   \n",
        "        self.linear = nn.Linear(in_features=200, out_features=1)\n",
        "        self.dropout = nn.Dropout(p=0.5) \n",
        "        self.out = nn.Sigmoid()\n",
        "\n",
        "    def forward(self, words_seq, symb_seq):\n",
        "        #batch_size x seq_len\n",
        "        embedded = self.symb_embedding(symb_seq)\n",
        "        #batch_size x seq_len x embedding_dim\n",
        "        embedded = embedded.transpose(1,2)\n",
        "        #batch_size x embedding_dim x seq_len\n",
        "        feature_map_bigrams = self.dropout(self.symb_pooling(self.relu(self.symb_bigrams(embedded)))) \n",
        "        #batch_size x filter_count2 x seq_len* \n",
        "        feature_map_trigrams = self.dropout(self.symb_pooling(self.relu(self.symb_trigrams(embedded)))) \n",
        "        #batch_size x filter_count3 x seq_len*\n",
        "\n",
        "        pooling1 = feature_map_bigrams.max(2)[0] \n",
        "        # batch_size x filter_count2\n",
        "        pooling2 = feature_map_trigrams.max(2)[0]\n",
        "        # batch_size x filter_count3\n",
        "        concat = torch.cat((pooling1, pooling2), 1)\n",
        "        # batch_size x (filter_count2 + filter_count3)\n",
        "        symb_vector = self.symb_hidden(concat)\n",
        "\n",
        "        embedded_words = self.word_embedding(words_seq) \n",
        "        mean_emb_words = torch.mean(embedded_words, dim=1) \n",
        "        word_vector = self.dropout(self.word_hidden(mean_emb_words)) # тут был дропаут\n",
        "        word_vector = self.dropout(self.relu(word_vector)) # тут был дропаут\n",
        "        concat = torch.cat((symb_vector, word_vector), 1)\n",
        "        logits = self.out(self.linear(concat))      \n",
        "        return logits"
      ],
      "execution_count": 253,
      "outputs": []
    },
    {
      "cell_type": "code",
      "metadata": {
        "id": "eIN_Qfv4vSA-"
      },
      "source": [
        "def train(model, iterator, optimizer, criterion):\n",
        "    epoch_loss = 0 # для подсчета среднего лосса на всех батчах\n",
        "\n",
        "    model.train()  # ставим модель в обучение, явно указываем, что сейчас надо будет хранить градиенты у всех весов\n",
        "\n",
        "    for i, (word_seq, symb_seq, ys) in enumerate(iterator): #итерируемся по батчам\n",
        "        optimizer.zero_grad()  #обнуляем градиенты\n",
        "        preds = model(word_seq, symb_seq)  #прогоняем данные через модель\n",
        "        loss = criterion(preds, ys) #считаем значение функции потерь  \n",
        "        loss.backward() #считаем градиенты  \n",
        "        optimizer.step() #обновляем веса \n",
        "        epoch_loss += loss.item() #сохраняем значение функции потерь\n",
        "        if not (i + 1) % int(len(iterator)/5):\n",
        "            print(f'Train loss: {epoch_loss/i}')      \n",
        "    return  epoch_loss / len(iterator) # возвращаем среднее значение лосса по всей выборке\n",
        "\n",
        "\n",
        "def evaluate(model, iterator, criterion):\n",
        "    epoch_loss = 0\n",
        "    epoch_metric = 0\n",
        "    model.eval() \n",
        "    with torch.no_grad():\n",
        "        for i, (word_seq, symb_seq, ys) in enumerate(iterator):   \n",
        "            preds = model(word_seq, symb_seq)  # делаем предсказания на тесте\n",
        "            loss = criterion(preds, ys)   # считаем значения функции ошибки для статистики  \n",
        "            epoch_loss += loss.item()\n",
        "            batch_metric = f1(preds.round().long(), ys.long(), ignore_index=0)\n",
        "            epoch_metric += batch_metric\n",
        "\n",
        "            if not (i + 1) % int(len(iterator)/5):\n",
        "              print(f'Val loss: {epoch_loss/i}, Val f1: {epoch_metric/i}')\n",
        "        \n",
        "    return epoch_metric / len(iterator), epoch_loss / len(iterator) # возвращаем среднее значение по всей выборке\n"
      ],
      "execution_count": 254,
      "outputs": []
    },
    {
      "cell_type": "code",
      "metadata": {
        "id": "AxLCJDa-wwTx"
      },
      "source": [
        "model = WSCNN(len(symbol2id), 10, len(word2id))\n",
        "optimizer = optim.Adam(model.parameters(), lr=0.001)\n",
        "criterion = nn.BCELoss() \n",
        "\n",
        "# веса модели и значения лосса храним там же, где и все остальные тензоры\n",
        "model = model.to(DEVICE)\n",
        "criterion = criterion.to(DEVICE)"
      ],
      "execution_count": 255,
      "outputs": []
    },
    {
      "cell_type": "code",
      "metadata": {
        "colab": {
          "base_uri": "https://localhost:8080/"
        },
        "id": "sbPA2VjVwtlI",
        "outputId": "91628a82-c210-4df4-9b04-dab8497ed541"
      },
      "source": [
        "losses = []\n",
        "losses_eval = []\n",
        "f1s = []\n",
        "f1s_eval = []\n",
        "\n",
        "for i in range(10):\n",
        "    print(f'\\nstarting Epoch {i}')\n",
        "    print('Training...')\n",
        "    epoch_loss = train(model, train_iterator, optimizer, criterion)\n",
        "    losses.append(epoch_loss)\n",
        "    print('\\nEvaluating on train...')\n",
        "    f1_on_train,_ = evaluate(model, train_iterator, criterion)\n",
        "    f1s.append(f1_on_train)\n",
        "    print('\\nEvaluating on test...')\n",
        "    f1_on_test, epoch_loss_on_test = evaluate(model, val_iterator, criterion)\n",
        "    losses_eval.append(epoch_loss_on_test)\n",
        "    f1s_eval.append(f1_on_test)"
      ],
      "execution_count": 256,
      "outputs": [
        {
          "output_type": "stream",
          "name": "stdout",
          "text": [
            "\n",
            "starting Epoch 0\n",
            "Training...\n",
            "Train loss: 0.7970502589430127\n",
            "Train loss: 0.7439993249958959\n",
            "Train loss: 0.7234059233557094\n",
            "Train loss: 0.7108699275275409\n",
            "Train loss: 0.7016369998455048\n",
            "\n",
            "Evaluating on train...\n",
            "Val loss: 0.711431486266, Val f1: 0.7110620141029358\n",
            "Val loss: 0.6872936487197876, Val f1: 0.6851364374160767\n",
            "Val loss: 0.6793504817919298, Val f1: 0.6788883805274963\n",
            "Val loss: 0.6754608750343323, Val f1: 0.6748223900794983\n",
            "Val loss: 0.6732387301084157, Val f1: 0.6728519797325134\n",
            "\n",
            "Evaluating on test...\n",
            "Val loss: 0.8837892214457194, Val f1: 0.8960347175598145\n",
            "Val loss: 0.758181129183088, Val f1: 0.7598348259925842\n",
            "Val loss: 0.7235158302567222, Val f1: 0.7296117544174194\n",
            "Val loss: 0.7083022197087606, Val f1: 0.7111564874649048\n",
            "Val loss: 0.6997516217984652, Val f1: 0.6997172832489014\n",
            "\n",
            "starting Epoch 1\n",
            "Training...\n",
            "Train loss: 0.7021045429365975\n",
            "Train loss: 0.6740649239770298\n",
            "Train loss: 0.6632606807080182\n",
            "Train loss: 0.6542869483010244\n",
            "Train loss: 0.6474765716372309\n",
            "\n",
            "Evaluating on train...\n",
            "Val loss: 0.6632488753114428, Val f1: 0.740868330001831\n",
            "Val loss: 0.6389690781461781, Val f1: 0.7187281250953674\n",
            "Val loss: 0.6316305331208489, Val f1: 0.7089099287986755\n",
            "Val loss: 0.6286627842208087, Val f1: 0.7036396265029907\n",
            "Val loss: 0.6261579579598194, Val f1: 0.7027308940887451\n",
            "\n",
            "Evaluating on test...\n",
            "Val loss: 0.8239627083142599, Val f1: 0.9381911158561707\n",
            "Val loss: 0.7066694498062134, Val f1: 0.7978200316429138\n",
            "Val loss: 0.6745814085006714, Val f1: 0.7654157280921936\n",
            "Val loss: 0.6606283823649088, Val f1: 0.7455564737319946\n",
            "Val loss: 0.6522175136365389, Val f1: 0.7354158163070679\n",
            "\n",
            "starting Epoch 2\n",
            "Training...\n",
            "Train loss: 0.6512556884969983\n",
            "Train loss: 0.6276116227281505\n",
            "Train loss: 0.6177810687910427\n",
            "Train loss: 0.6099660770367767\n",
            "Train loss: 0.6041519577438766\n",
            "\n",
            "Evaluating on train...\n",
            "Val loss: 0.6174451879092625, Val f1: 0.7654063701629639\n",
            "Val loss: 0.5941875844166197, Val f1: 0.7423434853553772\n",
            "Val loss: 0.5869168747555126, Val f1: 0.7342268824577332\n",
            "Val loss: 0.5823092076738002, Val f1: 0.732158362865448\n",
            "Val loss: 0.5801204233556181, Val f1: 0.7296302914619446\n",
            "\n",
            "Evaluating on test...\n",
            "Val loss: 0.7698166767756144, Val f1: 0.9509732723236084\n",
            "Val loss: 0.6593320369720459, Val f1: 0.813295304775238\n",
            "Val loss: 0.6295691836964, Val f1: 0.7812251448631287\n",
            "Val loss: 0.6169057011604309, Val f1: 0.7616247534751892\n",
            "Val loss: 0.6079698550073724, Val f1: 0.7541054487228394\n",
            "\n",
            "starting Epoch 3\n",
            "Training...\n",
            "Train loss: 0.6121556035109929\n",
            "Train loss: 0.589257787013876\n",
            "Train loss: 0.5788610225374048\n",
            "Train loss: 0.5736491417480727\n",
            "Train loss: 0.56805962968517\n",
            "\n",
            "Evaluating on train...\n",
            "Val loss: 0.5818831622600555, Val f1: 0.7901641726493835\n",
            "Val loss: 0.557955450025098, Val f1: 0.7680231928825378\n",
            "Val loss: 0.5521609728986566, Val f1: 0.7583646178245544\n",
            "Val loss: 0.5496270616175765, Val f1: 0.7531203031539917\n",
            "Val loss: 0.5484118767686792, Val f1: 0.7492672801017761\n",
            "\n",
            "Evaluating on test...\n",
            "Val loss: 0.7352362076441447, Val f1: 0.9631473422050476\n",
            "Val loss: 0.6297469735145569, Val f1: 0.8280577063560486\n",
            "Val loss: 0.6016837900335138, Val f1: 0.7943207621574402\n",
            "Val loss: 0.5894110798835754, Val f1: 0.7763306498527527\n",
            "Val loss: 0.5803608517897757, Val f1: 0.7674152851104736\n",
            "\n",
            "starting Epoch 4\n",
            "Training...\n",
            "Train loss: 0.5853647845132011\n",
            "Train loss: 0.5602401864939722\n",
            "Train loss: 0.5549240505153482\n",
            "Train loss: 0.5506053031501124\n",
            "Train loss: 0.54752827496142\n",
            "\n",
            "Evaluating on train...\n",
            "Val loss: 0.5758884762014661, Val f1: 0.8095350861549377\n",
            "Val loss: 0.5560742760526722, Val f1: 0.7856562733650208\n",
            "Val loss: 0.5482263416051865, Val f1: 0.7786201238632202\n",
            "Val loss: 0.5455701543112933, Val f1: 0.7737250328063965\n",
            "Val loss: 0.543313093282081, Val f1: 0.771633505821228\n",
            "\n",
            "Evaluating on test...\n",
            "Val loss: 0.734555184841156, Val f1: 0.998309314250946\n",
            "Val loss: 0.6308816586221967, Val f1: 0.8527851700782776\n",
            "Val loss: 0.6015352552587335, Val f1: 0.8151833415031433\n",
            "Val loss: 0.589583444595337, Val f1: 0.7956412434577942\n",
            "Val loss: 0.5803527141872206, Val f1: 0.786878764629364\n",
            "\n",
            "starting Epoch 5\n",
            "Training...\n",
            "Train loss: 0.569643150482859\n",
            "Train loss: 0.5452102227457638\n",
            "Train loss: 0.5330833277919076\n",
            "Train loss: 0.5280584117113534\n",
            "Train loss: 0.5239270752346193\n",
            "\n",
            "Evaluating on train...\n",
            "Val loss: 0.5243106079953057, Val f1: 0.8187458515167236\n",
            "Val loss: 0.5073607882549023, Val f1: 0.7901490330696106\n",
            "Val loss: 0.5038042393597689, Val f1: 0.7804993987083435\n",
            "Val loss: 0.5021053178835724, Val f1: 0.7739967703819275\n",
            "Val loss: 0.5005916091235908, Val f1: 0.7721891403198242\n",
            "\n",
            "Evaluating on test...\n",
            "Val loss: 0.6915526787439982, Val f1: 0.982943058013916\n",
            "Val loss: 0.5933476941926139, Val f1: 0.838722825050354\n",
            "Val loss: 0.5665124979886141, Val f1: 0.803122878074646\n",
            "Val loss: 0.5538874904314677, Val f1: 0.7854341268539429\n",
            "Val loss: 0.5447998674292314, Val f1: 0.7772362232208252\n",
            "\n",
            "starting Epoch 6\n",
            "Training...\n",
            "Train loss: 0.5378349316971642\n",
            "Train loss: 0.5224474062179697\n",
            "Train loss: 0.515522377057509\n",
            "Train loss: 0.5120124700715987\n",
            "Train loss: 0.5104424216457315\n",
            "\n",
            "Evaluating on train...\n",
            "Val loss: 0.5237014996153968, Val f1: 0.8390191793441772\n",
            "Val loss: 0.5060855016626161, Val f1: 0.8082852363586426\n",
            "Val loss: 0.5008775605396791, Val f1: 0.799544632434845\n",
            "Val loss: 0.49724636189008165, Val f1: 0.7958133220672607\n",
            "Val loss: 0.49543629224235947, Val f1: 0.7941734790802002\n",
            "\n",
            "Evaluating on test...\n",
            "Val loss: 0.6909491221110026, Val f1: 1.0140266418457031\n",
            "Val loss: 0.5939731512750898, Val f1: 0.8644107580184937\n",
            "Val loss: 0.5663025216622786, Val f1: 0.8271111249923706\n",
            "Val loss: 0.5542503714561462, Val f1: 0.8086448907852173\n",
            "Val loss: 0.5453664440857736, Val f1: 0.8001902103424072\n",
            "\n",
            "starting Epoch 7\n",
            "Training...\n",
            "Train loss: 0.5321893053395408\n",
            "Train loss: 0.510778414792028\n",
            "Train loss: 0.4974103265187957\n",
            "Train loss: 0.49288389995946724\n",
            "Train loss: 0.49163691659231445\n",
            "\n",
            "Evaluating on train...\n",
            "Val loss: 0.4964848352330072, Val f1: 0.828542947769165\n",
            "Val loss: 0.48104614430460435, Val f1: 0.7978278994560242\n",
            "Val loss: 0.47562599317594006, Val f1: 0.7880910038948059\n",
            "Val loss: 0.47223471635479036, Val f1: 0.7839499711990356\n",
            "Val loss: 0.47087006633346146, Val f1: 0.78253173828125\n",
            "\n",
            "Evaluating on test...\n",
            "Val loss: 0.6740992665290833, Val f1: 0.9748429656028748\n",
            "Val loss: 0.5790173539093563, Val f1: 0.8316152095794678\n",
            "Val loss: 0.552778192541816, Val f1: 0.797591507434845\n",
            "Val loss: 0.539542422691981, Val f1: 0.7805352807044983\n",
            "Val loss: 0.5304759411435378, Val f1: 0.7729367017745972\n",
            "\n",
            "starting Epoch 8\n",
            "Training...\n",
            "Train loss: 0.5083916847194944\n",
            "Train loss: 0.4868375977565502\n",
            "Train loss: 0.48068440095944837\n",
            "Train loss: 0.4786093901779692\n",
            "Train loss: 0.476663808564882\n",
            "\n",
            "Evaluating on train...\n",
            "Val loss: 0.4867433032819203, Val f1: 0.8558148145675659\n",
            "Val loss: 0.4671639841178368, Val f1: 0.8285655975341797\n",
            "Val loss: 0.4625069857998328, Val f1: 0.8181586861610413\n",
            "Val loss: 0.4608797087507733, Val f1: 0.812746524810791\n",
            "Val loss: 0.45962240446258235, Val f1: 0.8094899654388428\n",
            "\n",
            "Evaluating on test...\n",
            "Val loss: 0.6697203616301218, Val f1: 1.020506739616394\n",
            "Val loss: 0.5747272414820535, Val f1: 0.8687302470207214\n",
            "Val loss: 0.5481897565451536, Val f1: 0.8321412205696106\n",
            "Val loss: 0.5359206557273865, Val f1: 0.8120796084403992\n",
            "Val loss: 0.5273752071355519, Val f1: 0.8036967515945435\n",
            "\n",
            "starting Epoch 9\n",
            "Training...\n",
            "Train loss: 0.49519010739667074\n",
            "Train loss: 0.4743932156727232\n",
            "Train loss: 0.46648339182138443\n",
            "Train loss: 0.4648012079424777\n",
            "Train loss: 0.46321267936680766\n",
            "\n",
            "Evaluating on train...\n",
            "Val loss: 0.47170548353876385, Val f1: 0.8598230481147766\n",
            "Val loss: 0.4557878652523304, Val f1: 0.828831136226654\n",
            "Val loss: 0.4502425207333131, Val f1: 0.8186013698577881\n",
            "Val loss: 0.447385371741602, Val f1: 0.8137637376785278\n",
            "Val loss: 0.4465972036123276, Val f1: 0.8107069730758667\n",
            "\n",
            "Evaluating on test...\n",
            "Val loss: 0.6598617633183798, Val f1: 1.0084607601165771\n",
            "Val loss: 0.5667102805205754, Val f1: 0.8583618998527527\n",
            "Val loss: 0.5403198491443287, Val f1: 0.823560893535614\n",
            "Val loss: 0.5275862395763398, Val f1: 0.8040412068367004\n",
            "Val loss: 0.5190066663842452, Val f1: 0.7959307432174683\n"
          ]
        }
      ]
    },
    {
      "cell_type": "code",
      "metadata": {
        "colab": {
          "base_uri": "https://localhost:8080/",
          "height": 295
        },
        "id": "KdpynFjq0jGr",
        "outputId": "dd251f23-b4d3-41c3-a71f-16245ffae089"
      },
      "source": [
        "import matplotlib.pyplot as plt\n",
        "plt.plot(losses)\n",
        "plt.plot(losses_eval)\n",
        "plt.title('BCE loss value')\n",
        "plt.ylabel('BCE loss')\n",
        "plt.xlabel('epoch')\n",
        "plt.legend(['train', 'val'], loc='upper right')\n",
        "plt.show()"
      ],
      "execution_count": 257,
      "outputs": [
        {
          "output_type": "display_data",
          "data": {
            "image/png": "[encoded data removed]",
            "text/plain": [
              "<Figure size 432x288 with 1 Axes>"
            ]
          },
          "metadata": {
            "needs_background": "light"
          }
        }
      ]
    },
    {
      "cell_type": "code",
      "metadata": {
        "colab": {
          "base_uri": "https://localhost:8080/",
          "height": 295
        },
        "id": "HH02ISJj0qkk",
        "outputId": "2c9347da-dc66-4bb8-d17e-645ab4f0f546"
      },
      "source": [
        "plt.plot(f1s)\n",
        "plt.plot(f1s_eval)\n",
        "plt.title('f1 value')\n",
        "plt.ylabel('f1 value')\n",
        "plt.xlabel('epoch')\n",
        "plt.legend(['train', 'val'], loc='upper right')\n",
        "plt.show()"
      ],
      "execution_count": 258,
      "outputs": [
        {
          "output_type": "display_data",
          "data": {
            "image/png": "[encoded data removed]",
            "text/plain": [
              "<Figure size 432x288 with 1 Axes>"
            ]
          },
          "metadata": {
            "needs_background": "light"
          }
        }
      ]
    },
    {
      "cell_type": "code",
      "metadata": {
        "id": "qslqgsMF0ulV"
      },
      "source": [
        "def predict(model, iterator):\n",
        "    model.eval()\n",
        "    fp = []\n",
        "    fn = []\n",
        "    tp = [] \n",
        "    tn = []\n",
        "    with torch.no_grad():\n",
        "        for i, (word_seq, symb_seq, ys) in enumerate(iterator):  \n",
        "            preds = model(word_seq, symb_seq)  # делаем предсказания на тесте \n",
        "            for pred, gold, text in zip(preds, ys, word_seq):\n",
        "              text = ' '.join([id2word[int(word)] for word in text if word !=0])\n",
        "              if round(pred.item()) > gold:\n",
        "                fp.append(text)\n",
        "              elif round(pred.item()) < gold:\n",
        "                fn.append(text)\n",
        "              elif round(pred.item()) == gold == 1:\n",
        "                tp.append(text)\n",
        "              elif round(pred.item()) == gold == 0:\n",
        "                tn.append(text)\n",
        "    return fp, fn, tp, tn"
      ],
      "execution_count": 259,
      "outputs": []
    },
    {
      "cell_type": "code",
      "metadata": {
        "colab": {
          "base_uri": "https://localhost:8080/"
        },
        "id": "6h1KgOTj0x8r",
        "outputId": "700eb70d-05a4-4f88-c011-07ac6ae011e7"
      },
      "source": [
        "fp, fn, tp, tn = predict(model, val_iterator)\n",
        "recall = len(tp)/(len(tp) + len(fn))\n",
        "precision = len(tp)/(len(tp) + len(fp))\n",
        "f_score = 2 * precision * recall / (precision + recall)\n",
        "f_score"
      ],
      "execution_count": 260,
      "outputs": [
        {
          "output_type": "execute_result",
          "data": {
            "text/plain": [
              "0.7563133185075365"
            ]
          },
          "metadata": {},
          "execution_count": 260
        }
      ]
    },
    {
      "cell_type": "code",
      "metadata": {
        "colab": {
          "base_uri": "https://localhost:8080/"
        },
        "id": "hKpPp7KV2ZjO",
        "outputId": "565d3060-aff6-4629-e536-2c28621615b1"
      },
      "source": [
        "tp[:5]"
      ],
      "execution_count": 261,
      "outputs": [
        {
          "output_type": "execute_result",
          "data": {
            "text/plain": [
              "['USER давно не вам удачи вперед мои любимые ребята',\n",
              " 'как дела что делаете как настроение а хотя вы такие пидары что не d',\n",
              " 'нас уже 1 и так держать мы и дальше будем стараться для вас спасибо что вы с нами URL',\n",
              " 'USER под тренд пусть лучше он под нас',\n",
              " 'USER от бизнес школ меня освободили а на 1 пару ехать']"
            ]
          },
          "metadata": {},
          "execution_count": 261
        }
      ]
    },
    {
      "cell_type": "markdown",
      "metadata": {
        "id": "iVgAguNDEl-n"
      },
      "source": [
        "результат неплохой, попробуем убрать препроц + добавить эпох + не обрезать словарь по частотности"
      ]
    },
    {
      "cell_type": "code",
      "metadata": {
        "id": "cx7F7KYQGnIC"
      },
      "source": [
        "vocab = Counter()\n",
        "for text in tweets_data['text']:\n",
        "    vocab.update(text.split())\n",
        "\n",
        "word2id = {'PAD':0}\n",
        "\n",
        "for word in vocab:\n",
        "    word2id[word] = len(word2id)\n",
        "\n",
        "char_vocab = Counter()\n",
        "for text in tweets_data['text']:\n",
        "    for word in text:\n",
        "      char_vocab.update(list(word))\n",
        "\n",
        "symbol2id = {'PAD':0}\n",
        "\n",
        "for symbol in char_vocab:\n",
        "    symbol2id[symbol] = len(symbol2id)\n",
        "\n",
        "id2word = {i:word for word, i in word2id.items()}\n",
        "id2symbol = {i:symbol for symbol, i in symbol2id.items()}"
      ],
      "execution_count": 267,
      "outputs": []
    },
    {
      "cell_type": "code",
      "metadata": {
        "colab": {
          "base_uri": "https://localhost:8080/"
        },
        "id": "mFEIsGxVHEnZ",
        "outputId": "7221e1bc-6217-44d1-8b97-0279c42cd7b0"
      },
      "source": [
        "print(len(symbol2id), len(word2id))"
      ],
      "execution_count": 270,
      "outputs": [
        {
          "output_type": "stream",
          "name": "stdout",
          "text": [
            "338 305485\n"
          ]
        }
      ]
    },
    {
      "cell_type": "code",
      "metadata": {
        "id": "hFeZ76u7EqC_"
      },
      "source": [
        "class WSTweetsDataset(Dataset):\n",
        "\n",
        "    def __init__(self, dataset, word2id, symbol2id, DEVICE):\n",
        "        self.dataset = dataset['text'].values\n",
        "        self.word2id = word2id\n",
        "        self.symbol2id = symbol2id\n",
        "        self.length = dataset.shape[0]\n",
        "        self.target = torch.Tensor(dataset['tone'].values)\n",
        "        self.device = DEVICE\n",
        "\n",
        "    def __len__(self):\n",
        "        return self.length\n",
        "\n",
        "    def __getitem__(self, index): \n",
        "        symbols = list(self.dataset[index])\n",
        "        symb_ids = torch.LongTensor([self.symbol2id[symbol] for symbol in symbols if symbol in self.symbol2id])\n",
        "        tokens = self.dataset[index].split()\n",
        "        word_ids = torch.LongTensor([self.word2id[token] for token in tokens if token in self.word2id])\n",
        "        y = [self.target[index]]\n",
        "        return word_ids, symb_ids, y\n",
        "\n",
        "    def collate_fn(self, batch): #этот метод можно реализовывать и отдельно,\n",
        "    # он понадобится для DataLoader во время итерации по батчам\n",
        "      word_ids, symb_ids, y = list(zip(*batch))\n",
        "      padded_words = pad_sequence(word_ids, batch_first=True).to(self.device)\n",
        "      padded_symbs = pad_sequence(symb_ids, batch_first=True).to(self.device)\n",
        "      y = torch.Tensor(y).to(self.device)\n",
        "      return padded_words, padded_symbs, y"
      ],
      "execution_count": 271,
      "outputs": []
    },
    {
      "cell_type": "code",
      "metadata": {
        "id": "zVSMwLzaFbVz"
      },
      "source": [
        "train_dataset = WSTweetsDataset(train_sentences, word2id, symbol2id, DEVICE)\n",
        "train_sampler = RandomSampler(train_dataset)\n",
        "train_iterator = DataLoader(train_dataset, collate_fn = train_dataset.collate_fn, sampler=train_sampler, batch_size=1024)"
      ],
      "execution_count": 272,
      "outputs": []
    },
    {
      "cell_type": "code",
      "metadata": {
        "id": "5a90UPgrFiDF"
      },
      "source": [
        "val_dataset = WSTweetsDataset(val_sentences, word2id, symbol2id, DEVICE)\n",
        "val_sampler = SequentialSampler(val_dataset)\n",
        "val_iterator = DataLoader(val_dataset, collate_fn = val_dataset.collate_fn, sampler=val_sampler, batch_size=1024)"
      ],
      "execution_count": 273,
      "outputs": []
    },
    {
      "cell_type": "code",
      "metadata": {
        "id": "NXHuqY_vFiNz"
      },
      "source": [
        "model = WSCNN(len(symbol2id), 10, len(word2id))\n",
        "optimizer = optim.Adam(model.parameters(), lr=0.001)\n",
        "criterion = nn.BCELoss() \n",
        "\n",
        "# веса модели и значения лосса храним там же, где и все остальные тензоры\n",
        "model = model.to(DEVICE)\n",
        "criterion = criterion.to(DEVICE)"
      ],
      "execution_count": 274,
      "outputs": []
    },
    {
      "cell_type": "code",
      "metadata": {
        "colab": {
          "base_uri": "https://localhost:8080/"
        },
        "id": "IDLmhzaSF1hx",
        "outputId": "083e3f56-a3f7-4749-82ce-cc4614ac2088"
      },
      "source": [
        "losses = []\n",
        "losses_eval = []\n",
        "f1s = []\n",
        "f1s_eval = []\n",
        "\n",
        "for i in range(15):\n",
        "    print(f'\\nstarting Epoch {i}')\n",
        "    print('Training...')\n",
        "    epoch_loss = train(model, train_iterator, optimizer, criterion)\n",
        "    losses.append(epoch_loss)\n",
        "    print('\\nEvaluating on train...')\n",
        "    f1_on_train,_ = evaluate(model, train_iterator, criterion)\n",
        "    f1s.append(f1_on_train)\n",
        "    print('\\nEvaluating on test...')\n",
        "    f1_on_test, epoch_loss_on_test = evaluate(model, val_iterator, criterion)\n",
        "    losses_eval.append(epoch_loss_on_test)\n",
        "    f1s_eval.append(f1_on_test)"
      ],
      "execution_count": 275,
      "outputs": [
        {
          "output_type": "stream",
          "name": "stdout",
          "text": [
            "\n",
            "starting Epoch 0\n",
            "Training...\n",
            "Train loss: 0.7829427548817226\n",
            "Train loss: 0.7261351840249424\n",
            "Train loss: 0.6992298594929955\n",
            "Train loss: 0.6746769416130195\n",
            "Train loss: 0.6445169565645424\n",
            "\n",
            "Evaluating on train...\n",
            "Val loss: 0.4958380460739136, Val f1: 0.9539183378219604\n",
            "Val loss: 0.47931364692490674, Val f1: 0.9194748997688293\n",
            "Val loss: 0.4740449874238534, Val f1: 0.909337043762207\n",
            "Val loss: 0.47069942446078283, Val f1: 0.9060183167457581\n",
            "Val loss: 0.4695067498329523, Val f1: 0.9026559591293335\n",
            "\n",
            "Evaluating on test...\n",
            "Val loss: 0.6200776696205139, Val f1: 1.1890051364898682\n",
            "Val loss: 0.5320288028035846, Val f1: 1.0152311325073242\n",
            "Val loss: 0.5070147947831587, Val f1: 0.9716357588768005\n",
            "Val loss: 0.4958838224411011, Val f1: 0.9492861032485962\n",
            "Val loss: 0.4894339504994844, Val f1: 0.9364045858383179\n",
            "\n",
            "starting Epoch 1\n",
            "Training...\n",
            "Train loss: 0.4115755132266453\n",
            "Train loss: 0.3345758858425864\n",
            "Train loss: 0.2807788750664754\n",
            "Train loss: 0.24130230838969602\n",
            "Train loss: 0.2117117068453415\n",
            "\n",
            "Evaluating on train...\n",
            "Val loss: 0.07467181741126946, Val f1: 1.0533607006072998\n",
            "Val loss: 0.07183425205534902, Val f1: 1.016809344291687\n",
            "Val loss: 0.07002754001454874, Val f1: 1.005569338798523\n",
            "Val loss: 0.06943387279318551, Val f1: 1.0000532865524292\n",
            "Val loss: 0.06935509173451243, Val f1: 0.9965814352035522\n",
            "\n",
            "Evaluating on test...\n",
            "Val loss: 0.09478267033894856, Val f1: 1.3104737997055054\n",
            "Val loss: 0.07985005208424159, Val f1: 1.1238899230957031\n",
            "Val loss: 0.0759479437362064, Val f1: 1.0727125406265259\n",
            "Val loss: 0.0736328681310018, Val f1: 1.048842430114746\n",
            "Val loss: 0.07325257949138943, Val f1: 1.0352131128311157\n",
            "\n",
            "starting Epoch 2\n",
            "Training...\n",
            "Train loss: 0.06928377811397825\n",
            "Train loss: 0.0615708875501978\n",
            "Train loss: 0.05652271659875458\n",
            "Train loss: 0.05196280689057657\n",
            "Train loss: 0.04829441723287911\n",
            "\n",
            "Evaluating on train...\n",
            "Val loss: 0.028769265727273056, Val f1: 1.0605381727218628\n",
            "Val loss: 0.026342415925243806, Val f1: 1.0252820253372192\n",
            "Val loss: 0.02598443441092968, Val f1: 1.0137450695037842\n",
            "Val loss: 0.025535015989158114, Val f1: 1.008220911026001\n",
            "Val loss: 0.02543315621143257, Val f1: 1.0049439668655396\n",
            "\n",
            "Evaluating on test...\n",
            "Val loss: 0.03390843483308951, Val f1: 1.3232513666152954\n",
            "Val loss: 0.02922133861907891, Val f1: 1.1329026222229004\n",
            "Val loss: 0.02782986821098761, Val f1: 1.081527590751648\n",
            "Val loss: 0.02738303889830907, Val f1: 1.0574426651000977\n",
            "Val loss: 0.027476269163583453, Val f1: 1.0430195331573486\n",
            "\n",
            "starting Epoch 3\n",
            "Training...\n",
            "Train loss: 0.031045224517583847\n",
            "Train loss: 0.028531096618751\n",
            "Train loss: 0.026169991798021576\n",
            "Train loss: 0.02449182446225215\n",
            "Train loss: 0.02308602918040108\n",
            "\n",
            "Evaluating on train...\n",
            "Val loss: 0.01198235566594771, Val f1: 1.0697981119155884\n",
            "Val loss: 0.011511291023986093, Val f1: 1.0327692031860352\n",
            "Val loss: 0.01165887379002842, Val f1: 1.0207767486572266\n",
            "Val loss: 0.011583917048144139, Val f1: 1.0149387121200562\n",
            "Val loss: 0.011661377823534044, Val f1: 1.0116095542907715\n",
            "\n",
            "Evaluating on test...\n",
            "Val loss: 0.01518067034582297, Val f1: 1.3323748111724854\n",
            "Val loss: 0.013654021679290704, Val f1: 1.1406381130218506\n",
            "Val loss: 0.012972548434680159, Val f1: 1.088730812072754\n",
            "Val loss: 0.012938507522145907, Val f1: 1.0642852783203125\n",
            "Val loss: 0.012940800405646624, Val f1: 1.0502663850784302\n",
            "\n",
            "starting Epoch 4\n",
            "Training...\n",
            "Train loss: 0.014740585615592343\n",
            "Train loss: 0.014608133680604655\n",
            "Train loss: 0.013942812844602899\n",
            "Train loss: 0.014235116020476415\n",
            "Train loss: 0.01348742244236574\n",
            "\n",
            "Evaluating on train...\n",
            "Val loss: 0.00811673015622156, Val f1: 1.0699903964996338\n",
            "Val loss: 0.007886025540787598, Val f1: 1.0331259965896606\n",
            "Val loss: 0.0073858003809370775, Val f1: 1.0215458869934082\n",
            "Val loss: 0.007271126504608635, Val f1: 1.0157495737075806\n",
            "Val loss: 0.007480818425884118, Val f1: 1.0122168064117432\n",
            "\n",
            "Evaluating on test...\n",
            "Val loss: 0.009095259321232637, Val f1: 1.333019733428955\n",
            "Val loss: 0.00847695195781333, Val f1: 1.1416085958480835\n",
            "Val loss: 0.008335185491225937, Val f1: 1.0894304513931274\n",
            "Val loss: 0.008464502481122812, Val f1: 1.0648608207702637\n",
            "Val loss: 0.008392343322109235, Val f1: 1.0510135889053345\n",
            "\n",
            "starting Epoch 5\n",
            "Training...\n",
            "Train loss: 0.011572758268032755\n",
            "Train loss: 0.010269030350549468\n",
            "Train loss: 0.009607376012189145\n",
            "Train loss: 0.009355960078379614\n",
            "Train loss: 0.008893505981619898\n",
            "\n",
            "Evaluating on train...\n",
            "Val loss: 0.004898705220382128, Val f1: 1.0705989599227905\n",
            "Val loss: 0.004743727558324563, Val f1: 1.0337454080581665\n",
            "Val loss: 0.004622101921334185, Val f1: 1.022087574005127\n",
            "Val loss: 0.004520602966264143, Val f1: 1.016373634338379\n",
            "Val loss: 0.004446192562731134, Val f1: 1.0129497051239014\n",
            "\n",
            "Evaluating on test...\n",
            "Val loss: 0.005419365130364895, Val f1: 1.3333333730697632\n",
            "Val loss: 0.005162267480045557, Val f1: 1.1422961950302124\n",
            "Val loss: 0.005222517616030845, Val f1: 1.0899536609649658\n",
            "Val loss: 0.005337551049888134, Val f1: 1.0656394958496094\n",
            "Val loss: 0.005232878127380421, Val f1: 1.0518206357955933\n",
            "\n",
            "starting Epoch 6\n",
            "Training...\n",
            "Train loss: 0.007106869182150278\n",
            "Train loss: 0.007002524806764619\n",
            "Train loss: 0.006828213544477793\n",
            "Train loss: 0.006865129766638501\n",
            "Train loss: 0.006700684225211876\n",
            "\n",
            "Evaluating on train...\n",
            "Val loss: 0.0037955937275130835, Val f1: 1.0709426403045654\n",
            "Val loss: 0.003683473433143106, Val f1: 1.0339444875717163\n",
            "Val loss: 0.003580649380720305, Val f1: 1.0221983194351196\n",
            "Val loss: 0.0035563348042699744, Val f1: 1.0163911581039429\n",
            "Val loss: 0.0035362302095981665, Val f1: 1.012963891029358\n",
            "\n",
            "Evaluating on test...\n",
            "Val loss: 0.004016713239252567, Val f1: 1.3333333730697632\n",
            "Val loss: 0.0039320584453110185, Val f1: 1.1422961950302124\n",
            "Val loss: 0.004232670095833865, Val f1: 1.0899536609649658\n",
            "Val loss: 0.004409445884327094, Val f1: 1.0655744075775146\n",
            "Val loss: 0.00427893307795258, Val f1: 1.0516713857650757\n",
            "\n",
            "starting Epoch 7\n",
            "Training...\n",
            "Train loss: 0.005816630786284804\n",
            "Train loss: 0.005661246447085306\n",
            "Train loss: 0.005461450592106717\n",
            "Train loss: 0.005555565563677731\n",
            "Train loss: 0.005315514215318537\n",
            "\n",
            "Evaluating on train...\n",
            "Val loss: 0.003156460555536406, Val f1: 1.0709459781646729\n",
            "Val loss: 0.002947396438183456, Val f1: 1.034085750579834\n",
            "Val loss: 0.0030324283182959666, Val f1: 1.0222889184951782\n",
            "Val loss: 0.003044020524643109, Val f1: 1.016438603401184\n",
            "Val loss: 0.0031055984939951952, Val f1: 1.0129631757736206\n",
            "\n",
            "Evaluating on test...\n",
            "Val loss: 0.003453206503763795, Val f1: 1.333019733428955\n",
            "Val loss: 0.0034570966714194845, Val f1: 1.1421617269515991\n",
            "Val loss: 0.003867355471646244, Val f1: 1.0897860527038574\n",
            "Val loss: 0.00405099093914032, Val f1: 1.0653854608535767\n",
            "Val loss: 0.003893967656614749, Val f1: 1.0515222549438477\n",
            "\n",
            "starting Epoch 8\n",
            "Training...\n",
            "Train loss: 0.004189491155557334\n",
            "Train loss: 0.003592994690326781\n",
            "Train loss: 0.004079604987055063\n",
            "Train loss: 0.004045921101597912\n",
            "Train loss: 0.003952593196535835\n",
            "\n",
            "Evaluating on train...\n",
            "Val loss: 0.0016459110567146646, Val f1: 1.071294903755188\n",
            "Val loss: 0.0015746635437043834, Val f1: 1.0343849658966064\n",
            "Val loss: 0.0016672980564180762, Val f1: 1.0226200819015503\n",
            "Val loss: 0.0017545548103891817, Val f1: 1.0167889595031738\n",
            "Val loss: 0.0016617577309040604, Val f1: 1.0133858919143677\n",
            "\n",
            "Evaluating on test...\n",
            "Val loss: 0.0019306952987487118, Val f1: 1.3333333730697632\n",
            "Val loss: 0.001881241366001112, Val f1: 1.1428571939468384\n",
            "Val loss: 0.0021225333171473308, Val f1: 1.09065580368042\n",
            "Val loss: 0.0022004645395403105, Val f1: 1.0664156675338745\n",
            "Val loss: 0.0021051060604421715, Val f1: 1.0524333715438843\n",
            "\n",
            "starting Epoch 9\n",
            "Training...\n",
            "Train loss: 0.004069699456782213\n",
            "Train loss: 0.003864579296124906\n",
            "Train loss: 0.003964596396227452\n",
            "Train loss: 0.0037455360930002592\n",
            "Train loss: 0.0037296268510053285\n",
            "\n",
            "Evaluating on train...\n",
            "Val loss: 0.0018504974182828196, Val f1: 1.0712288618087769\n",
            "Val loss: 0.0019084487576037645, Val f1: 1.0342202186584473\n",
            "Val loss: 0.0018263323105533016, Val f1: 1.0224659442901611\n",
            "Val loss: 0.0017855827138222502, Val f1: 1.0166538953781128\n",
            "Val loss: 0.0017429205370324387, Val f1: 1.0132402181625366\n",
            "\n",
            "Evaluating on test...\n",
            "Val loss: 0.001937473736082514, Val f1: 1.3333333730697632\n",
            "Val loss: 0.00197950514432575, Val f1: 1.142575979232788\n",
            "Val loss: 0.0024296801262111826, Val f1: 1.0902175903320312\n",
            "Val loss: 0.0025334327559297285, Val f1: 1.0660303831100464\n",
            "Val loss: 0.0023846455089943973, Val f1: 1.0521292686462402\n",
            "\n",
            "starting Epoch 10\n",
            "Training...\n",
            "Train loss: 0.003955541810552988\n",
            "Train loss: 0.0033746905151176556\n",
            "Train loss: 0.003004589549329301\n",
            "Train loss: 0.003020214826515797\n",
            "Train loss: 0.002900221266286649\n",
            "\n",
            "Evaluating on train...\n",
            "Val loss: 0.0009045074901743126, Val f1: 1.071428656578064\n",
            "Val loss: 0.0009425828707051175, Val f1: 1.034482717514038\n",
            "Val loss: 0.0009010397307892246, Val f1: 1.022705078125\n",
            "Val loss: 0.0009006143831726858, Val f1: 1.016899585723877\n",
            "Val loss: 0.0009716968264468518, Val f1: 1.013434886932373\n",
            "\n",
            "Evaluating on test...\n",
            "Val loss: 0.0011485109959418576, Val f1: 1.3333333730697632\n",
            "Val loss: 0.0011118612185652768, Val f1: 1.1428571939468384\n",
            "Val loss: 0.0013778246304189618, Val f1: 1.09065580368042\n",
            "Val loss: 0.0014343021825576822, Val f1: 1.0664156675338745\n",
            "Val loss: 0.001349937648659474, Val f1: 1.0524333715438843\n",
            "\n",
            "starting Epoch 11\n",
            "Training...\n",
            "Train loss: 0.0030644318196989062\n",
            "Train loss: 0.002849977746493472\n",
            "Train loss: 0.002676620882332579\n",
            "Train loss: 0.002549045515972805\n",
            "Train loss: 0.0025345481022865184\n",
            "\n",
            "Evaluating on train...\n",
            "Val loss: 0.0008428772707702592, Val f1: 1.0713597536087036\n",
            "Val loss: 0.0007979602488721239, Val f1: 1.0343830585479736\n",
            "Val loss: 0.0008231629749802364, Val f1: 1.022661566734314\n",
            "Val loss: 0.0008373073937560795, Val f1: 1.0168838500976562\n",
            "Val loss: 0.0007987761523140393, Val f1: 1.0134614706039429\n",
            "\n",
            "Evaluating on test...\n",
            "Val loss: 0.0009412955453929802, Val f1: 1.3333333730697632\n",
            "Val loss: 0.0009537598484062723, Val f1: 1.1428571939468384\n",
            "Val loss: 0.0012858011653985489, Val f1: 1.0905696153640747\n",
            "Val loss: 0.0013312761128569642, Val f1: 1.0663524866104126\n",
            "Val loss: 0.0012277049888660642, Val f1: 1.0523834228515625\n",
            "\n",
            "starting Epoch 12\n",
            "Training...\n",
            "Train loss: 0.0028268768302431063\n",
            "Train loss: 0.002334968243115421\n",
            "Train loss: 0.002152576090090654\n",
            "Train loss: 0.0022718981914695794\n",
            "Train loss: 0.0021982247228545413\n",
            "\n",
            "Evaluating on train...\n",
            "Val loss: 0.0006137508441627558, Val f1: 1.071428656578064\n",
            "Val loss: 0.0006611492306170664, Val f1: 1.034482717514038\n",
            "Val loss: 0.0006583470187086442, Val f1: 1.022704839706421\n",
            "Val loss: 0.000713040850961865, Val f1: 1.0169003009796143\n",
            "Val loss: 0.0007127576819904199, Val f1: 1.0134613513946533\n",
            "\n",
            "Evaluating on test...\n",
            "Val loss: 0.0008491254508650551, Val f1: 1.3333333730697632\n",
            "Val loss: 0.0008571049339869725, Val f1: 1.1428571939468384\n",
            "Val loss: 0.0012642816952641376, Val f1: 1.0905696153640747\n",
            "Val loss: 0.0012976701584799836, Val f1: 1.0663524866104126\n",
            "Val loss: 0.0011834496567883577, Val f1: 1.0523834228515625\n",
            "\n",
            "starting Epoch 13\n",
            "Training...\n",
            "Train loss: 0.0020710450272807585\n",
            "Train loss: 0.0018400149741049472\n",
            "Train loss: 0.0020381954408631745\n",
            "Train loss: 0.0019392660593069396\n",
            "Train loss: 0.0019168122297914295\n",
            "\n",
            "Evaluating on train...\n",
            "Val loss: 0.0008108732831065676, Val f1: 1.0712878704071045\n",
            "Val loss: 0.0007100643345219051, Val f1: 1.0344147682189941\n",
            "Val loss: 0.0006390656953127208, Val f1: 1.022682547569275\n",
            "Val loss: 0.0006358570108975489, Val f1: 1.0169157981872559\n",
            "Val loss: 0.0006408343334270112, Val f1: 1.0134741067886353\n",
            "\n",
            "Evaluating on test...\n",
            "Val loss: 0.0008123282653590044, Val f1: 1.3333333730697632\n",
            "Val loss: 0.0007821687447306301, Val f1: 1.1428571939468384\n",
            "Val loss: 0.0012630178243853152, Val f1: 1.0905696153640747\n",
            "Val loss: 0.0012679286068305374, Val f1: 1.0663524866104126\n",
            "Val loss: 0.001148448102053647, Val f1: 1.0523834228515625\n",
            "\n",
            "starting Epoch 14\n",
            "Training...\n",
            "Train loss: 0.0016875358331682427\n",
            "Train loss: 0.001677636185596729\n",
            "Train loss: 0.002040797368946104\n",
            "Train loss: 0.0019044894927331263\n",
            "Train loss: 0.0018281602800974774\n",
            "\n",
            "Evaluating on train...\n",
            "Val loss: 0.000869107894167038, Val f1: 1.0712921619415283\n",
            "Val loss: 0.0008034189442445621, Val f1: 1.0343174934387207\n",
            "Val loss: 0.0007376338154162196, Val f1: 1.0226184129714966\n",
            "Val loss: 0.0007008293762475537, Val f1: 1.016867995262146\n",
            "Val loss: 0.0007071349735614038, Val f1: 1.0134358406066895\n",
            "\n",
            "Evaluating on test...\n",
            "Val loss: 0.0009876364395798494, Val f1: 1.3333333730697632\n",
            "Val loss: 0.0009508813756318497, Val f1: 1.1428571939468384\n",
            "Val loss: 0.0014126695168670267, Val f1: 1.0905696153640747\n",
            "Val loss: 0.0014397760717353473, Val f1: 1.0663524866104126\n",
            "Val loss: 0.0012998559166015567, Val f1: 1.0523834228515625\n"
          ]
        }
      ]
    },
    {
      "cell_type": "code",
      "metadata": {
        "colab": {
          "base_uri": "https://localhost:8080/",
          "height": 295
        },
        "id": "XZGTLwVTF8DB",
        "outputId": "65e74577-f837-45ad-c2e5-2a7c2289c32a"
      },
      "source": [
        "plt.plot(losses)\n",
        "plt.plot(losses_eval)\n",
        "plt.title('BCE loss value')\n",
        "plt.ylabel('BCE loss')\n",
        "plt.xlabel('epoch')\n",
        "plt.legend(['train', 'val'], loc='upper right')\n",
        "plt.show()"
      ],
      "execution_count": 276,
      "outputs": [
        {
          "output_type": "display_data",
          "data": {
            "image/png": "[encoded data removed]",
            "text/plain": [
              "<Figure size 432x288 with 1 Axes>"
            ]
          },
          "metadata": {
            "needs_background": "light"
          }
        }
      ]
    },
    {
      "cell_type": "code",
      "metadata": {
        "colab": {
          "base_uri": "https://localhost:8080/",
          "height": 295
        },
        "id": "KW2X49X5HpDS",
        "outputId": "cba2b062-f7b2-420d-b3aa-f6e1cd4774df"
      },
      "source": [
        "plt.plot(f1s)\n",
        "plt.plot(f1s_eval)\n",
        "plt.title('f1 value')\n",
        "plt.ylabel('f1 value')\n",
        "plt.xlabel('epoch')\n",
        "plt.legend(['train', 'val'], loc='upper right')\n",
        "plt.show()"
      ],
      "execution_count": 277,
      "outputs": [
        {
          "output_type": "display_data",
          "data": {
            "image/png": "[encoded data removed]",
            "text/plain": [
              "<Figure size 432x288 with 1 Axes>"
            ]
          },
          "metadata": {
            "needs_background": "light"
          }
        }
      ]
    },
    {
      "cell_type": "code",
      "metadata": {
        "colab": {
          "base_uri": "https://localhost:8080/"
        },
        "id": "Doo44i3EHvdo",
        "outputId": "969a60e0-4d69-48e6-8b17-7cb579d74ecf"
      },
      "source": [
        "fp, fn, tp, tn = predict(model, val_iterator)\n",
        "recall = len(tp)/(len(tp) + len(fn))\n",
        "precision = len(tp)/(len(tp) + len(fp))\n",
        "f_score = 2 * precision * recall / (precision + recall)\n",
        "f_score"
      ],
      "execution_count": 278,
      "outputs": [
        {
          "output_type": "execute_result",
          "data": {
            "text/plain": [
              "0.999755058051242"
            ]
          },
          "metadata": {},
          "execution_count": 278
        }
      ]
    },
    {
      "cell_type": "markdown",
      "metadata": {
        "id": "HXg1iAtbH7rU"
      },
      "source": [
        "результат получился высоким. вывод: скобочки, смайлики и проч. сильно влияют на оценку тональности твитов. текст сам по себе не так важен, как символы, которыми он сопровождается. :)"
      ]
    }
  ]
}
