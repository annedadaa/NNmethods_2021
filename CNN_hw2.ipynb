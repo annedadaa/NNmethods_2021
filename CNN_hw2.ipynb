{
  "nbformat": 4,
  "nbformat_minor": 0,
  "metadata": {
    "accelerator": "GPU",
    "colab": {
      "name": "CNN_hw2.ipynb",
      "provenance": [],
      "collapsed_sections": []
    },
    "kernelspec": {
      "display_name": "Python 3",
      "name": "python3"
    },
    "language_info": {
      "name": "python"
    }
  },
  "cells": [
    {
      "cell_type": "code",
      "metadata": {
        "id": "dcZtlPu-OXZd"
      },
      "source": [
        "import pandas as pd\n",
        "import numpy as np\n",
        "import re\n",
        "from string import punctuation\n",
        "from collections import Counter\n",
        "import matplotlib.pyplot as plt\n",
        "\n",
        "from sklearn.model_selection import train_test_split\n",
        "from sklearn.utils import shuffle\n",
        "import torch\n",
        "import torch.nn as nn\n",
        "import torch.nn.functional as F\n",
        "from torch.utils.data import Dataset, DataLoader, RandomSampler, SequentialSampler\n",
        "from torch.nn.utils.rnn import pad_sequence\n",
        "import torch.optim as optim\n",
        "from torchmetrics.functional import f1\n",
        "from gensim.models import FastText\n",
        "import ipdb\n",
        "import spacy\n",
        "import tqdm"
      ],
      "execution_count": 132,
      "outputs": []
    },
    {
      "cell_type": "code",
      "metadata": {
        "id": "VFBsqq6eO52p"
      },
      "source": [
        "# !pip install ipdb\n",
        "# !pip install torchmetrics"
      ],
      "execution_count": 131,
      "outputs": []
    },
    {
      "cell_type": "code",
      "metadata": {
        "id": "IIQ1Dj_pOp46"
      },
      "source": [
        "# !wget https://www.dropbox.com/s/r6u59ljhhjdg6j0/negative.csv\n",
        "# !wget https://www.dropbox.com/s/fnpq3z4bcnoktiv/positive.csv"
      ],
      "execution_count": 134,
      "outputs": []
    },
    {
      "cell_type": "code",
      "metadata": {
        "id": "-eH35LDxOy9X"
      },
      "source": [
        "pos_tweets = pd.read_csv('positive.csv', encoding='utf-8', sep=';', header=None,  names=[0,1,2,'text','tone',5,6,7,8,9,10,11])"
      ],
      "execution_count": 135,
      "outputs": []
    },
    {
      "cell_type": "code",
      "metadata": {
        "id": "bEnPV7ryO15r"
      },
      "source": [
        "neg_tweets = pd.read_csv('negative.csv', encoding='utf-8', sep=';', header=None, names=[0,1,2,'text','tone',5,6,7,8,9,10,11])\n",
        "neg_tweets['tone'] = 0"
      ],
      "execution_count": 136,
      "outputs": []
    },
    {
      "cell_type": "code",
      "metadata": {
        "colab": {
          "base_uri": "https://localhost:8080/"
        },
        "id": "MekqKYnAO4pN",
        "outputId": "8af14b9d-e247-46cc-fcde-8f6ae9234072"
      },
      "source": [
        "all_tweets_data = pos_tweets.append(neg_tweets)\n",
        "print(len(all_tweets_data))"
      ],
      "execution_count": 137,
      "outputs": [
        {
          "output_type": "stream",
          "name": "stdout",
          "text": [
            "226834\n"
          ]
        }
      ]
    },
    {
      "cell_type": "code",
      "metadata": {
        "id": "CnjeH3A6PKev"
      },
      "source": [
        "tweets_data = shuffle(all_tweets_data[['text','tone']])[:100000]"
      ],
      "execution_count": 138,
      "outputs": []
    },
    {
      "cell_type": "code",
      "metadata": {
        "id": "x4Yh041v4GSK"
      },
      "source": [
        "def preprocess(text): \n",
        "    text = text.lower().replace(\"ё\", \"е\")\n",
        "    text = re.sub('((www\\.[^\\s]+)|(https?://[^\\s]+))', 'URL', text)\n",
        "    text = re.sub('@[^\\s]+', 'USER', text)\n",
        "    text = re.sub('[^a-zA-Zа-яА-Я1-9]+', ' ', text)\n",
        "    text = re.sub(' +', ' ', text)\n",
        "    return text.split()"
      ],
      "execution_count": 139,
      "outputs": []
    },
    {
      "cell_type": "code",
      "metadata": {
        "id": "JOwwbw2_4Hg0"
      },
      "source": [
        "tweets_data['prep_text'] = tweets_data.text.apply(lambda x: ' '.join(preprocess(x)))"
      ],
      "execution_count": 140,
      "outputs": []
    },
    {
      "cell_type": "code",
      "metadata": {
        "colab": {
          "base_uri": "https://localhost:8080/",
          "height": 419
        },
        "id": "TJyAx24K5IB1",
        "outputId": "c19ba85f-c97d-4289-c217-994a95117cfc"
      },
      "source": [
        "tweets_data"
      ],
      "execution_count": 141,
      "outputs": [
        {
          "output_type": "execute_result",
          "data": {
            "text/html": [
              "<div>\n",
              "<style scoped>\n",
              "    .dataframe tbody tr th:only-of-type {\n",
              "        vertical-align: middle;\n",
              "    }\n",
              "\n",
              "    .dataframe tbody tr th {\n",
              "        vertical-align: top;\n",
              "    }\n",
              "\n",
              "    .dataframe thead th {\n",
              "        text-align: right;\n",
              "    }\n",
              "</style>\n",
              "<table border=\"1\" class=\"dataframe\">\n",
              "  <thead>\n",
              "    <tr style=\"text-align: right;\">\n",
              "      <th></th>\n",
              "      <th>text</th>\n",
              "      <th>tone</th>\n",
              "      <th>prep_text</th>\n",
              "    </tr>\n",
              "  </thead>\n",
              "  <tbody>\n",
              "    <tr>\n",
              "      <th>69709</th>\n",
              "      <td>@byundey я не поняла, чего так поздно легла? /...</td>\n",
              "      <td>0</td>\n",
              "      <td>USER я не поняла чего так поздно легла мне мож...</td>\n",
              "    </tr>\n",
              "    <tr>\n",
              "      <th>107292</th>\n",
              "      <td>RT @ElDLV: Последнее время у меня совсем упала...</td>\n",
              "      <td>0</td>\n",
              "      <td>rt USER последнее время у меня совсем упала ак...</td>\n",
              "    </tr>\n",
              "    <tr>\n",
              "      <th>55412</th>\n",
              "      <td>RT @valerka_mr: @EvgeniyBrobar о_О,это даже не...</td>\n",
              "      <td>0</td>\n",
              "      <td>rt USER USER о о это даже не зависть это завии...</td>\n",
              "    </tr>\n",
              "    <tr>\n",
              "      <th>114899</th>\n",
              "      <td>@legenda_cao ты Чё там один чтоль?:D в тви все...</td>\n",
              "      <td>1</td>\n",
              "      <td>USER ты че там один чтоль d в тви всем похуй н...</td>\n",
              "    </tr>\n",
              "    <tr>\n",
              "      <th>5389</th>\n",
              "      <td>@AcklesJennny @Dean35111 @mishacoll1ns @OldSch...</td>\n",
              "      <td>1</td>\n",
              "      <td>USER USER USER USER я не хочу спать совершенно...</td>\n",
              "    </tr>\n",
              "    <tr>\n",
              "      <th>...</th>\n",
              "      <td>...</td>\n",
              "      <td>...</td>\n",
              "      <td>...</td>\n",
              "    </tr>\n",
              "    <tr>\n",
              "      <th>88973</th>\n",
              "      <td>Экзамены специально делают после Нового Года, ...</td>\n",
              "      <td>1</td>\n",
              "      <td>экзамены специально делают после нового года ч...</td>\n",
              "    </tr>\n",
              "    <tr>\n",
              "      <th>51351</th>\n",
              "      <td>Завтра много дел учеба, репетиторы, а вечером ...</td>\n",
              "      <td>0</td>\n",
              "      <td>завтра много дел учеба репетиторы а вечером уб...</td>\n",
              "    </tr>\n",
              "    <tr>\n",
              "      <th>88156</th>\n",
              "      <td>Ещё чуть чуть и выходные)Вечерний чат) http://...</td>\n",
              "      <td>1</td>\n",
              "      <td>еще чуть чуть и выходные вечерний чат URL</td>\n",
              "    </tr>\n",
              "    <tr>\n",
              "      <th>70187</th>\n",
              "      <td>@sladmed_sdd ну когда тебя увижу,обязательно п...</td>\n",
              "      <td>1</td>\n",
              "      <td>USER ну когда тебя увижу обязательно поставлю</td>\n",
              "    </tr>\n",
              "    <tr>\n",
              "      <th>78775</th>\n",
              "      <td>Встретила на почте @Lenamea, она тоже спецгаше...</td>\n",
              "      <td>1</td>\n",
              "      <td>встретила на почте USER она тоже спецгашение с...</td>\n",
              "    </tr>\n",
              "  </tbody>\n",
              "</table>\n",
              "<p>100000 rows × 3 columns</p>\n",
              "</div>"
            ],
            "text/plain": [
              "                                                     text  ...                                          prep_text\n",
              "69709   @byundey я не поняла, чего так поздно легла? /...  ...  USER я не поняла чего так поздно легла мне мож...\n",
              "107292  RT @ElDLV: Последнее время у меня совсем упала...  ...  rt USER последнее время у меня совсем упала ак...\n",
              "55412   RT @valerka_mr: @EvgeniyBrobar о_О,это даже не...  ...  rt USER USER о о это даже не зависть это завии...\n",
              "114899  @legenda_cao ты Чё там один чтоль?:D в тви все...  ...  USER ты че там один чтоль d в тви всем похуй н...\n",
              "5389    @AcklesJennny @Dean35111 @mishacoll1ns @OldSch...  ...  USER USER USER USER я не хочу спать совершенно...\n",
              "...                                                   ...  ...                                                ...\n",
              "88973   Экзамены специально делают после Нового Года, ...  ...  экзамены специально делают после нового года ч...\n",
              "51351   Завтра много дел учеба, репетиторы, а вечером ...  ...  завтра много дел учеба репетиторы а вечером уб...\n",
              "88156   Ещё чуть чуть и выходные)Вечерний чат) http://...  ...          еще чуть чуть и выходные вечерний чат URL\n",
              "70187   @sladmed_sdd ну когда тебя увижу,обязательно п...  ...      USER ну когда тебя увижу обязательно поставлю\n",
              "78775   Встретила на почте @Lenamea, она тоже спецгаше...  ...  встретила на почте USER она тоже спецгашение с...\n",
              "\n",
              "[100000 rows x 3 columns]"
            ]
          },
          "metadata": {},
          "execution_count": 141
        }
      ]
    },
    {
      "cell_type": "code",
      "metadata": {
        "id": "ZND9RJHgPMSY"
      },
      "source": [
        "train_sentences, val_sentences = train_test_split(tweets_data, test_size=0.2)"
      ],
      "execution_count": 142,
      "outputs": []
    },
    {
      "cell_type": "code",
      "metadata": {
        "colab": {
          "base_uri": "https://localhost:8080/"
        },
        "id": "sdc2eJkhP9Nn",
        "outputId": "157bcdb4-7912-4ded-bbae-91a5ba414f28"
      },
      "source": [
        "train_sentences[train_sentences.tone == 1].shape[0] /train_sentences.shape[0]"
      ],
      "execution_count": 143,
      "outputs": [
        {
          "output_type": "execute_result",
          "data": {
            "text/plain": [
              "0.50645"
            ]
          },
          "metadata": {},
          "execution_count": 143
        }
      ]
    },
    {
      "cell_type": "code",
      "metadata": {
        "colab": {
          "base_uri": "https://localhost:8080/"
        },
        "id": "Rcb0sJM4QzCb",
        "outputId": "2f717d9f-e5f2-4bd6-8039-93234a35b494"
      },
      "source": [
        "vocab = Counter()\n",
        "\n",
        "for text in tweets_data['prep_text']:\n",
        "    vocab.update(text.split())\n",
        "print('всего уникальных токенов:', len(vocab))"
      ],
      "execution_count": 144,
      "outputs": [
        {
          "output_type": "stream",
          "name": "stdout",
          "text": [
            "всего уникальных токенов: 111482\n"
          ]
        }
      ]
    },
    {
      "cell_type": "code",
      "metadata": {
        "colab": {
          "base_uri": "https://localhost:8080/"
        },
        "id": "Pn6YQR3wQ8I5",
        "outputId": "7ac5664c-e351-4891-da88-0c75e804006f"
      },
      "source": [
        "filtered_vocab = set()\n",
        "\n",
        "for word in vocab:\n",
        "    if vocab[word] > 5:\n",
        "        filtered_vocab.add(word)\n",
        "print('уникальных токенов, втретившихся больше 5 раз:', len(filtered_vocab))"
      ],
      "execution_count": 145,
      "outputs": [
        {
          "output_type": "stream",
          "name": "stdout",
          "text": [
            "уникальных токенов, втретившихся больше 5 раз: 14823\n"
          ]
        }
      ]
    },
    {
      "cell_type": "code",
      "metadata": {
        "id": "NB6ptdORQP9q"
      },
      "source": [
        "word2id = {'PAD':0}\n",
        "\n",
        "for word in filtered_vocab:\n",
        "    word2id[word] = len(word2id)"
      ],
      "execution_count": 146,
      "outputs": []
    },
    {
      "cell_type": "code",
      "metadata": {
        "id": "hkcfioRXQrCX"
      },
      "source": [
        "id2word = {i:word for word, i in word2id.items()}"
      ],
      "execution_count": 147,
      "outputs": []
    },
    {
      "cell_type": "code",
      "metadata": {
        "colab": {
          "base_uri": "https://localhost:8080/"
        },
        "id": "82N5nVh4QuUn",
        "outputId": "8c036c71-ffb2-4483-eef9-ebc7f607f2f5"
      },
      "source": [
        "DEVICE = torch.device('cuda') if torch.cuda.is_available() else torch.device('cpu')\n",
        "DEVICE"
      ],
      "execution_count": 148,
      "outputs": [
        {
          "output_type": "execute_result",
          "data": {
            "text/plain": [
              "device(type='cuda')"
            ]
          },
          "metadata": {},
          "execution_count": 148
        }
      ]
    },
    {
      "cell_type": "code",
      "metadata": {
        "id": "d2BpbyqDRPhm"
      },
      "source": [
        "class TweetsDataset(Dataset):\n",
        "\n",
        "    def __init__(self, dataset, word2id, DEVICE):\n",
        "        self.dataset = dataset['text'].values\n",
        "        self.word2id = word2id\n",
        "        self.length = dataset.shape[0]\n",
        "        self.target = torch.Tensor(dataset['tone'].values)\n",
        "        self.device = DEVICE\n",
        "\n",
        "    def __len__(self):\n",
        "        return self.length\n",
        "\n",
        "    def __getitem__(self, index): \n",
        "        tokens = self.dataset[index].split()\n",
        "        ids = torch.LongTensor([self.word2id[token] for token in tokens if token in self.word2id])\n",
        "        y = [self.target[index]]\n",
        "        return ids, y\n",
        "\n",
        "    def collate_fn(self, batch):\n",
        "      ids, y = list(zip(*batch))\n",
        "      padded_ids = pad_sequence(ids, batch_first=True).to(self.device)\n",
        "      y = torch.Tensor(y).to(self.device)\n",
        "      return padded_ids, y"
      ],
      "execution_count": 149,
      "outputs": []
    },
    {
      "cell_type": "code",
      "metadata": {
        "id": "snNHEy3aTCbg"
      },
      "source": [
        "train_dataset = TweetsDataset(train_sentences, word2id, DEVICE)\n",
        "train_sampler = RandomSampler(train_dataset)\n",
        "train_iterator = DataLoader(train_dataset, collate_fn = train_dataset.collate_fn, sampler=train_sampler, batch_size=1024)"
      ],
      "execution_count": 150,
      "outputs": []
    },
    {
      "cell_type": "code",
      "metadata": {
        "colab": {
          "base_uri": "https://localhost:8080/"
        },
        "id": "tDJCLHO6TbbJ",
        "outputId": "886deec1-1824-4b3d-e83b-1ea7c7292ee1"
      },
      "source": [
        "batch = next(iter(train_iterator))\n",
        "batch[0].shape"
      ],
      "execution_count": 151,
      "outputs": [
        {
          "output_type": "execute_result",
          "data": {
            "text/plain": [
              "torch.Size([1024, 22])"
            ]
          },
          "metadata": {},
          "execution_count": 151
        }
      ]
    },
    {
      "cell_type": "code",
      "metadata": {
        "id": "hRRPt4RwgdmE"
      },
      "source": [
        "val_dataset = TweetsDataset(val_sentences, word2id, DEVICE)\n",
        "val_sampler = SequentialSampler(val_dataset)\n",
        "val_iterator = DataLoader(val_dataset, collate_fn = val_dataset.collate_fn, sampler=val_sampler, batch_size=1024)"
      ],
      "execution_count": 152,
      "outputs": []
    },
    {
      "cell_type": "code",
      "metadata": {
        "colab": {
          "base_uri": "https://localhost:8080/"
        },
        "id": "5y_Ivn4tfuE6",
        "outputId": "42f9b3de-cc9b-4c33-bf74-d099685b596a"
      },
      "source": [
        "test_batch = next(iter(val_iterator))\n",
        "test_batch[0].shape"
      ],
      "execution_count": 153,
      "outputs": [
        {
          "output_type": "execute_result",
          "data": {
            "text/plain": [
              "torch.Size([1024, 22])"
            ]
          },
          "metadata": {},
          "execution_count": 153
        }
      ]
    },
    {
      "cell_type": "code",
      "metadata": {
        "id": "XEPpKZySaoLI"
      },
      "source": [
        "class CNN(nn.Module):\n",
        "    \n",
        "    def __init__(self, vocab_size, embedding_dim):\n",
        "        super().__init__()\n",
        "        self.embedding = nn.Embedding(vocab_size, embedding_dim)\n",
        "        self.bigrams = nn.Conv1d(in_channels=embedding_dim, out_channels=80, kernel_size=2, padding='same')\n",
        "        self.trigrams = nn.Conv1d(in_channels=embedding_dim, out_channels=60, kernel_size=3, padding='same')\n",
        "        self.ngrams_cat = nn.Conv1d(in_channels=140, out_channels=140, kernel_size=2, padding='same')\n",
        "        self.pooling = nn.MaxPool1d(kernel_size=2, stride=2)\n",
        "        self.relu = nn.ReLU()\n",
        "        self.hidden = nn.Linear(in_features=140, out_features=1)\n",
        "        self.dropout = nn.Dropout(p=0.5)\n",
        "        self.out = nn.Sigmoid()\n",
        "\n",
        "    def forward(self, text):\n",
        "        #batch_size x seq_len\n",
        "        embedded = self.embedding(text)\n",
        "        #batch_size x seq_len x embedding_dim\n",
        "        embedded = embedded.transpose(1,2)\n",
        "        #batch_size x embedding_dim x seq_len\n",
        "        #feature_map_bigrams = self.dropout(self.pooling(self.relu(self.bigrams(embedded))))\n",
        "        #batch_size x filter_count2 x seq_len* \n",
        "        #feature_map_trigrams = self.dropout(self.pooling(self.relu(self.trigrams(embedded))))\n",
        "        #batch_size x filter_count3 x seq_len*\n",
        "        feature_map_bigrams = self.dropout(self.relu(self.bigrams(embedded)))\n",
        "        feature_map_trigrams = self.dropout(self.relu(self.trigrams(embedded)))\n",
        "\n",
        "\n",
        "        #pooling1 = feature_map_bigrams.max(2)[0] \n",
        "        # batch_size x filter_count2\n",
        "        #pooling2 = feature_map_trigrams.max(2)[0]\n",
        "        # batch_size x filter_count3\n",
        "        #concat = torch.cat((pooling1, pooling2), 1)\n",
        "        concat = torch.cat((feature_map_bigrams, feature_map_trigrams), 1)\n",
        "        pooling = self.dropout(self.pooling(self.relu(self.ngrams_cat(concat))))\n",
        "        bm = pooling.max(2)[0]\n",
        "        # batch _size x (filter_count2 + filter_count3)\n",
        "        logits = self.dropout(self.hidden(bm)) \n",
        "        logits = self.out(logits)       \n",
        "        return logits"
      ],
      "execution_count": null,
      "outputs": []
    },
    {
      "cell_type": "markdown",
      "metadata": {
        "id": "WLmPgv6kgoEO"
      },
      "source": [
        "### Training model"
      ]
    },
    {
      "cell_type": "code",
      "metadata": {
        "id": "ygWAlLajgkP0"
      },
      "source": [
        "def train(model, iterator, optimizer, criterion):\n",
        "    epoch_loss = 0 # для подсчета среднего лосса на всех батчах\n",
        "\n",
        "    model.train()  # ставим модель в обучение, явно указываем, что сейчас надо будет хранить градиенты у всех весов\n",
        "\n",
        "    for i, (texts, ys) in enumerate(iterator): #итерируемся по батчам\n",
        "        optimizer.zero_grad()  #обнуляем градиенты\n",
        "        preds = model(texts)  #прогоняем данные через модель\n",
        "        loss = criterion(preds, ys) #считаем значение функции потерь  \n",
        "        loss.backward() #считаем градиенты  \n",
        "        optimizer.step() #обновляем веса \n",
        "        epoch_loss += loss.item() #сохраняем значение функции потерь\n",
        "        if not (i + 1) % int(len(iterator)/5):\n",
        "            print(f'Train loss: {epoch_loss/i}')      \n",
        "    return  epoch_loss / len(iterator) # возвращаем среднее значение лосса по всей выборке"
      ],
      "execution_count": 154,
      "outputs": []
    },
    {
      "cell_type": "code",
      "metadata": {
        "id": "yNrrOniQgyaD"
      },
      "source": [
        "def evaluate(model, iterator, criterion):\n",
        "    epoch_loss = 0\n",
        "    epoch_metric = 0\n",
        "    model.eval() \n",
        "    with torch.no_grad():\n",
        "        for i, (texts, ys) in enumerate(iterator):   \n",
        "            preds = model(texts)  # делаем предсказания на тесте\n",
        "            loss = criterion(preds, ys)   # считаем значения функции ошибки для статистики  \n",
        "            epoch_loss += loss.item()\n",
        "            batch_metric = f1(preds.round().long(), ys.long(), ignore_index=0)\n",
        "            epoch_metric += batch_metric\n",
        "\n",
        "            if not (i + 1) % int(len(iterator)/5):\n",
        "              print(f'Val loss: {epoch_loss/i}, Val f1: {epoch_metric/i}')\n",
        "        \n",
        "    return epoch_metric / len(iterator), epoch_loss / len(iterator) # возвращаем среднее значение по всей выборке\n"
      ],
      "execution_count": 155,
      "outputs": []
    },
    {
      "cell_type": "code",
      "metadata": {
        "id": "XdOZACBVg4mK"
      },
      "source": [
        "model = CNN(len(word2id), 5)\n",
        "optimizer = optim.Adam(model.parameters(), lr=0.001)\n",
        "criterion = nn.BCELoss()  \n",
        "\n",
        "# веса модели и значения лосса храним там же, где и все остальные тензоры\n",
        "model = model.to(DEVICE)\n",
        "criterion = criterion.to(DEVICE)"
      ],
      "execution_count": null,
      "outputs": []
    },
    {
      "cell_type": "markdown",
      "metadata": {
        "id": "RyAMySgEg-Mx"
      },
      "source": [
        "### Обучим эмбеддинг слой на нашей модели"
      ]
    },
    {
      "cell_type": "code",
      "metadata": {
        "colab": {
          "base_uri": "https://localhost:8080/"
        },
        "id": "KVYE4iwyg9e5",
        "outputId": "bf09428d-d46d-4cb0-87f4-6799fc2bf7c1"
      },
      "source": [
        "losses = []\n",
        "losses_eval = []\n",
        "f1s = []\n",
        "f1s_eval = []\n",
        "\n",
        "for i in range(15):\n",
        "    print(f'\\nstarting Epoch {i}')\n",
        "    print('Training...')\n",
        "    epoch_loss = train(model, train_iterator, optimizer, criterion)\n",
        "    losses.append(epoch_loss)\n",
        "    print('\\nEvaluating on train...')\n",
        "    f1_on_train,_ = evaluate(model, train_iterator, criterion)\n",
        "    f1s.append(f1_on_train)\n",
        "    print('\\nEvaluating on test...')\n",
        "    f1_on_test, epoch_loss_on_test = evaluate(model, val_iterator, criterion)\n",
        "    losses_eval.append(epoch_loss_on_test)\n",
        "    f1s_eval.append(f1_on_test)"
      ],
      "execution_count": null,
      "outputs": [
        {
          "output_type": "stream",
          "name": "stdout",
          "text": [
            "\n",
            "starting Epoch 0\n",
            "Training...\n",
            "Train loss: 0.7728822912488665\n",
            "Train loss: 0.740883849818131\n",
            "Train loss: 0.7273916561495174\n",
            "Train loss: 0.7201391094821995\n",
            "Train loss: 0.7154259432006527\n",
            "\n",
            "Evaluating on train...\n",
            "Val loss: 0.7397012327398572, Val f1: 0.5624197125434875\n",
            "Val loss: 0.7141710047064156, Val f1: 0.5446305274963379\n",
            "Val loss: 0.7062113583087921, Val f1: 0.5389561653137207\n",
            "Val loss: 0.7023199140015295, Val f1: 0.533118486404419\n",
            "Val loss: 0.699858270786904, Val f1: 0.5331370234489441\n",
            "\n",
            "Evaluating on test...\n",
            "Val loss: 0.9208655754725138, Val f1: 0.7106255292892456\n",
            "Val loss: 0.7895575336047581, Val f1: 0.5950040817260742\n",
            "Val loss: 0.754049382426522, Val f1: 0.5673853158950806\n",
            "Val loss: 0.7374019980430603, Val f1: 0.555588960647583\n",
            "Val loss: 0.7276801027749714, Val f1: 0.545220673084259\n",
            "\n",
            "starting Epoch 1\n",
            "Training...\n",
            "Train loss: 0.7479570124830518\n",
            "Train loss: 0.7215956552275296\n",
            "Train loss: 0.7129712145436894\n",
            "Train loss: 0.708915385149293\n",
            "Train loss: 0.7063830349896405\n",
            "\n",
            "Evaluating on train...\n",
            "Val loss: 0.7380007718290601, Val f1: 0.6152395009994507\n",
            "Val loss: 0.7129225196509525, Val f1: 0.5886045098304749\n",
            "Val loss: 0.7048214877193625, Val f1: 0.5803626775741577\n",
            "Val loss: 0.700889737929328, Val f1: 0.5766316056251526\n",
            "Val loss: 0.6984731192524368, Val f1: 0.5762102603912354\n",
            "\n",
            "Evaluating on test...\n",
            "Val loss: 0.918650209903717, Val f1: 0.766534686088562\n",
            "Val loss: 0.787991498197828, Val f1: 0.6443595886230469\n",
            "Val loss: 0.7526718107136813, Val f1: 0.6115798950195312\n",
            "Val loss: 0.7360556721687317, Val f1: 0.5963810682296753\n",
            "Val loss: 0.726477535147416, Val f1: 0.5853222608566284\n",
            "\n",
            "starting Epoch 2\n",
            "Training...\n",
            "Train loss: 0.74477647457804\n",
            "Train loss: 0.7198994858511563\n",
            "Train loss: 0.7113311114636335\n",
            "Train loss: 0.7069308252657874\n",
            "Train loss: 0.7041286818079047\n",
            "\n",
            "Evaluating on train...\n",
            "Val loss: 0.7375645680086953, Val f1: 0.5159274339675903\n",
            "Val loss: 0.7123614282443606, Val f1: 0.4980384409427643\n",
            "Val loss: 0.7043583189899271, Val f1: 0.49101462960243225\n",
            "Val loss: 0.7005079045134076, Val f1: 0.4888421595096588\n",
            "Val loss: 0.6980817309907965, Val f1: 0.4862992763519287\n",
            "\n",
            "Evaluating on test...\n",
            "Val loss: 0.9188029766082764, Val f1: 0.6535984873771667\n",
            "Val loss: 0.7874622430120196, Val f1: 0.5393024682998657\n",
            "Val loss: 0.7522209991108287, Val f1: 0.5114511847496033\n",
            "Val loss: 0.7355706532796223, Val f1: 0.5016104578971863\n",
            "Val loss: 0.7260380889240065, Val f1: 0.49419093132019043\n",
            "\n",
            "starting Epoch 3\n",
            "Training...\n",
            "Train loss: 0.7447078015123095\n",
            "Train loss: 0.7171488712573874\n",
            "Train loss: 0.7093504044142637\n",
            "Train loss: 0.7052287681628082\n",
            "Train loss: 0.702442397136946\n",
            "\n",
            "Evaluating on train...\n",
            "Val loss: 0.7364538950579507, Val f1: 0.6542391777038574\n",
            "Val loss: 0.7109605813848561, Val f1: 0.6307846307754517\n",
            "Val loss: 0.7029472454027696, Val f1: 0.6221063137054443\n",
            "Val loss: 0.6988967283297394, Val f1: 0.6191282272338867\n",
            "Val loss: 0.6964941878576536, Val f1: 0.617453932762146\n",
            "\n",
            "Evaluating on test...\n",
            "Val loss: 0.9160421291987101, Val f1: 0.8181102275848389\n",
            "Val loss: 0.7857474940163749, Val f1: 0.692080557346344\n",
            "Val loss: 0.750483978878368, Val f1: 0.6532090902328491\n",
            "Val loss: 0.7337762514750162, Val f1: 0.63881915807724\n",
            "Val loss: 0.7243444449023196, Val f1: 0.6286268830299377\n",
            "\n",
            "starting Epoch 4\n",
            "Training...\n",
            "Train loss: 0.7415712220328194\n",
            "Train loss: 0.7152064442634583\n",
            "Train loss: 0.7072501399300315\n",
            "Train loss: 0.703150870436329\n",
            "Train loss: 0.7006530214000393\n",
            "\n",
            "Evaluating on train...\n",
            "Val loss: 0.7353332212993077, Val f1: 0.6209439635276794\n",
            "Val loss: 0.7099896340534605, Val f1: 0.6013677716255188\n",
            "Val loss: 0.7017771750688553, Val f1: 0.5943722724914551\n",
            "Val loss: 0.6979685243913683, Val f1: 0.5899338126182556\n",
            "Val loss: 0.695650418867936, Val f1: 0.5886808037757874\n",
            "\n",
            "Evaluating on test...\n",
            "Val loss: 0.9152201414108276, Val f1: 0.7741922736167908\n",
            "Val loss: 0.7847732646124703, Val f1: 0.6539825797080994\n",
            "Val loss: 0.7495312365618619, Val f1: 0.6218062043190002\n",
            "Val loss: 0.7328843792279561, Val f1: 0.6075096726417542\n",
            "Val loss: 0.7234825240938287, Val f1: 0.5971238017082214\n",
            "\n",
            "starting Epoch 5\n",
            "Training...\n",
            "Train loss: 0.7404674674783435\n",
            "Train loss: 0.714575420165884\n",
            "Train loss: 0.7068230970339342\n",
            "Train loss: 0.7025351494045581\n",
            "Train loss: 0.6997835781123187\n",
            "\n",
            "Evaluating on train...\n",
            "Val loss: 0.734548739024571, Val f1: 0.44789940118789673\n",
            "Val loss: 0.7096892184224622, Val f1: 0.4302327334880829\n",
            "Val loss: 0.7019741074605421, Val f1: 0.4260680675506592\n",
            "Val loss: 0.6978519366959394, Val f1: 0.42265835404396057\n",
            "Val loss: 0.6954387176681209, Val f1: 0.4220210611820221\n",
            "\n",
            "Evaluating on test...\n",
            "Val loss: 0.9160171151161194, Val f1: 0.5578134655952454\n",
            "Val loss: 0.7846382090023586, Val f1: 0.4701506197452545\n",
            "Val loss: 0.749669687314467, Val f1: 0.44979989528656006\n",
            "Val loss: 0.7331097722053528, Val f1: 0.43855586647987366\n",
            "Val loss: 0.7237204313278198, Val f1: 0.4312687814235687\n",
            "\n",
            "starting Epoch 6\n",
            "Training...\n",
            "Train loss: 0.7404202818870544\n",
            "Train loss: 0.7143933588060839\n",
            "Train loss: 0.7055883041836999\n",
            "Train loss: 0.7015368433321937\n",
            "Train loss: 0.699156655653103\n",
            "\n",
            "Evaluating on train...\n",
            "Val loss: 0.7342521675995418, Val f1: 0.4795507490634918\n",
            "Val loss: 0.7089254198403194, Val f1: 0.4569779634475708\n",
            "Val loss: 0.7008612779053774, Val f1: 0.45353683829307556\n",
            "Val loss: 0.6968546782509756, Val f1: 0.4498403072357178\n",
            "Val loss: 0.6945085138887972, Val f1: 0.4465581178665161\n",
            "\n",
            "Evaluating on test...\n",
            "Val loss: 0.914578894774119, Val f1: 0.6177422404289246\n",
            "Val loss: 0.7835920453071594, Val f1: 0.5076335072517395\n",
            "Val loss: 0.7487126155333086, Val f1: 0.47723788022994995\n",
            "Val loss: 0.7321222861607869, Val f1: 0.4641967713832855\n",
            "Val loss: 0.7227838949153298, Val f1: 0.45366939902305603\n",
            "\n",
            "starting Epoch 7\n",
            "Training...\n",
            "Train loss: 0.7373489482062203\n",
            "Train loss: 0.7119033686045942\n",
            "Train loss: 0.7036672789942134\n",
            "Train loss: 0.6999593781212629\n",
            "Train loss: 0.6973136550671345\n",
            "\n",
            "Evaluating on train...\n",
            "Val loss: 0.7337481251784733, Val f1: 0.5260445475578308\n",
            "Val loss: 0.7082976657768776, Val f1: 0.5127811431884766\n",
            "Val loss: 0.7004348283464258, Val f1: 0.5040780901908875\n",
            "Val loss: 0.6961595900988174, Val f1: 0.5036836266517639\n",
            "Val loss: 0.6937064351262273, Val f1: 0.5024741291999817\n",
            "\n",
            "Evaluating on test...\n",
            "Val loss: 0.9133911728858948, Val f1: 0.6744648814201355\n",
            "Val loss: 0.7826321721076965, Val f1: 0.5646262168884277\n",
            "Val loss: 0.7477912090041421, Val f1: 0.5355566143989563\n",
            "Val loss: 0.7312909444173177, Val f1: 0.5218794345855713\n",
            "Val loss: 0.7219793733797575, Val f1: 0.5108240842819214\n",
            "\n",
            "starting Epoch 8\n",
            "Training...\n",
            "Train loss: 0.7379117395196643\n",
            "Train loss: 0.7116116531964006\n",
            "Train loss: 0.703461545434865\n",
            "Train loss: 0.6991712743953123\n",
            "Train loss: 0.6967168619503846\n",
            "\n",
            "Evaluating on train...\n",
            "Val loss: 0.7323421112128666, Val f1: 0.6035736203193665\n",
            "Val loss: 0.706714338269727, Val f1: 0.5804968476295471\n",
            "Val loss: 0.6985642530701377, Val f1: 0.5755112171173096\n",
            "Val loss: 0.6948672371395563, Val f1: 0.570605456829071\n",
            "Val loss: 0.6926892730029853, Val f1: 0.5693530440330505\n",
            "\n",
            "Evaluating on test...\n",
            "Val loss: 0.9119870265324911, Val f1: 0.7611836791038513\n",
            "Val loss: 0.7817133920533317, Val f1: 0.6374185085296631\n",
            "Val loss: 0.7468089244582437, Val f1: 0.6043579578399658\n",
            "Val loss: 0.7302817940711975, Val f1: 0.5897940993309021\n",
            "Val loss: 0.7210143271245455, Val f1: 0.5777774453163147\n",
            "\n",
            "starting Epoch 9\n",
            "Training...\n",
            "Train loss: 0.7366407598767962\n",
            "Train loss: 0.7110304729691868\n",
            "Train loss: 0.7029809558933432\n",
            "Train loss: 0.6990715174351708\n",
            "Train loss: 0.6965727572505539\n",
            "\n",
            "Evaluating on train...\n",
            "Val loss: 0.7311577413763318, Val f1: 0.5758925676345825\n",
            "Val loss: 0.7054389345234838, Val f1: 0.5560110211372375\n",
            "Val loss: 0.6978880966251547, Val f1: 0.5470654964447021\n",
            "Val loss: 0.6939716409828703, Val f1: 0.5434102416038513\n",
            "Val loss: 0.6918619742264619, Val f1: 0.5405829548835754\n",
            "\n",
            "Evaluating on test...\n",
            "Val loss: 0.9117349783579508, Val f1: 0.7095391750335693\n",
            "Val loss: 0.7812306455203465, Val f1: 0.5988786220550537\n",
            "Val loss: 0.7463839975270358, Val f1: 0.5711326599121094\n",
            "Val loss: 0.7298360029856364, Val f1: 0.5562470555305481\n",
            "Val loss: 0.7205143351303903, Val f1: 0.5457326769828796\n",
            "\n",
            "starting Epoch 10\n",
            "Training...\n",
            "Train loss: 0.7356976994446346\n",
            "Train loss: 0.7098207802608095\n",
            "Train loss: 0.7019235681403767\n",
            "Train loss: 0.6973708554849787\n",
            "Train loss: 0.6949627576647578\n",
            "\n",
            "Evaluating on train...\n",
            "Val loss: 0.7300333252974919, Val f1: 0.5183825492858887\n",
            "Val loss: 0.7050640398058398, Val f1: 0.5013474225997925\n",
            "Val loss: 0.6973693804307417, Val f1: 0.4962090253829956\n",
            "Val loss: 0.6933526619006012, Val f1: 0.492595911026001\n",
            "Val loss: 0.6911115058370538, Val f1: 0.4917033016681671\n",
            "\n",
            "Evaluating on test...\n",
            "Val loss: 0.9112016757329305, Val f1: 0.6483842134475708\n",
            "Val loss: 0.7806912745748248, Val f1: 0.5412887334823608\n",
            "Val loss: 0.7458407228643243, Val f1: 0.5173864364624023\n",
            "Val loss: 0.729295289516449, Val f1: 0.5066753625869751\n",
            "Val loss: 0.7200245794497038, Val f1: 0.49735143780708313\n",
            "\n",
            "starting Epoch 11\n",
            "Training...\n",
            "Train loss: 0.7342266312667302\n",
            "Train loss: 0.7092730957886269\n",
            "Train loss: 0.7006828906861219\n",
            "Train loss: 0.696670124086283\n",
            "Train loss: 0.6938768729970262\n",
            "\n",
            "Evaluating on train...\n",
            "Val loss: 0.7293169030121395, Val f1: 0.5982050895690918\n",
            "Val loss: 0.7040259550357687, Val f1: 0.5724087357521057\n",
            "Val loss: 0.6952730999751524, Val f1: 0.568971574306488\n",
            "Val loss: 0.6913088580309334, Val f1: 0.5657806992530823\n",
            "Val loss: 0.6890728304515014, Val f1: 0.5636595487594604\n",
            "\n",
            "Evaluating on test...\n",
            "Val loss: 0.9086734255154928, Val f1: 0.7518255114555359\n",
            "Val loss: 0.7788519518715995, Val f1: 0.6263933181762695\n",
            "Val loss: 0.7438793670047413, Val f1: 0.5978439450263977\n",
            "Val loss: 0.7273401180903117, Val f1: 0.583907961845398\n",
            "Val loss: 0.7181012850058707, Val f1: 0.5724209547042847\n",
            "\n",
            "starting Epoch 12\n",
            "Training...\n",
            "Train loss: 0.7341640932219369\n",
            "Train loss: 0.707811830372646\n",
            "Train loss: 0.6992044123736295\n",
            "Train loss: 0.6954890065273996\n",
            "Train loss: 0.6934034566621523\n",
            "\n",
            "Evaluating on train...\n",
            "Val loss: 0.7297763058117458, Val f1: 0.5699884295463562\n",
            "Val loss: 0.7036647858290836, Val f1: 0.545712947845459\n",
            "Val loss: 0.6955627284266732, Val f1: 0.538536012172699\n",
            "Val loss: 0.6913679151211755, Val f1: 0.53853440284729\n",
            "Val loss: 0.6890551882821161, Val f1: 0.5359641313552856\n",
            "\n",
            "Evaluating on test...\n",
            "Val loss: 0.9088833530743917, Val f1: 0.7174908518791199\n",
            "Val loss: 0.7788176877158028, Val f1: 0.5944960117340088\n",
            "Val loss: 0.7438798275860873, Val f1: 0.5632829666137695\n",
            "Val loss: 0.7273641586303711, Val f1: 0.5522352457046509\n",
            "Val loss: 0.7180842945450231, Val f1: 0.5420896410942078\n",
            "\n",
            "starting Epoch 13\n",
            "Training...\n",
            "Train loss: 0.7332629007952554\n",
            "Train loss: 0.7075736502121235\n",
            "Train loss: 0.6999688934196125\n",
            "Train loss: 0.6954417673207945\n",
            "Train loss: 0.6926605693391852\n",
            "\n",
            "Evaluating on train...\n",
            "Val loss: 0.7264198064804077, Val f1: 0.612385094165802\n",
            "Val loss: 0.7012113620494974, Val f1: 0.591447651386261\n",
            "Val loss: 0.6928530416705392, Val f1: 0.5889554023742676\n",
            "Val loss: 0.6890810111821708, Val f1: 0.5846296548843384\n",
            "Val loss: 0.6866681978509233, Val f1: 0.5823764204978943\n",
            "\n",
            "Evaluating on test...\n",
            "Val loss: 0.905906081199646, Val f1: 0.7634307742118835\n",
            "Val loss: 0.7766921945980617, Val f1: 0.6397687792778015\n",
            "Val loss: 0.7418710860339078, Val f1: 0.6111289858818054\n",
            "Val loss: 0.7253696839014689, Val f1: 0.5975069403648376\n",
            "Val loss: 0.7161520970495123, Val f1: 0.5870579481124878\n",
            "\n",
            "starting Epoch 14\n",
            "Training...\n",
            "Train loss: 0.7323857886450631\n",
            "Train loss: 0.705986660102318\n",
            "Train loss: 0.6983436887914484\n",
            "Train loss: 0.6935277672137244\n",
            "Train loss: 0.6912217365728842\n",
            "\n",
            "Evaluating on train...\n",
            "Val loss: 0.7243106407778603, Val f1: 0.6458970308303833\n",
            "Val loss: 0.6993574294550665, Val f1: 0.6187795996665955\n",
            "Val loss: 0.6912827789783478, Val f1: 0.6111800074577332\n",
            "Val loss: 0.6872309789819232, Val f1: 0.607428252696991\n",
            "Val loss: 0.6850499381890168, Val f1: 0.6042104363441467\n",
            "\n",
            "Evaluating on test...\n",
            "Val loss: 0.9039036830266317, Val f1: 0.7984751462936401\n",
            "Val loss: 0.7749969788960048, Val f1: 0.6691190004348755\n",
            "Val loss: 0.7401518984274431, Val f1: 0.6372446417808533\n",
            "Val loss: 0.7237620989481608, Val f1: 0.6227080225944519\n",
            "Val loss: 0.7146185762003848, Val f1: 0.6112108826637268\n"
          ]
        }
      ]
    },
    {
      "cell_type": "code",
      "metadata": {
        "colab": {
          "base_uri": "https://localhost:8080/",
          "height": 295
        },
        "id": "Vh6BKYWphKIm",
        "outputId": "81e7f4e1-6654-4192-dbaa-b39218d1102b"
      },
      "source": [
        "plt.plot(losses)\n",
        "plt.plot(losses_eval)\n",
        "plt.title('BCE loss value')\n",
        "plt.ylabel('BCE loss')\n",
        "plt.xlabel('epoch')\n",
        "plt.legend(['train', 'val'], loc='upper right')\n",
        "plt.show()"
      ],
      "execution_count": null,
      "outputs": [
        {
          "output_type": "display_data",
          "data": {
            "image/png": "[encoded data removed]",
            "text/plain": [
              "<Figure size 432x288 with 1 Axes>"
            ]
          },
          "metadata": {
            "needs_background": "light"
          }
        }
      ]
    },
    {
      "cell_type": "code",
      "metadata": {
        "colab": {
          "base_uri": "https://localhost:8080/",
          "height": 295
        },
        "id": "MFupP21hhNTd",
        "outputId": "98e11dde-4f23-454e-dacc-23ec28bfc01b"
      },
      "source": [
        "plt.plot(f1s)\n",
        "plt.plot(f1s_eval)\n",
        "plt.title('f1 value')\n",
        "plt.ylabel('f1 value')\n",
        "plt.xlabel('epoch')\n",
        "plt.legend(['train', 'val'], loc='upper right')\n",
        "plt.show()"
      ],
      "execution_count": null,
      "outputs": [
        {
          "output_type": "display_data",
          "data": {
            "image/png": "[encoded data removed]",
            "text/plain": [
              "<Figure size 432x288 with 1 Axes>"
            ]
          },
          "metadata": {
            "needs_background": "light"
          }
        }
      ]
    },
    {
      "cell_type": "code",
      "metadata": {
        "id": "w0H_X1WrhQfJ"
      },
      "source": [
        "def predict(model, iterator):\n",
        "    model.eval()\n",
        "    fp = []\n",
        "    fn = []\n",
        "    tp = [] \n",
        "    tn = []\n",
        "    with torch.no_grad():\n",
        "        for i, (texts, ys) in enumerate(iterator):   \n",
        "            preds = model(texts)  # делаем предсказания на тесте \n",
        "            for pred, gold, text in zip(preds, ys, texts):\n",
        "              text = ' '.join([id2word[int(word)] for word in text if word !=0])\n",
        "              if round(pred.item()) > gold:\n",
        "                fp.append(text)\n",
        "              elif round(pred.item()) < gold:\n",
        "                fn.append(text)\n",
        "              elif round(pred.item()) == gold == 1:\n",
        "                tp.append(text)\n",
        "              elif round(pred.item()) == gold == 0:\n",
        "                tn.append(text)\n",
        "    return fp, fn, tp, tn"
      ],
      "execution_count": 156,
      "outputs": []
    },
    {
      "cell_type": "code",
      "metadata": {
        "id": "0y9lQiBnhVD8"
      },
      "source": [
        "fp, fn, tp, tn = predict(model, val_iterator)"
      ],
      "execution_count": null,
      "outputs": []
    },
    {
      "cell_type": "code",
      "metadata": {
        "colab": {
          "base_uri": "https://localhost:8080/"
        },
        "id": "jT9S5PH7BYH1",
        "outputId": "e15ae9ae-a542-49a8-bab2-db2c4a8f60b7"
      },
      "source": [
        "recall = len(tp)/(len(tp) + len(fn))\n",
        "precision = len(tp)/(len(tp) + len(fp))\n",
        "f_score = 2 * precision * recall / (precision + recall)\n",
        "f_score"
      ],
      "execution_count": null,
      "outputs": [
        {
          "output_type": "execute_result",
          "data": {
            "text/plain": [
              "0.5827801247233958"
            ]
          },
          "metadata": {},
          "execution_count": 106
        }
      ]
    },
    {
      "cell_type": "markdown",
      "metadata": {
        "id": "JcBg_wYH7SQ4"
      },
      "source": [
        "результаты сомнительные...графики тоже не очень, попробуем улучшить модель."
      ]
    },
    {
      "cell_type": "code",
      "metadata": {
        "colab": {
          "base_uri": "https://localhost:8080/"
        },
        "id": "AgUFGjQ86z9S",
        "outputId": "23ed4d31-2b94-4b0c-a87f-b0977da43b85"
      },
      "source": [
        "fn[:5]"
      ],
      "execution_count": null,
      "outputs": [
        {
          "output_type": "execute_result",
          "data": {
            "text/plain": [
              "['ну так надо на а не по за 3',\n",
              " 'я так устала от уже даже не на это',\n",
              " 'театре долго ждала маму из поэтому надела ее шубу на свой пуховик и ходила вдоль со ржали',\n",
              " 'я получила свою вот теперь в свои я по дому в одежде',\n",
              " 'ну так это ведь не к к']"
            ]
          },
          "metadata": {},
          "execution_count": 107
        }
      ]
    },
    {
      "cell_type": "markdown",
      "metadata": {
        "id": "JOiTJjRgK6xe"
      },
      "source": [
        "### Подгрузим эмбеддинги Fasttext"
      ]
    },
    {
      "cell_type": "code",
      "metadata": {
        "id": "RTEamsu8NBRo"
      },
      "source": [
        "texts = tweets_data.prep_text.tolist()"
      ],
      "execution_count": 157,
      "outputs": []
    },
    {
      "cell_type": "code",
      "metadata": {
        "id": "EmgSOPL7NLQ1"
      },
      "source": [
        "ft = FastText(texts, size=100, window=5, min_count=1)"
      ],
      "execution_count": 158,
      "outputs": []
    },
    {
      "cell_type": "code",
      "metadata": {
        "id": "NEqLfD6mNdyl"
      },
      "source": [
        "weights = np.zeros((len(word2id), 100))\n",
        "count = 0\n",
        "for word, i in word2id.items():\n",
        "    if word == 'PAD':\n",
        "        continue   \n",
        "    try:\n",
        "        weights[i] = ft.wv[word]    \n",
        "    except KeyError:\n",
        "      count += 1\n",
        "      # oov словам сопоставляем случайный вектор\n",
        "      weights[i] = np.random.normal(0,0.1,100)"
      ],
      "execution_count": 159,
      "outputs": []
    },
    {
      "cell_type": "code",
      "metadata": {
        "id": "OiVOeng_NiKn"
      },
      "source": [
        "class CNN(nn.Module):\n",
        "    \n",
        "    def __init__(self, vocab_size, embedding_dim):\n",
        "        super().__init__()\n",
        "        self.embedding = nn.Embedding(vocab_size, embedding_dim)\n",
        "        self.embedding.from_pretrained(torch.tensor(weights), freeze=True)\n",
        "        self.bigrams = nn.Conv1d(in_channels=embedding_dim, out_channels=80, kernel_size=2, padding='same')\n",
        "        self.trigrams = nn.Conv1d(in_channels=embedding_dim, out_channels=60, kernel_size=3, padding='same')\n",
        "        self.ngrams_cat = nn.Conv1d(in_channels=140, out_channels=140, kernel_size=2, padding='same')\n",
        "        self.pooling = nn.MaxPool1d(kernel_size=2, stride=2)\n",
        "        self.relu = nn.ReLU()\n",
        "        self.hidden = nn.Linear(in_features=140, out_features=1)\n",
        "        self.dropout = nn.Dropout(p=0.5)\n",
        "        self.out = nn.Sigmoid()\n",
        "\n",
        "    def forward(self, text):\n",
        "        embedded = self.embedding(text)\n",
        "        embedded = embedded.transpose(1,2)\n",
        "        feature_map_bigrams = self.dropout(self.relu(self.bigrams(embedded)))\n",
        "        feature_map_trigrams = self.dropout(self.relu(self.trigrams(embedded)))\n",
        "        concat = torch.cat((feature_map_bigrams, feature_map_trigrams), 1)\n",
        "        pooling = self.dropout(self.pooling(self.relu(self.ngrams_cat(concat))))\n",
        "        bm = pooling.max(2)[0]\n",
        "        logits = self.dropout(self.hidden(bm)) \n",
        "        logits = self.out(logits)       \n",
        "        return logits"
      ],
      "execution_count": 160,
      "outputs": []
    },
    {
      "cell_type": "code",
      "metadata": {
        "id": "XATH2gf6Ouu-"
      },
      "source": [
        "model = CNN(len(word2id), 5)\n",
        "optimizer = optim.Adam(model.parameters(), lr=0.001)\n",
        "criterion = nn.BCELoss()  \n",
        "\n",
        "# веса модели и значения лосса храним там же, где и все остальные тензоры\n",
        "model = model.to(DEVICE)\n",
        "criterion = criterion.to(DEVICE)"
      ],
      "execution_count": 161,
      "outputs": []
    },
    {
      "cell_type": "code",
      "metadata": {
        "colab": {
          "base_uri": "https://localhost:8080/"
        },
        "id": "p5SwbzycPwiY",
        "outputId": "128143c4-500e-41cb-f850-ebb61c48e5f7"
      },
      "source": [
        "losses = []\n",
        "losses_eval = []\n",
        "f1s = []\n",
        "f1s_eval = []\n",
        "\n",
        "for i in range(15):\n",
        "    print(f'\\nstarting Epoch {i}')\n",
        "    print('Training...')\n",
        "    epoch_loss = train(model, train_iterator, optimizer, criterion)\n",
        "    losses.append(epoch_loss)\n",
        "    print('\\nEvaluating on train...')\n",
        "    f1_on_train,_ = evaluate(model, train_iterator, criterion)\n",
        "    f1s.append(f1_on_train)\n",
        "    print('\\nEvaluating on test...')\n",
        "    f1_on_test, epoch_loss_on_test = evaluate(model, val_iterator, criterion)\n",
        "    losses_eval.append(epoch_loss_on_test)\n",
        "    f1s_eval.append(f1_on_test)"
      ],
      "execution_count": 162,
      "outputs": [
        {
          "output_type": "stream",
          "name": "stdout",
          "text": [
            "\n",
            "starting Epoch 0\n",
            "Training...\n",
            "Train loss: 0.7814411435808454\n",
            "Train loss: 0.7423167845298504\n",
            "Train loss: 0.7262157432057641\n",
            "Train loss: 0.719205477480161\n",
            "Train loss: 0.7149461435305106\n",
            "\n",
            "Evaluating on train...\n",
            "Val loss: 0.7365803505693164, Val f1: 0.6100801229476929\n",
            "Val loss: 0.710307240486145, Val f1: 0.5947532057762146\n",
            "Val loss: 0.7025547569448297, Val f1: 0.5891904830932617\n",
            "Val loss: 0.6982806577520856, Val f1: 0.585996687412262\n",
            "Val loss: 0.6957472103673059, Val f1: 0.5861843824386597\n",
            "\n",
            "Evaluating on test...\n",
            "Val loss: 0.914421816666921, Val f1: 0.770666241645813\n",
            "Val loss: 0.7841137136731829, Val f1: 0.666946291923523\n",
            "Val loss: 0.7485581365498629, Val f1: 0.6398109197616577\n",
            "Val loss: 0.7317839940388997, Val f1: 0.6266723871231079\n",
            "Val loss: 0.7222582195934496, Val f1: 0.6111502051353455\n",
            "\n",
            "starting Epoch 1\n",
            "Training...\n",
            "Train loss: 0.7472650791917529\n",
            "Train loss: 0.7186078305902153\n",
            "Train loss: 0.7104037932374261\n",
            "Train loss: 0.7062312506012998\n",
            "Train loss: 0.7039341258036124\n",
            "\n",
            "Evaluating on train...\n",
            "Val loss: 0.7365643126623971, Val f1: 0.46984344720840454\n",
            "Val loss: 0.7109874795223105, Val f1: 0.44969794154167175\n",
            "Val loss: 0.7030919289047067, Val f1: 0.4399294853210449\n",
            "Val loss: 0.6988036349668341, Val f1: 0.4377438724040985\n",
            "Val loss: 0.6965303872082684, Val f1: 0.4349101781845093\n",
            "\n",
            "Evaluating on test...\n",
            "Val loss: 0.9158749183019003, Val f1: 0.5567150115966797\n",
            "Val loss: 0.7852112139974322, Val f1: 0.48554372787475586\n",
            "Val loss: 0.7497768456285651, Val f1: 0.46578750014305115\n",
            "Val loss: 0.7330536286036173, Val f1: 0.4557945728302002\n",
            "Val loss: 0.7232011180174979, Val f1: 0.44398579001426697\n",
            "\n",
            "starting Epoch 2\n",
            "Training...\n",
            "Train loss: 0.7445530210222516\n",
            "Train loss: 0.7171014403474743\n",
            "Train loss: 0.7082503045147116\n",
            "Train loss: 0.7036560662722183\n",
            "Train loss: 0.7011408016488359\n",
            "\n",
            "Evaluating on train...\n",
            "Val loss: 0.7338194804532188, Val f1: 0.604872465133667\n",
            "Val loss: 0.7091855756167708, Val f1: 0.5850364565849304\n",
            "Val loss: 0.7011324031786486, Val f1: 0.576221764087677\n",
            "Val loss: 0.6970185576859167, Val f1: 0.5721320509910583\n",
            "Val loss: 0.694709603850906, Val f1: 0.5689001083374023\n",
            "\n",
            "Evaluating on test...\n",
            "Val loss: 0.9132790366808573, Val f1: 0.7526806592941284\n",
            "Val loss: 0.7830951298986163, Val f1: 0.6491438150405884\n",
            "Val loss: 0.7477520216595043, Val f1: 0.6188142895698547\n",
            "Val loss: 0.7311123808224996, Val f1: 0.6048519015312195\n",
            "Val loss: 0.7214556179548565, Val f1: 0.5902659893035889\n",
            "\n",
            "starting Epoch 3\n",
            "Training...\n",
            "Train loss: 0.7407369911670685\n",
            "Train loss: 0.7148210920136551\n",
            "Train loss: 0.7066813382235441\n",
            "Train loss: 0.7029316829422773\n",
            "Train loss: 0.700497114980543\n",
            "\n",
            "Evaluating on train...\n",
            "Val loss: 0.7342556161539895, Val f1: 0.6486296653747559\n",
            "Val loss: 0.7088820153269274, Val f1: 0.6225945949554443\n",
            "Val loss: 0.7009599086913195, Val f1: 0.6132054924964905\n",
            "Val loss: 0.6971037711127329, Val f1: 0.6089680194854736\n",
            "Val loss: 0.6947106823727891, Val f1: 0.6053212881088257\n",
            "\n",
            "Evaluating on test...\n",
            "Val loss: 0.9131711721420288, Val f1: 0.8046119213104248\n",
            "Val loss: 0.7829933762550354, Val f1: 0.6926072835922241\n",
            "Val loss: 0.747671203179793, Val f1: 0.6610878109931946\n",
            "Val loss: 0.731024444103241, Val f1: 0.6464800238609314\n",
            "Val loss: 0.7215080951389513, Val f1: 0.6313208341598511\n",
            "\n",
            "starting Epoch 4\n",
            "Training...\n",
            "Train loss: 0.7403307940278735\n",
            "Train loss: 0.7138314863731121\n",
            "Train loss: 0.7052815556526184\n",
            "Train loss: 0.70132394463329\n",
            "Train loss: 0.6985071849178623\n",
            "\n",
            "Evaluating on train...\n",
            "Val loss: 0.732352980545589, Val f1: 0.6212061643600464\n",
            "Val loss: 0.707304572236949, Val f1: 0.6000546813011169\n",
            "Val loss: 0.6996085928245024, Val f1: 0.5896217226982117\n",
            "Val loss: 0.6955834293769578, Val f1: 0.5870864987373352\n",
            "Val loss: 0.6934370406576105, Val f1: 0.5841490626335144\n",
            "\n",
            "Evaluating on test...\n",
            "Val loss: 0.9115312099456787, Val f1: 0.7699569463729858\n",
            "Val loss: 0.7816174115453448, Val f1: 0.6688563823699951\n",
            "Val loss: 0.7463578094135631, Val f1: 0.6368480324745178\n",
            "Val loss: 0.7297379930814107, Val f1: 0.6221376657485962\n",
            "Val loss: 0.7202303315463819, Val f1: 0.6083443760871887\n",
            "\n",
            "starting Epoch 5\n",
            "Training...\n",
            "Train loss: 0.7386000156402588\n",
            "Train loss: 0.712608906729468\n",
            "Train loss: 0.7042493264783513\n",
            "Train loss: 0.7004280868223158\n",
            "Train loss: 0.6986474370634234\n",
            "\n",
            "Evaluating on train...\n",
            "Val loss: 0.7344464787415096, Val f1: 0.6325713396072388\n",
            "Val loss: 0.7086452882865379, Val f1: 0.6147649884223938\n",
            "Val loss: 0.7002077170393683, Val f1: 0.6095143556594849\n",
            "Val loss: 0.6963673729007527, Val f1: 0.6034538149833679\n",
            "Val loss: 0.6941054229800766, Val f1: 0.6000418663024902\n",
            "\n",
            "Evaluating on test...\n",
            "Val loss: 0.9127223292986552, Val f1: 0.7973818778991699\n",
            "Val loss: 0.7826226098196847, Val f1: 0.6851798892021179\n",
            "Val loss: 0.7472768859429793, Val f1: 0.6524986624717712\n",
            "Val loss: 0.7306368152300516, Val f1: 0.6378431916236877\n",
            "Val loss: 0.7210926633132132, Val f1: 0.6225330233573914\n",
            "\n",
            "starting Epoch 6\n",
            "Training...\n",
            "Train loss: 0.7376550308295658\n",
            "Train loss: 0.7126140902782309\n",
            "Train loss: 0.704225553707643\n",
            "Train loss: 0.6999224676924237\n",
            "Train loss: 0.6973739524145384\n",
            "\n",
            "Evaluating on train...\n",
            "Val loss: 0.7321143278053829, Val f1: 0.6441855430603027\n",
            "Val loss: 0.706679500382522, Val f1: 0.6179354786872864\n",
            "Val loss: 0.6989013064991344, Val f1: 0.6038889288902283\n",
            "Val loss: 0.6951006964101629, Val f1: 0.601471483707428\n",
            "Val loss: 0.6929628994013812, Val f1: 0.5984856486320496\n",
            "\n",
            "Evaluating on test...\n",
            "Val loss: 0.9111071030298868, Val f1: 0.7899062037467957\n",
            "Val loss: 0.7813858219555446, Val f1: 0.6796186566352844\n",
            "Val loss: 0.746158095923337, Val f1: 0.6469383239746094\n",
            "Val loss: 0.7295346061388651, Val f1: 0.6328200697898865\n",
            "Val loss: 0.7199874394818356, Val f1: 0.6192219853401184\n",
            "\n",
            "starting Epoch 7\n",
            "Training...\n",
            "Train loss: 0.7381525380270821\n",
            "Train loss: 0.7115310800486597\n",
            "Train loss: 0.7029957446185026\n",
            "Train loss: 0.6993408102100178\n",
            "Train loss: 0.6967522252250362\n",
            "\n",
            "Evaluating on train...\n",
            "Val loss: 0.7321133485862187, Val f1: 0.6133034229278564\n",
            "Val loss: 0.707103665532737, Val f1: 0.5937665104866028\n",
            "Val loss: 0.6991056230935183, Val f1: 0.5879397392272949\n",
            "Val loss: 0.6951573713351105, Val f1: 0.5854974985122681\n",
            "Val loss: 0.6927117238173613, Val f1: 0.5838881134986877\n",
            "\n",
            "Evaluating on test...\n",
            "Val loss: 0.9105908274650574, Val f1: 0.7625266909599304\n",
            "Val loss: 0.7811001198632377, Val f1: 0.6558130979537964\n",
            "Val loss: 0.745865523815155, Val f1: 0.6276137232780457\n",
            "Val loss: 0.729243258635203, Val f1: 0.6152755618095398\n",
            "Val loss: 0.7196389938655653, Val f1: 0.6026797294616699\n",
            "\n",
            "starting Epoch 8\n",
            "Training...\n",
            "Train loss: 0.7371890459741864\n",
            "Train loss: 0.7102528584414515\n",
            "Train loss: 0.7019398618828167\n",
            "Train loss: 0.6977655816886384\n",
            "Train loss: 0.6950746106134879\n",
            "\n",
            "Evaluating on train...\n",
            "Val loss: 0.7303892416613442, Val f1: 0.6236016750335693\n",
            "Val loss: 0.7052875140617634, Val f1: 0.5973677039146423\n",
            "Val loss: 0.697590634226799, Val f1: 0.5900007486343384\n",
            "Val loss: 0.6935040900262736, Val f1: 0.5871549844741821\n",
            "Val loss: 0.6911154542420361, Val f1: 0.5854354500770569\n",
            "\n",
            "Evaluating on test...\n",
            "Val loss: 0.9089952111244202, Val f1: 0.7639883756637573\n",
            "Val loss: 0.7795519317899432, Val f1: 0.6544231176376343\n",
            "Val loss: 0.7443340583281084, Val f1: 0.627263069152832\n",
            "Val loss: 0.727751620610555, Val f1: 0.6151896715164185\n",
            "Val loss: 0.71820047340895, Val f1: 0.6031361222267151\n",
            "\n",
            "starting Epoch 9\n",
            "Training...\n",
            "Train loss: 0.7338793448039463\n",
            "Train loss: 0.7082258154605997\n",
            "Train loss: 0.7012816139242866\n",
            "Train loss: 0.6969327017412348\n",
            "Train loss: 0.6946995081128301\n",
            "\n",
            "Evaluating on train...\n",
            "Val loss: 0.7300885617733002, Val f1: 0.6148978471755981\n",
            "Val loss: 0.7047900804157915, Val f1: 0.5876391530036926\n",
            "Val loss: 0.6969745592637495, Val f1: 0.580247163772583\n",
            "Val loss: 0.6928857756873309, Val f1: 0.5808407068252563\n",
            "Val loss: 0.6906705369820466, Val f1: 0.5767615437507629\n",
            "\n",
            "Evaluating on test...\n",
            "Val loss: 0.9086541533470154, Val f1: 0.7420432567596436\n",
            "Val loss: 0.7791633009910583, Val f1: 0.6402828693389893\n",
            "Val loss: 0.7440620064735413, Val f1: 0.6152673959732056\n",
            "Val loss: 0.7274924953778584, Val f1: 0.6043024659156799\n",
            "Val loss: 0.7179325160227323, Val f1: 0.5933640599250793\n",
            "\n",
            "starting Epoch 10\n",
            "Training...\n",
            "Train loss: 0.7337199066366468\n",
            "Train loss: 0.7085072521505684\n",
            "Train loss: 0.7005847164175727\n",
            "Train loss: 0.696818274966741\n",
            "Train loss: 0.6946298890822643\n",
            "\n",
            "Evaluating on train...\n",
            "Val loss: 0.7291357942989894, Val f1: 0.6197234988212585\n",
            "Val loss: 0.7040802199265053, Val f1: 0.6005197763442993\n",
            "Val loss: 0.6962802328846671, Val f1: 0.5944593548774719\n",
            "Val loss: 0.6923308463419898, Val f1: 0.5933721661567688\n",
            "Val loss: 0.6900920634334152, Val f1: 0.5907378196716309\n",
            "\n",
            "Evaluating on test...\n",
            "Val loss: 0.9080380400021871, Val f1: 0.7701815366744995\n",
            "Val loss: 0.778698308127267, Val f1: 0.6598606109619141\n",
            "Val loss: 0.7435482848774303, Val f1: 0.6324769258499146\n",
            "Val loss: 0.7269788225491841, Val f1: 0.6187808513641357\n",
            "Val loss: 0.7174782062831678, Val f1: 0.6086969375610352\n",
            "\n",
            "starting Epoch 11\n",
            "Training...\n",
            "Train loss: 0.7324754851205009\n",
            "Train loss: 0.7061293577325756\n",
            "Train loss: 0.6982375830411911\n",
            "Train loss: 0.6944934069100073\n",
            "Train loss: 0.6921338374550278\n",
            "\n",
            "Evaluating on train...\n",
            "Val loss: 0.7273387227739606, Val f1: 0.5803470611572266\n",
            "Val loss: 0.7016086167302625, Val f1: 0.5618937611579895\n",
            "Val loss: 0.6941623281348835, Val f1: 0.5550631284713745\n",
            "Val loss: 0.6904919117184009, Val f1: 0.5531517863273621\n",
            "Val loss: 0.6882049739360809, Val f1: 0.5522602200508118\n",
            "\n",
            "Evaluating on test...\n",
            "Val loss: 0.9058931867281595, Val f1: 0.7173749208450317\n",
            "Val loss: 0.7768408911568778, Val f1: 0.6159075498580933\n",
            "Val loss: 0.7417799396948381, Val f1: 0.5912721157073975\n",
            "Val loss: 0.7252366701761882, Val f1: 0.5804887413978577\n",
            "Val loss: 0.7156693935394287, Val f1: 0.5706140398979187\n",
            "\n",
            "starting Epoch 12\n",
            "Training...\n",
            "Train loss: 0.7321661795888629\n",
            "Train loss: 0.7060285395589369\n",
            "Train loss: 0.698744386434555\n",
            "Train loss: 0.6946279760134422\n",
            "Train loss: 0.6917979282301825\n",
            "\n",
            "Evaluating on train...\n",
            "Val loss: 0.7254879432065147, Val f1: 0.6233197450637817\n",
            "Val loss: 0.7001005185061487, Val f1: 0.6059719324111938\n",
            "Val loss: 0.6923166079954668, Val f1: 0.5978286862373352\n",
            "Val loss: 0.6885225954702345, Val f1: 0.5944395065307617\n",
            "Val loss: 0.6861952873500617, Val f1: 0.5928601026535034\n",
            "\n",
            "Evaluating on test...\n",
            "Val loss: 0.9034954905509949, Val f1: 0.7754415273666382\n",
            "Val loss: 0.7747112682887486, Val f1: 0.6637971997261047\n",
            "Val loss: 0.7395957925102927, Val f1: 0.6376683115959167\n",
            "Val loss: 0.7231912175814311, Val f1: 0.6234637498855591\n",
            "Val loss: 0.7137881454668547, Val f1: 0.6125556230545044\n",
            "\n",
            "starting Epoch 13\n",
            "Training...\n",
            "Train loss: 0.7280152142047882\n",
            "Train loss: 0.7053180665805422\n",
            "Train loss: 0.696925392205065\n",
            "Train loss: 0.6934679827447665\n",
            "Train loss: 0.6914212131822431\n",
            "\n",
            "Evaluating on train...\n",
            "Val loss: 0.7257713292326246, Val f1: 0.5780119895935059\n",
            "Val loss: 0.7009006697556068, Val f1: 0.5581571459770203\n",
            "Val loss: 0.6930638673630628, Val f1: 0.5484911203384399\n",
            "Val loss: 0.6890832903021473, Val f1: 0.5462740063667297\n",
            "Val loss: 0.6870198725043116, Val f1: 0.5443362593650818\n",
            "\n",
            "Evaluating on test...\n",
            "Val loss: 0.9050964911778768, Val f1: 0.6876389384269714\n",
            "Val loss: 0.7761375052588326, Val f1: 0.6009252071380615\n",
            "Val loss: 0.7410013729875738, Val f1: 0.5799509286880493\n",
            "Val loss: 0.7245321432749431, Val f1: 0.5694840550422668\n",
            "Val loss: 0.7149464142949957, Val f1: 0.5596171021461487\n",
            "\n",
            "starting Epoch 14\n",
            "Training...\n",
            "Train loss: 0.7298579897199359\n",
            "Train loss: 0.7043296982502115\n",
            "Train loss: 0.6973388289863413\n",
            "Train loss: 0.6931724709979559\n",
            "Train loss: 0.6908390304526767\n",
            "\n",
            "Evaluating on train...\n",
            "Val loss: 0.7233982682228088, Val f1: 0.6673501133918762\n",
            "Val loss: 0.6987501937767555, Val f1: 0.6429185271263123\n",
            "Val loss: 0.691209465265274, Val f1: 0.6338197588920593\n",
            "Val loss: 0.6873220740738561, Val f1: 0.6296005845069885\n",
            "Val loss: 0.6852136737591511, Val f1: 0.6262912154197693\n",
            "\n",
            "Evaluating on test...\n",
            "Val loss: 0.9026595950126648, Val f1: 0.8140422105789185\n",
            "Val loss: 0.7740309749330793, Val f1: 0.6961439847946167\n",
            "Val loss: 0.7389406399293379, Val f1: 0.6675555109977722\n",
            "Val loss: 0.7226286053657531, Val f1: 0.652431070804596\n",
            "Val loss: 0.7133584493084958, Val f1: 0.6407173871994019\n"
          ]
        }
      ]
    },
    {
      "cell_type": "code",
      "metadata": {
        "colab": {
          "base_uri": "https://localhost:8080/",
          "height": 295
        },
        "id": "y6iJrbtcP_D9",
        "outputId": "0fa45319-6fe3-4e75-92aa-103559a9d11f"
      },
      "source": [
        "plt.plot(losses)\n",
        "plt.plot(losses_eval)\n",
        "plt.title('BCE loss value')\n",
        "plt.ylabel('BCE loss')\n",
        "plt.xlabel('epoch')\n",
        "plt.legend(['train', 'val'], loc='upper right')\n",
        "plt.show()"
      ],
      "execution_count": 163,
      "outputs": [
        {
          "output_type": "display_data",
          "data": {
            "image/png": "[encoded data removed]",
            "text/plain": [
              "<Figure size 432x288 with 1 Axes>"
            ]
          },
          "metadata": {
            "needs_background": "light"
          }
        }
      ]
    },
    {
      "cell_type": "code",
      "metadata": {
        "colab": {
          "base_uri": "https://localhost:8080/",
          "height": 295
        },
        "id": "1KvwqBJwQKaD",
        "outputId": "ad927973-b171-458e-99c5-e886b1ddc41d"
      },
      "source": [
        "plt.plot(f1s)\n",
        "plt.plot(f1s_eval)\n",
        "plt.title('f1 value')\n",
        "plt.ylabel('f1 value')\n",
        "plt.xlabel('epoch')\n",
        "plt.legend(['train', 'val'], loc='upper right')\n",
        "plt.show()"
      ],
      "execution_count": 164,
      "outputs": [
        {
          "output_type": "display_data",
          "data": {
            "image/png": "[encoded data removed]",
            "text/plain": [
              "<Figure size 432x288 with 1 Axes>"
            ]
          },
          "metadata": {
            "needs_background": "light"
          }
        }
      ]
    },
    {
      "cell_type": "code",
      "metadata": {
        "id": "IL_nwF1SQQ5d"
      },
      "source": [
        "fp, fn, tp, tn = predict(model, val_iterator)"
      ],
      "execution_count": 165,
      "outputs": []
    },
    {
      "cell_type": "code",
      "metadata": {
        "colab": {
          "base_uri": "https://localhost:8080/"
        },
        "id": "ErgVOdwGQY-v",
        "outputId": "60a10b8c-44c3-4b2b-d175-4b161e8024c2"
      },
      "source": [
        "recall = len(tp)/(len(tp) + len(fn))\n",
        "precision = len(tp)/(len(tp) + len(fp))\n",
        "f_score = 2 * precision * recall / (precision + recall)\n",
        "f_score"
      ],
      "execution_count": 166,
      "outputs": [
        {
          "output_type": "execute_result",
          "data": {
            "text/plain": [
              "0.6107257985738009"
            ]
          },
          "metadata": {},
          "execution_count": 166
        }
      ]
    },
    {
      "cell_type": "code",
      "metadata": {
        "colab": {
          "base_uri": "https://localhost:8080/"
        },
        "id": "vuyCOKeB-nJy",
        "outputId": "23bc2b49-876f-447f-f941-e73b77ddac34"
      },
      "source": [
        "fn[:5]"
      ],
      "execution_count": 167,
      "outputs": [
        {
          "output_type": "execute_result",
          "data": {
            "text/plain": [
              "['сижу сдаю заявку в и слышу в обсуждают',\n",
              " 'меня в словах на',\n",
              " '4',\n",
              " 'ubuntu я пропустил это событие',\n",
              " 'какая я по классу и все оттуда потом еще']"
            ]
          },
          "metadata": {},
          "execution_count": 167
        }
      ]
    },
    {
      "cell_type": "markdown",
      "metadata": {
        "id": "LKpWlAsIRCvX"
      },
      "source": [
        "Подруженные эмбеддинги не улучшили результаты :("
      ]
    },
    {
      "cell_type": "markdown",
      "metadata": {
        "id": "mBcVM8T4RnpG"
      },
      "source": [
        "Попробуем убрать предобработку текстов совсем. От переобучения я уже спасла модель тем, что добавила Dropout, уменьшила embedding_dim до 5, уменьшила in_features (и соответственно out_channels) до 140, разделила текст на train/val как 8 к 2. Learning rate 0.001 тоже помогает улучшить результаты + небольшое кол-во эпох предотвращает переобучение."
      ]
    },
    {
      "cell_type": "code",
      "metadata": {
        "id": "mZp9VkcwSy2Y"
      },
      "source": [
        "vocab = Counter()\n",
        "for text in tweets_data['text']:\n",
        "    vocab.update(text.split(' '))\n",
        "for word in vocab:\n",
        "    if vocab[word] > 5:\n",
        "        filtered_vocab.add(word)\n",
        "\n",
        "word2id = {'PAD':0}\n",
        "\n",
        "for word in filtered_vocab:\n",
        "    word2id[word] = len(word2id)\n",
        "id2word = {i:word for word, i in word2id.items()}"
      ],
      "execution_count": 168,
      "outputs": []
    },
    {
      "cell_type": "code",
      "metadata": {
        "id": "PkP3MAatTyOT"
      },
      "source": [
        "class RawTweetsDataset(Dataset):\n",
        "\n",
        "    def __init__(self, dataset, word2id, DEVICE):\n",
        "        self.dataset = dataset['text'].values\n",
        "        self.word2id = word2id\n",
        "        self.length = dataset.shape[0]\n",
        "        self.target = torch.Tensor(dataset['tone'].values)\n",
        "        self.device = DEVICE\n",
        "\n",
        "    def __len__(self):\n",
        "        return self.length\n",
        "\n",
        "    def __getitem__(self, index): \n",
        "        tokens = self.dataset[index].split(' ')\n",
        "        ids = torch.LongTensor([self.word2id[token] for token in tokens if token in self.word2id])\n",
        "        y = [self.target[index]]\n",
        "        return ids, y\n",
        "\n",
        "    def collate_fn(self, batch):\n",
        "      ids, y = list(zip(*batch))\n",
        "      padded_ids = pad_sequence(ids, batch_first=True).to(self.device)\n",
        "      y = torch.Tensor(y).to(self.device)\n",
        "      return padded_ids, y"
      ],
      "execution_count": 169,
      "outputs": []
    },
    {
      "cell_type": "code",
      "metadata": {
        "id": "Up0v5-j1UG-n"
      },
      "source": [
        "train_dataset = RawTweetsDataset(train_sentences, word2id, DEVICE)\n",
        "train_sampler = RandomSampler(train_dataset)\n",
        "train_iterator = DataLoader(train_dataset, collate_fn = train_dataset.collate_fn, sampler=train_sampler, batch_size=1024)"
      ],
      "execution_count": 170,
      "outputs": []
    },
    {
      "cell_type": "code",
      "metadata": {
        "id": "cNfYvwxoUKqJ"
      },
      "source": [
        "val_dataset = RawTweetsDataset(val_sentences, word2id, DEVICE)\n",
        "val_sampler = SequentialSampler(val_dataset)\n",
        "val_iterator = DataLoader(val_dataset, collate_fn = val_dataset.collate_fn, sampler=val_sampler, batch_size=1024)"
      ],
      "execution_count": 171,
      "outputs": []
    },
    {
      "cell_type": "code",
      "metadata": {
        "id": "zLC7FVsqUSHb"
      },
      "source": [
        "model = CNN(len(word2id), 5)\n",
        "optimizer = optim.Adam(model.parameters(), lr=0.001)\n",
        "criterion = nn.BCELoss() \n",
        "\n",
        "# веса модели и значения лосса храним там же, где и все остальные тензоры\n",
        "model = model.to(DEVICE)\n",
        "criterion = criterion.to(DEVICE)"
      ],
      "execution_count": 172,
      "outputs": []
    },
    {
      "cell_type": "code",
      "metadata": {
        "colab": {
          "base_uri": "https://localhost:8080/"
        },
        "id": "1sdF_5M6Uf6H",
        "outputId": "6e9c54d7-ffd8-4954-d10e-da5bfe54a3ec"
      },
      "source": [
        "losses = []\n",
        "losses_eval = []\n",
        "f1s = []\n",
        "f1s_eval = []\n",
        "\n",
        "for i in range(15):\n",
        "    print(f'\\nstarting Epoch {i}')\n",
        "    print('Training...')\n",
        "    epoch_loss = train(model, train_iterator, optimizer, criterion)\n",
        "    losses.append(epoch_loss)\n",
        "    print('\\nEvaluating on train...')\n",
        "    f1_on_train,_ = evaluate(model, train_iterator, criterion)\n",
        "    f1s.append(f1_on_train)\n",
        "    print('\\nEvaluating on test...')\n",
        "    f1_on_test, epoch_loss_on_test = evaluate(model, val_iterator, criterion)\n",
        "    losses_eval.append(epoch_loss_on_test)\n",
        "    f1s_eval.append(f1_on_test)"
      ],
      "execution_count": 173,
      "outputs": [
        {
          "output_type": "stream",
          "name": "stdout",
          "text": [
            "\n",
            "starting Epoch 0\n",
            "Training...\n",
            "Train loss: 0.7533844113349915\n",
            "Train loss: 0.7229097177242411\n",
            "Train loss: 0.7129018509929831\n",
            "Train loss: 0.707466418460264\n",
            "Train loss: 0.7041913963652946\n",
            "\n",
            "Evaluating on train...\n",
            "Val loss: 0.7220345267227718, Val f1: 0.6741688847541809\n",
            "Val loss: 0.697746729028636, Val f1: 0.6479036808013916\n",
            "Val loss: 0.6897455602884293, Val f1: 0.6428357362747192\n",
            "Val loss: 0.6861391491809133, Val f1: 0.6375938653945923\n",
            "Val loss: 0.683790782013455, Val f1: 0.6354176998138428\n",
            "\n",
            "Evaluating on test...\n",
            "Val loss: 0.8988829851150513, Val f1: 0.8426790237426758\n",
            "Val loss: 0.7709891455514091, Val f1: 0.7227709889411926\n",
            "Val loss: 0.7358996976505626, Val f1: 0.6917389631271362\n",
            "Val loss: 0.7196229656537374, Val f1: 0.674662172794342\n",
            "Val loss: 0.7103475206776669, Val f1: 0.6615768074989319\n",
            "\n",
            "starting Epoch 1\n",
            "Training...\n",
            "Train loss: 0.7336540307317462\n",
            "Train loss: 0.7066124040504982\n",
            "Train loss: 0.6979179964824156\n",
            "Train loss: 0.6918887536404497\n",
            "Train loss: 0.6874370164162403\n",
            "\n",
            "Evaluating on train...\n",
            "Val loss: 0.696714963231768, Val f1: 0.6615257263183594\n",
            "Val loss: 0.6726364287836798, Val f1: 0.640741765499115\n",
            "Val loss: 0.6650497967546637, Val f1: 0.631837010383606\n",
            "Val loss: 0.6611845978235794, Val f1: 0.6290064454078674\n",
            "Val loss: 0.6590186115857717, Val f1: 0.6261105537414551\n",
            "\n",
            "Evaluating on test...\n",
            "Val loss: 0.8645989100138346, Val f1: 0.8253700733184814\n",
            "Val loss: 0.7423664246286664, Val f1: 0.7114000916481018\n",
            "Val loss: 0.7086260698058389, Val f1: 0.6787699460983276\n",
            "Val loss: 0.6932018200556437, Val f1: 0.6618390083312988\n",
            "Val loss: 0.6843739559775904, Val f1: 0.6477059125900269\n",
            "\n",
            "starting Epoch 2\n",
            "Training...\n",
            "Train loss: 0.7182163000106812\n",
            "Train loss: 0.6932370806562489\n",
            "Train loss: 0.6848227056589994\n",
            "Train loss: 0.6784648369934599\n",
            "Train loss: 0.6745806433059074\n",
            "\n",
            "Evaluating on train...\n",
            "Val loss: 0.6770732317652021, Val f1: 0.7101684212684631\n",
            "Val loss: 0.6523712729585582, Val f1: 0.6907281279563904\n",
            "Val loss: 0.6452991948886351, Val f1: 0.6824410557746887\n",
            "Val loss: 0.6417113320302155, Val f1: 0.6771237850189209\n",
            "Val loss: 0.6400663635215244, Val f1: 0.6733322739601135\n",
            "\n",
            "Evaluating on test...\n",
            "Val loss: 0.8386849164962769, Val f1: 0.8960479497909546\n",
            "Val loss: 0.7206380707877023, Val f1: 0.7703341841697693\n",
            "Val loss: 0.6879749894142151, Val f1: 0.7334184050559998\n",
            "Val loss: 0.6732333024342855, Val f1: 0.7121469378471375\n",
            "Val loss: 0.6650857988156771, Val f1: 0.6965556740760803\n",
            "\n",
            "starting Epoch 3\n",
            "Training...\n",
            "Train loss: 0.7043517700263432\n",
            "Train loss: 0.679007561042391\n",
            "Train loss: 0.6705475124445829\n",
            "Train loss: 0.6651924252510071\n",
            "Train loss: 0.6615473837465853\n",
            "\n",
            "Evaluating on train...\n",
            "Val loss: 0.6557813627379281, Val f1: 0.7473312020301819\n",
            "Val loss: 0.63539202254394, Val f1: 0.7190421223640442\n",
            "Val loss: 0.6287956440990622, Val f1: 0.7078455686569214\n",
            "Val loss: 0.625165376622798, Val f1: 0.7029480934143066\n",
            "Val loss: 0.6227626180326616, Val f1: 0.7010099291801453\n",
            "\n",
            "Evaluating on test...\n",
            "Val loss: 0.8159058094024658, Val f1: 0.9372130632400513\n",
            "Val loss: 0.7015816909926278, Val f1: 0.797516942024231\n",
            "Val loss: 0.6697174960916693, Val f1: 0.7581214308738708\n",
            "Val loss: 0.6554447849591573, Val f1: 0.7378724217414856\n",
            "Val loss: 0.6477721772695842, Val f1: 0.7241155505180359\n",
            "\n",
            "starting Epoch 4\n",
            "Training...\n",
            "Train loss: 0.6891457438468933\n",
            "Train loss: 0.6692099982294543\n",
            "Train loss: 0.6610847115516663\n",
            "Train loss: 0.657209860066236\n",
            "Train loss: 0.6542284971958882\n",
            "\n",
            "Evaluating on train...\n",
            "Val loss: 0.6439460899148669, Val f1: 0.7650701999664307\n",
            "Val loss: 0.6214267693716904, Val f1: 0.7347128987312317\n",
            "Val loss: 0.6144666929136623, Val f1: 0.7265339493751526\n",
            "Val loss: 0.6112470071194536, Val f1: 0.72367262840271\n",
            "Val loss: 0.6090560966246837, Val f1: 0.7204431891441345\n",
            "\n",
            "Evaluating on test...\n",
            "Val loss: 0.7995203137397766, Val f1: 0.961837649345398\n",
            "Val loss: 0.6873125263622829, Val f1: 0.8162753582000732\n",
            "Val loss: 0.6558897441083734, Val f1: 0.7791884541511536\n",
            "Val loss: 0.6419619957605998, Val f1: 0.7579562067985535\n",
            "Val loss: 0.634610841148778, Val f1: 0.7431076169013977\n",
            "\n",
            "starting Epoch 5\n",
            "Training...\n",
            "Train loss: 0.6811618251459939\n",
            "Train loss: 0.6555528373553835\n",
            "Train loss: 0.6479141590270129\n",
            "Train loss: 0.6440331865165193\n",
            "Train loss: 0.6410738672759082\n",
            "\n",
            "Evaluating on train...\n",
            "Val loss: 0.6265662951128823, Val f1: 0.7574446797370911\n",
            "Val loss: 0.6065663058182289, Val f1: 0.7264418601989746\n",
            "Val loss: 0.5991086932745847, Val f1: 0.7191699147224426\n",
            "Val loss: 0.5960858555163367, Val f1: 0.7142335176467896\n",
            "Val loss: 0.5938134000108048, Val f1: 0.7114959359169006\n",
            "\n",
            "Evaluating on test...\n",
            "Val loss: 0.7797037959098816, Val f1: 0.9484298229217529\n",
            "Val loss: 0.6705124718802316, Val f1: 0.8067126870155334\n",
            "Val loss: 0.6398783922195435, Val f1: 0.7707619667053223\n",
            "Val loss: 0.6263171394666036, Val f1: 0.7485755681991577\n",
            "Val loss: 0.6188766768104151, Val f1: 0.7345435619354248\n",
            "\n",
            "starting Epoch 6\n",
            "Training...\n",
            "Train loss: 0.6732451702867236\n",
            "Train loss: 0.6505755514934145\n",
            "Train loss: 0.6419699679721486\n",
            "Train loss: 0.6377620434356948\n",
            "Train loss: 0.6357171019992313\n",
            "\n",
            "Evaluating on train...\n",
            "Val loss: 0.6156134860856193, Val f1: 0.7663534879684448\n",
            "Val loss: 0.5942431153922245, Val f1: 0.7419279217720032\n",
            "Val loss: 0.5881602655757557, Val f1: 0.7317716479301453\n",
            "Val loss: 0.5854030504065045, Val f1: 0.7273651361465454\n",
            "Val loss: 0.5837670911002804, Val f1: 0.7251256704330444\n",
            "\n",
            "Evaluating on test...\n",
            "Val loss: 0.7671712239583334, Val f1: 0.9656481742858887\n",
            "Val loss: 0.6597993459020343, Val f1: 0.8208993077278137\n",
            "Val loss: 0.629848220131614, Val f1: 0.7834827303886414\n",
            "Val loss: 0.6163524270057679, Val f1: 0.7621871829032898\n",
            "Val loss: 0.6090931484573766, Val f1: 0.7472167611122131\n",
            "\n",
            "starting Epoch 7\n",
            "Training...\n",
            "Train loss: 0.666598745754787\n",
            "Train loss: 0.6423315508612271\n",
            "Train loss: 0.6345465792851015\n",
            "Train loss: 0.629165918140088\n",
            "Train loss: 0.6267453021294361\n",
            "\n",
            "Evaluating on train...\n",
            "Val loss: 0.601902825491769, Val f1: 0.7697007656097412\n",
            "Val loss: 0.5821614861488342, Val f1: 0.7428022027015686\n",
            "Val loss: 0.5739621912891214, Val f1: 0.736319899559021\n",
            "Val loss: 0.5713233038530512, Val f1: 0.7299090027809143\n",
            "Val loss: 0.5696399042735228, Val f1: 0.7266156673431396\n",
            "\n",
            "Evaluating on test...\n",
            "Val loss: 0.7488107283910116, Val f1: 0.9708446860313416\n",
            "Val loss: 0.6441149626459394, Val f1: 0.8205130696296692\n",
            "Val loss: 0.6147777980024164, Val f1: 0.7845630645751953\n",
            "Val loss: 0.601627238591512, Val f1: 0.763399064540863\n",
            "Val loss: 0.5944890568130895, Val f1: 0.7494891881942749\n",
            "\n",
            "starting Epoch 8\n",
            "Training...\n",
            "Train loss: 0.6636690497398376\n",
            "Train loss: 0.6372398672432735\n",
            "Train loss: 0.6279187080535021\n",
            "Train loss: 0.6237269296484479\n",
            "Train loss: 0.6210761472985551\n",
            "\n",
            "Evaluating on train...\n",
            "Val loss: 0.5885126207556043, Val f1: 0.7648099660873413\n",
            "Val loss: 0.5708582647915544, Val f1: 0.732899010181427\n",
            "Val loss: 0.5658289045095444, Val f1: 0.7228731513023376\n",
            "Val loss: 0.5621202345621787, Val f1: 0.7193020582199097\n",
            "Val loss: 0.5599281715380179, Val f1: 0.7178860902786255\n",
            "\n",
            "Evaluating on test...\n",
            "Val loss: 0.736809233824412, Val f1: 0.9578927755355835\n",
            "Val loss: 0.6340312957763672, Val f1: 0.8097642064094543\n",
            "Val loss: 0.6050668358802795, Val f1: 0.7728230357170105\n",
            "Val loss: 0.5921298821767171, Val f1: 0.7529010772705078\n",
            "Val loss: 0.5848895342726457, Val f1: 0.7403284311294556\n",
            "\n",
            "starting Epoch 9\n",
            "Training...\n",
            "Train loss: 0.651228666305542\n",
            "Train loss: 0.6276791383480204\n",
            "Train loss: 0.6212097555398941\n",
            "Train loss: 0.6179738509452949\n",
            "Train loss: 0.6151562188122723\n",
            "\n",
            "Evaluating on train...\n",
            "Val loss: 0.579811862536839, Val f1: 0.7783348560333252\n",
            "Val loss: 0.5589334183725817, Val f1: 0.750083327293396\n",
            "Val loss: 0.551074357195334, Val f1: 0.7431187629699707\n",
            "Val loss: 0.5475098793789491, Val f1: 0.7386360764503479\n",
            "Val loss: 0.5457058766403714, Val f1: 0.7370722889900208\n",
            "\n",
            "Evaluating on test...\n",
            "Val loss: 0.7194893956184387, Val f1: 0.9814397096633911\n",
            "Val loss: 0.6195703148841858, Val f1: 0.8261522650718689\n",
            "Val loss: 0.5911787856708873, Val f1: 0.7900760173797607\n",
            "Val loss: 0.5784087141354879, Val f1: 0.7700746655464172\n",
            "Val loss: 0.571467261565359, Val f1: 0.7565916180610657\n",
            "\n",
            "starting Epoch 10\n",
            "Training...\n",
            "Train loss: 0.6458361489432198\n",
            "Train loss: 0.6227735219330623\n",
            "Train loss: 0.6149698902260173\n",
            "Train loss: 0.6112615466117859\n",
            "Train loss: 0.6094609007642076\n",
            "\n",
            "Evaluating on train...\n",
            "Val loss: 0.5682863976274218, Val f1: 0.7886062860488892\n",
            "Val loss: 0.5513246367717611, Val f1: 0.7587392926216125\n",
            "Val loss: 0.5443339794874191, Val f1: 0.74860680103302\n",
            "Val loss: 0.5416692394321247, Val f1: 0.7451109290122986\n",
            "Val loss: 0.5391714113789636, Val f1: 0.7430803179740906\n",
            "\n",
            "Evaluating on test...\n",
            "Val loss: 0.7126721541086832, Val f1: 0.9838206768035889\n",
            "Val loss: 0.6135392359324864, Val f1: 0.831121027469635\n",
            "Val loss: 0.5852445418184454, Val f1: 0.7937474846839905\n",
            "Val loss: 0.5726681232452393, Val f1: 0.7730756402015686\n",
            "Val loss: 0.565814197063446, Val f1: 0.7606574296951294\n",
            "\n",
            "starting Epoch 11\n",
            "Training...\n",
            "Train loss: 0.6432084824357714\n",
            "Train loss: 0.620941123058056\n",
            "Train loss: 0.6118559254841371\n",
            "Train loss: 0.607853511632499\n",
            "Train loss: 0.605626418783858\n",
            "\n",
            "Evaluating on train...\n",
            "Val loss: 0.5602543864931379, Val f1: 0.8055678009986877\n",
            "Val loss: 0.5437198959547898, Val f1: 0.7748897075653076\n",
            "Val loss: 0.5388097356666218, Val f1: 0.7648225426673889\n",
            "Val loss: 0.5361318557949389, Val f1: 0.7595446705818176\n",
            "Val loss: 0.5339616512930071, Val f1: 0.7572327256202698\n",
            "\n",
            "Evaluating on test...\n",
            "Val loss: 0.7055501739184061, Val f1: 1.0007548332214355\n",
            "Val loss: 0.6076647639274597, Val f1: 0.843553900718689\n",
            "Val loss: 0.579555636102503, Val f1: 0.8064719438552856\n",
            "Val loss: 0.5671696146329244, Val f1: 0.7877180576324463\n",
            "Val loss: 0.5605496293620059, Val f1: 0.7734361886978149\n",
            "\n",
            "starting Epoch 12\n",
            "Training...\n",
            "Train loss: 0.6347519414765495\n",
            "Train loss: 0.6124274484042463\n",
            "Train loss: 0.6053001176227223\n",
            "Train loss: 0.6024032942319321\n",
            "Train loss: 0.6001116754235448\n",
            "\n",
            "Evaluating on train...\n",
            "Val loss: 0.5498409271240234, Val f1: 0.808444082736969\n",
            "Val loss: 0.5340690283939756, Val f1: 0.7736677527427673\n",
            "Val loss: 0.5289610353383151, Val f1: 0.7624831795692444\n",
            "Val loss: 0.5265946135682574, Val f1: 0.7584164142608643\n",
            "Val loss: 0.5230874765563656, Val f1: 0.7576008439064026\n",
            "\n",
            "Evaluating on test...\n",
            "Val loss: 0.6920281648635864, Val f1: 0.9919729232788086\n",
            "Val loss: 0.5962508916854858, Val f1: 0.8401023745536804\n",
            "Val loss: 0.5685075142166831, Val f1: 0.8049279451370239\n",
            "Val loss: 0.556303326288859, Val f1: 0.7853896021842957\n",
            "Val loss: 0.5497205696607891, Val f1: 0.7711564898490906\n",
            "\n",
            "starting Epoch 13\n",
            "Training...\n",
            "Train loss: 0.6266687938145229\n",
            "Train loss: 0.6061624494092218\n",
            "Train loss: 0.6005633676593954\n",
            "Train loss: 0.5978489750522679\n",
            "Train loss: 0.5960931649079194\n",
            "\n",
            "Evaluating on train...\n",
            "Val loss: 0.5463423941816602, Val f1: 0.7869934439659119\n",
            "Val loss: 0.5259087527620381, Val f1: 0.7651568055152893\n",
            "Val loss: 0.5211963192983107, Val f1: 0.7562274932861328\n",
            "Val loss: 0.5179451784845126, Val f1: 0.7521131634712219\n",
            "Val loss: 0.5154882975526758, Val f1: 0.7507422566413879\n",
            "\n",
            "Evaluating on test...\n",
            "Val loss: 0.6833537022272745, Val f1: 0.9825762510299683\n",
            "Val loss: 0.5890339187213353, Val f1: 0.8274942636489868\n",
            "Val loss: 0.5616041259332136, Val f1: 0.7933779954910278\n",
            "Val loss: 0.5493892272313435, Val f1: 0.7755030989646912\n",
            "Val loss: 0.5427778771049098, Val f1: 0.7625597715377808\n",
            "\n",
            "starting Epoch 14\n",
            "Training...\n",
            "Train loss: 0.6319035972867694\n",
            "Train loss: 0.6074279176777807\n",
            "Train loss: 0.6007495251568881\n",
            "Train loss: 0.5952316936800035\n",
            "Train loss: 0.5927407185773592\n",
            "\n",
            "Evaluating on train...\n",
            "Val loss: 0.5332929385559899, Val f1: 0.8007508516311646\n",
            "Val loss: 0.5134240286103611, Val f1: 0.775802493095398\n",
            "Val loss: 0.5063663924282248, Val f1: 0.7684154510498047\n",
            "Val loss: 0.5038219508478197, Val f1: 0.7649596333503723\n",
            "Val loss: 0.5028225558029639, Val f1: 0.762749433517456\n",
            "\n",
            "Evaluating on test...\n",
            "Val loss: 0.6680334607760111, Val f1: 0.9968530535697937\n",
            "Val loss: 0.5762582719326019, Val f1: 0.840101957321167\n",
            "Val loss: 0.549564006653699, Val f1: 0.8048474788665771\n",
            "Val loss: 0.537487636009852, Val f1: 0.7859594225883484\n",
            "Val loss: 0.531296215559307, Val f1: 0.7722981572151184\n"
          ]
        }
      ]
    },
    {
      "cell_type": "code",
      "metadata": {
        "colab": {
          "base_uri": "https://localhost:8080/",
          "height": 295
        },
        "id": "DV0Y-v2pUlof",
        "outputId": "5fed6ce9-c1e1-41e4-cf79-b65ae53a10cd"
      },
      "source": [
        "plt.plot(losses)\n",
        "plt.plot(losses_eval)\n",
        "plt.title('BCE loss value')\n",
        "plt.ylabel('BCE loss')\n",
        "plt.xlabel('epoch')\n",
        "plt.legend(['train', 'val'], loc='upper right')\n",
        "plt.show()"
      ],
      "execution_count": 174,
      "outputs": [
        {
          "output_type": "display_data",
          "data": {
            "image/png": "[encoded data removed]",
            "text/plain": [
              "<Figure size 432x288 with 1 Axes>"
            ]
          },
          "metadata": {
            "needs_background": "light"
          }
        }
      ]
    },
    {
      "cell_type": "code",
      "metadata": {
        "colab": {
          "base_uri": "https://localhost:8080/",
          "height": 295
        },
        "id": "TzGiN_hxUqTI",
        "outputId": "51a106cf-27c1-4ba9-cb38-5b87a78bc418"
      },
      "source": [
        "plt.plot(f1s)\n",
        "plt.plot(f1s_eval)\n",
        "plt.title('f1 value')\n",
        "plt.ylabel('f1 value')\n",
        "plt.xlabel('epoch')\n",
        "plt.legend(['train', 'val'], loc='upper right')\n",
        "plt.show()"
      ],
      "execution_count": 175,
      "outputs": [
        {
          "output_type": "display_data",
          "data": {
            "image/png": "[encoded data removed]",
            "text/plain": [
              "<Figure size 432x288 with 1 Axes>"
            ]
          },
          "metadata": {
            "needs_background": "light"
          }
        }
      ]
    },
    {
      "cell_type": "code",
      "metadata": {
        "id": "uT2q8dzbUu74",
        "colab": {
          "base_uri": "https://localhost:8080/"
        },
        "outputId": "bc4c31c6-d74f-47f2-8a96-0825b3caa6e4"
      },
      "source": [
        "fp, fn, tp, tn = predict(model, val_iterator)\n",
        "recall = len(tp)/(len(tp) + len(fn))\n",
        "precision = len(tp)/(len(tp) + len(fp))\n",
        "f_score = 2 * precision * recall / (precision + recall)\n",
        "f_score"
      ],
      "execution_count": 176,
      "outputs": [
        {
          "output_type": "execute_result",
          "data": {
            "text/plain": [
              "0.7341834962536595"
            ]
          },
          "metadata": {},
          "execution_count": 176
        }
      ]
    },
    {
      "cell_type": "markdown",
      "metadata": {
        "id": "6M_0_n7WV6Vx"
      },
      "source": [
        "Результаты стали лучше, ура! По всей видимости, чем больше информации о тексте получает модель, тем лучше она справляется с задачей. Тем более при оценки тональности текстов в соц. сетях нужно учитывать смайлики/знаки препинания/скобки и тд, тк они важные индикаторы \"настроения\" автора. Посмотрим на ошибки модели."
      ]
    },
    {
      "cell_type": "code",
      "metadata": {
        "colab": {
          "base_uri": "https://localhost:8080/"
        },
        "id": "w2wnKk_VWgmX",
        "outputId": "b69249cd-e213-47d1-ab1f-dc1e2638c813"
      },
      "source": [
        "fp[:5]"
      ],
      "execution_count": 177,
      "outputs": [
        {
          "output_type": "execute_result",
          "data": {
            "text/plain": [
              "['@SFGO76 я ей верил даже больше чем Ни',\n",
              " 'Вокруг происходит какая-то неведомая фигня! Все, кто собирался в никак не могут  Это и к тебе',\n",
              " 'ай лайк Дима хи из соу ай ту',\n",
              " 'всего быть человеком,',\n",
              " 'говоря, со всей этой никакого новогоднего                 ']"
            ]
          },
          "metadata": {},
          "execution_count": 177
        }
      ]
    },
    {
      "cell_type": "code",
      "metadata": {
        "colab": {
          "base_uri": "https://localhost:8080/"
        },
        "id": "8Bzb7a__WnNG",
        "outputId": "912a8cdc-b60a-4b8f-acee-4cf74af8326c"
      },
      "source": [
        "fn[:5]"
      ],
      "execution_count": 178,
      "outputs": [
        {
          "output_type": "execute_result",
          "data": {
            "text/plain": [
              "['для начала встретиться',\n",
              " 'да какая как будто от этого что-нибудь поменялось',\n",
              " 'какая я по классу и все оттуда ахаха, потом еще Весело',\n",
              " '',\n",
              " 'в автобусе было на самой']"
            ]
          },
          "metadata": {},
          "execution_count": 178
        }
      ]
    },
    {
      "cell_type": "markdown",
      "metadata": {
        "id": "S96cJCxQV6y6"
      },
      "source": [
        "### Модель с комбинацией эмбеддингов и символьных признаков"
      ]
    },
    {
      "cell_type": "code",
      "metadata": {
        "colab": {
          "base_uri": "https://localhost:8080/"
        },
        "id": "4FPgE0gSWF4z",
        "outputId": "c6af8ff8-a113-44e6-c9f0-b2585403dd8a"
      },
      "source": [
        "vocab = Counter()\n",
        "for text in tweets_data['prep_text']:\n",
        "    vocab.update(text.split())\n",
        "\n",
        "filtered_vocab = set()\n",
        "\n",
        "for word in vocab:\n",
        "    if vocab[word] > 5:\n",
        "        filtered_vocab.add(word)\n",
        "print('уникальных токенов, втретившихся больше 5 раз:', len(filtered_vocab))\n",
        "\n",
        "word2id = {'PAD':0}\n",
        "\n",
        "for word in filtered_vocab:\n",
        "    word2id[word] = len(word2id)"
      ],
      "execution_count": null,
      "outputs": [
        {
          "output_type": "stream",
          "name": "stdout",
          "text": [
            "уникальных токенов, втретившихся больше 5 раз: 14917\n"
          ]
        }
      ]
    },
    {
      "cell_type": "code",
      "metadata": {
        "colab": {
          "base_uri": "https://localhost:8080/"
        },
        "id": "xckH6Iairm2E",
        "outputId": "a6ab8945-9eef-4fdf-c3ac-d1a99968426f"
      },
      "source": [
        "char_vocab = Counter()\n",
        "for text in tweets_data['prep_text']:\n",
        "    for word in text:\n",
        "      char_vocab.update(list(word))\n",
        "\n",
        "filtered_char_vocab = set()\n",
        "\n",
        "for word in char_vocab:\n",
        "    if char_vocab[word] > 10:\n",
        "        filtered_char_vocab.add(word)\n",
        "print('уникальных токенов, втретившихся больше 10 раз:', len(filtered_char_vocab))\n",
        "\n",
        "symbol2id = {'PAD':0}\n",
        "\n",
        "for symbol in filtered_char_vocab:\n",
        "    symbol2id[symbol] = len(symbol2id)"
      ],
      "execution_count": null,
      "outputs": [
        {
          "output_type": "stream",
          "name": "stdout",
          "text": [
            "уникальных токенов, втретившихся больше 10 раз: 73\n"
          ]
        }
      ]
    },
    {
      "cell_type": "code",
      "metadata": {
        "id": "yi-ATUOLuh--"
      },
      "source": [
        "id2word = {i:word for word, i in word2id.items()}"
      ],
      "execution_count": null,
      "outputs": []
    },
    {
      "cell_type": "code",
      "metadata": {
        "id": "D0W3I4dvuiaA"
      },
      "source": [
        "id2symbol = {i:symbol for symbol, i in symbol2id.items()}"
      ],
      "execution_count": null,
      "outputs": []
    },
    {
      "cell_type": "code",
      "metadata": {
        "id": "RlteRa4xlvv0"
      },
      "source": [
        "ft_2 = FastText(tweets_data['prep_text'].tolist(), size=100, window=5, min_count=1)"
      ],
      "execution_count": null,
      "outputs": []
    },
    {
      "cell_type": "code",
      "metadata": {
        "id": "Xr2dsGA_l1kU"
      },
      "source": [
        "weights = np.zeros((len(word2id), 100))\n",
        "count = 0\n",
        "for word, i in word2id.items():\n",
        "    if word == 'PAD':\n",
        "        continue   \n",
        "    try:\n",
        "        weights[i] = ft_2.wv[word]    \n",
        "    except KeyError:\n",
        "      count += 1\n",
        "      # oov словам сопоставляем случайный вектор\n",
        "      weights[i] = np.random.normal(0,0.1,100)"
      ],
      "execution_count": null,
      "outputs": []
    },
    {
      "cell_type": "code",
      "metadata": {
        "id": "GnQgR4eLsgA7"
      },
      "source": [
        "class WSTweetsDataset(Dataset):\n",
        "\n",
        "    def __init__(self, dataset, word2id, symbol2id, DEVICE):\n",
        "        self.dataset = dataset['prep_text'].values\n",
        "        self.word2id = word2id\n",
        "        self.symbol2id = symbol2id\n",
        "        self.length = dataset.shape[0]\n",
        "        self.target = torch.Tensor(dataset['tone'].values)\n",
        "        self.device = DEVICE\n",
        "\n",
        "    def __len__(self):\n",
        "        return self.length\n",
        "\n",
        "    def __getitem__(self, index): \n",
        "        symbols = list(self.dataset[index])\n",
        "        symb_ids = torch.LongTensor([self.symbol2id[symbol] for symbol in symbols if symbol in self.symbol2id])\n",
        "        tokens = self.dataset[index].split()\n",
        "        word_ids = torch.LongTensor([self.word2id[token] for token in tokens if token in self.word2id])\n",
        "        y = [self.target[index]]\n",
        "        return word_ids, symb_ids, y\n",
        "\n",
        "    def collate_fn(self, batch): #этот метод можно реализовывать и отдельно,\n",
        "    # он понадобится для DataLoader во время итерации по батчам\n",
        "      word_ids, symb_ids, y = list(zip(*batch))\n",
        "      padded_words = pad_sequence(word_ids, batch_first=True).to(self.device)\n",
        "      padded_symbs = pad_sequence(symb_ids, batch_first=True).to(self.device)\n",
        "      y = torch.Tensor(y).to(self.device)\n",
        "      return padded_words, padded_symbs, y"
      ],
      "execution_count": null,
      "outputs": []
    },
    {
      "cell_type": "code",
      "metadata": {
        "id": "IJYEHEJets6t"
      },
      "source": [
        "train_dataset = WSTweetsDataset(train_sentences, word2id, symbol2id, DEVICE)\n",
        "train_sampler = RandomSampler(train_dataset)\n",
        "train_iterator = DataLoader(train_dataset, collate_fn = train_dataset.collate_fn, sampler=train_sampler, batch_size=1024)"
      ],
      "execution_count": null,
      "outputs": []
    },
    {
      "cell_type": "code",
      "metadata": {
        "id": "TEmilBxhtx9T"
      },
      "source": [
        "val_dataset = WSTweetsDataset(val_sentences, word2id, symbol2id, DEVICE)\n",
        "val_sampler = SequentialSampler(val_dataset)\n",
        "val_iterator = DataLoader(val_dataset, collate_fn = val_dataset.collate_fn, sampler=val_sampler, batch_size=1024)"
      ],
      "execution_count": null,
      "outputs": []
    },
    {
      "cell_type": "code",
      "metadata": {
        "id": "h_adWCfJt4jW"
      },
      "source": [
        "class WSCNN(nn.Module):\n",
        "    def __init__(self, symb_vocab_size, symb_embedding_dim, word_vocab_size):\n",
        "        super().__init__()\n",
        "\n",
        "        # word-level\n",
        "        self.word_embedding = nn.Embedding(word_vocab_size, 100)\n",
        "        self.word_embedding.from_pretrained(torch.tensor(weights), freeze=True)\n",
        "        self.word_hidden = nn.Linear(100, 100) \n",
        "\n",
        "        # symbol-level\n",
        "        self.symb_embedding = nn.Embedding(symb_vocab_size, symb_embedding_dim)\n",
        "        self.symb_bigrams = nn.Conv1d(in_channels=symb_embedding_dim, out_channels=100, kernel_size=2, padding='same')\n",
        "        self.symb_trigrams = nn.Conv1d(in_channels=symb_embedding_dim, out_channels=80, kernel_size=3, padding='same')\n",
        "        self.symb_pooling = nn.MaxPool1d(kernel_size=2, stride=2)\n",
        "        self.symb_hidden = nn.Linear(in_features=180, out_features=100)\n",
        "\n",
        "        # both\n",
        "        self.relu = nn.ReLU()   \n",
        "        self.linear = nn.Linear(in_features=200, out_features=1)\n",
        "        self.dropout = nn.Dropout(p=0.5) \n",
        "        self.out = nn.Sigmoid()\n",
        "\n",
        "    def forward(self, words_seq, symb_seq):\n",
        "        #batch_size x seq_len\n",
        "        embedded = self.symb_embedding(symb_seq)\n",
        "        #batch_size x seq_len x embedding_dim\n",
        "        embedded = embedded.transpose(1,2)\n",
        "        #batch_size x embedding_dim x seq_len\n",
        "        feature_map_bigrams = self.dropout(self.symb_pooling(self.relu(self.symb_bigrams(embedded)))) \n",
        "        #batch_size x filter_count2 x seq_len* \n",
        "        feature_map_trigrams = self.dropout(self.symb_pooling(self.relu(self.symb_trigrams(embedded)))) \n",
        "        #batch_size x filter_count3 x seq_len*\n",
        "\n",
        "        pooling1 = feature_map_bigrams.max(2)[0] \n",
        "        # batch_size x filter_count2\n",
        "        pooling2 = feature_map_trigrams.max(2)[0]\n",
        "        # batch_size x filter_count3\n",
        "        concat = torch.cat((pooling1, pooling2), 1)\n",
        "        # batch_size x (filter_count2 + filter_count3)\n",
        "        symb_vector = self.symb_hidden(concat)\n",
        "\n",
        "        embedded_words = self.word_embedding(words_seq) \n",
        "        mean_emb_words = torch.mean(embedded_words, dim=1) \n",
        "        word_vector = self.dropout(self.word_hidden(mean_emb_words)) # тут был дропаут\n",
        "        word_vector = self.dropout(self.relu(word_vector)) # тут был дропаут\n",
        "        concat = torch.cat((symb_vector, word_vector), 1)\n",
        "        logits = self.out(self.linear(concat))      \n",
        "        return logits"
      ],
      "execution_count": null,
      "outputs": []
    },
    {
      "cell_type": "code",
      "metadata": {
        "id": "eIN_Qfv4vSA-"
      },
      "source": [
        "def train(model, iterator, optimizer, criterion):\n",
        "    epoch_loss = 0 # для подсчета среднего лосса на всех батчах\n",
        "\n",
        "    model.train()  # ставим модель в обучение, явно указываем, что сейчас надо будет хранить градиенты у всех весов\n",
        "\n",
        "    for i, (word_seq, symb_seq, ys) in enumerate(iterator): #итерируемся по батчам\n",
        "        optimizer.zero_grad()  #обнуляем градиенты\n",
        "        preds = model(word_seq, symb_seq)  #прогоняем данные через модель\n",
        "        loss = criterion(preds, ys) #считаем значение функции потерь  \n",
        "        loss.backward() #считаем градиенты  \n",
        "        optimizer.step() #обновляем веса \n",
        "        epoch_loss += loss.item() #сохраняем значение функции потерь\n",
        "        if not (i + 1) % int(len(iterator)/5):\n",
        "            print(f'Train loss: {epoch_loss/i}')      \n",
        "    return  epoch_loss / len(iterator) # возвращаем среднее значение лосса по всей выборке\n",
        "\n",
        "\n",
        "def evaluate(model, iterator, criterion):\n",
        "    epoch_loss = 0\n",
        "    epoch_metric = 0\n",
        "    model.eval() \n",
        "    with torch.no_grad():\n",
        "        for i, (word_seq, symb_seq, ys) in enumerate(iterator):   \n",
        "            preds = model(word_seq, symb_seq)  # делаем предсказания на тесте\n",
        "            loss = criterion(preds, ys)   # считаем значения функции ошибки для статистики  \n",
        "            epoch_loss += loss.item()\n",
        "            batch_metric = f1(preds.round().long(), ys.long(), ignore_index=0)\n",
        "            epoch_metric += batch_metric\n",
        "\n",
        "            if not (i + 1) % int(len(iterator)/5):\n",
        "              print(f'Val loss: {epoch_loss/i}, Val f1: {epoch_metric/i}')\n",
        "        \n",
        "    return epoch_metric / len(iterator), epoch_loss / len(iterator) # возвращаем среднее значение по всей выборке\n"
      ],
      "execution_count": null,
      "outputs": []
    },
    {
      "cell_type": "code",
      "metadata": {
        "id": "AxLCJDa-wwTx"
      },
      "source": [
        "model = WSCNN(len(symbol2id), 10, len(word2id))\n",
        "optimizer = optim.Adam(model.parameters(), lr=0.001)\n",
        "criterion = nn.BCELoss() \n",
        "\n",
        "# веса модели и значения лосса храним там же, где и все остальные тензоры\n",
        "model = model.to(DEVICE)\n",
        "criterion = criterion.to(DEVICE)"
      ],
      "execution_count": null,
      "outputs": []
    },
    {
      "cell_type": "code",
      "metadata": {
        "colab": {
          "base_uri": "https://localhost:8080/"
        },
        "id": "sbPA2VjVwtlI",
        "outputId": "91628a82-c210-4df4-9b04-dab8497ed541"
      },
      "source": [
        "losses = []\n",
        "losses_eval = []\n",
        "f1s = []\n",
        "f1s_eval = []\n",
        "\n",
        "for i in range(10):\n",
        "    print(f'\\nstarting Epoch {i}')\n",
        "    print('Training...')\n",
        "    epoch_loss = train(model, train_iterator, optimizer, criterion)\n",
        "    losses.append(epoch_loss)\n",
        "    print('\\nEvaluating on train...')\n",
        "    f1_on_train,_ = evaluate(model, train_iterator, criterion)\n",
        "    f1s.append(f1_on_train)\n",
        "    print('\\nEvaluating on test...')\n",
        "    f1_on_test, epoch_loss_on_test = evaluate(model, val_iterator, criterion)\n",
        "    losses_eval.append(epoch_loss_on_test)\n",
        "    f1s_eval.append(f1_on_test)"
      ],
      "execution_count": null,
      "outputs": [
        {
          "output_type": "stream",
          "name": "stdout",
          "text": [
            "\n",
            "starting Epoch 0\n",
            "Training...\n",
            "Train loss: 0.7970502589430127\n",
            "Train loss: 0.7439993249958959\n",
            "Train loss: 0.7234059233557094\n",
            "Train loss: 0.7108699275275409\n",
            "Train loss: 0.7016369998455048\n",
            "\n",
            "Evaluating on train...\n",
            "Val loss: 0.711431486266, Val f1: 0.7110620141029358\n",
            "Val loss: 0.6872936487197876, Val f1: 0.6851364374160767\n",
            "Val loss: 0.6793504817919298, Val f1: 0.6788883805274963\n",
            "Val loss: 0.6754608750343323, Val f1: 0.6748223900794983\n",
            "Val loss: 0.6732387301084157, Val f1: 0.6728519797325134\n",
            "\n",
            "Evaluating on test...\n",
            "Val loss: 0.8837892214457194, Val f1: 0.8960347175598145\n",
            "Val loss: 0.758181129183088, Val f1: 0.7598348259925842\n",
            "Val loss: 0.7235158302567222, Val f1: 0.7296117544174194\n",
            "Val loss: 0.7083022197087606, Val f1: 0.7111564874649048\n",
            "Val loss: 0.6997516217984652, Val f1: 0.6997172832489014\n",
            "\n",
            "starting Epoch 1\n",
            "Training...\n",
            "Train loss: 0.7021045429365975\n",
            "Train loss: 0.6740649239770298\n",
            "Train loss: 0.6632606807080182\n",
            "Train loss: 0.6542869483010244\n",
            "Train loss: 0.6474765716372309\n",
            "\n",
            "Evaluating on train...\n",
            "Val loss: 0.6632488753114428, Val f1: 0.740868330001831\n",
            "Val loss: 0.6389690781461781, Val f1: 0.7187281250953674\n",
            "Val loss: 0.6316305331208489, Val f1: 0.7089099287986755\n",
            "Val loss: 0.6286627842208087, Val f1: 0.7036396265029907\n",
            "Val loss: 0.6261579579598194, Val f1: 0.7027308940887451\n",
            "\n",
            "Evaluating on test...\n",
            "Val loss: 0.8239627083142599, Val f1: 0.9381911158561707\n",
            "Val loss: 0.7066694498062134, Val f1: 0.7978200316429138\n",
            "Val loss: 0.6745814085006714, Val f1: 0.7654157280921936\n",
            "Val loss: 0.6606283823649088, Val f1: 0.7455564737319946\n",
            "Val loss: 0.6522175136365389, Val f1: 0.7354158163070679\n",
            "\n",
            "starting Epoch 2\n",
            "Training...\n",
            "Train loss: 0.6512556884969983\n",
            "Train loss: 0.6276116227281505\n",
            "Train loss: 0.6177810687910427\n",
            "Train loss: 0.6099660770367767\n",
            "Train loss: 0.6041519577438766\n",
            "\n",
            "Evaluating on train...\n",
            "Val loss: 0.6174451879092625, Val f1: 0.7654063701629639\n",
            "Val loss: 0.5941875844166197, Val f1: 0.7423434853553772\n",
            "Val loss: 0.5869168747555126, Val f1: 0.7342268824577332\n",
            "Val loss: 0.5823092076738002, Val f1: 0.732158362865448\n",
            "Val loss: 0.5801204233556181, Val f1: 0.7296302914619446\n",
            "\n",
            "Evaluating on test...\n",
            "Val loss: 0.7698166767756144, Val f1: 0.9509732723236084\n",
            "Val loss: 0.6593320369720459, Val f1: 0.813295304775238\n",
            "Val loss: 0.6295691836964, Val f1: 0.7812251448631287\n",
            "Val loss: 0.6169057011604309, Val f1: 0.7616247534751892\n",
            "Val loss: 0.6079698550073724, Val f1: 0.7541054487228394\n",
            "\n",
            "starting Epoch 3\n",
            "Training...\n",
            "Train loss: 0.6121556035109929\n",
            "Train loss: 0.589257787013876\n",
            "Train loss: 0.5788610225374048\n",
            "Train loss: 0.5736491417480727\n",
            "Train loss: 0.56805962968517\n",
            "\n",
            "Evaluating on train...\n",
            "Val loss: 0.5818831622600555, Val f1: 0.7901641726493835\n",
            "Val loss: 0.557955450025098, Val f1: 0.7680231928825378\n",
            "Val loss: 0.5521609728986566, Val f1: 0.7583646178245544\n",
            "Val loss: 0.5496270616175765, Val f1: 0.7531203031539917\n",
            "Val loss: 0.5484118767686792, Val f1: 0.7492672801017761\n",
            "\n",
            "Evaluating on test...\n",
            "Val loss: 0.7352362076441447, Val f1: 0.9631473422050476\n",
            "Val loss: 0.6297469735145569, Val f1: 0.8280577063560486\n",
            "Val loss: 0.6016837900335138, Val f1: 0.7943207621574402\n",
            "Val loss: 0.5894110798835754, Val f1: 0.7763306498527527\n",
            "Val loss: 0.5803608517897757, Val f1: 0.7674152851104736\n",
            "\n",
            "starting Epoch 4\n",
            "Training...\n",
            "Train loss: 0.5853647845132011\n",
            "Train loss: 0.5602401864939722\n",
            "Train loss: 0.5549240505153482\n",
            "Train loss: 0.5506053031501124\n",
            "Train loss: 0.54752827496142\n",
            "\n",
            "Evaluating on train...\n",
            "Val loss: 0.5758884762014661, Val f1: 0.8095350861549377\n",
            "Val loss: 0.5560742760526722, Val f1: 0.7856562733650208\n",
            "Val loss: 0.5482263416051865, Val f1: 0.7786201238632202\n",
            "Val loss: 0.5455701543112933, Val f1: 0.7737250328063965\n",
            "Val loss: 0.543313093282081, Val f1: 0.771633505821228\n",
            "\n",
            "Evaluating on test...\n",
            "Val loss: 0.734555184841156, Val f1: 0.998309314250946\n",
            "Val loss: 0.6308816586221967, Val f1: 0.8527851700782776\n",
            "Val loss: 0.6015352552587335, Val f1: 0.8151833415031433\n",
            "Val loss: 0.589583444595337, Val f1: 0.7956412434577942\n",
            "Val loss: 0.5803527141872206, Val f1: 0.786878764629364\n",
            "\n",
            "starting Epoch 5\n",
            "Training...\n",
            "Train loss: 0.569643150482859\n",
            "Train loss: 0.5452102227457638\n",
            "Train loss: 0.5330833277919076\n",
            "Train loss: 0.5280584117113534\n",
            "Train loss: 0.5239270752346193\n",
            "\n",
            "Evaluating on train...\n",
            "Val loss: 0.5243106079953057, Val f1: 0.8187458515167236\n",
            "Val loss: 0.5073607882549023, Val f1: 0.7901490330696106\n",
            "Val loss: 0.5038042393597689, Val f1: 0.7804993987083435\n",
            "Val loss: 0.5021053178835724, Val f1: 0.7739967703819275\n",
            "Val loss: 0.5005916091235908, Val f1: 0.7721891403198242\n",
            "\n",
            "Evaluating on test...\n",
            "Val loss: 0.6915526787439982, Val f1: 0.982943058013916\n",
            "Val loss: 0.5933476941926139, Val f1: 0.838722825050354\n",
            "Val loss: 0.5665124979886141, Val f1: 0.803122878074646\n",
            "Val loss: 0.5538874904314677, Val f1: 0.7854341268539429\n",
            "Val loss: 0.5447998674292314, Val f1: 0.7772362232208252\n",
            "\n",
            "starting Epoch 6\n",
            "Training...\n",
            "Train loss: 0.5378349316971642\n",
            "Train loss: 0.5224474062179697\n",
            "Train loss: 0.515522377057509\n",
            "Train loss: 0.5120124700715987\n",
            "Train loss: 0.5104424216457315\n",
            "\n",
            "Evaluating on train...\n",
            "Val loss: 0.5237014996153968, Val f1: 0.8390191793441772\n",
            "Val loss: 0.5060855016626161, Val f1: 0.8082852363586426\n",
            "Val loss: 0.5008775605396791, Val f1: 0.799544632434845\n",
            "Val loss: 0.49724636189008165, Val f1: 0.7958133220672607\n",
            "Val loss: 0.49543629224235947, Val f1: 0.7941734790802002\n",
            "\n",
            "Evaluating on test...\n",
            "Val loss: 0.6909491221110026, Val f1: 1.0140266418457031\n",
            "Val loss: 0.5939731512750898, Val f1: 0.8644107580184937\n",
            "Val loss: 0.5663025216622786, Val f1: 0.8271111249923706\n",
            "Val loss: 0.5542503714561462, Val f1: 0.8086448907852173\n",
            "Val loss: 0.5453664440857736, Val f1: 0.8001902103424072\n",
            "\n",
            "starting Epoch 7\n",
            "Training...\n",
            "Train loss: 0.5321893053395408\n",
            "Train loss: 0.510778414792028\n",
            "Train loss: 0.4974103265187957\n",
            "Train loss: 0.49288389995946724\n",
            "Train loss: 0.49163691659231445\n",
            "\n",
            "Evaluating on train...\n",
            "Val loss: 0.4964848352330072, Val f1: 0.828542947769165\n",
            "Val loss: 0.48104614430460435, Val f1: 0.7978278994560242\n",
            "Val loss: 0.47562599317594006, Val f1: 0.7880910038948059\n",
            "Val loss: 0.47223471635479036, Val f1: 0.7839499711990356\n",
            "Val loss: 0.47087006633346146, Val f1: 0.78253173828125\n",
            "\n",
            "Evaluating on test...\n",
            "Val loss: 0.6740992665290833, Val f1: 0.9748429656028748\n",
            "Val loss: 0.5790173539093563, Val f1: 0.8316152095794678\n",
            "Val loss: 0.552778192541816, Val f1: 0.797591507434845\n",
            "Val loss: 0.539542422691981, Val f1: 0.7805352807044983\n",
            "Val loss: 0.5304759411435378, Val f1: 0.7729367017745972\n",
            "\n",
            "starting Epoch 8\n",
            "Training...\n",
            "Train loss: 0.5083916847194944\n",
            "Train loss: 0.4868375977565502\n",
            "Train loss: 0.48068440095944837\n",
            "Train loss: 0.4786093901779692\n",
            "Train loss: 0.476663808564882\n",
            "\n",
            "Evaluating on train...\n",
            "Val loss: 0.4867433032819203, Val f1: 0.8558148145675659\n",
            "Val loss: 0.4671639841178368, Val f1: 0.8285655975341797\n",
            "Val loss: 0.4625069857998328, Val f1: 0.8181586861610413\n",
            "Val loss: 0.4608797087507733, Val f1: 0.812746524810791\n",
            "Val loss: 0.45962240446258235, Val f1: 0.8094899654388428\n",
            "\n",
            "Evaluating on test...\n",
            "Val loss: 0.6697203616301218, Val f1: 1.020506739616394\n",
            "Val loss: 0.5747272414820535, Val f1: 0.8687302470207214\n",
            "Val loss: 0.5481897565451536, Val f1: 0.8321412205696106\n",
            "Val loss: 0.5359206557273865, Val f1: 0.8120796084403992\n",
            "Val loss: 0.5273752071355519, Val f1: 0.8036967515945435\n",
            "\n",
            "starting Epoch 9\n",
            "Training...\n",
            "Train loss: 0.49519010739667074\n",
            "Train loss: 0.4743932156727232\n",
            "Train loss: 0.46648339182138443\n",
            "Train loss: 0.4648012079424777\n",
            "Train loss: 0.46321267936680766\n",
            "\n",
            "Evaluating on train...\n",
            "Val loss: 0.47170548353876385, Val f1: 0.8598230481147766\n",
            "Val loss: 0.4557878652523304, Val f1: 0.828831136226654\n",
            "Val loss: 0.4502425207333131, Val f1: 0.8186013698577881\n",
            "Val loss: 0.447385371741602, Val f1: 0.8137637376785278\n",
            "Val loss: 0.4465972036123276, Val f1: 0.8107069730758667\n",
            "\n",
            "Evaluating on test...\n",
            "Val loss: 0.6598617633183798, Val f1: 1.0084607601165771\n",
            "Val loss: 0.5667102805205754, Val f1: 0.8583618998527527\n",
            "Val loss: 0.5403198491443287, Val f1: 0.823560893535614\n",
            "Val loss: 0.5275862395763398, Val f1: 0.8040412068367004\n",
            "Val loss: 0.5190066663842452, Val f1: 0.7959307432174683\n"
          ]
        }
      ]
    },
    {
      "cell_type": "code",
      "metadata": {
        "colab": {
          "base_uri": "https://localhost:8080/",
          "height": 295
        },
        "id": "KdpynFjq0jGr",
        "outputId": "dd251f23-b4d3-41c3-a71f-16245ffae089"
      },
      "source": [
        "import matplotlib.pyplot as plt\n",
        "plt.plot(losses)\n",
        "plt.plot(losses_eval)\n",
        "plt.title('BCE loss value')\n",
        "plt.ylabel('BCE loss')\n",
        "plt.xlabel('epoch')\n",
        "plt.legend(['train', 'val'], loc='upper right')\n",
        "plt.show()"
      ],
      "execution_count": null,
      "outputs": [
        {
          "output_type": "display_data",
          "data": {
            "image/png": "[encoded data removed]",
            "text/plain": [
              "<Figure size 432x288 with 1 Axes>"
            ]
          },
          "metadata": {
            "needs_background": "light"
          }
        }
      ]
    },
    {
      "cell_type": "code",
      "metadata": {
        "colab": {
          "base_uri": "https://localhost:8080/",
          "height": 295
        },
        "id": "HH02ISJj0qkk",
        "outputId": "2c9347da-dc66-4bb8-d17e-645ab4f0f546"
      },
      "source": [
        "plt.plot(f1s)\n",
        "plt.plot(f1s_eval)\n",
        "plt.title('f1 value')\n",
        "plt.ylabel('f1 value')\n",
        "plt.xlabel('epoch')\n",
        "plt.legend(['train', 'val'], loc='upper right')\n",
        "plt.show()"
      ],
      "execution_count": null,
      "outputs": [
        {
          "output_type": "display_data",
          "data": {
            "image/png": "[encoded data removed]",
            "text/plain": [
              "<Figure size 432x288 with 1 Axes>"
            ]
          },
          "metadata": {
            "needs_background": "light"
          }
        }
      ]
    },
    {
      "cell_type": "code",
      "metadata": {
        "id": "qslqgsMF0ulV"
      },
      "source": [
        "def predict(model, iterator):\n",
        "    model.eval()\n",
        "    fp = []\n",
        "    fn = []\n",
        "    tp = [] \n",
        "    tn = []\n",
        "    with torch.no_grad():\n",
        "        for i, (word_seq, symb_seq, ys) in enumerate(iterator):  \n",
        "            preds = model(word_seq, symb_seq)  # делаем предсказания на тесте \n",
        "            for pred, gold, text in zip(preds, ys, word_seq):\n",
        "              text = ' '.join([id2word[int(word)] for word in text if word !=0])\n",
        "              if round(pred.item()) > gold:\n",
        "                fp.append(text)\n",
        "              elif round(pred.item()) < gold:\n",
        "                fn.append(text)\n",
        "              elif round(pred.item()) == gold == 1:\n",
        "                tp.append(text)\n",
        "              elif round(pred.item()) == gold == 0:\n",
        "                tn.append(text)\n",
        "    return fp, fn, tp, tn"
      ],
      "execution_count": null,
      "outputs": []
    },
    {
      "cell_type": "code",
      "metadata": {
        "colab": {
          "base_uri": "https://localhost:8080/"
        },
        "id": "6h1KgOTj0x8r",
        "outputId": "700eb70d-05a4-4f88-c011-07ac6ae011e7"
      },
      "source": [
        "fp, fn, tp, tn = predict(model, val_iterator)\n",
        "recall = len(tp)/(len(tp) + len(fn))\n",
        "precision = len(tp)/(len(tp) + len(fp))\n",
        "f_score = 2 * precision * recall / (precision + recall)\n",
        "f_score"
      ],
      "execution_count": null,
      "outputs": [
        {
          "output_type": "execute_result",
          "data": {
            "text/plain": [
              "0.7563133185075365"
            ]
          },
          "metadata": {},
          "execution_count": 260
        }
      ]
    },
    {
      "cell_type": "code",
      "metadata": {
        "colab": {
          "base_uri": "https://localhost:8080/"
        },
        "id": "hKpPp7KV2ZjO",
        "outputId": "565d3060-aff6-4629-e536-2c28621615b1"
      },
      "source": [
        "tp[:5]"
      ],
      "execution_count": null,
      "outputs": [
        {
          "output_type": "execute_result",
          "data": {
            "text/plain": [
              "['USER давно не вам удачи вперед мои любимые ребята',\n",
              " 'как дела что делаете как настроение а хотя вы такие пидары что не d',\n",
              " 'нас уже 1 и так держать мы и дальше будем стараться для вас спасибо что вы с нами URL',\n",
              " 'USER под тренд пусть лучше он под нас',\n",
              " 'USER от бизнес школ меня освободили а на 1 пару ехать']"
            ]
          },
          "metadata": {},
          "execution_count": 261
        }
      ]
    },
    {
      "cell_type": "markdown",
      "metadata": {
        "id": "iVgAguNDEl-n"
      },
      "source": [
        "результат неплохой, попробуем убрать препроц + добавить эпох + не обрезать словарь по частотности"
      ]
    },
    {
      "cell_type": "code",
      "metadata": {
        "id": "cx7F7KYQGnIC"
      },
      "source": [
        "vocab = Counter()\n",
        "for text in tweets_data['text']:\n",
        "    vocab.update(text.split())\n",
        "\n",
        "word2id = {'PAD':0}\n",
        "\n",
        "for word in vocab:\n",
        "    word2id[word] = len(word2id)\n",
        "\n",
        "char_vocab = Counter()\n",
        "for text in tweets_data['text']:\n",
        "    for word in text:\n",
        "      char_vocab.update(list(word))\n",
        "\n",
        "symbol2id = {'PAD':0}\n",
        "\n",
        "for symbol in char_vocab:\n",
        "    symbol2id[symbol] = len(symbol2id)\n",
        "\n",
        "id2word = {i:word for word, i in word2id.items()}\n",
        "id2symbol = {i:symbol for symbol, i in symbol2id.items()}"
      ],
      "execution_count": null,
      "outputs": []
    },
    {
      "cell_type": "code",
      "metadata": {
        "colab": {
          "base_uri": "https://localhost:8080/"
        },
        "id": "mFEIsGxVHEnZ",
        "outputId": "7221e1bc-6217-44d1-8b97-0279c42cd7b0"
      },
      "source": [
        "print(len(symbol2id), len(word2id))"
      ],
      "execution_count": null,
      "outputs": [
        {
          "output_type": "stream",
          "name": "stdout",
          "text": [
            "338 305485\n"
          ]
        }
      ]
    },
    {
      "cell_type": "code",
      "metadata": {
        "id": "hFeZ76u7EqC_"
      },
      "source": [
        "class WSTweetsDataset(Dataset):\n",
        "\n",
        "    def __init__(self, dataset, word2id, symbol2id, DEVICE):\n",
        "        self.dataset = dataset['text'].values\n",
        "        self.word2id = word2id\n",
        "        self.symbol2id = symbol2id\n",
        "        self.length = dataset.shape[0]\n",
        "        self.target = torch.Tensor(dataset['tone'].values)\n",
        "        self.device = DEVICE\n",
        "\n",
        "    def __len__(self):\n",
        "        return self.length\n",
        "\n",
        "    def __getitem__(self, index): \n",
        "        symbols = list(self.dataset[index])\n",
        "        symb_ids = torch.LongTensor([self.symbol2id[symbol] for symbol in symbols if symbol in self.symbol2id])\n",
        "        tokens = self.dataset[index].split()\n",
        "        word_ids = torch.LongTensor([self.word2id[token] for token in tokens if token in self.word2id])\n",
        "        y = [self.target[index]]\n",
        "        return word_ids, symb_ids, y\n",
        "\n",
        "    def collate_fn(self, batch): #этот метод можно реализовывать и отдельно,\n",
        "    # он понадобится для DataLoader во время итерации по батчам\n",
        "      word_ids, symb_ids, y = list(zip(*batch))\n",
        "      padded_words = pad_sequence(word_ids, batch_first=True).to(self.device)\n",
        "      padded_symbs = pad_sequence(symb_ids, batch_first=True).to(self.device)\n",
        "      y = torch.Tensor(y).to(self.device)\n",
        "      return padded_words, padded_symbs, y"
      ],
      "execution_count": null,
      "outputs": []
    },
    {
      "cell_type": "code",
      "metadata": {
        "id": "zVSMwLzaFbVz"
      },
      "source": [
        "train_dataset = WSTweetsDataset(train_sentences, word2id, symbol2id, DEVICE)\n",
        "train_sampler = RandomSampler(train_dataset)\n",
        "train_iterator = DataLoader(train_dataset, collate_fn = train_dataset.collate_fn, sampler=train_sampler, batch_size=1024)"
      ],
      "execution_count": null,
      "outputs": []
    },
    {
      "cell_type": "code",
      "metadata": {
        "id": "5a90UPgrFiDF"
      },
      "source": [
        "val_dataset = WSTweetsDataset(val_sentences, word2id, symbol2id, DEVICE)\n",
        "val_sampler = SequentialSampler(val_dataset)\n",
        "val_iterator = DataLoader(val_dataset, collate_fn = val_dataset.collate_fn, sampler=val_sampler, batch_size=1024)"
      ],
      "execution_count": null,
      "outputs": []
    },
    {
      "cell_type": "code",
      "metadata": {
        "id": "NXHuqY_vFiNz"
      },
      "source": [
        "model = WSCNN(len(symbol2id), 10, len(word2id))\n",
        "optimizer = optim.Adam(model.parameters(), lr=0.001)\n",
        "criterion = nn.BCELoss() \n",
        "\n",
        "# веса модели и значения лосса храним там же, где и все остальные тензоры\n",
        "model = model.to(DEVICE)\n",
        "criterion = criterion.to(DEVICE)"
      ],
      "execution_count": null,
      "outputs": []
    },
    {
      "cell_type": "code",
      "metadata": {
        "colab": {
          "base_uri": "https://localhost:8080/"
        },
        "id": "IDLmhzaSF1hx",
        "outputId": "083e3f56-a3f7-4749-82ce-cc4614ac2088"
      },
      "source": [
        "losses = []\n",
        "losses_eval = []\n",
        "f1s = []\n",
        "f1s_eval = []\n",
        "\n",
        "for i in range(15):\n",
        "    print(f'\\nstarting Epoch {i}')\n",
        "    print('Training...')\n",
        "    epoch_loss = train(model, train_iterator, optimizer, criterion)\n",
        "    losses.append(epoch_loss)\n",
        "    print('\\nEvaluating on train...')\n",
        "    f1_on_train,_ = evaluate(model, train_iterator, criterion)\n",
        "    f1s.append(f1_on_train)\n",
        "    print('\\nEvaluating on test...')\n",
        "    f1_on_test, epoch_loss_on_test = evaluate(model, val_iterator, criterion)\n",
        "    losses_eval.append(epoch_loss_on_test)\n",
        "    f1s_eval.append(f1_on_test)"
      ],
      "execution_count": null,
      "outputs": [
        {
          "output_type": "stream",
          "name": "stdout",
          "text": [
            "\n",
            "starting Epoch 0\n",
            "Training...\n",
            "Train loss: 0.7829427548817226\n",
            "Train loss: 0.7261351840249424\n",
            "Train loss: 0.6992298594929955\n",
            "Train loss: 0.6746769416130195\n",
            "Train loss: 0.6445169565645424\n",
            "\n",
            "Evaluating on train...\n",
            "Val loss: 0.4958380460739136, Val f1: 0.9539183378219604\n",
            "Val loss: 0.47931364692490674, Val f1: 0.9194748997688293\n",
            "Val loss: 0.4740449874238534, Val f1: 0.909337043762207\n",
            "Val loss: 0.47069942446078283, Val f1: 0.9060183167457581\n",
            "Val loss: 0.4695067498329523, Val f1: 0.9026559591293335\n",
            "\n",
            "Evaluating on test...\n",
            "Val loss: 0.6200776696205139, Val f1: 1.1890051364898682\n",
            "Val loss: 0.5320288028035846, Val f1: 1.0152311325073242\n",
            "Val loss: 0.5070147947831587, Val f1: 0.9716357588768005\n",
            "Val loss: 0.4958838224411011, Val f1: 0.9492861032485962\n",
            "Val loss: 0.4894339504994844, Val f1: 0.9364045858383179\n",
            "\n",
            "starting Epoch 1\n",
            "Training...\n",
            "Train loss: 0.4115755132266453\n",
            "Train loss: 0.3345758858425864\n",
            "Train loss: 0.2807788750664754\n",
            "Train loss: 0.24130230838969602\n",
            "Train loss: 0.2117117068453415\n",
            "\n",
            "Evaluating on train...\n",
            "Val loss: 0.07467181741126946, Val f1: 1.0533607006072998\n",
            "Val loss: 0.07183425205534902, Val f1: 1.016809344291687\n",
            "Val loss: 0.07002754001454874, Val f1: 1.005569338798523\n",
            "Val loss: 0.06943387279318551, Val f1: 1.0000532865524292\n",
            "Val loss: 0.06935509173451243, Val f1: 0.9965814352035522\n",
            "\n",
            "Evaluating on test...\n",
            "Val loss: 0.09478267033894856, Val f1: 1.3104737997055054\n",
            "Val loss: 0.07985005208424159, Val f1: 1.1238899230957031\n",
            "Val loss: 0.0759479437362064, Val f1: 1.0727125406265259\n",
            "Val loss: 0.0736328681310018, Val f1: 1.048842430114746\n",
            "Val loss: 0.07325257949138943, Val f1: 1.0352131128311157\n",
            "\n",
            "starting Epoch 2\n",
            "Training...\n",
            "Train loss: 0.06928377811397825\n",
            "Train loss: 0.0615708875501978\n",
            "Train loss: 0.05652271659875458\n",
            "Train loss: 0.05196280689057657\n",
            "Train loss: 0.04829441723287911\n",
            "\n",
            "Evaluating on train...\n",
            "Val loss: 0.028769265727273056, Val f1: 1.0605381727218628\n",
            "Val loss: 0.026342415925243806, Val f1: 1.0252820253372192\n",
            "Val loss: 0.02598443441092968, Val f1: 1.0137450695037842\n",
            "Val loss: 0.025535015989158114, Val f1: 1.008220911026001\n",
            "Val loss: 0.02543315621143257, Val f1: 1.0049439668655396\n",
            "\n",
            "Evaluating on test...\n",
            "Val loss: 0.03390843483308951, Val f1: 1.3232513666152954\n",
            "Val loss: 0.02922133861907891, Val f1: 1.1329026222229004\n",
            "Val loss: 0.02782986821098761, Val f1: 1.081527590751648\n",
            "Val loss: 0.02738303889830907, Val f1: 1.0574426651000977\n",
            "Val loss: 0.027476269163583453, Val f1: 1.0430195331573486\n",
            "\n",
            "starting Epoch 3\n",
            "Training...\n",
            "Train loss: 0.031045224517583847\n",
            "Train loss: 0.028531096618751\n",
            "Train loss: 0.026169991798021576\n",
            "Train loss: 0.02449182446225215\n",
            "Train loss: 0.02308602918040108\n",
            "\n",
            "Evaluating on train...\n",
            "Val loss: 0.01198235566594771, Val f1: 1.0697981119155884\n",
            "Val loss: 0.011511291023986093, Val f1: 1.0327692031860352\n",
            "Val loss: 0.01165887379002842, Val f1: 1.0207767486572266\n",
            "Val loss: 0.011583917048144139, Val f1: 1.0149387121200562\n",
            "Val loss: 0.011661377823534044, Val f1: 1.0116095542907715\n",
            "\n",
            "Evaluating on test...\n",
            "Val loss: 0.01518067034582297, Val f1: 1.3323748111724854\n",
            "Val loss: 0.013654021679290704, Val f1: 1.1406381130218506\n",
            "Val loss: 0.012972548434680159, Val f1: 1.088730812072754\n",
            "Val loss: 0.012938507522145907, Val f1: 1.0642852783203125\n",
            "Val loss: 0.012940800405646624, Val f1: 1.0502663850784302\n",
            "\n",
            "starting Epoch 4\n",
            "Training...\n",
            "Train loss: 0.014740585615592343\n",
            "Train loss: 0.014608133680604655\n",
            "Train loss: 0.013942812844602899\n",
            "Train loss: 0.014235116020476415\n",
            "Train loss: 0.01348742244236574\n",
            "\n",
            "Evaluating on train...\n",
            "Val loss: 0.00811673015622156, Val f1: 1.0699903964996338\n",
            "Val loss: 0.007886025540787598, Val f1: 1.0331259965896606\n",
            "Val loss: 0.0073858003809370775, Val f1: 1.0215458869934082\n",
            "Val loss: 0.007271126504608635, Val f1: 1.0157495737075806\n",
            "Val loss: 0.007480818425884118, Val f1: 1.0122168064117432\n",
            "\n",
            "Evaluating on test...\n",
            "Val loss: 0.009095259321232637, Val f1: 1.333019733428955\n",
            "Val loss: 0.00847695195781333, Val f1: 1.1416085958480835\n",
            "Val loss: 0.008335185491225937, Val f1: 1.0894304513931274\n",
            "Val loss: 0.008464502481122812, Val f1: 1.0648608207702637\n",
            "Val loss: 0.008392343322109235, Val f1: 1.0510135889053345\n",
            "\n",
            "starting Epoch 5\n",
            "Training...\n",
            "Train loss: 0.011572758268032755\n",
            "Train loss: 0.010269030350549468\n",
            "Train loss: 0.009607376012189145\n",
            "Train loss: 0.009355960078379614\n",
            "Train loss: 0.008893505981619898\n",
            "\n",
            "Evaluating on train...\n",
            "Val loss: 0.004898705220382128, Val f1: 1.0705989599227905\n",
            "Val loss: 0.004743727558324563, Val f1: 1.0337454080581665\n",
            "Val loss: 0.004622101921334185, Val f1: 1.022087574005127\n",
            "Val loss: 0.004520602966264143, Val f1: 1.016373634338379\n",
            "Val loss: 0.004446192562731134, Val f1: 1.0129497051239014\n",
            "\n",
            "Evaluating on test...\n",
            "Val loss: 0.005419365130364895, Val f1: 1.3333333730697632\n",
            "Val loss: 0.005162267480045557, Val f1: 1.1422961950302124\n",
            "Val loss: 0.005222517616030845, Val f1: 1.0899536609649658\n",
            "Val loss: 0.005337551049888134, Val f1: 1.0656394958496094\n",
            "Val loss: 0.005232878127380421, Val f1: 1.0518206357955933\n",
            "\n",
            "starting Epoch 6\n",
            "Training...\n",
            "Train loss: 0.007106869182150278\n",
            "Train loss: 0.007002524806764619\n",
            "Train loss: 0.006828213544477793\n",
            "Train loss: 0.006865129766638501\n",
            "Train loss: 0.006700684225211876\n",
            "\n",
            "Evaluating on train...\n",
            "Val loss: 0.0037955937275130835, Val f1: 1.0709426403045654\n",
            "Val loss: 0.003683473433143106, Val f1: 1.0339444875717163\n",
            "Val loss: 0.003580649380720305, Val f1: 1.0221983194351196\n",
            "Val loss: 0.0035563348042699744, Val f1: 1.0163911581039429\n",
            "Val loss: 0.0035362302095981665, Val f1: 1.012963891029358\n",
            "\n",
            "Evaluating on test...\n",
            "Val loss: 0.004016713239252567, Val f1: 1.3333333730697632\n",
            "Val loss: 0.0039320584453110185, Val f1: 1.1422961950302124\n",
            "Val loss: 0.004232670095833865, Val f1: 1.0899536609649658\n",
            "Val loss: 0.004409445884327094, Val f1: 1.0655744075775146\n",
            "Val loss: 0.00427893307795258, Val f1: 1.0516713857650757\n",
            "\n",
            "starting Epoch 7\n",
            "Training...\n",
            "Train loss: 0.005816630786284804\n",
            "Train loss: 0.005661246447085306\n",
            "Train loss: 0.005461450592106717\n",
            "Train loss: 0.005555565563677731\n",
            "Train loss: 0.005315514215318537\n",
            "\n",
            "Evaluating on train...\n",
            "Val loss: 0.003156460555536406, Val f1: 1.0709459781646729\n",
            "Val loss: 0.002947396438183456, Val f1: 1.034085750579834\n",
            "Val loss: 0.0030324283182959666, Val f1: 1.0222889184951782\n",
            "Val loss: 0.003044020524643109, Val f1: 1.016438603401184\n",
            "Val loss: 0.0031055984939951952, Val f1: 1.0129631757736206\n",
            "\n",
            "Evaluating on test...\n",
            "Val loss: 0.003453206503763795, Val f1: 1.333019733428955\n",
            "Val loss: 0.0034570966714194845, Val f1: 1.1421617269515991\n",
            "Val loss: 0.003867355471646244, Val f1: 1.0897860527038574\n",
            "Val loss: 0.00405099093914032, Val f1: 1.0653854608535767\n",
            "Val loss: 0.003893967656614749, Val f1: 1.0515222549438477\n",
            "\n",
            "starting Epoch 8\n",
            "Training...\n",
            "Train loss: 0.004189491155557334\n",
            "Train loss: 0.003592994690326781\n",
            "Train loss: 0.004079604987055063\n",
            "Train loss: 0.004045921101597912\n",
            "Train loss: 0.003952593196535835\n",
            "\n",
            "Evaluating on train...\n",
            "Val loss: 0.0016459110567146646, Val f1: 1.071294903755188\n",
            "Val loss: 0.0015746635437043834, Val f1: 1.0343849658966064\n",
            "Val loss: 0.0016672980564180762, Val f1: 1.0226200819015503\n",
            "Val loss: 0.0017545548103891817, Val f1: 1.0167889595031738\n",
            "Val loss: 0.0016617577309040604, Val f1: 1.0133858919143677\n",
            "\n",
            "Evaluating on test...\n",
            "Val loss: 0.0019306952987487118, Val f1: 1.3333333730697632\n",
            "Val loss: 0.001881241366001112, Val f1: 1.1428571939468384\n",
            "Val loss: 0.0021225333171473308, Val f1: 1.09065580368042\n",
            "Val loss: 0.0022004645395403105, Val f1: 1.0664156675338745\n",
            "Val loss: 0.0021051060604421715, Val f1: 1.0524333715438843\n",
            "\n",
            "starting Epoch 9\n",
            "Training...\n",
            "Train loss: 0.004069699456782213\n",
            "Train loss: 0.003864579296124906\n",
            "Train loss: 0.003964596396227452\n",
            "Train loss: 0.0037455360930002592\n",
            "Train loss: 0.0037296268510053285\n",
            "\n",
            "Evaluating on train...\n",
            "Val loss: 0.0018504974182828196, Val f1: 1.0712288618087769\n",
            "Val loss: 0.0019084487576037645, Val f1: 1.0342202186584473\n",
            "Val loss: 0.0018263323105533016, Val f1: 1.0224659442901611\n",
            "Val loss: 0.0017855827138222502, Val f1: 1.0166538953781128\n",
            "Val loss: 0.0017429205370324387, Val f1: 1.0132402181625366\n",
            "\n",
            "Evaluating on test...\n",
            "Val loss: 0.001937473736082514, Val f1: 1.3333333730697632\n",
            "Val loss: 0.00197950514432575, Val f1: 1.142575979232788\n",
            "Val loss: 0.0024296801262111826, Val f1: 1.0902175903320312\n",
            "Val loss: 0.0025334327559297285, Val f1: 1.0660303831100464\n",
            "Val loss: 0.0023846455089943973, Val f1: 1.0521292686462402\n",
            "\n",
            "starting Epoch 10\n",
            "Training...\n",
            "Train loss: 0.003955541810552988\n",
            "Train loss: 0.0033746905151176556\n",
            "Train loss: 0.003004589549329301\n",
            "Train loss: 0.003020214826515797\n",
            "Train loss: 0.002900221266286649\n",
            "\n",
            "Evaluating on train...\n",
            "Val loss: 0.0009045074901743126, Val f1: 1.071428656578064\n",
            "Val loss: 0.0009425828707051175, Val f1: 1.034482717514038\n",
            "Val loss: 0.0009010397307892246, Val f1: 1.022705078125\n",
            "Val loss: 0.0009006143831726858, Val f1: 1.016899585723877\n",
            "Val loss: 0.0009716968264468518, Val f1: 1.013434886932373\n",
            "\n",
            "Evaluating on test...\n",
            "Val loss: 0.0011485109959418576, Val f1: 1.3333333730697632\n",
            "Val loss: 0.0011118612185652768, Val f1: 1.1428571939468384\n",
            "Val loss: 0.0013778246304189618, Val f1: 1.09065580368042\n",
            "Val loss: 0.0014343021825576822, Val f1: 1.0664156675338745\n",
            "Val loss: 0.001349937648659474, Val f1: 1.0524333715438843\n",
            "\n",
            "starting Epoch 11\n",
            "Training...\n",
            "Train loss: 0.0030644318196989062\n",
            "Train loss: 0.002849977746493472\n",
            "Train loss: 0.002676620882332579\n",
            "Train loss: 0.002549045515972805\n",
            "Train loss: 0.0025345481022865184\n",
            "\n",
            "Evaluating on train...\n",
            "Val loss: 0.0008428772707702592, Val f1: 1.0713597536087036\n",
            "Val loss: 0.0007979602488721239, Val f1: 1.0343830585479736\n",
            "Val loss: 0.0008231629749802364, Val f1: 1.022661566734314\n",
            "Val loss: 0.0008373073937560795, Val f1: 1.0168838500976562\n",
            "Val loss: 0.0007987761523140393, Val f1: 1.0134614706039429\n",
            "\n",
            "Evaluating on test...\n",
            "Val loss: 0.0009412955453929802, Val f1: 1.3333333730697632\n",
            "Val loss: 0.0009537598484062723, Val f1: 1.1428571939468384\n",
            "Val loss: 0.0012858011653985489, Val f1: 1.0905696153640747\n",
            "Val loss: 0.0013312761128569642, Val f1: 1.0663524866104126\n",
            "Val loss: 0.0012277049888660642, Val f1: 1.0523834228515625\n",
            "\n",
            "starting Epoch 12\n",
            "Training...\n",
            "Train loss: 0.0028268768302431063\n",
            "Train loss: 0.002334968243115421\n",
            "Train loss: 0.002152576090090654\n",
            "Train loss: 0.0022718981914695794\n",
            "Train loss: 0.0021982247228545413\n",
            "\n",
            "Evaluating on train...\n",
            "Val loss: 0.0006137508441627558, Val f1: 1.071428656578064\n",
            "Val loss: 0.0006611492306170664, Val f1: 1.034482717514038\n",
            "Val loss: 0.0006583470187086442, Val f1: 1.022704839706421\n",
            "Val loss: 0.000713040850961865, Val f1: 1.0169003009796143\n",
            "Val loss: 0.0007127576819904199, Val f1: 1.0134613513946533\n",
            "\n",
            "Evaluating on test...\n",
            "Val loss: 0.0008491254508650551, Val f1: 1.3333333730697632\n",
            "Val loss: 0.0008571049339869725, Val f1: 1.1428571939468384\n",
            "Val loss: 0.0012642816952641376, Val f1: 1.0905696153640747\n",
            "Val loss: 0.0012976701584799836, Val f1: 1.0663524866104126\n",
            "Val loss: 0.0011834496567883577, Val f1: 1.0523834228515625\n",
            "\n",
            "starting Epoch 13\n",
            "Training...\n",
            "Train loss: 0.0020710450272807585\n",
            "Train loss: 0.0018400149741049472\n",
            "Train loss: 0.0020381954408631745\n",
            "Train loss: 0.0019392660593069396\n",
            "Train loss: 0.0019168122297914295\n",
            "\n",
            "Evaluating on train...\n",
            "Val loss: 0.0008108732831065676, Val f1: 1.0712878704071045\n",
            "Val loss: 0.0007100643345219051, Val f1: 1.0344147682189941\n",
            "Val loss: 0.0006390656953127208, Val f1: 1.022682547569275\n",
            "Val loss: 0.0006358570108975489, Val f1: 1.0169157981872559\n",
            "Val loss: 0.0006408343334270112, Val f1: 1.0134741067886353\n",
            "\n",
            "Evaluating on test...\n",
            "Val loss: 0.0008123282653590044, Val f1: 1.3333333730697632\n",
            "Val loss: 0.0007821687447306301, Val f1: 1.1428571939468384\n",
            "Val loss: 0.0012630178243853152, Val f1: 1.0905696153640747\n",
            "Val loss: 0.0012679286068305374, Val f1: 1.0663524866104126\n",
            "Val loss: 0.001148448102053647, Val f1: 1.0523834228515625\n",
            "\n",
            "starting Epoch 14\n",
            "Training...\n",
            "Train loss: 0.0016875358331682427\n",
            "Train loss: 0.001677636185596729\n",
            "Train loss: 0.002040797368946104\n",
            "Train loss: 0.0019044894927331263\n",
            "Train loss: 0.0018281602800974774\n",
            "\n",
            "Evaluating on train...\n",
            "Val loss: 0.000869107894167038, Val f1: 1.0712921619415283\n",
            "Val loss: 0.0008034189442445621, Val f1: 1.0343174934387207\n",
            "Val loss: 0.0007376338154162196, Val f1: 1.0226184129714966\n",
            "Val loss: 0.0007008293762475537, Val f1: 1.016867995262146\n",
            "Val loss: 0.0007071349735614038, Val f1: 1.0134358406066895\n",
            "\n",
            "Evaluating on test...\n",
            "Val loss: 0.0009876364395798494, Val f1: 1.3333333730697632\n",
            "Val loss: 0.0009508813756318497, Val f1: 1.1428571939468384\n",
            "Val loss: 0.0014126695168670267, Val f1: 1.0905696153640747\n",
            "Val loss: 0.0014397760717353473, Val f1: 1.0663524866104126\n",
            "Val loss: 0.0012998559166015567, Val f1: 1.0523834228515625\n"
          ]
        }
      ]
    },
    {
      "cell_type": "code",
      "metadata": {
        "colab": {
          "base_uri": "https://localhost:8080/",
          "height": 295
        },
        "id": "XZGTLwVTF8DB",
        "outputId": "65e74577-f837-45ad-c2e5-2a7c2289c32a"
      },
      "source": [
        "plt.plot(losses)\n",
        "plt.plot(losses_eval)\n",
        "plt.title('BCE loss value')\n",
        "plt.ylabel('BCE loss')\n",
        "plt.xlabel('epoch')\n",
        "plt.legend(['train', 'val'], loc='upper right')\n",
        "plt.show()"
      ],
      "execution_count": null,
      "outputs": [
        {
          "output_type": "display_data",
          "data": {
            "image/png": "[encoded data removed]",
            "text/plain": [
              "<Figure size 432x288 with 1 Axes>"
            ]
          },
          "metadata": {
            "needs_background": "light"
          }
        }
      ]
    },
    {
      "cell_type": "code",
      "metadata": {
        "colab": {
          "base_uri": "https://localhost:8080/",
          "height": 295
        },
        "id": "KW2X49X5HpDS",
        "outputId": "cba2b062-f7b2-420d-b3aa-f6e1cd4774df"
      },
      "source": [
        "plt.plot(f1s)\n",
        "plt.plot(f1s_eval)\n",
        "plt.title('f1 value')\n",
        "plt.ylabel('f1 value')\n",
        "plt.xlabel('epoch')\n",
        "plt.legend(['train', 'val'], loc='upper right')\n",
        "plt.show()"
      ],
      "execution_count": null,
      "outputs": [
        {
          "output_type": "display_data",
          "data": {
            "image/png": "[encoded data removed]",
            "text/plain": [
              "<Figure size 432x288 with 1 Axes>"
            ]
          },
          "metadata": {
            "needs_background": "light"
          }
        }
      ]
    },
    {
      "cell_type": "code",
      "metadata": {
        "colab": {
          "base_uri": "https://localhost:8080/"
        },
        "id": "Doo44i3EHvdo",
        "outputId": "969a60e0-4d69-48e6-8b17-7cb579d74ecf"
      },
      "source": [
        "fp, fn, tp, tn = predict(model, val_iterator)\n",
        "recall = len(tp)/(len(tp) + len(fn))\n",
        "precision = len(tp)/(len(tp) + len(fp))\n",
        "f_score = 2 * precision * recall / (precision + recall)\n",
        "f_score"
      ],
      "execution_count": null,
      "outputs": [
        {
          "output_type": "execute_result",
          "data": {
            "text/plain": [
              "0.999755058051242"
            ]
          },
          "metadata": {},
          "execution_count": 278
        }
      ]
    },
    {
      "cell_type": "markdown",
      "metadata": {
        "id": "HXg1iAtbH7rU"
      },
      "source": [
        "результат получился высоким. вывод: скобочки, смайлики и проч. сильно влияют на оценку тональности твитов. текст сам по себе не так важен, как символы, которыми он сопровождается. :)"
      ]
    }
  ]
}